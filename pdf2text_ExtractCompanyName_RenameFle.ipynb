{
  "cells": [
    {
      "cell_type": "markdown",
      "metadata": {
        "id": "view-in-github",
        "colab_type": "text"
      },
      "source": [
        "<a href=\"https://colab.research.google.com/github/yn2a75/benkyokai/blob/main/pdf2text_ExtractCompanyName_RenameFle.ipynb\" target=\"_parent\"><img src=\"https://colab.research.google.com/assets/colab-badge.svg\" alt=\"Open In Colab\"/></a>"
      ]
    },
    {
      "cell_type": "code",
      "execution_count": null,
      "metadata": {
        "colab": {
          "base_uri": "https://localhost:8080/"
        },
        "id": "mycrnW6gk-GO",
        "outputId": "479e8ee1-506b-45ee-cf7d-688c9fbc01b0"
      },
      "outputs": [
        {
          "output_type": "stream",
          "name": "stdout",
          "text": [
            "Requirement already satisfied: pdfminer.six in /usr/local/lib/python3.7/dist-packages (20211012)\n",
            "Requirement already satisfied: cryptography in /usr/local/lib/python3.7/dist-packages (from pdfminer.six) (36.0.1)\n",
            "Requirement already satisfied: chardet in /usr/local/lib/python3.7/dist-packages (from pdfminer.six) (3.0.4)\n",
            "Requirement already satisfied: cffi>=1.12 in /usr/local/lib/python3.7/dist-packages (from cryptography->pdfminer.six) (1.15.0)\n",
            "Requirement already satisfied: pycparser in /usr/local/lib/python3.7/dist-packages (from cffi>=1.12->cryptography->pdfminer.six) (2.21)\n",
            "Requirement already satisfied: pandas in /usr/local/lib/python3.7/dist-packages (1.3.5)\n",
            "Requirement already satisfied: numpy>=1.17.3 in /usr/local/lib/python3.7/dist-packages (from pandas) (1.21.5)\n",
            "Requirement already satisfied: python-dateutil>=2.7.3 in /usr/local/lib/python3.7/dist-packages (from pandas) (2.8.2)\n",
            "Requirement already satisfied: pytz>=2017.3 in /usr/local/lib/python3.7/dist-packages (from pandas) (2018.9)\n",
            "Requirement already satisfied: six>=1.5 in /usr/local/lib/python3.7/dist-packages (from python-dateutil>=2.7.3->pandas) (1.15.0)\n",
            "Requirement already satisfied: openpyxl in /usr/local/lib/python3.7/dist-packages (3.0.9)\n",
            "Requirement already satisfied: et-xmlfile in /usr/local/lib/python3.7/dist-packages (from openpyxl) (1.1.0)\n",
            "Requirement already satisfied: xlwt in /usr/local/lib/python3.7/dist-packages (1.3.0)\n",
            "Requirement already satisfied: xlsxwriter in /usr/local/lib/python3.7/dist-packages (3.0.3)\n"
          ]
        }
      ],
      "source": [
        "#必要なライブラリをインストール\n",
        "! pip install pdfminer.six\n",
        "! pip install pandas\n",
        "! pip install openpyxl\n",
        "! pip install xlwt\n",
        "! pip install xlsxwriter"
      ]
    },
    {
      "cell_type": "markdown",
      "metadata": {
        "id": "MHt948CBVwls"
      },
      "source": [
        "### PDFファイルからテキストを出力する関数を作成"
      ]
    },
    {
      "cell_type": "code",
      "execution_count": null,
      "metadata": {
        "id": "mKOyX-aUk50Q"
      },
      "outputs": [],
      "source": [
        "from pdfminer.pdfinterp import PDFResourceManager\n",
        "from pdfminer.converter import TextConverter\n",
        "from pdfminer.pdfinterp import PDFPageInterpreter\n",
        "from pdfminer.pdfpage import PDFPage\n",
        "from pdfminer.layout import LAParams\n",
        "import os\n",
        "from io import StringIO\n",
        "\n",
        "#PDFからテキストを出力する関数を定義\n",
        "def convert_pdf2txt(filename):\n",
        "  pdf_file = os.path.join(pdffiles_folder, filename)\n",
        "  fp = open(pdf_file, 'rb')\n",
        "    \n",
        "  outfp = StringIO()\n",
        "        \n",
        "  rmgr = PDFResourceManager()\n",
        "  lprms = LAParams()\n",
        "  device = TextConverter(rmgr, outfp, laparams=lprms)\n",
        "  iprtr = PDFPageInterpreter(rmgr, device)\n",
        "    \n",
        "  for page in PDFPage.get_pages(fp):\n",
        "    iprtr.process_page(page)\n",
        "\n",
        "#テキスト内容を取得し、改行とスペースを削除\n",
        "  text = outfp.getvalue()\n",
        "  text=text.replace(\"\\n\", \"\")\n",
        "  text=text.replace(\"   \", \"\\n　\")\n",
        "  text=text.replace(\" \", \"\")\n",
        "\n",
        "#テキスト内容を返す\n",
        "  return text"
      ]
    },
    {
      "cell_type": "code",
      "source": [
        "#GoogleDriveをマウント\n",
        "from google.colab import drive\n",
        "drive.mount(\"/content/drive/\")"
      ],
      "metadata": {
        "colab": {
          "base_uri": "https://localhost:8080/"
        },
        "id": "Hs4FmUWSWL-6",
        "outputId": "50365573-fb45-4608-ef44-297e163c2e97"
      },
      "execution_count": null,
      "outputs": [
        {
          "output_type": "stream",
          "name": "stdout",
          "text": [
            "Drive already mounted at /content/drive/; to attempt to forcibly remount, call drive.mount(\"/content/drive/\", force_remount=True).\n"
          ]
        }
      ]
    },
    {
      "cell_type": "code",
      "execution_count": null,
      "metadata": {
        "id": "QeZXOnBdVwlz"
      },
      "outputs": [],
      "source": [
        "#PDFを保管しているフォルダのpathを指定\n",
        "\n",
        "pdffiles_folder=r\"/content/drive/MyDrive/その他/PDFのOCR処理とファイル名変更/PDFfiles\"\n",
        "\n",
        "#テキストを格納する空のリストを作成\n",
        "text_list=[]\n",
        "\n",
        "\n",
        "filelist = os.listdir(pdffiles_folder)\n",
        "filelist = [f for f in filelist if '.pdf' in f]\n",
        "pdfpaths = [os.path.join(pdffiles_folder,f) for f in filelist if '.pdf' in f]\n",
        "\n",
        "#リストにPDFのテキストを追加\n",
        "for filename in filelist:\n",
        "  text_list.append(convert_pdf2txt(filename))"
      ]
    },
    {
      "cell_type": "code",
      "execution_count": null,
      "metadata": {
        "colab": {
          "base_uri": "https://localhost:8080/"
        },
        "id": "byW_tL1VVwl1",
        "outputId": "f4477f06-e8fc-4aac-bf9e-0233ce9128a2"
      },
      "outputs": [
        {
          "output_type": "execute_result",
          "data": {
            "text/plain": [
              "['2022年３月10日\\n\\u3000会\\n\\u3000社\\n\\u3000名\\n\\u3000\\n\\u3000株式会社シマノ代表者名\\n\\u3000\\n\\u3000代表取締役社長\\n\\u3000島野泰三(コード番号:7309東証第一部)\\n\\u3000問合せ先\\n\\u3000\\n\\u3000取締役総務管理部長兼経理部管掌\\n\\u3000\\n\\u3000金井琢磨(ＴＥＬ.072-223-3254)第115期定時株主総会における議案に関する補足説明について2022年３月30日開催予定の第115期定時株主総会（以下「本株主総会」という）における第２号議案（取締役４名選任の件）、第３号議案（監査役３名選任の件）に関し下記の事項を補足いたします。本株主総会において取締役及び監査役の選任議案が原案どおり承認可決され、さらに執行役員制度導入に伴い執行役員となる現取締役の退任及び本株主総会終了後開催の取締役会で予定されている決議の内容が反映された場合、当社の取締役及び監査役の構成は以下の表のとおりとなります。（１）取締役（８名、うち社外取締役３名）役職代表取締役会長兼CEO代表取締役社長代表取締役副社長津崎祥博代表取締役副社長チアチンセン常務取締役Shimano(Singapore)Pte.Ltd.社長（２）監査役（４名、うち社外監査役２名）役職野末佳奈子社外監査役橋本敏彦社外監査役以上氏名島野容三島野泰三豊嶋敬一條和生勝丸充啓榊原定征氏名平田義弘樽谷潔記社外取締役社外取締役社外取締役常勤監査役常勤監査役\\n\\u3000各位\\n\\u3000\\x0c',\n",
              " '2022年10月期第1四半期決算説明資料トビラシステムズ株式会社（東証一部4441）\\x0c1事業概要22022年10月期第1四半期決算概要INDEX目次3中期経営計画の進捗状況4参考資料2\\x0c事業概要13\\x0c企業理念と行動指針テクノロジーで社会の課題解決に挑戦する私たちの生活私たちの世界をよりよい未来につなぐトビラになる企業理念行動指針私たちは素晴らしい未来を想像し、失敗を恐れず変化を続け、常識を疑いあるべき形を追求します。社会的課題を解決する、人々の役に立つ製品を次々に生み出し、持続的かつ発展的に成長するため適切な利益を得ます。自分と大切な人が幸せな時間を送れる環境であり続けることが、私たちの成長や世界中の人々の生活の向上につながっていきます。安心して暮らせる世界を実現するために人を守るセキュリティで社会課題の解決に挑みます。4\\x0c私たちが社会の課題解決に挑戦する理由特殊詐欺犯罪・グレーゾーン犯罪被害額推定は、4兆円※にものぼる特殊詐欺被害状況認知件数14,461件／特殊詐欺被害額278.1億円特殊詐欺認知件数と被害総額（百万円）犯行の手段主な犯行手段は電話はがき・封書等4.1％電子メール7.0％認知件数被害総額（件）20,00018,00016,00014,00012,00010,0008,0006,0004,0002,000060,00050,00040,00030,00020,00010,0000犯行で最初に用いられたツール電話88.9％2009年2010年2011年2012年2013年2014年2015年2016年2017年2018年2019年2020年2021年出所：警察庁「特殊詐欺認知・検挙状況等について」（令和3年）※消費者庁調べ令和2年版消費者白書より（95%の確率で、3.5〜4兆円と推計される）5\\x0c会社概要と沿革会社概要沿革社名トビラシステムズ株式会社証券コード4441設立年月日2006年12月1日（創業2004年4月1日）本店所在地愛知県名古屋市中区錦二丁目5-12パシフィックスクエア名古屋錦７F経営陣明田篤結城卓也松原治雄片岡和也田名網尚中浜明光松井知行従業員数77名（うち臨時雇用21名）2022年1月末日現在拠点名古屋、東京2010代表明田が祖父の迷惑電話詐欺被害をきっかけに迷惑電話フィルタの開発に着手2011.6迷惑電話の社会問題解決を目的とした迷惑電話フィルタ「トビラフォン」販売開始2015.3警察庁と特殊詐欺電話に関する覚書締結情報提供を受ける体制を構築2016.33大キャリアすべてのオプションサービスに提供を開始2021.6新しいセキュリティサービスリリースにより更なる社会的課題の解決へ挑戦6\\x0cトビラシステムズの特徴迷惑情報フィルタ事業の参入障壁・事実上競合はなく、オンリーワン。独自のアルゴリズムは10件以上の特許を取得済。・利用者が多くなるほどデータ精度が高まる循環システム利用者の許可・拒否迷惑情報データベース警察からの提供データ利用者の発着信統計独自調査データ迷惑電話番号リストは日々更新迷惑電話を共有迷惑電話を拒否・警告7\\x0c事業セグメント迷惑情報フィルタ事業を中心にビジネスを展開・迷惑情報フィルタ事業の中でも、モバイル向けフィルタ事業が約8割を占める■モバイル向けフィルタサービス・スマホアプリの迷惑情報フィルタサービス・280blocker■固定電話向けフィルタサービス・アタッチメント型端末、HGW、CATV向け迷惑情報フィルタ事業その他■その他■ビジネスフォン向けフィルタサービス・トビラフォンBiz、トビラフォンCloud、TalkBook79.5％FY2021売上構成比5.5%4.6%10.4%迷惑情報フィルタ事業94.5%8\\x0cサービス内容迷惑フィルタ事業：「安心・安全」を支えるサービスを展開モバイル向け固定電話向けビジネスフォン向け・迷惑電話、迷惑SMSをブロック・IP電話のオプションとして主に提供・トビラフォンBiz・不快な広告をブロック・不要な営業電話や詐欺電話をブロック・トビラフォンCloud・TalkBook9\\x0cモバイル向けの成長戦略オプションパック迷惑電話ブロック迷惑SMSブロック自社アプリ迷惑電話ブロック迷惑SMSブロックすべてのキャリアのオプションパックで迷惑SMS機能導入を目指し営業活動を推進迷惑広告ブロック追加で費用を払うことなく、当社アプリを利用可能な潜在ユーザーが多数存在自社アプリでは、電話・SMS・Web閲覧時における迷惑行為を全方位で対策可能オプションパック未契約者については自社アプリを利用いただくようにプロモーション活動を推進10\\x0c固定電話向けの成長戦略固定電話契約者数と当社サービス利用者数企業別シェア状況約5,237万大きな成長余地潜在ユーザー層5,206万以上固定電話契約者数約31万当社サービス月間利用者数当社サービスの利用者数は限定的であり、5,206万以上の開拓余地が存在その他ソフトバンク6.3%NTT西日本64.8%KDDIグループ22.0%2.8%オプテージNTT東日本KDDI社との協同により同社が提携するケーブルテレビ会社を通じ、620万回線のユーザーへアプローチ可能企業別シェア最大のNTT東日本・NTT西日本やソフトバンクなど、迷惑電話フィルタ導入に向けた営業活動を継続出所：固定電話の契約数：総務省「電気通信サービスの契約数及びシェア」四半期データ（2021年12月18日公表）11\\x0cビジネスフォン向けの成長戦略トビラフォンBizNTT東日本・NTT西日本のセレクトアイテム登録による強力な販売網PC（CTI）コールセンター用CTI営業用CTI※当社製品と連携TalkBookオフィス電話営業電話PL1年2年3年4年5年端末料金ライセンス料売上高：端末料金は一括、ライセンス料は５年分を按分CFは、販売時に端末料金とライセンス料5年分をセットで受領CF1年ライセンス料5年分端末料金トビラフォンCloudクラウドPBXスマートフォンNTT東日本・NTT西日本を通じた、販売チャネルの強化及び機能追加によるアップセルを目指す成長が見込めるSaaS市場において、ビジネスの電話に関するニーズを多方面から取り込む12\\x0c2022年10月期第1四半期決算概要213\\x0c業績ハイライト1Q（2021年11月-2022年1月）事業概況・売上高はYoY＋16.7%の3億9千万円で着地・営業利益はYoY＋9.2％の1億3千万円、営業利益率34.3％で着地通期では合同会社280blocker吸収合併によるのれん償却、トビラフォンBizの出荷増に伴う売上原価の増加等により一時的に減益の計画・主力のモバイル向けフィルタ事業は売上高YoY＋17.3％と順調に増加・特に、ビジネスフォン向けフィルタ事業の売上高は前年同期比2.6倍の成長14\\x0cFY20221Q対前四半期、対前年同期比四半期売上高は過去最高を達成しており、成長を継続(単位：百万円)売上高営業利益経常利益純利益FY20221Ｑ実績FY20214QFY20211Q実績QoQ実績YoY39113412662366106.9%335116.7%129104.0%123109.2%12898.6%123102.9%7582.0%8473.4%15\\x0cFY2022通期業績見通し概ね計画通りの進捗であり、通期の業績見通しに変更なし2022年1Q実績2022年通期計画通期進捗率(単位：百万円)売上高営業利益経常利益純利益391134126621,63651350433324.0%26.2%25.1%18.7%16\\x0c売上高四半期推移（ストック収益、フロー収益）ストック収益はYoY+10.9％と順調に成長(単位：百万円)フロー収益ストック収益450400350300250200150100500172532511241819141540YoY：110.9%2943003073163383493503511Q2Q3Q4Q1Q2Q3Q4QFY2020FY2021QoQ：100.1%1QFY202217\\x0c売上内訳・モバイル向けフィルタサービスは堅調に推移・固定向けフィルタ事業は前年度の一時的な売上増加の影響から前年度比は減少KDDIと共同の専用機器不要で自動遮断する「迷惑電話自動ブロック」の影響は2Q以降発生・ビジネスフォン向けフィルタ事業は前年同期比約2.6倍と順調に増加(単位：百万円)＜迷惑情報フィルタ事業＞モバイル向け固定電話向けビジネスフォン向け＜その他＞FY20221Q実績FY20214QFY20211Q実績QoQ実績YoY377311343114349295342017108.0%105.7%100.2%155.0%84.2%316265381119119.2%117.3%88.3%264.6%75.9%18\\x0cモバイル向けフィルタの主な売上構成比主な契約モデルの売上構成(四半期推移)対前四半期比月間利用者数×単価契約者数×単価▶月間利用者数×単価売上高：102.1％月間利用者数：102.8％▶契約者数×単価売上高：97.9％月間利用者数：106.7％▶固定契約（定額契約）：100.0％売上高月間利用者数：104.0％固定契約（定額契約）1Q2Q3Q4Q1Q2Q3Q4Q1QFY2020FY2021FY20222021年4Qと2022年1Qの売上高および月間利用者数を比較19\\x0c売上原価推移一部予算の後ろ倒しやプロダクト運用稼働の増大で他勘定振替率は下落したものの、概ね計画通り（単位：百万円）その他労務費減価償却費他勘定振替率20.1%22.5%22.6%31115442105337105428.5%45125523.7%23.6%22.7%48105848106247116116014012010080604020029.2%62146135.0%30.0%25.0%20.0%15.0%10.0%5.0%0.0%18.2%5314581QFY20221Q2Q3Q4Q1Q2Q3Q4QFY2020FY2021※他勘定振替率とは、売上原価のうち、主に従業員の活動内容の種類から、研究開発費及び資産等に計上された割合※労務費、減価償却費、その他の合計は、他勘定振替や仕掛品振替の調整前であり、財務諸表の売上原価合計とは異なる20\\x0c販管費推移（単位：百万円）その他研究開発費広告宣伝費人件費160140120100806040200その他費用の増加は、280blockerののれん償却費や広告宣伝に関するアドバイザリー費用等による4280411Q311014443Q32711422QFY2020351729444Q441615451Q36212504021152554235676315572Q3Q4QFY20211QFY202221\\x0c営業利益推移（単位：百万円）営業利益営業利益率通期ではのれんの償却やトビラフォンBizのたな卸原価増加のため、通期の業績見通しに変更なし18016014012010080604020044.4%42.9%45.4%45.2%37.1%36.9%36.7%35.3%34.3%141134122100YoY：109.2%123162164129134QoQ：104.0%1Q2Q3Q4Q1Q2Q3Q4Q202020211Q202250.0%45.0%40.0%35.0%30.0%25.0%20.0%15.0%10.0%5.0%0.0%22\\x0cコスト推移(単位：百万円)売上原価（労務費）（減価償却費）（その他）（人件費）（広告宣伝費）（研究開発費）（その他）（開発分の他勘定振替率）※販売費及び一般管理費FY20221Q実績FY20214QFY20211Q実績QoQ実績YoY10358145318.2%153571537629.2%139976114625623455106.3%95.9%100.0%84.9%62.3%109.9%102.1%67.1%77.6%138.5%23.7%1228958104845151644115.5%99.7%134.9%110.2%76.7%125.2%126.5%103.0%21.0%170.5%※売上原価のうち、主に従業員の活動内容の種類から、研究開発費及び資産等に計上された割合23\\x0cBS推移(単位：百万円)流動資産現金及び預金売上債権その他固定資産有形固定資産無形固定資産投資その他の資産総資産負債流動負債固定負債純資産自己資本比率FY20221QFY20214Q増減額1,4571,18818980742504981927494662832,1991,45065.9%1,3891,14518161780495092216813852952,1701,48968.6%68427191296881△38△10△29△12△38△2.7pt24\\x0c中期経営計画の進捗状況325\\x0c中期経営計画の目標・売上高は毎年約20%の成長を維持・営業利益は、年平均成長率約52%の高い成長率を目指す（単位：百万円）3,0002,5002,0001,5001,0005000売上高営業利益981406※FY2022以降は計画値2,5102,0311,636＊2022年10月期はのれんの償却等により、一時的な減益見込7811,1861,2341,424498579513FY2019FY2020FY2021FY2022FY2023FY202426\\x0cモバイル向け、固定電話向けフィルタサービス2021年12月発表中期経営計画（FY2022-FY2024)FY20221Qまでの成果安定的な売上高を確保するとともに、既存サービスの新規市場への拡充を狙う・既存顧客からの収益の安定的確保・SMSフィルタ、フィッシング対策サービス拡充・280blockerとのシナジー推進•公益財団法人全国防犯協会連合会推奨の「優良迷惑電話防⽌機器」に認定•280blockerキャンペーン実施による認知拡大KDDIとの新たな施策、更なるアライアンスを推進・KDDI提携のCATV会社を通じ620万回線のユーザーへアプローチ当社サービスをオプションとして付帯いただけるパートナー開拓・NTT東日本、西日本、ソフトバンク等への営業活動継続•KDDIのケーブルテレビ向けユーザーに、専用機器不要で固定電話への迷惑電話を自動遮断する「迷惑電話自動ブロック」の提供を開始（2022年2月）27モバイル向け固定電話向け\\x0cビジネスフォン向けフィルタサービス2021年12月発表中期経営計画（FY2022-FY2024)FY20221Qまでの成果トビラフォンBiz・NTT東日本及びNTT西日本のセレクトアイテム登録により大幅成長を目指す・販売バートナーと連携し、ユーザーニーズに合わせた機能改善を迅速に行う•セレクトアイテム化により受注件数が順調に増加•半導体不足の環境下においても、在庫管理を適正に行い機会損失を回避トビラフォンCloud・「03」などの市外局番での通話を可能とし、受注数の増加を狙うTalkBook・拡大するSaaS市場でクラウドPBXだけではなく、営業用CTIをカバー•「03」などの市外局番での通話が可能に•AI搭載型営業ツール「TalkBook」を開発し販売を開始ビジネスフォン向け28\\x0cFY2022の注力事項モバイル向け：すべてのキャリアのオプションパックへの迷惑SMS機能導入を目指す迷惑電話ブロック迷惑SMSブロック迷惑電話ブロック迷惑SMSブロックオプションパックビジネスフォン向け：新サービス「TalkBook」のプロダクトマーケットフィットの推進ユーザーからのフィードバックを分析プロダクトユーザーのニーズに適した機能拡充FITマーケット適切な市場の探索と選択29\\x0cESGに向けた取り組み持続的な成長のために、ESGに取り組み、環境や社会の持続可能性（サスティナビリティ）を確保ESEnvironment環境サーバ仮想化技術を駆使し、省エネルギー、高効率なインフラ基盤構築への取り組み・TCFD（気候関連財務開示タスクフォース）開示へ向けた分析の検討を開始Social社会・特殊詐欺を防⽌するサービスの推進による被害軽減への取り組み・働きやすい労働環境構築への取り組み・「トビラフォンモバイル」が迷惑電話対策アプリとして「優良防犯電話」に認定・経済産業省中⼩企業庁「はばたく中⼩企業・⼩規模事業者300社」に「生産性向上」部門のサービスとして選定GGovernance企業統治コーポレートガバナンス・コード対応を通じたガバナンスの質の向上・指名・報酬委員会を新たに設置し、取締役等の指名や報酬等に関する手続きの公正性、透明性、客観性を強化3030\\x0c参考資料431\\x0c2022年10月期財務状況四半期業績推移(単位：百万円)売上（迷惑情報フィルタ事業）1Q2Q3Q4Q1Q2Q3Q4Q270244319295312290331312335316358335364344366349FY2020FY2021（その他事業）売上原価（労務費）（減価償却費）（その他）販管費（人件費）（広告宣伝費）（研究開発費）（その他）2677541131934108422382531042944211732227854103799441410311983551245442917351989581048451516442292621048501223619926111475211240（開発分の他勘定振替率）※20.1%22.5%22.6%28.5%23.7%23.6%22.7%29.2%126122102106139FY20221Q39137714103581453571537618.2%1531797611462562345532\\x0cご留意事項\\uf06c本発表において提供される資料ならびに情報は、いわゆる「見通し情報」（forward-lookingstatements）を含みます。これらは、現在における見込み、予測およびリスクを伴う想定に基づくものであり、実質的にこれらの記述とは異なる結果を招き得る不確実性を含んでおります。\\uf06cそれらリスクや不確実性には、一般的な業界ならびに市場の状況、金利、通貨為替変動といった一般的な国内および国際的な経済状況が含まれます。\\uf06c今後、新しい情報・将来の出来事等があった場合であっても、当社は、本発表に含まれる「見通し情報」の更新・修正を行う義務を負うものではありません。33\\x0c',\n",
              " '各位\\n\\u3000\\n\\u30002022年３月10日会社名テ代表者名代表取締役社長ラ株式会真\\n\\u3000船\\n\\u3000達社（コード番号：2191）問合せ先管理本部広報IR高森眞子登（電話：03-5937-2111）会計監査人の選任に関するお知らせ当社は、本日開催の監査等委員会において、下記のとおり、金融商品取引法第193条の2第1項及び第2項の監査証明を行う公認会計士等の異動を行うことについて決議し、また本日付で、会社法第370条及び当社定款第25条に定める取締役会の決議に代わる書面決議により、2022年３月29日開催予定の第18期定時株主総会に「会計監査人の選任の件」を付議することを決議いたしましたので、お知らせいたします。１．会計監査人選任の理由当社は、2021年11月11日付適時開示「公認会計士等の異動及び一時会計監査人の選任に関するお知らせ」に記載の通り、一時会計監査人としてHLBMeisei有限責任監査法人を選任し、現在に至っております。HLBMeisei有限責任監査法人は、第18期定時株主総会終結の時をもって一時会計監査人としての任期を終了いたしますが、一時会計監査人としての職務遂行状況から、引き続き同監査法人が当社の会計監査人として、当社の事業規模、業務内容に適した監査対応、監査費用の相当性等を踏まえ、会計監査人に必要とされる専門性、独立性及び品質管理体制を有していると判断し、改めて同監査法人を会計監査人として選任することを付議するものであります。２．選任予定の会計監査人の名称等名\\n\\u3000称所在地業務執行社員の氏名日本公認会計士協会の上場会社監査事務所登録制度における登録状況HLBMeisei有限責任監査法人東京都中央区日本橋本石町４－２－１６Daiwa日本橋本石町ビル５階関和輝、町出知則登録されております。３．就任年月日2022年３月29日(第18期定時株主総会開催予定日)\\n\\u3000\\n\\u3000\\n\\u3000\\n\\u3000\\n\\u3000\\n\\u3000\\n\\u3000\\n\\u3000\\n\\u3000\\n\\u3000\\n\\u3000\\n\\u3000\\n\\u3000\\n\\u3000\\n\\u3000\\n\\u3000\\n\\u3000\\n\\u3000\\n\\u3000\\n\\u3000\\n\\u3000\\n\\u3000\\n\\u3000\\n\\u3000\\n\\u3000\\n\\u3000\\n\\u3000以上\\x0c']"
            ]
          },
          "metadata": {},
          "execution_count": 112
        }
      ],
      "source": [
        "len(text_list)\n",
        "len(filelist)\n",
        "len(pdfpaths)\n",
        "text_list"
      ]
    },
    {
      "cell_type": "markdown",
      "metadata": {
        "id": "soAh9bePVwl4"
      },
      "source": [
        "### テキストから会社名を抜き出す\n",
        "ginzaとspacyを使う"
      ]
    },
    {
      "cell_type": "code",
      "execution_count": null,
      "metadata": {
        "id": "FE2EEoZEnnj6",
        "colab": {
          "base_uri": "https://localhost:8080/"
        },
        "outputId": "254505e6-97bb-4f5c-dcc9-8978444a202f"
      },
      "outputs": [
        {
          "output_type": "stream",
          "name": "stdout",
          "text": [
            "Requirement already satisfied: ginza in /usr/local/lib/python3.7/dist-packages (5.1.0)\n",
            "Requirement already satisfied: SudachiPy<0.7.0,>=0.5.4 in /usr/local/lib/python3.7/dist-packages (from ginza) (0.6.3)\n",
            "Requirement already satisfied: plac>=1.3.3 in /usr/local/lib/python3.7/dist-packages (from ginza) (1.3.4)\n",
            "Requirement already satisfied: SudachiDict-core>=20210802 in /usr/local/lib/python3.7/dist-packages (from ginza) (20211220)\n",
            "Requirement already satisfied: spacy<3.3.0,>=3.2.0 in /usr/local/lib/python3.7/dist-packages (from ginza) (3.2.3)\n",
            "Requirement already satisfied: jinja2 in /usr/local/lib/python3.7/dist-packages (from spacy<3.3.0,>=3.2.0->ginza) (2.11.3)\n",
            "Requirement already satisfied: packaging>=20.0 in /usr/local/lib/python3.7/dist-packages (from spacy<3.3.0,>=3.2.0->ginza) (21.3)\n",
            "Requirement already satisfied: cymem<2.1.0,>=2.0.2 in /usr/local/lib/python3.7/dist-packages (from spacy<3.3.0,>=3.2.0->ginza) (2.0.6)\n",
            "Requirement already satisfied: srsly<3.0.0,>=2.4.1 in /usr/local/lib/python3.7/dist-packages (from spacy<3.3.0,>=3.2.0->ginza) (2.4.2)\n",
            "Requirement already satisfied: tqdm<5.0.0,>=4.38.0 in /usr/local/lib/python3.7/dist-packages (from spacy<3.3.0,>=3.2.0->ginza) (4.63.0)\n",
            "Requirement already satisfied: wasabi<1.1.0,>=0.8.1 in /usr/local/lib/python3.7/dist-packages (from spacy<3.3.0,>=3.2.0->ginza) (0.9.0)\n",
            "Requirement already satisfied: langcodes<4.0.0,>=3.2.0 in /usr/local/lib/python3.7/dist-packages (from spacy<3.3.0,>=3.2.0->ginza) (3.3.0)\n",
            "Requirement already satisfied: thinc<8.1.0,>=8.0.12 in /usr/local/lib/python3.7/dist-packages (from spacy<3.3.0,>=3.2.0->ginza) (8.0.13)\n",
            "Requirement already satisfied: pydantic!=1.8,!=1.8.1,<1.9.0,>=1.7.4 in /usr/local/lib/python3.7/dist-packages (from spacy<3.3.0,>=3.2.0->ginza) (1.8.2)\n",
            "Requirement already satisfied: preshed<3.1.0,>=3.0.2 in /usr/local/lib/python3.7/dist-packages (from spacy<3.3.0,>=3.2.0->ginza) (3.0.6)\n",
            "Requirement already satisfied: catalogue<2.1.0,>=2.0.6 in /usr/local/lib/python3.7/dist-packages (from spacy<3.3.0,>=3.2.0->ginza) (2.0.6)\n",
            "Requirement already satisfied: typing-extensions<4.0.0.0,>=3.7.4 in /usr/local/lib/python3.7/dist-packages (from spacy<3.3.0,>=3.2.0->ginza) (3.10.0.2)\n",
            "Requirement already satisfied: blis<0.8.0,>=0.4.0 in /usr/local/lib/python3.7/dist-packages (from spacy<3.3.0,>=3.2.0->ginza) (0.4.1)\n",
            "Requirement already satisfied: murmurhash<1.1.0,>=0.28.0 in /usr/local/lib/python3.7/dist-packages (from spacy<3.3.0,>=3.2.0->ginza) (1.0.6)\n",
            "Requirement already satisfied: spacy-legacy<3.1.0,>=3.0.8 in /usr/local/lib/python3.7/dist-packages (from spacy<3.3.0,>=3.2.0->ginza) (3.0.9)\n",
            "Requirement already satisfied: typer<0.5.0,>=0.3.0 in /usr/local/lib/python3.7/dist-packages (from spacy<3.3.0,>=3.2.0->ginza) (0.4.0)\n",
            "Requirement already satisfied: pathy>=0.3.5 in /usr/local/lib/python3.7/dist-packages (from spacy<3.3.0,>=3.2.0->ginza) (0.6.1)\n",
            "Requirement already satisfied: numpy>=1.15.0 in /usr/local/lib/python3.7/dist-packages (from spacy<3.3.0,>=3.2.0->ginza) (1.21.5)\n",
            "Requirement already satisfied: setuptools in /usr/local/lib/python3.7/dist-packages (from spacy<3.3.0,>=3.2.0->ginza) (57.4.0)\n",
            "Requirement already satisfied: requests<3.0.0,>=2.13.0 in /usr/local/lib/python3.7/dist-packages (from spacy<3.3.0,>=3.2.0->ginza) (2.23.0)\n",
            "Requirement already satisfied: spacy-loggers<2.0.0,>=1.0.0 in /usr/local/lib/python3.7/dist-packages (from spacy<3.3.0,>=3.2.0->ginza) (1.0.1)\n",
            "Requirement already satisfied: zipp>=0.5 in /usr/local/lib/python3.7/dist-packages (from catalogue<2.1.0,>=2.0.6->spacy<3.3.0,>=3.2.0->ginza) (3.7.0)\n",
            "Requirement already satisfied: pyparsing!=3.0.5,>=2.0.2 in /usr/local/lib/python3.7/dist-packages (from packaging>=20.0->spacy<3.3.0,>=3.2.0->ginza) (3.0.7)\n",
            "Requirement already satisfied: smart-open<6.0.0,>=5.0.0 in /usr/local/lib/python3.7/dist-packages (from pathy>=0.3.5->spacy<3.3.0,>=3.2.0->ginza) (5.2.1)\n",
            "Requirement already satisfied: chardet<4,>=3.0.2 in /usr/local/lib/python3.7/dist-packages (from requests<3.0.0,>=2.13.0->spacy<3.3.0,>=3.2.0->ginza) (3.0.4)\n",
            "Requirement already satisfied: urllib3!=1.25.0,!=1.25.1,<1.26,>=1.21.1 in /usr/local/lib/python3.7/dist-packages (from requests<3.0.0,>=2.13.0->spacy<3.3.0,>=3.2.0->ginza) (1.24.3)\n",
            "Requirement already satisfied: certifi>=2017.4.17 in /usr/local/lib/python3.7/dist-packages (from requests<3.0.0,>=2.13.0->spacy<3.3.0,>=3.2.0->ginza) (2021.10.8)\n",
            "Requirement already satisfied: idna<3,>=2.5 in /usr/local/lib/python3.7/dist-packages (from requests<3.0.0,>=2.13.0->spacy<3.3.0,>=3.2.0->ginza) (2.10)\n",
            "Requirement already satisfied: click<9.0.0,>=7.1.1 in /usr/local/lib/python3.7/dist-packages (from typer<0.5.0,>=0.3.0->spacy<3.3.0,>=3.2.0->ginza) (7.1.2)\n",
            "Requirement already satisfied: MarkupSafe>=0.23 in /usr/local/lib/python3.7/dist-packages (from jinja2->spacy<3.3.0,>=3.2.0->ginza) (2.0.1)\n",
            "Requirement already satisfied: ginza in /usr/local/lib/python3.7/dist-packages (5.1.0)\n",
            "Requirement already satisfied: ja-ginza in /usr/local/lib/python3.7/dist-packages (5.1.0)\n",
            "Requirement already satisfied: SudachiPy<0.7.0,>=0.5.4 in /usr/local/lib/python3.7/dist-packages (from ginza) (0.6.3)\n",
            "Requirement already satisfied: spacy<3.3.0,>=3.2.0 in /usr/local/lib/python3.7/dist-packages (from ginza) (3.2.3)\n",
            "Requirement already satisfied: SudachiDict-core>=20210802 in /usr/local/lib/python3.7/dist-packages (from ginza) (20211220)\n",
            "Requirement already satisfied: plac>=1.3.3 in /usr/local/lib/python3.7/dist-packages (from ginza) (1.3.4)\n",
            "Requirement already satisfied: requests<3.0.0,>=2.13.0 in /usr/local/lib/python3.7/dist-packages (from spacy<3.3.0,>=3.2.0->ginza) (2.23.0)\n",
            "Requirement already satisfied: pathy>=0.3.5 in /usr/local/lib/python3.7/dist-packages (from spacy<3.3.0,>=3.2.0->ginza) (0.6.1)\n",
            "Requirement already satisfied: blis<0.8.0,>=0.4.0 in /usr/local/lib/python3.7/dist-packages (from spacy<3.3.0,>=3.2.0->ginza) (0.4.1)\n",
            "Requirement already satisfied: thinc<8.1.0,>=8.0.12 in /usr/local/lib/python3.7/dist-packages (from spacy<3.3.0,>=3.2.0->ginza) (8.0.13)\n",
            "Requirement already satisfied: typing-extensions<4.0.0.0,>=3.7.4 in /usr/local/lib/python3.7/dist-packages (from spacy<3.3.0,>=3.2.0->ginza) (3.10.0.2)\n",
            "Requirement already satisfied: packaging>=20.0 in /usr/local/lib/python3.7/dist-packages (from spacy<3.3.0,>=3.2.0->ginza) (21.3)\n",
            "Requirement already satisfied: setuptools in /usr/local/lib/python3.7/dist-packages (from spacy<3.3.0,>=3.2.0->ginza) (57.4.0)\n",
            "Requirement already satisfied: srsly<3.0.0,>=2.4.1 in /usr/local/lib/python3.7/dist-packages (from spacy<3.3.0,>=3.2.0->ginza) (2.4.2)\n",
            "Requirement already satisfied: typer<0.5.0,>=0.3.0 in /usr/local/lib/python3.7/dist-packages (from spacy<3.3.0,>=3.2.0->ginza) (0.4.0)\n",
            "Requirement already satisfied: tqdm<5.0.0,>=4.38.0 in /usr/local/lib/python3.7/dist-packages (from spacy<3.3.0,>=3.2.0->ginza) (4.63.0)\n",
            "Requirement already satisfied: pydantic!=1.8,!=1.8.1,<1.9.0,>=1.7.4 in /usr/local/lib/python3.7/dist-packages (from spacy<3.3.0,>=3.2.0->ginza) (1.8.2)\n",
            "Requirement already satisfied: cymem<2.1.0,>=2.0.2 in /usr/local/lib/python3.7/dist-packages (from spacy<3.3.0,>=3.2.0->ginza) (2.0.6)\n",
            "Requirement already satisfied: langcodes<4.0.0,>=3.2.0 in /usr/local/lib/python3.7/dist-packages (from spacy<3.3.0,>=3.2.0->ginza) (3.3.0)\n",
            "Requirement already satisfied: numpy>=1.15.0 in /usr/local/lib/python3.7/dist-packages (from spacy<3.3.0,>=3.2.0->ginza) (1.21.5)\n",
            "Requirement already satisfied: jinja2 in /usr/local/lib/python3.7/dist-packages (from spacy<3.3.0,>=3.2.0->ginza) (2.11.3)\n",
            "Requirement already satisfied: wasabi<1.1.0,>=0.8.1 in /usr/local/lib/python3.7/dist-packages (from spacy<3.3.0,>=3.2.0->ginza) (0.9.0)\n",
            "Requirement already satisfied: catalogue<2.1.0,>=2.0.6 in /usr/local/lib/python3.7/dist-packages (from spacy<3.3.0,>=3.2.0->ginza) (2.0.6)\n",
            "Requirement already satisfied: preshed<3.1.0,>=3.0.2 in /usr/local/lib/python3.7/dist-packages (from spacy<3.3.0,>=3.2.0->ginza) (3.0.6)\n",
            "Requirement already satisfied: spacy-loggers<2.0.0,>=1.0.0 in /usr/local/lib/python3.7/dist-packages (from spacy<3.3.0,>=3.2.0->ginza) (1.0.1)\n",
            "Requirement already satisfied: murmurhash<1.1.0,>=0.28.0 in /usr/local/lib/python3.7/dist-packages (from spacy<3.3.0,>=3.2.0->ginza) (1.0.6)\n",
            "Requirement already satisfied: spacy-legacy<3.1.0,>=3.0.8 in /usr/local/lib/python3.7/dist-packages (from spacy<3.3.0,>=3.2.0->ginza) (3.0.9)\n",
            "Requirement already satisfied: zipp>=0.5 in /usr/local/lib/python3.7/dist-packages (from catalogue<2.1.0,>=2.0.6->spacy<3.3.0,>=3.2.0->ginza) (3.7.0)\n",
            "Requirement already satisfied: pyparsing!=3.0.5,>=2.0.2 in /usr/local/lib/python3.7/dist-packages (from packaging>=20.0->spacy<3.3.0,>=3.2.0->ginza) (3.0.7)\n",
            "Requirement already satisfied: smart-open<6.0.0,>=5.0.0 in /usr/local/lib/python3.7/dist-packages (from pathy>=0.3.5->spacy<3.3.0,>=3.2.0->ginza) (5.2.1)\n",
            "Requirement already satisfied: urllib3!=1.25.0,!=1.25.1,<1.26,>=1.21.1 in /usr/local/lib/python3.7/dist-packages (from requests<3.0.0,>=2.13.0->spacy<3.3.0,>=3.2.0->ginza) (1.24.3)\n",
            "Requirement already satisfied: certifi>=2017.4.17 in /usr/local/lib/python3.7/dist-packages (from requests<3.0.0,>=2.13.0->spacy<3.3.0,>=3.2.0->ginza) (2021.10.8)\n",
            "Requirement already satisfied: idna<3,>=2.5 in /usr/local/lib/python3.7/dist-packages (from requests<3.0.0,>=2.13.0->spacy<3.3.0,>=3.2.0->ginza) (2.10)\n",
            "Requirement already satisfied: chardet<4,>=3.0.2 in /usr/local/lib/python3.7/dist-packages (from requests<3.0.0,>=2.13.0->spacy<3.3.0,>=3.2.0->ginza) (3.0.4)\n",
            "Requirement already satisfied: click<9.0.0,>=7.1.1 in /usr/local/lib/python3.7/dist-packages (from typer<0.5.0,>=0.3.0->spacy<3.3.0,>=3.2.0->ginza) (7.1.2)\n",
            "Requirement already satisfied: MarkupSafe>=0.23 in /usr/local/lib/python3.7/dist-packages (from jinja2->spacy<3.3.0,>=3.2.0->ginza) (2.0.1)\n"
          ]
        }
      ],
      "source": [
        "#ライブラリをインストール\n",
        "!pip install -U ginza\n",
        "!pip install -U ginza ja-ginza"
      ]
    },
    {
      "cell_type": "code",
      "execution_count": null,
      "metadata": {
        "id": "ZVvuWoLAVwl6"
      },
      "outputs": [],
      "source": [
        "#spacyをインポートしてインスタンス化\n",
        "import spacy\n",
        "from spacy import displacy\n",
        "nlp = spacy.load('ja_ginza')"
      ]
    },
    {
      "cell_type": "markdown",
      "metadata": {
        "id": "V65f0R35Vwl7"
      },
      "source": [
        "OrderDictを使ってリストから、順序を維持したうえで重複を削除したリストを作成する\n",
        "https://www.delftstack.com/ja/howto/python/remove-duplicates-from-list-python/"
      ]
    },
    {
      "cell_type": "code",
      "execution_count": null,
      "metadata": {
        "id": "RRpuXU6SVwl8"
      },
      "outputs": [],
      "source": [
        "#OrderDictをインポート\n",
        "from collections import OrderedDict"
      ]
    },
    {
      "cell_type": "markdown",
      "metadata": {
        "id": "BHANFjFCVwl9"
      },
      "source": [
        "### テキストから会社名を返す関数を作成"
      ]
    },
    {
      "cell_type": "code",
      "execution_count": null,
      "metadata": {
        "id": "3ivc-7OPVwl-"
      },
      "outputs": [],
      "source": [
        "#テキストから会社名を返す関数をつくる\n",
        "\n",
        "def Text2CompanyName(text):\n",
        "  doc=nlp(text)\n",
        "  #空のリストを準備\n",
        "  company_names_=[]\n",
        "#固有表現ラベルがCompanyをリストに追加\n",
        "  for ent in doc.ents: \n",
        "    if ent.label_ =='Company':\n",
        "      #print(ent.text, ent.label_)\n",
        "      company_names_.append(ent.text) \n",
        "#      company_names=list(set(company_names_))\n",
        "      company_names=list(OrderedDict.fromkeys(company_names_))\n",
        "      #StrCompanyName = \"\".join(company_names)\n",
        "  if len(company_names_)==0:\n",
        "    return [\"なし\"]\n",
        "  else:\n",
        "    return company_names"
      ]
    },
    {
      "cell_type": "markdown",
      "metadata": {
        "id": "8kbbRb1BVwl_"
      },
      "source": [
        "### 参考\n",
        "listが空かどうか判定する方法\n",
        "https://qiita.com/yonedaco/items/d0f65ca3dad2e085a51d"
      ]
    },
    {
      "cell_type": "markdown",
      "metadata": {
        "id": "Fx8AkUb3Vwl_"
      },
      "source": [
        "### 用意した関数を使い、テキストから会社名を抽出して新たなリストを作成する"
      ]
    },
    {
      "cell_type": "code",
      "execution_count": null,
      "metadata": {
        "id": "J9jxHXxyVwmA"
      },
      "outputs": [],
      "source": [
        "#companyの名前を入れる空のリストを準備\n",
        "companyNames1=[]\n",
        "for company in text_list:\n",
        "    companyNames1.append(Text2CompanyName(company))"
      ]
    },
    {
      "cell_type": "markdown",
      "metadata": {
        "id": "FfTs9AvGVwmB"
      },
      "source": [
        "### 2次元リストの各行の0番目値を取得して新たにリストを作る  \n",
        "https://ja.stackoverflow.com/questions/47331/python%E3%81%A7%E4%BA%8C%E6%AC%A1%E5%85%83%E9%85%8D%E5%88%97%E3%81%AE%E4%B8%AD%E3%81%AE%E5%90%84%E8%A6%81%E7%B4%A0%E3%81%AEn%E7%95%AA%E7%9B%AE%E3%81%A0%E3%81%91%E3%82%92%E5%8F%96%E3%82%8A%E5%87%BA%E3%81%97%E3%81%A6-%E8%A6%81%E7%B4%A0%E3%81%A8%E3%81%97%E3%81%A6%E4%B8%A6%E3%81%B9%E3%81%9F%E3%81%84"
      ]
    },
    {
      "cell_type": "code",
      "execution_count": null,
      "metadata": {
        "id": "FrA51-_RVwmC"
      },
      "outputs": [],
      "source": [
        "#CompanyName1の各行の0番目の値をCompanyNames2に格納\n",
        "companyNames2=list(map(lambda companyName1:companyName1[0],companyNames1))"
      ]
    },
    {
      "cell_type": "markdown",
      "metadata": {
        "id": "RDYY4lEOVwmC"
      },
      "source": [
        "### pandasでエクセル表のもととなる一覧表を作成\n",
        "https://www.delftstack.com/ja/howto/python-pandas/pandas-create-dataframe-from-list/"
      ]
    },
    {
      "cell_type": "code",
      "execution_count": null,
      "metadata": {
        "id": "uwqlQSfuVwmD"
      },
      "outputs": [],
      "source": [
        "#pandasをインポート\n",
        "import pandas as pd"
      ]
    },
    {
      "cell_type": "code",
      "execution_count": null,
      "metadata": {
        "id": "fjgWzSGUVwmD"
      },
      "outputs": [],
      "source": [
        "#データフレームを作成\n",
        "df=pd.DataFrame(list(zip(pdfpaths,filelist,text_list,companyNames1,companyNames2)),columns=[\"path\",\"filename\",\"text\",\"companynames\",\"companyname\"])"
      ]
    },
    {
      "cell_type": "code",
      "source": [
        "df"
      ],
      "metadata": {
        "colab": {
          "base_uri": "https://localhost:8080/",
          "height": 344
        },
        "id": "YJRTvG9wK25e",
        "outputId": "2b291ef7-da08-4051-e589-9b9434f2689b"
      },
      "execution_count": null,
      "outputs": [
        {
          "output_type": "execute_result",
          "data": {
            "text/html": [
              "\n",
              "  <div id=\"df-9008902b-fe86-4139-8377-8270ea2772c7\">\n",
              "    <div class=\"colab-df-container\">\n",
              "      <div>\n",
              "<style scoped>\n",
              "    .dataframe tbody tr th:only-of-type {\n",
              "        vertical-align: middle;\n",
              "    }\n",
              "\n",
              "    .dataframe tbody tr th {\n",
              "        vertical-align: top;\n",
              "    }\n",
              "\n",
              "    .dataframe thead th {\n",
              "        text-align: right;\n",
              "    }\n",
              "</style>\n",
              "<table border=\"1\" class=\"dataframe\">\n",
              "  <thead>\n",
              "    <tr style=\"text-align: right;\">\n",
              "      <th></th>\n",
              "      <th>path</th>\n",
              "      <th>filename</th>\n",
              "      <th>text</th>\n",
              "      <th>companynames</th>\n",
              "      <th>companyname</th>\n",
              "    </tr>\n",
              "  </thead>\n",
              "  <tbody>\n",
              "    <tr>\n",
              "      <th>0</th>\n",
              "      <td>/content/drive/MyDrive/その他/PDFのOCR処理とファイル名変更/P...</td>\n",
              "      <td>140120220310503726.pdf</td>\n",
              "      <td>2022年３月10日\\n　会\\n　社\\n　名\\n　\\n　株式会社シマノ代表者名\\n　\\n　代...</td>\n",
              "      <td>[株式会社シマノ, 定時株主総会, Singapore)Pte.Ltd.]</td>\n",
              "      <td>株式会社シマノ</td>\n",
              "    </tr>\n",
              "    <tr>\n",
              "      <th>1</th>\n",
              "      <td>/content/drive/MyDrive/その他/PDFのOCR処理とファイル名変更/P...</td>\n",
              "      <td>140120220310503389.pdf</td>\n",
              "      <td>2022年10月期第1四半期決算説明資料トビラシステムズ株式会社（東証一部4441）\f1事業...</td>\n",
              "      <td>[株式会社（東証一部4441, 会社概要, トビラシステムズ株式会社, TalkBook, ...</td>\n",
              "      <td>株式会社（東証一部4441</td>\n",
              "    </tr>\n",
              "    <tr>\n",
              "      <th>2</th>\n",
              "      <td>/content/drive/MyDrive/その他/PDFのOCR処理とファイル名変更/P...</td>\n",
              "      <td>140120220310503662.pdf</td>\n",
              "      <td>各位\\n　\\n　2022年３月10日会社名テ代表者名代表取締役社長ラ株式会真\\n　船\\n　達...</td>\n",
              "      <td>[定時株主総会, HLBMeisei有限責任監査法人, HLBMeisei]</td>\n",
              "      <td>定時株主総会</td>\n",
              "    </tr>\n",
              "  </tbody>\n",
              "</table>\n",
              "</div>\n",
              "      <button class=\"colab-df-convert\" onclick=\"convertToInteractive('df-9008902b-fe86-4139-8377-8270ea2772c7')\"\n",
              "              title=\"Convert this dataframe to an interactive table.\"\n",
              "              style=\"display:none;\">\n",
              "        \n",
              "  <svg xmlns=\"http://www.w3.org/2000/svg\" height=\"24px\"viewBox=\"0 0 24 24\"\n",
              "       width=\"24px\">\n",
              "    <path d=\"M0 0h24v24H0V0z\" fill=\"none\"/>\n",
              "    <path d=\"M18.56 5.44l.94 2.06.94-2.06 2.06-.94-2.06-.94-.94-2.06-.94 2.06-2.06.94zm-11 1L8.5 8.5l.94-2.06 2.06-.94-2.06-.94L8.5 2.5l-.94 2.06-2.06.94zm10 10l.94 2.06.94-2.06 2.06-.94-2.06-.94-.94-2.06-.94 2.06-2.06.94z\"/><path d=\"M17.41 7.96l-1.37-1.37c-.4-.4-.92-.59-1.43-.59-.52 0-1.04.2-1.43.59L10.3 9.45l-7.72 7.72c-.78.78-.78 2.05 0 2.83L4 21.41c.39.39.9.59 1.41.59.51 0 1.02-.2 1.41-.59l7.78-7.78 2.81-2.81c.8-.78.8-2.07 0-2.86zM5.41 20L4 18.59l7.72-7.72 1.47 1.35L5.41 20z\"/>\n",
              "  </svg>\n",
              "      </button>\n",
              "      \n",
              "  <style>\n",
              "    .colab-df-container {\n",
              "      display:flex;\n",
              "      flex-wrap:wrap;\n",
              "      gap: 12px;\n",
              "    }\n",
              "\n",
              "    .colab-df-convert {\n",
              "      background-color: #E8F0FE;\n",
              "      border: none;\n",
              "      border-radius: 50%;\n",
              "      cursor: pointer;\n",
              "      display: none;\n",
              "      fill: #1967D2;\n",
              "      height: 32px;\n",
              "      padding: 0 0 0 0;\n",
              "      width: 32px;\n",
              "    }\n",
              "\n",
              "    .colab-df-convert:hover {\n",
              "      background-color: #E2EBFA;\n",
              "      box-shadow: 0px 1px 2px rgba(60, 64, 67, 0.3), 0px 1px 3px 1px rgba(60, 64, 67, 0.15);\n",
              "      fill: #174EA6;\n",
              "    }\n",
              "\n",
              "    [theme=dark] .colab-df-convert {\n",
              "      background-color: #3B4455;\n",
              "      fill: #D2E3FC;\n",
              "    }\n",
              "\n",
              "    [theme=dark] .colab-df-convert:hover {\n",
              "      background-color: #434B5C;\n",
              "      box-shadow: 0px 1px 3px 1px rgba(0, 0, 0, 0.15);\n",
              "      filter: drop-shadow(0px 1px 2px rgba(0, 0, 0, 0.3));\n",
              "      fill: #FFFFFF;\n",
              "    }\n",
              "  </style>\n",
              "\n",
              "      <script>\n",
              "        const buttonEl =\n",
              "          document.querySelector('#df-9008902b-fe86-4139-8377-8270ea2772c7 button.colab-df-convert');\n",
              "        buttonEl.style.display =\n",
              "          google.colab.kernel.accessAllowed ? 'block' : 'none';\n",
              "\n",
              "        async function convertToInteractive(key) {\n",
              "          const element = document.querySelector('#df-9008902b-fe86-4139-8377-8270ea2772c7');\n",
              "          const dataTable =\n",
              "            await google.colab.kernel.invokeFunction('convertToInteractive',\n",
              "                                                     [key], {});\n",
              "          if (!dataTable) return;\n",
              "\n",
              "          const docLinkHtml = 'Like what you see? Visit the ' +\n",
              "            '<a target=\"_blank\" href=https://colab.research.google.com/notebooks/data_table.ipynb>data table notebook</a>'\n",
              "            + ' to learn more about interactive tables.';\n",
              "          element.innerHTML = '';\n",
              "          dataTable['output_type'] = 'display_data';\n",
              "          await google.colab.output.renderOutput(dataTable, element);\n",
              "          const docLink = document.createElement('div');\n",
              "          docLink.innerHTML = docLinkHtml;\n",
              "          element.appendChild(docLink);\n",
              "        }\n",
              "      </script>\n",
              "    </div>\n",
              "  </div>\n",
              "  "
            ],
            "text/plain": [
              "                                                path                filename  \\\n",
              "0  /content/drive/MyDrive/その他/PDFのOCR処理とファイル名変更/P...  140120220310503726.pdf   \n",
              "1  /content/drive/MyDrive/その他/PDFのOCR処理とファイル名変更/P...  140120220310503389.pdf   \n",
              "2  /content/drive/MyDrive/その他/PDFのOCR処理とファイル名変更/P...  140120220310503662.pdf   \n",
              "\n",
              "                                                text  \\\n",
              "0  2022年３月10日\\n　会\\n　社\\n　名\\n　\\n　株式会社シマノ代表者名\\n　\\n　代...   \n",
              "1  2022年10月期第1四半期決算説明資料トビラシステムズ株式会社（東証一部4441）\n",
              "1事業...   \n",
              "2  各位\\n　\\n　2022年３月10日会社名テ代表者名代表取締役社長ラ株式会真\\n　船\\n　達...   \n",
              "\n",
              "                                        companynames    companyname  \n",
              "0              [株式会社シマノ, 定時株主総会, Singapore)Pte.Ltd.]        株式会社シマノ  \n",
              "1  [株式会社（東証一部4441, 会社概要, トビラシステムズ株式会社, TalkBook, ...  株式会社（東証一部4441  \n",
              "2             [定時株主総会, HLBMeisei有限責任監査法人, HLBMeisei]         定時株主総会  "
            ]
          },
          "metadata": {},
          "execution_count": 122
        }
      ]
    },
    {
      "cell_type": "code",
      "execution_count": null,
      "metadata": {
        "id": "AhzxjJKtVwmE"
      },
      "outputs": [],
      "source": [
        "#データフレームをエクセル出力\n",
        "output_excel_path=pdffiles_folder + \"list.xlsx\"\n",
        "df.to_excel(output_excel_path , engine='xlsxwriter')"
      ]
    },
    {
      "cell_type": "markdown",
      "metadata": {
        "id": "rxnyPLXCVwmF"
      },
      "source": [
        "### Pandasでエクセルファイルに書き出そうとすると表示される「IllegalCharacterError」を回避\n",
        "pandasの書き出しエンジンをxlsxwriterに変更する  \n",
        "df.to_excel(\"test.xlsx\", engine='xlsxwriter')  \n",
        "https://karupoimou.hatenablog.com/entry/2019/09/29/235528"
      ]
    },
    {
      "cell_type": "markdown",
      "metadata": {
        "id": "vbkr9VDXVwmF"
      },
      "source": [
        "### PDFのファイル名を変更し、別フォルダに移動して保存する。\n",
        "https://note.nkmk.me/python-shutil-move/"
      ]
    },
    {
      "cell_type": "code",
      "execution_count": null,
      "metadata": {
        "id": "jnPcHtqwVwmG"
      },
      "outputs": [],
      "source": [
        "#会社名を確認したエクセルをデータフレームに読み込む\n",
        "df2 = pd.read_excel(output_excel_path)"
      ]
    },
    {
      "cell_type": "code",
      "execution_count": null,
      "metadata": {
        "id": "s65AVH1KVwmH"
      },
      "outputs": [],
      "source": [
        "#移動先のフォルダを指定\n",
        "#strtodir=pdffiles_folder +\"\\\\\" + \"processed\"\n",
        "strtodir='/content/drive/MyDrive/その他/PDFのOCR処理とファイル名変更/PDFfiles/processed'"
      ]
    },
    {
      "cell_type": "code",
      "execution_count": null,
      "metadata": {
        "id": "kmZfvQqOVwmH"
      },
      "outputs": [],
      "source": [
        "#新しいファイル名を含めた移動先のパスを指定\n",
        "df2[\"topath\"]=strtodir + \"/\" +df2[\"companyname\"] + df2[\"filename\"] +\".pdf\""
      ]
    },
    {
      "cell_type": "code",
      "execution_count": null,
      "metadata": {
        "id": "FThJA9W7VwmI"
      },
      "outputs": [],
      "source": [
        "#ファイルを移動するためのモジュールをインポート\n",
        "import shutil\n",
        "import os"
      ]
    },
    {
      "cell_type": "code",
      "execution_count": null,
      "metadata": {
        "id": "W-NjtORQVwmI"
      },
      "outputs": [],
      "source": [
        "#if文でファイルが存在するかを確認した上で、ファイルを移動する\n",
        "for path, topath in zip(df2[\"path\"],df2[\"topath\"]):\n",
        "    if os.path.exists(path):\n",
        "        new_path=shutil.move(path,topath)\n",
        "    else:\n",
        "        print(\"file in not exist\")\n",
        "#    print(path,topath)"
      ]
    },
    {
      "cell_type": "code",
      "execution_count": null,
      "metadata": {
        "id": "GrBAFvrNVwmJ"
      },
      "outputs": [],
      "source": [
        ""
      ]
    }
  ],
  "metadata": {
    "colab": {
      "collapsed_sections": [],
      "name": "pdf2text_ExtractCompanyName_RenameFle.ipynb",
      "provenance": [],
      "include_colab_link": true
    },
    "kernelspec": {
      "display_name": "Python 3",
      "name": "python3"
    },
    "language_info": {
      "codemirror_mode": {
        "name": "ipython",
        "version": 3
      },
      "file_extension": ".py",
      "mimetype": "text/x-python",
      "name": "python",
      "nbconvert_exporter": "python",
      "pygments_lexer": "ipython3",
      "version": "3.7.11"
    }
  },
  "nbformat": 4,
  "nbformat_minor": 0
}