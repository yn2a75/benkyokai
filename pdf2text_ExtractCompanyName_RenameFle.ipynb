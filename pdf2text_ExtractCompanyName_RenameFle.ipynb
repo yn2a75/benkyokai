{
  "cells": [
    {
      "cell_type": "markdown",
      "metadata": {
        "id": "view-in-github",
        "colab_type": "text"
      },
      "source": [
        "<a href=\"https://colab.research.google.com/github/yn2a75/benkyokai/blob/main/pdf2text_ExtractCompanyName_RenameFle.ipynb\" target=\"_parent\"><img src=\"https://colab.research.google.com/assets/colab-badge.svg\" alt=\"Open In Colab\"/></a>"
      ]
    },
    {
      "cell_type": "code",
      "execution_count": 1,
      "metadata": {
        "colab": {
          "base_uri": "https://localhost:8080/"
        },
        "id": "mycrnW6gk-GO",
        "outputId": "216048e1-346c-4a2d-873e-9308070c21c8"
      },
      "outputs": [
        {
          "output_type": "stream",
          "name": "stdout",
          "text": [
            "Collecting pdfminer.six\n",
            "  Downloading pdfminer.six-20211012-py3-none-any.whl (5.6 MB)\n",
            "\u001b[K     |████████████████████████████████| 5.6 MB 26.4 MB/s \n",
            "\u001b[?25hCollecting cryptography\n",
            "  Downloading cryptography-36.0.1-cp36-abi3-manylinux_2_24_x86_64.whl (3.6 MB)\n",
            "\u001b[K     |████████████████████████████████| 3.6 MB 53.5 MB/s \n",
            "\u001b[?25hRequirement already satisfied: chardet in /usr/local/lib/python3.7/dist-packages (from pdfminer.six) (3.0.4)\n",
            "Requirement already satisfied: cffi>=1.12 in /usr/local/lib/python3.7/dist-packages (from cryptography->pdfminer.six) (1.15.0)\n",
            "Requirement already satisfied: pycparser in /usr/local/lib/python3.7/dist-packages (from cffi>=1.12->cryptography->pdfminer.six) (2.21)\n",
            "Installing collected packages: cryptography, pdfminer.six\n",
            "Successfully installed cryptography-36.0.1 pdfminer.six-20211012\n",
            "Requirement already satisfied: pandas in /usr/local/lib/python3.7/dist-packages (1.3.5)\n",
            "Requirement already satisfied: numpy>=1.17.3 in /usr/local/lib/python3.7/dist-packages (from pandas) (1.21.5)\n",
            "Requirement already satisfied: python-dateutil>=2.7.3 in /usr/local/lib/python3.7/dist-packages (from pandas) (2.8.2)\n",
            "Requirement already satisfied: pytz>=2017.3 in /usr/local/lib/python3.7/dist-packages (from pandas) (2018.9)\n",
            "Requirement already satisfied: six>=1.5 in /usr/local/lib/python3.7/dist-packages (from python-dateutil>=2.7.3->pandas) (1.15.0)\n",
            "Requirement already satisfied: openpyxl in /usr/local/lib/python3.7/dist-packages (3.0.9)\n",
            "Requirement already satisfied: et-xmlfile in /usr/local/lib/python3.7/dist-packages (from openpyxl) (1.1.0)\n",
            "Requirement already satisfied: xlwt in /usr/local/lib/python3.7/dist-packages (1.3.0)\n",
            "Collecting xlsxwriter\n",
            "  Downloading XlsxWriter-3.0.3-py3-none-any.whl (149 kB)\n",
            "\u001b[K     |████████████████████████████████| 149 kB 21.0 MB/s \n",
            "\u001b[?25hInstalling collected packages: xlsxwriter\n",
            "Successfully installed xlsxwriter-3.0.3\n"
          ]
        }
      ],
      "source": [
        "#必要なライブラリをインストール\n",
        "! pip install pdfminer.six\n",
        "! pip install pandas\n",
        "! pip install openpyxl\n",
        "! pip install xlwt\n",
        "! pip install xlsxwriter"
      ]
    },
    {
      "cell_type": "markdown",
      "metadata": {
        "id": "MHt948CBVwls"
      },
      "source": [
        "### PDFファイルからテキストを出力する関数を作成"
      ]
    },
    {
      "cell_type": "code",
      "execution_count": 49,
      "metadata": {
        "id": "mKOyX-aUk50Q"
      },
      "outputs": [],
      "source": [
        "from pdfminer.pdfinterp import PDFResourceManager\n",
        "from pdfminer.converter import TextConverter\n",
        "from pdfminer.pdfinterp import PDFPageInterpreter\n",
        "from pdfminer.pdfpage import PDFPage\n",
        "from pdfminer.layout import LAParams\n",
        "import os\n",
        "from io import StringIO\n",
        "\n",
        "#PDFからテキストを出力する関数を定義\n",
        "def convert_pdf2txt(filename):\n",
        "  pdf_file = os.path.join(pdffiles_folder, filename)\n",
        "  #バイナリファイルを読み込むためにファイルを開く('rb'を指定)\n",
        "  fp = open(pdf_file, 'rb')\n",
        "    \n",
        "  outfp = StringIO()\n",
        "        \n",
        "  rmgr = PDFResourceManager()\n",
        "  lprms = LAParams()\n",
        "  device = TextConverter(rmgr, outfp, laparams=lprms)\n",
        "  iprtr = PDFPageInterpreter(rmgr, device)\n",
        "    \n",
        "  for page in PDFPage.get_pages(fp):\n",
        "    iprtr.process_page(page)\n",
        "\n",
        "#テキスト内容を取得し、改行とスペースを削除\n",
        "  text = outfp.getvalue()\n",
        "  text=text.replace(\"\\n\", \"\")\n",
        "  text=text.replace(\"   \", \"\\n　\")\n",
        "  #text=text.replace(\" \", \"\")\n",
        "\n",
        "#テキスト内容を返す\n",
        "  return text"
      ]
    },
    {
      "cell_type": "code",
      "source": [
        "#GoogleDriveをマウント\n",
        "from google.colab import drive\n",
        "drive.mount(\"/content/drive/\")"
      ],
      "metadata": {
        "colab": {
          "base_uri": "https://localhost:8080/"
        },
        "id": "Hs4FmUWSWL-6",
        "outputId": "c65d5a40-95aa-4738-d3fb-9d24147ad91b"
      },
      "execution_count": 3,
      "outputs": [
        {
          "output_type": "stream",
          "name": "stdout",
          "text": [
            "Mounted at /content/drive/\n"
          ]
        }
      ]
    },
    {
      "cell_type": "code",
      "execution_count": 50,
      "metadata": {
        "id": "QeZXOnBdVwlz"
      },
      "outputs": [],
      "source": [
        "#PDFを保管しているフォルダのpathを指定\n",
        "\n",
        "pdffiles_folder=r\"/content/drive/MyDrive/その他/PDFのOCR処理とファイル名変更/PDFfiles\"\n",
        "\n",
        "#テキストを格納する空のリストを作成\n",
        "text_list=[]\n",
        "\n",
        "\n",
        "filelist = os.listdir(pdffiles_folder)\n",
        "filelist = [f for f in filelist if '.pdf' in f]\n",
        "pdfpaths = [os.path.join(pdffiles_folder,f) for f in filelist if '.pdf' in f]\n",
        "\n",
        "#リストにPDFのテキストを追加\n",
        "for filename in filelist:\n",
        "  text_list.append(convert_pdf2txt(filename))"
      ]
    },
    {
      "cell_type": "code",
      "execution_count": 51,
      "metadata": {
        "colab": {
          "base_uri": "https://localhost:8080/"
        },
        "id": "byW_tL1VVwl1",
        "outputId": "059f673c-df38-4bc8-898e-cf4666e706c6"
      },
      "outputs": [
        {
          "output_type": "execute_result",
          "data": {
            "text/plain": [
              "5"
            ]
          },
          "metadata": {},
          "execution_count": 51
        }
      ],
      "source": [
        "len(text_list)\n",
        "len(filelist)\n",
        "len(pdfpaths)"
      ]
    },
    {
      "cell_type": "markdown",
      "metadata": {
        "id": "soAh9bePVwl4"
      },
      "source": [
        "### テキストから会社名を抜き出す\n",
        "ginzaとspacyを使う"
      ]
    },
    {
      "cell_type": "code",
      "execution_count": 52,
      "metadata": {
        "id": "FE2EEoZEnnj6",
        "colab": {
          "base_uri": "https://localhost:8080/"
        },
        "outputId": "38229034-a9b5-4ed5-c1be-1086da55fdcc"
      },
      "outputs": [
        {
          "output_type": "stream",
          "name": "stdout",
          "text": [
            "Requirement already satisfied: ginza in /usr/local/lib/python3.7/dist-packages (5.1.0)\n",
            "Requirement already satisfied: SudachiDict-core>=20210802 in /usr/local/lib/python3.7/dist-packages (from ginza) (20211220)\n",
            "Requirement already satisfied: plac>=1.3.3 in /usr/local/lib/python3.7/dist-packages (from ginza) (1.3.4)\n",
            "Requirement already satisfied: spacy<3.3.0,>=3.2.0 in /usr/local/lib/python3.7/dist-packages (from ginza) (3.2.3)\n",
            "Requirement already satisfied: SudachiPy<0.7.0,>=0.5.4 in /usr/local/lib/python3.7/dist-packages (from ginza) (0.6.3)\n",
            "Requirement already satisfied: numpy>=1.15.0 in /usr/local/lib/python3.7/dist-packages (from spacy<3.3.0,>=3.2.0->ginza) (1.21.5)\n",
            "Requirement already satisfied: spacy-legacy<3.1.0,>=3.0.8 in /usr/local/lib/python3.7/dist-packages (from spacy<3.3.0,>=3.2.0->ginza) (3.0.9)\n",
            "Requirement already satisfied: cymem<2.1.0,>=2.0.2 in /usr/local/lib/python3.7/dist-packages (from spacy<3.3.0,>=3.2.0->ginza) (2.0.6)\n",
            "Requirement already satisfied: preshed<3.1.0,>=3.0.2 in /usr/local/lib/python3.7/dist-packages (from spacy<3.3.0,>=3.2.0->ginza) (3.0.6)\n",
            "Requirement already satisfied: blis<0.8.0,>=0.4.0 in /usr/local/lib/python3.7/dist-packages (from spacy<3.3.0,>=3.2.0->ginza) (0.4.1)\n",
            "Requirement already satisfied: typing-extensions<4.0.0.0,>=3.7.4 in /usr/local/lib/python3.7/dist-packages (from spacy<3.3.0,>=3.2.0->ginza) (3.10.0.2)\n",
            "Requirement already satisfied: typer<0.5.0,>=0.3.0 in /usr/local/lib/python3.7/dist-packages (from spacy<3.3.0,>=3.2.0->ginza) (0.4.0)\n",
            "Requirement already satisfied: pydantic!=1.8,!=1.8.1,<1.9.0,>=1.7.4 in /usr/local/lib/python3.7/dist-packages (from spacy<3.3.0,>=3.2.0->ginza) (1.8.2)\n",
            "Requirement already satisfied: langcodes<4.0.0,>=3.2.0 in /usr/local/lib/python3.7/dist-packages (from spacy<3.3.0,>=3.2.0->ginza) (3.3.0)\n",
            "Requirement already satisfied: spacy-loggers<2.0.0,>=1.0.0 in /usr/local/lib/python3.7/dist-packages (from spacy<3.3.0,>=3.2.0->ginza) (1.0.1)\n",
            "Requirement already satisfied: murmurhash<1.1.0,>=0.28.0 in /usr/local/lib/python3.7/dist-packages (from spacy<3.3.0,>=3.2.0->ginza) (1.0.6)\n",
            "Requirement already satisfied: packaging>=20.0 in /usr/local/lib/python3.7/dist-packages (from spacy<3.3.0,>=3.2.0->ginza) (21.3)\n",
            "Requirement already satisfied: srsly<3.0.0,>=2.4.1 in /usr/local/lib/python3.7/dist-packages (from spacy<3.3.0,>=3.2.0->ginza) (2.4.2)\n",
            "Requirement already satisfied: requests<3.0.0,>=2.13.0 in /usr/local/lib/python3.7/dist-packages (from spacy<3.3.0,>=3.2.0->ginza) (2.23.0)\n",
            "Requirement already satisfied: tqdm<5.0.0,>=4.38.0 in /usr/local/lib/python3.7/dist-packages (from spacy<3.3.0,>=3.2.0->ginza) (4.63.0)\n",
            "Requirement already satisfied: thinc<8.1.0,>=8.0.12 in /usr/local/lib/python3.7/dist-packages (from spacy<3.3.0,>=3.2.0->ginza) (8.0.13)\n",
            "Requirement already satisfied: wasabi<1.1.0,>=0.8.1 in /usr/local/lib/python3.7/dist-packages (from spacy<3.3.0,>=3.2.0->ginza) (0.9.0)\n",
            "Requirement already satisfied: pathy>=0.3.5 in /usr/local/lib/python3.7/dist-packages (from spacy<3.3.0,>=3.2.0->ginza) (0.6.1)\n",
            "Requirement already satisfied: setuptools in /usr/local/lib/python3.7/dist-packages (from spacy<3.3.0,>=3.2.0->ginza) (57.4.0)\n",
            "Requirement already satisfied: catalogue<2.1.0,>=2.0.6 in /usr/local/lib/python3.7/dist-packages (from spacy<3.3.0,>=3.2.0->ginza) (2.0.6)\n",
            "Requirement already satisfied: jinja2 in /usr/local/lib/python3.7/dist-packages (from spacy<3.3.0,>=3.2.0->ginza) (2.11.3)\n",
            "Requirement already satisfied: zipp>=0.5 in /usr/local/lib/python3.7/dist-packages (from catalogue<2.1.0,>=2.0.6->spacy<3.3.0,>=3.2.0->ginza) (3.7.0)\n",
            "Requirement already satisfied: pyparsing!=3.0.5,>=2.0.2 in /usr/local/lib/python3.7/dist-packages (from packaging>=20.0->spacy<3.3.0,>=3.2.0->ginza) (3.0.7)\n",
            "Requirement already satisfied: smart-open<6.0.0,>=5.0.0 in /usr/local/lib/python3.7/dist-packages (from pathy>=0.3.5->spacy<3.3.0,>=3.2.0->ginza) (5.2.1)\n",
            "Requirement already satisfied: certifi>=2017.4.17 in /usr/local/lib/python3.7/dist-packages (from requests<3.0.0,>=2.13.0->spacy<3.3.0,>=3.2.0->ginza) (2021.10.8)\n",
            "Requirement already satisfied: chardet<4,>=3.0.2 in /usr/local/lib/python3.7/dist-packages (from requests<3.0.0,>=2.13.0->spacy<3.3.0,>=3.2.0->ginza) (3.0.4)\n",
            "Requirement already satisfied: idna<3,>=2.5 in /usr/local/lib/python3.7/dist-packages (from requests<3.0.0,>=2.13.0->spacy<3.3.0,>=3.2.0->ginza) (2.10)\n",
            "Requirement already satisfied: urllib3!=1.25.0,!=1.25.1,<1.26,>=1.21.1 in /usr/local/lib/python3.7/dist-packages (from requests<3.0.0,>=2.13.0->spacy<3.3.0,>=3.2.0->ginza) (1.24.3)\n",
            "Requirement already satisfied: click<9.0.0,>=7.1.1 in /usr/local/lib/python3.7/dist-packages (from typer<0.5.0,>=0.3.0->spacy<3.3.0,>=3.2.0->ginza) (7.1.2)\n",
            "Requirement already satisfied: MarkupSafe>=0.23 in /usr/local/lib/python3.7/dist-packages (from jinja2->spacy<3.3.0,>=3.2.0->ginza) (2.0.1)\n",
            "Requirement already satisfied: ginza in /usr/local/lib/python3.7/dist-packages (5.1.0)\n",
            "Requirement already satisfied: ja-ginza in /usr/local/lib/python3.7/dist-packages (5.1.0)\n",
            "Requirement already satisfied: plac>=1.3.3 in /usr/local/lib/python3.7/dist-packages (from ginza) (1.3.4)\n",
            "Requirement already satisfied: spacy<3.3.0,>=3.2.0 in /usr/local/lib/python3.7/dist-packages (from ginza) (3.2.3)\n",
            "Requirement already satisfied: SudachiPy<0.7.0,>=0.5.4 in /usr/local/lib/python3.7/dist-packages (from ginza) (0.6.3)\n",
            "Requirement already satisfied: SudachiDict-core>=20210802 in /usr/local/lib/python3.7/dist-packages (from ginza) (20211220)\n",
            "Requirement already satisfied: numpy>=1.15.0 in /usr/local/lib/python3.7/dist-packages (from spacy<3.3.0,>=3.2.0->ginza) (1.21.5)\n",
            "Requirement already satisfied: typing-extensions<4.0.0.0,>=3.7.4 in /usr/local/lib/python3.7/dist-packages (from spacy<3.3.0,>=3.2.0->ginza) (3.10.0.2)\n",
            "Requirement already satisfied: pydantic!=1.8,!=1.8.1,<1.9.0,>=1.7.4 in /usr/local/lib/python3.7/dist-packages (from spacy<3.3.0,>=3.2.0->ginza) (1.8.2)\n",
            "Requirement already satisfied: srsly<3.0.0,>=2.4.1 in /usr/local/lib/python3.7/dist-packages (from spacy<3.3.0,>=3.2.0->ginza) (2.4.2)\n",
            "Requirement already satisfied: preshed<3.1.0,>=3.0.2 in /usr/local/lib/python3.7/dist-packages (from spacy<3.3.0,>=3.2.0->ginza) (3.0.6)\n",
            "Requirement already satisfied: packaging>=20.0 in /usr/local/lib/python3.7/dist-packages (from spacy<3.3.0,>=3.2.0->ginza) (21.3)\n",
            "Requirement already satisfied: wasabi<1.1.0,>=0.8.1 in /usr/local/lib/python3.7/dist-packages (from spacy<3.3.0,>=3.2.0->ginza) (0.9.0)\n",
            "Requirement already satisfied: requests<3.0.0,>=2.13.0 in /usr/local/lib/python3.7/dist-packages (from spacy<3.3.0,>=3.2.0->ginza) (2.23.0)\n",
            "Requirement already satisfied: blis<0.8.0,>=0.4.0 in /usr/local/lib/python3.7/dist-packages (from spacy<3.3.0,>=3.2.0->ginza) (0.4.1)\n",
            "Requirement already satisfied: catalogue<2.1.0,>=2.0.6 in /usr/local/lib/python3.7/dist-packages (from spacy<3.3.0,>=3.2.0->ginza) (2.0.6)\n",
            "Requirement already satisfied: typer<0.5.0,>=0.3.0 in /usr/local/lib/python3.7/dist-packages (from spacy<3.3.0,>=3.2.0->ginza) (0.4.0)\n",
            "Requirement already satisfied: spacy-legacy<3.1.0,>=3.0.8 in /usr/local/lib/python3.7/dist-packages (from spacy<3.3.0,>=3.2.0->ginza) (3.0.9)\n",
            "Requirement already satisfied: pathy>=0.3.5 in /usr/local/lib/python3.7/dist-packages (from spacy<3.3.0,>=3.2.0->ginza) (0.6.1)\n",
            "Requirement already satisfied: cymem<2.1.0,>=2.0.2 in /usr/local/lib/python3.7/dist-packages (from spacy<3.3.0,>=3.2.0->ginza) (2.0.6)\n",
            "Requirement already satisfied: tqdm<5.0.0,>=4.38.0 in /usr/local/lib/python3.7/dist-packages (from spacy<3.3.0,>=3.2.0->ginza) (4.63.0)\n",
            "Requirement already satisfied: langcodes<4.0.0,>=3.2.0 in /usr/local/lib/python3.7/dist-packages (from spacy<3.3.0,>=3.2.0->ginza) (3.3.0)\n",
            "Requirement already satisfied: murmurhash<1.1.0,>=0.28.0 in /usr/local/lib/python3.7/dist-packages (from spacy<3.3.0,>=3.2.0->ginza) (1.0.6)\n",
            "Requirement already satisfied: spacy-loggers<2.0.0,>=1.0.0 in /usr/local/lib/python3.7/dist-packages (from spacy<3.3.0,>=3.2.0->ginza) (1.0.1)\n",
            "Requirement already satisfied: setuptools in /usr/local/lib/python3.7/dist-packages (from spacy<3.3.0,>=3.2.0->ginza) (57.4.0)\n",
            "Requirement already satisfied: thinc<8.1.0,>=8.0.12 in /usr/local/lib/python3.7/dist-packages (from spacy<3.3.0,>=3.2.0->ginza) (8.0.13)\n",
            "Requirement already satisfied: jinja2 in /usr/local/lib/python3.7/dist-packages (from spacy<3.3.0,>=3.2.0->ginza) (2.11.3)\n",
            "Requirement already satisfied: zipp>=0.5 in /usr/local/lib/python3.7/dist-packages (from catalogue<2.1.0,>=2.0.6->spacy<3.3.0,>=3.2.0->ginza) (3.7.0)\n",
            "Requirement already satisfied: pyparsing!=3.0.5,>=2.0.2 in /usr/local/lib/python3.7/dist-packages (from packaging>=20.0->spacy<3.3.0,>=3.2.0->ginza) (3.0.7)\n",
            "Requirement already satisfied: smart-open<6.0.0,>=5.0.0 in /usr/local/lib/python3.7/dist-packages (from pathy>=0.3.5->spacy<3.3.0,>=3.2.0->ginza) (5.2.1)\n",
            "Requirement already satisfied: urllib3!=1.25.0,!=1.25.1,<1.26,>=1.21.1 in /usr/local/lib/python3.7/dist-packages (from requests<3.0.0,>=2.13.0->spacy<3.3.0,>=3.2.0->ginza) (1.24.3)\n",
            "Requirement already satisfied: certifi>=2017.4.17 in /usr/local/lib/python3.7/dist-packages (from requests<3.0.0,>=2.13.0->spacy<3.3.0,>=3.2.0->ginza) (2021.10.8)\n",
            "Requirement already satisfied: chardet<4,>=3.0.2 in /usr/local/lib/python3.7/dist-packages (from requests<3.0.0,>=2.13.0->spacy<3.3.0,>=3.2.0->ginza) (3.0.4)\n",
            "Requirement already satisfied: idna<3,>=2.5 in /usr/local/lib/python3.7/dist-packages (from requests<3.0.0,>=2.13.0->spacy<3.3.0,>=3.2.0->ginza) (2.10)\n",
            "Requirement already satisfied: click<9.0.0,>=7.1.1 in /usr/local/lib/python3.7/dist-packages (from typer<0.5.0,>=0.3.0->spacy<3.3.0,>=3.2.0->ginza) (7.1.2)\n",
            "Requirement already satisfied: MarkupSafe>=0.23 in /usr/local/lib/python3.7/dist-packages (from jinja2->spacy<3.3.0,>=3.2.0->ginza) (2.0.1)\n"
          ]
        }
      ],
      "source": [
        "#ライブラリをインストール\n",
        "!pip install -U ginza\n",
        "!pip install -U ginza ja-ginza"
      ]
    },
    {
      "cell_type": "code",
      "execution_count": 30,
      "metadata": {
        "id": "ZVvuWoLAVwl6"
      },
      "outputs": [],
      "source": [
        "#spacyをインポートしてインスタンス化\n",
        "import spacy\n",
        "from spacy import displacy\n",
        "nlp = spacy.load('ja_ginza')"
      ]
    },
    {
      "cell_type": "markdown",
      "metadata": {
        "id": "V65f0R35Vwl7"
      },
      "source": [
        "OrderDictを使ってリストから、順序を維持したうえで重複を削除したリストを作成する\n",
        "https://www.delftstack.com/ja/howto/python/remove-duplicates-from-list-python/"
      ]
    },
    {
      "cell_type": "code",
      "execution_count": 31,
      "metadata": {
        "id": "RRpuXU6SVwl8"
      },
      "outputs": [],
      "source": [
        "#OrderDictをインポート\n",
        "from collections import OrderedDict"
      ]
    },
    {
      "cell_type": "markdown",
      "metadata": {
        "id": "BHANFjFCVwl9"
      },
      "source": [
        "### テキストから会社名を返す関数を作成"
      ]
    },
    {
      "cell_type": "code",
      "execution_count": 53,
      "metadata": {
        "id": "3ivc-7OPVwl-"
      },
      "outputs": [],
      "source": [
        "#テキストから会社名を返す関数をつくる\n",
        "\n",
        "def Text2CompanyName(text):\n",
        "  doc=nlp(text)\n",
        "  #空のリストを準備\n",
        "  company_names_=[]\n",
        "#固有表現ラベルがCompanyをリストに追加\n",
        "  for ent in doc.ents: \n",
        "    if ent.label_ =='Company':\n",
        "      company_names_.append(ent.text) \n",
        "      company_names=list(OrderedDict.fromkeys(company_names_))\n",
        "  if len(company_names_)==0:\n",
        "    return [\"なし\"]\n",
        "  else:\n",
        "    return company_names"
      ]
    },
    {
      "cell_type": "markdown",
      "metadata": {
        "id": "8kbbRb1BVwl_"
      },
      "source": [
        "### 参考\n",
        "listが空かどうか判定する方法\n",
        "https://qiita.com/yonedaco/items/d0f65ca3dad2e085a51d"
      ]
    },
    {
      "cell_type": "markdown",
      "metadata": {
        "id": "Fx8AkUb3Vwl_"
      },
      "source": [
        "### 用意した関数を使い、テキストから会社名を抽出して新たなリストを作成する"
      ]
    },
    {
      "cell_type": "code",
      "execution_count": 54,
      "metadata": {
        "id": "J9jxHXxyVwmA"
      },
      "outputs": [],
      "source": [
        "#companyの名前を入れる空のリストを準備\n",
        "companyNames1=[]\n",
        "for company in text_list:\n",
        "    companyNames1.append(Text2CompanyName(company))"
      ]
    },
    {
      "cell_type": "markdown",
      "metadata": {
        "id": "FfTs9AvGVwmB"
      },
      "source": [
        "### 2次元リストの各行の0番目値を取得して新たにリストを作る  \n",
        "https://ja.stackoverflow.com/questions/47331/python%E3%81%A7%E4%BA%8C%E6%AC%A1%E5%85%83%E9%85%8D%E5%88%97%E3%81%AE%E4%B8%AD%E3%81%AE%E5%90%84%E8%A6%81%E7%B4%A0%E3%81%AEn%E7%95%AA%E7%9B%AE%E3%81%A0%E3%81%91%E3%82%92%E5%8F%96%E3%82%8A%E5%87%BA%E3%81%97%E3%81%A6-%E8%A6%81%E7%B4%A0%E3%81%A8%E3%81%97%E3%81%A6%E4%B8%A6%E3%81%B9%E3%81%9F%E3%81%84"
      ]
    },
    {
      "cell_type": "code",
      "execution_count": 55,
      "metadata": {
        "id": "FrA51-_RVwmC"
      },
      "outputs": [],
      "source": [
        "#CompanyName1の各行の0番目の値をCompanyNames2に格納\n",
        "companyNames2=list(map(lambda companyName1:companyName1[0],companyNames1))"
      ]
    },
    {
      "cell_type": "markdown",
      "metadata": {
        "id": "RDYY4lEOVwmC"
      },
      "source": [
        "### pandasでエクセル表のもととなる一覧表を作成\n",
        "https://www.delftstack.com/ja/howto/python-pandas/pandas-create-dataframe-from-list/"
      ]
    },
    {
      "cell_type": "code",
      "execution_count": 56,
      "metadata": {
        "id": "uwqlQSfuVwmD"
      },
      "outputs": [],
      "source": [
        "#pandasをインポート\n",
        "import pandas as pd"
      ]
    },
    {
      "cell_type": "code",
      "execution_count": 57,
      "metadata": {
        "id": "fjgWzSGUVwmD"
      },
      "outputs": [],
      "source": [
        "#データフレームを作成\n",
        "df=pd.DataFrame(list(zip(pdfpaths,filelist,text_list,companyNames1,companyNames2)),columns=[\"path\",\"filename\",\"text\",\"companynames\",\"companyname\"])"
      ]
    },
    {
      "cell_type": "code",
      "source": [
        "df"
      ],
      "metadata": {
        "colab": {
          "base_uri": "https://localhost:8080/",
          "height": 337
        },
        "id": "YJRTvG9wK25e",
        "outputId": "ed139b65-ec85-4f57-fa28-fb573a0214fc"
      },
      "execution_count": 58,
      "outputs": [
        {
          "output_type": "execute_result",
          "data": {
            "text/plain": [
              "                                                path                filename  \\\n",
              "0  /content/drive/MyDrive/その他/PDFのOCR処理とファイル名変更/P...  140120220311504284.pdf   \n",
              "1  /content/drive/MyDrive/その他/PDFのOCR処理とファイル名変更/P...  140120220301598700.pdf   \n",
              "2  /content/drive/MyDrive/その他/PDFのOCR処理とファイル名変更/P...  140120220301598613.pdf   \n",
              "3  /content/drive/MyDrive/その他/PDFのOCR処理とファイル名変更/P...  140120220301598563.pdf   \n",
              "4  /content/drive/MyDrive/その他/PDFのOCR処理とファイル名変更/P...  140120220301597890.pdf   \n",
              "\n",
              "                                                text  \\\n",
              "0  各　位2022年3月11日会社名\\n　  住友商事株式会社代表者名　代表取締役 社長執行役員...   \n",
              "1   各 位 2022年３月１日 会 社 名  テ 代表者名  代表取締役社長 ラ 株 式 会 ...   \n",
              "2   各  位\\n　 2022 年３月１日\\n　会社名  明治機械株式会社 代表者名  取締役社...   \n",
              "3  2022 年 3 月 1 日 会 社 名 代表者名 株式会社網屋 代表取締役会長  伊藤  ...   \n",
              "4  2022 年 3 月 1 日 東 京 都 千 代 田 区 麹 町 一 丁 目 4 番 地 松...   \n",
              "\n",
              "                                        companynames companyname  \n",
              "0  [住友商事株式会社, (株)現分掌, (株)執行役員リース, (株)\n",
              "２．, ＳＣＳＫ, (...    住友商事株式会社  \n",
              "1        [定時株主総会, アジアンブロードキャピタル・インベストメント, 株式会社マリオット]      定時株主総会  \n",
              "2                                               [なし]          なし  \n",
              "3                                        [代表者名 株式会社]   代表者名 株式会社  \n",
              "4                                             [松井証券]        松井証券  "
            ],
            "text/html": [
              "\n",
              "  <div id=\"df-d2d5cce1-6079-4a8b-8e98-6110065911d4\">\n",
              "    <div class=\"colab-df-container\">\n",
              "      <div>\n",
              "<style scoped>\n",
              "    .dataframe tbody tr th:only-of-type {\n",
              "        vertical-align: middle;\n",
              "    }\n",
              "\n",
              "    .dataframe tbody tr th {\n",
              "        vertical-align: top;\n",
              "    }\n",
              "\n",
              "    .dataframe thead th {\n",
              "        text-align: right;\n",
              "    }\n",
              "</style>\n",
              "<table border=\"1\" class=\"dataframe\">\n",
              "  <thead>\n",
              "    <tr style=\"text-align: right;\">\n",
              "      <th></th>\n",
              "      <th>path</th>\n",
              "      <th>filename</th>\n",
              "      <th>text</th>\n",
              "      <th>companynames</th>\n",
              "      <th>companyname</th>\n",
              "    </tr>\n",
              "  </thead>\n",
              "  <tbody>\n",
              "    <tr>\n",
              "      <th>0</th>\n",
              "      <td>/content/drive/MyDrive/その他/PDFのOCR処理とファイル名変更/P...</td>\n",
              "      <td>140120220311504284.pdf</td>\n",
              "      <td>各　位2022年3月11日会社名\\n　  住友商事株式会社代表者名　代表取締役 社長執行役員...</td>\n",
              "      <td>[住友商事株式会社, (株)現分掌, (株)執行役員リース, (株)\f２．, ＳＣＳＫ, (...</td>\n",
              "      <td>住友商事株式会社</td>\n",
              "    </tr>\n",
              "    <tr>\n",
              "      <th>1</th>\n",
              "      <td>/content/drive/MyDrive/その他/PDFのOCR処理とファイル名変更/P...</td>\n",
              "      <td>140120220301598700.pdf</td>\n",
              "      <td>各 位 2022年３月１日 会 社 名  テ 代表者名  代表取締役社長 ラ 株 式 会 ...</td>\n",
              "      <td>[定時株主総会, アジアンブロードキャピタル・インベストメント, 株式会社マリオット]</td>\n",
              "      <td>定時株主総会</td>\n",
              "    </tr>\n",
              "    <tr>\n",
              "      <th>2</th>\n",
              "      <td>/content/drive/MyDrive/その他/PDFのOCR処理とファイル名変更/P...</td>\n",
              "      <td>140120220301598613.pdf</td>\n",
              "      <td>各  位\\n　 2022 年３月１日\\n　会社名  明治機械株式会社 代表者名  取締役社...</td>\n",
              "      <td>[なし]</td>\n",
              "      <td>なし</td>\n",
              "    </tr>\n",
              "    <tr>\n",
              "      <th>3</th>\n",
              "      <td>/content/drive/MyDrive/その他/PDFのOCR処理とファイル名変更/P...</td>\n",
              "      <td>140120220301598563.pdf</td>\n",
              "      <td>2022 年 3 月 1 日 会 社 名 代表者名 株式会社網屋 代表取締役会長  伊藤  ...</td>\n",
              "      <td>[代表者名 株式会社]</td>\n",
              "      <td>代表者名 株式会社</td>\n",
              "    </tr>\n",
              "    <tr>\n",
              "      <th>4</th>\n",
              "      <td>/content/drive/MyDrive/その他/PDFのOCR処理とファイル名変更/P...</td>\n",
              "      <td>140120220301597890.pdf</td>\n",
              "      <td>2022 年 3 月 1 日 東 京 都 千 代 田 区 麹 町 一 丁 目 4 番 地 松...</td>\n",
              "      <td>[松井証券]</td>\n",
              "      <td>松井証券</td>\n",
              "    </tr>\n",
              "  </tbody>\n",
              "</table>\n",
              "</div>\n",
              "      <button class=\"colab-df-convert\" onclick=\"convertToInteractive('df-d2d5cce1-6079-4a8b-8e98-6110065911d4')\"\n",
              "              title=\"Convert this dataframe to an interactive table.\"\n",
              "              style=\"display:none;\">\n",
              "        \n",
              "  <svg xmlns=\"http://www.w3.org/2000/svg\" height=\"24px\"viewBox=\"0 0 24 24\"\n",
              "       width=\"24px\">\n",
              "    <path d=\"M0 0h24v24H0V0z\" fill=\"none\"/>\n",
              "    <path d=\"M18.56 5.44l.94 2.06.94-2.06 2.06-.94-2.06-.94-.94-2.06-.94 2.06-2.06.94zm-11 1L8.5 8.5l.94-2.06 2.06-.94-2.06-.94L8.5 2.5l-.94 2.06-2.06.94zm10 10l.94 2.06.94-2.06 2.06-.94-2.06-.94-.94-2.06-.94 2.06-2.06.94z\"/><path d=\"M17.41 7.96l-1.37-1.37c-.4-.4-.92-.59-1.43-.59-.52 0-1.04.2-1.43.59L10.3 9.45l-7.72 7.72c-.78.78-.78 2.05 0 2.83L4 21.41c.39.39.9.59 1.41.59.51 0 1.02-.2 1.41-.59l7.78-7.78 2.81-2.81c.8-.78.8-2.07 0-2.86zM5.41 20L4 18.59l7.72-7.72 1.47 1.35L5.41 20z\"/>\n",
              "  </svg>\n",
              "      </button>\n",
              "      \n",
              "  <style>\n",
              "    .colab-df-container {\n",
              "      display:flex;\n",
              "      flex-wrap:wrap;\n",
              "      gap: 12px;\n",
              "    }\n",
              "\n",
              "    .colab-df-convert {\n",
              "      background-color: #E8F0FE;\n",
              "      border: none;\n",
              "      border-radius: 50%;\n",
              "      cursor: pointer;\n",
              "      display: none;\n",
              "      fill: #1967D2;\n",
              "      height: 32px;\n",
              "      padding: 0 0 0 0;\n",
              "      width: 32px;\n",
              "    }\n",
              "\n",
              "    .colab-df-convert:hover {\n",
              "      background-color: #E2EBFA;\n",
              "      box-shadow: 0px 1px 2px rgba(60, 64, 67, 0.3), 0px 1px 3px 1px rgba(60, 64, 67, 0.15);\n",
              "      fill: #174EA6;\n",
              "    }\n",
              "\n",
              "    [theme=dark] .colab-df-convert {\n",
              "      background-color: #3B4455;\n",
              "      fill: #D2E3FC;\n",
              "    }\n",
              "\n",
              "    [theme=dark] .colab-df-convert:hover {\n",
              "      background-color: #434B5C;\n",
              "      box-shadow: 0px 1px 3px 1px rgba(0, 0, 0, 0.15);\n",
              "      filter: drop-shadow(0px 1px 2px rgba(0, 0, 0, 0.3));\n",
              "      fill: #FFFFFF;\n",
              "    }\n",
              "  </style>\n",
              "\n",
              "      <script>\n",
              "        const buttonEl =\n",
              "          document.querySelector('#df-d2d5cce1-6079-4a8b-8e98-6110065911d4 button.colab-df-convert');\n",
              "        buttonEl.style.display =\n",
              "          google.colab.kernel.accessAllowed ? 'block' : 'none';\n",
              "\n",
              "        async function convertToInteractive(key) {\n",
              "          const element = document.querySelector('#df-d2d5cce1-6079-4a8b-8e98-6110065911d4');\n",
              "          const dataTable =\n",
              "            await google.colab.kernel.invokeFunction('convertToInteractive',\n",
              "                                                     [key], {});\n",
              "          if (!dataTable) return;\n",
              "\n",
              "          const docLinkHtml = 'Like what you see? Visit the ' +\n",
              "            '<a target=\"_blank\" href=https://colab.research.google.com/notebooks/data_table.ipynb>data table notebook</a>'\n",
              "            + ' to learn more about interactive tables.';\n",
              "          element.innerHTML = '';\n",
              "          dataTable['output_type'] = 'display_data';\n",
              "          await google.colab.output.renderOutput(dataTable, element);\n",
              "          const docLink = document.createElement('div');\n",
              "          docLink.innerHTML = docLinkHtml;\n",
              "          element.appendChild(docLink);\n",
              "        }\n",
              "      </script>\n",
              "    </div>\n",
              "  </div>\n",
              "  "
            ]
          },
          "metadata": {},
          "execution_count": 58
        }
      ]
    },
    {
      "cell_type": "code",
      "execution_count": 63,
      "metadata": {
        "id": "AhzxjJKtVwmE"
      },
      "outputs": [],
      "source": [
        "#データフレームをエクセル出力\n",
        "output_excel_path=pdffiles_folder + \"list.xlsx\"\n",
        "df.to_excel(output_excel_path , engine='xlsxwriter')"
      ]
    },
    {
      "cell_type": "markdown",
      "metadata": {
        "id": "rxnyPLXCVwmF"
      },
      "source": [
        "### Pandasでエクセルファイルに書き出そうとすると表示される「IllegalCharacterError」を回避\n",
        "pandasの書き出しエンジンをxlsxwriterに変更する  \n",
        "df.to_excel(\"test.xlsx\", engine='xlsxwriter')  \n",
        "https://karupoimou.hatenablog.com/entry/2019/09/29/235528"
      ]
    },
    {
      "cell_type": "markdown",
      "metadata": {
        "id": "vbkr9VDXVwmF"
      },
      "source": [
        "### PDFのファイル名を変更し、別フォルダに移動して保存する。\n",
        "https://note.nkmk.me/python-shutil-move/"
      ]
    },
    {
      "cell_type": "code",
      "execution_count": 64,
      "metadata": {
        "id": "jnPcHtqwVwmG"
      },
      "outputs": [],
      "source": [
        "#会社名を確認したエクセルをデータフレームに読み込む\n",
        "df2 = pd.read_excel(output_excel_path)"
      ]
    },
    {
      "cell_type": "code",
      "execution_count": 65,
      "metadata": {
        "id": "kmZfvQqOVwmH"
      },
      "outputs": [],
      "source": [
        "#新しいファイル名を含めた移動先のパスを指定\n",
        "df2[\"topath\"]=pdffiles_folder + \"/\" + \"processed\" + \"/\" +df2[\"companyname\"] + df2[\"filename\"] "
      ]
    },
    {
      "cell_type": "code",
      "execution_count": 66,
      "metadata": {
        "id": "FThJA9W7VwmI"
      },
      "outputs": [],
      "source": [
        "#ファイルを移動するためのモジュールをインポート \n",
        "import shutil\n",
        "import os"
      ]
    },
    {
      "cell_type": "code",
      "execution_count": 67,
      "metadata": {
        "id": "W-NjtORQVwmI",
        "colab": {
          "base_uri": "https://localhost:8080/"
        },
        "outputId": "68126c11-e4b0-43f6-a9e6-4d0180093dad"
      },
      "outputs": [
        {
          "output_type": "stream",
          "name": "stdout",
          "text": [
            "file in not exist\n",
            "file in not exist\n",
            "file in not exist\n"
          ]
        }
      ],
      "source": [
        "#if文でファイルが存在するかを確認した上で、ファイルを移動する\n",
        "for path, topath in zip(df2[\"path\"],df2[\"topath\"]):\n",
        "    if os.path.exists(path):\n",
        "        new_path=shutil.move(path,topath)\n",
        "    else:\n",
        "        print(\"file in not exist\")\n"
      ]
    }
  ],
  "metadata": {
    "colab": {
      "collapsed_sections": [],
      "name": "pdf2text_ExtractCompanyName_RenameFle.ipynb",
      "provenance": [],
      "include_colab_link": true
    },
    "kernelspec": {
      "display_name": "Python 3",
      "name": "python3"
    },
    "language_info": {
      "codemirror_mode": {
        "name": "ipython",
        "version": 3
      },
      "file_extension": ".py",
      "mimetype": "text/x-python",
      "name": "python",
      "nbconvert_exporter": "python",
      "pygments_lexer": "ipython3",
      "version": "3.7.11"
    }
  },
  "nbformat": 4,
  "nbformat_minor": 0
}