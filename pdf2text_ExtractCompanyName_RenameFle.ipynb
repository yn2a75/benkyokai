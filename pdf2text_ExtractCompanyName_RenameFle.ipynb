{
  "cells": [
    {
      "cell_type": "markdown",
      "metadata": {
        "id": "view-in-github",
        "colab_type": "text"
      },
      "source": [
        "<a href=\"https://colab.research.google.com/github/yn2a75/benkyokai/blob/main/pdf2text_ExtractCompanyName_RenameFle.ipynb\" target=\"_parent\"><img src=\"https://colab.research.google.com/assets/colab-badge.svg\" alt=\"Open In Colab\"/></a>"
      ]
    },
    {
      "cell_type": "code",
      "execution_count": null,
      "metadata": {
        "id": "mycrnW6gk-GO"
      },
      "outputs": [],
      "source": [
        "#必要なライブラリをインストール\n",
        "! pip install pdfminer.six\n",
        "! pip install pandas\n",
        "! pip install openpyxl\n",
        "! pip install xlwt\n",
        "! pip install xlsxwriter"
      ]
    },
    {
      "cell_type": "markdown",
      "metadata": {
        "id": "MHt948CBVwls"
      },
      "source": [
        "### PDFファイルからテキストを出力する関数を作成"
      ]
    },
    {
      "cell_type": "code",
      "execution_count": 49,
      "metadata": {
        "id": "mKOyX-aUk50Q"
      },
      "outputs": [],
      "source": [
        "from pdfminer.pdfinterp import PDFResourceManager\n",
        "from pdfminer.converter import TextConverter\n",
        "from pdfminer.pdfinterp import PDFPageInterpreter\n",
        "from pdfminer.pdfpage import PDFPage\n",
        "from pdfminer.layout import LAParams\n",
        "import os\n",
        "from io import StringIO\n",
        "\n",
        "#PDFからテキストを出力する関数を定義\n",
        "def convert_pdf2txt(filename):\n",
        "  pdf_file = os.path.join(pdffiles_folder, filename)\n",
        "  #バイナリファイルを読み込むためにファイルを開く('rb'を指定)\n",
        "  fp = open(pdf_file, 'rb')\n",
        "    \n",
        "  outfp = StringIO()\n",
        "        \n",
        "  rmgr = PDFResourceManager()\n",
        "  lprms = LAParams()\n",
        "  device = TextConverter(rmgr, outfp, laparams=lprms)\n",
        "  iprtr = PDFPageInterpreter(rmgr, device)\n",
        "    \n",
        "  for page in PDFPage.get_pages(fp):\n",
        "    iprtr.process_page(page)\n",
        "\n",
        "#テキスト内容を取得し、改行とスペースを削除\n",
        "  text = outfp.getvalue()\n",
        "  text=text.replace(\"\\n\", \"\")\n",
        "  text=text.replace(\"   \", \"\\n　\")\n",
        "  #text=text.replace(\" \", \"\")\n",
        "\n",
        "#テキスト内容を返す\n",
        "  return text"
      ]
    },
    {
      "cell_type": "code",
      "source": [
        "#GoogleDriveをマウント\n",
        "from google.colab import drive\n",
        "drive.mount(\"/content/drive/\")"
      ],
      "metadata": {
        "colab": {
          "base_uri": "https://localhost:8080/"
        },
        "id": "Hs4FmUWSWL-6",
        "outputId": "c65d5a40-95aa-4738-d3fb-9d24147ad91b"
      },
      "execution_count": 3,
      "outputs": [
        {
          "output_type": "stream",
          "name": "stdout",
          "text": [
            "Mounted at /content/drive/\n"
          ]
        }
      ]
    },
    {
      "cell_type": "code",
      "execution_count": 50,
      "metadata": {
        "id": "QeZXOnBdVwlz"
      },
      "outputs": [],
      "source": [
        "#PDFを保管しているフォルダのpathを指定\n",
        "\n",
        "pdffiles_folder=r\"/content/drive/MyDrive/その他/PDFのOCR処理とファイル名変更/PDFfiles\"\n",
        "\n",
        "#テキストを格納する空のリストを作成\n",
        "text_list=[]\n",
        "\n",
        "\n",
        "filelist = os.listdir(pdffiles_folder)\n",
        "filelist = [f for f in filelist if '.pdf' in f]\n",
        "pdfpaths = [os.path.join(pdffiles_folder,f) for f in filelist if '.pdf' in f]\n",
        "\n",
        "#リストにPDFのテキストを追加\n",
        "for filename in filelist:\n",
        "  text_list.append(convert_pdf2txt(filename))"
      ]
    },
    {
      "cell_type": "code",
      "execution_count": 51,
      "metadata": {
        "colab": {
          "base_uri": "https://localhost:8080/"
        },
        "id": "byW_tL1VVwl1",
        "outputId": "059f673c-df38-4bc8-898e-cf4666e706c6"
      },
      "outputs": [
        {
          "output_type": "execute_result",
          "data": {
            "text/plain": [
              "5"
            ]
          },
          "metadata": {},
          "execution_count": 51
        }
      ],
      "source": [
        "len(text_list)\n",
        "len(filelist)\n",
        "len(pdfpaths)"
      ]
    },
    {
      "cell_type": "markdown",
      "metadata": {
        "id": "soAh9bePVwl4"
      },
      "source": [
        "### テキストから会社名を抜き出す\n",
        "ginzaとspacyを使う"
      ]
    },
    {
      "cell_type": "code",
      "execution_count": null,
      "metadata": {
        "id": "FE2EEoZEnnj6"
      },
      "outputs": [],
      "source": [
        "#ライブラリをインストール\n",
        "!pip install -U ginza\n",
        "!pip install -U ginza ja-ginza"
      ]
    },
    {
      "cell_type": "code",
      "execution_count": 30,
      "metadata": {
        "id": "ZVvuWoLAVwl6"
      },
      "outputs": [],
      "source": [
        "#spacyをインポートしてインスタンス化\n",
        "import spacy\n",
        "from spacy import displacy\n",
        "nlp = spacy.load('ja_ginza')"
      ]
    },
    {
      "cell_type": "markdown",
      "metadata": {
        "id": "V65f0R35Vwl7"
      },
      "source": [
        "OrderDictを使ってリストから、順序を維持したうえで重複を削除したリストを作成する\n",
        "https://www.delftstack.com/ja/howto/python/remove-duplicates-from-list-python/"
      ]
    },
    {
      "cell_type": "code",
      "execution_count": 31,
      "metadata": {
        "id": "RRpuXU6SVwl8"
      },
      "outputs": [],
      "source": [
        "#OrderDictをインポート\n",
        "from collections import OrderedDict"
      ]
    },
    {
      "cell_type": "markdown",
      "metadata": {
        "id": "BHANFjFCVwl9"
      },
      "source": [
        "### テキストから会社名を返す関数を作成"
      ]
    },
    {
      "cell_type": "code",
      "execution_count": 53,
      "metadata": {
        "id": "3ivc-7OPVwl-"
      },
      "outputs": [],
      "source": [
        "#テキストから会社名を返す関数をつくる\n",
        "\n",
        "def Text2CompanyName(text):\n",
        "  doc=nlp(text)\n",
        "  #空のリストを準備\n",
        "  company_names_=[]\n",
        "#固有表現ラベルがCompanyをリストに追加\n",
        "  for ent in doc.ents: \n",
        "    if ent.label_ =='Company':\n",
        "      company_names_.append(ent.text) \n",
        "      company_names=list(OrderedDict.fromkeys(company_names_))\n",
        "  if len(company_names_)==0:\n",
        "    return [\"なし\"]\n",
        "  else:\n",
        "    return company_names"
      ]
    },
    {
      "cell_type": "markdown",
      "metadata": {
        "id": "8kbbRb1BVwl_"
      },
      "source": [
        "### 参考\n",
        "listが空かどうか判定する方法\n",
        "https://qiita.com/yonedaco/items/d0f65ca3dad2e085a51d"
      ]
    },
    {
      "cell_type": "markdown",
      "metadata": {
        "id": "Fx8AkUb3Vwl_"
      },
      "source": [
        "### 用意した関数を使い、テキストから会社名を抽出して新たなリストを作成する"
      ]
    },
    {
      "cell_type": "code",
      "execution_count": 54,
      "metadata": {
        "id": "J9jxHXxyVwmA"
      },
      "outputs": [],
      "source": [
        "#companyの名前を入れる空のリストを準備\n",
        "companyNames1=[]\n",
        "for company in text_list:\n",
        "    companyNames1.append(Text2CompanyName(company))"
      ]
    },
    {
      "cell_type": "markdown",
      "metadata": {
        "id": "FfTs9AvGVwmB"
      },
      "source": [
        "### 2次元リストの各行の0番目値を取得して新たにリストを作る  \n",
        "https://ja.stackoverflow.com/questions/47331/python%E3%81%A7%E4%BA%8C%E6%AC%A1%E5%85%83%E9%85%8D%E5%88%97%E3%81%AE%E4%B8%AD%E3%81%AE%E5%90%84%E8%A6%81%E7%B4%A0%E3%81%AEn%E7%95%AA%E7%9B%AE%E3%81%A0%E3%81%91%E3%82%92%E5%8F%96%E3%82%8A%E5%87%BA%E3%81%97%E3%81%A6-%E8%A6%81%E7%B4%A0%E3%81%A8%E3%81%97%E3%81%A6%E4%B8%A6%E3%81%B9%E3%81%9F%E3%81%84"
      ]
    },
    {
      "cell_type": "code",
      "execution_count": 55,
      "metadata": {
        "id": "FrA51-_RVwmC"
      },
      "outputs": [],
      "source": [
        "#CompanyName1の各行の0番目の値をCompanyNames2に格納\n",
        "companyNames2=list(map(lambda companyName1:companyName1[0],companyNames1))"
      ]
    },
    {
      "cell_type": "markdown",
      "metadata": {
        "id": "RDYY4lEOVwmC"
      },
      "source": [
        "### pandasでエクセル表のもととなる一覧表を作成\n",
        "https://www.delftstack.com/ja/howto/python-pandas/pandas-create-dataframe-from-list/"
      ]
    },
    {
      "cell_type": "code",
      "execution_count": 56,
      "metadata": {
        "id": "uwqlQSfuVwmD"
      },
      "outputs": [],
      "source": [
        "#pandasをインポート\n",
        "import pandas as pd"
      ]
    },
    {
      "cell_type": "code",
      "execution_count": 57,
      "metadata": {
        "id": "fjgWzSGUVwmD"
      },
      "outputs": [],
      "source": [
        "#データフレームを作成\n",
        "df=pd.DataFrame(list(zip(pdfpaths,filelist,text_list,companyNames1,companyNames2)),columns=[\"path\",\"filename\",\"text\",\"companynames\",\"companyname\"])"
      ]
    },
    {
      "cell_type": "code",
      "source": [
        "df"
      ],
      "metadata": {
        "id": "YJRTvG9wK25e"
      },
      "execution_count": null,
      "outputs": []
    },
    {
      "cell_type": "code",
      "execution_count": 63,
      "metadata": {
        "id": "AhzxjJKtVwmE"
      },
      "outputs": [],
      "source": [
        "#データフレームをエクセル出力\n",
        "output_excel_path=pdffiles_folder + \"list.xlsx\"\n",
        "df.to_excel(output_excel_path , engine='xlsxwriter')"
      ]
    },
    {
      "cell_type": "markdown",
      "metadata": {
        "id": "rxnyPLXCVwmF"
      },
      "source": [
        "### Pandasでエクセルファイルに書き出そうとすると表示される「IllegalCharacterError」を回避\n",
        "pandasの書き出しエンジンをxlsxwriterに変更する  \n",
        "df.to_excel(\"test.xlsx\", engine='xlsxwriter')  \n",
        "https://karupoimou.hatenablog.com/entry/2019/09/29/235528"
      ]
    },
    {
      "cell_type": "markdown",
      "metadata": {
        "id": "vbkr9VDXVwmF"
      },
      "source": [
        "### PDFのファイル名を変更し、別フォルダに移動して保存する。\n",
        "https://note.nkmk.me/python-shutil-move/"
      ]
    },
    {
      "cell_type": "code",
      "execution_count": 64,
      "metadata": {
        "id": "jnPcHtqwVwmG"
      },
      "outputs": [],
      "source": [
        "#会社名を確認したエクセルをデータフレームに読み込む\n",
        "df2 = pd.read_excel(output_excel_path)"
      ]
    },
    {
      "cell_type": "code",
      "execution_count": 65,
      "metadata": {
        "id": "kmZfvQqOVwmH"
      },
      "outputs": [],
      "source": [
        "#新しいファイル名を含めた移動先のパスを指定\n",
        "df2[\"topath\"]=pdffiles_folder + \"/\" + \"processed\" + \"/\" +df2[\"companyname\"] + df2[\"filename\"] "
      ]
    },
    {
      "cell_type": "code",
      "execution_count": 66,
      "metadata": {
        "id": "FThJA9W7VwmI"
      },
      "outputs": [],
      "source": [
        "#ファイルを移動するためのモジュールをインポート \n",
        "import shutil\n",
        "import os"
      ]
    },
    {
      "cell_type": "code",
      "execution_count": null,
      "metadata": {
        "id": "W-NjtORQVwmI"
      },
      "outputs": [],
      "source": [
        "#if文でファイルが存在するかを確認した上で、ファイルを移動する\n",
        "for path, topath in zip(df2[\"path\"],df2[\"topath\"]):\n",
        "    if os.path.exists(path):\n",
        "        new_path=shutil.move(path,topath)\n",
        "    else:\n",
        "        print(\"file in not exist\")\n"
      ]
    }
  ],
  "metadata": {
    "colab": {
      "collapsed_sections": [],
      "name": "pdf2text_ExtractCompanyName_RenameFle.ipynb",
      "provenance": [],
      "include_colab_link": true
    },
    "kernelspec": {
      "display_name": "Python 3",
      "name": "python3"
    },
    "language_info": {
      "codemirror_mode": {
        "name": "ipython",
        "version": 3
      },
      "file_extension": ".py",
      "mimetype": "text/x-python",
      "name": "python",
      "nbconvert_exporter": "python",
      "pygments_lexer": "ipython3",
      "version": "3.7.11"
    }
  },
  "nbformat": 4,
  "nbformat_minor": 0
}