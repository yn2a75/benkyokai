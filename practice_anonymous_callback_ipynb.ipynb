{
  "cells": [
    {
      "cell_type": "markdown",
      "metadata": {
        "id": "view-in-github",
        "colab_type": "text"
      },
      "source": [
        "<a href=\"https://colab.research.google.com/github/yn2a75/benkyokai/blob/main/practice_anonymous_callback_ipynb.ipynb\" target=\"_parent\"><img src=\"https://colab.research.google.com/assets/colab-badge.svg\" alt=\"Open In Colab\"/></a>"
      ]
    },
    {
      "cell_type": "markdown",
      "metadata": {
        "id": "PEMzxxNjQaWj"
      },
      "source": [
        "# 無名関数とコールバック関数\n",
        "無名関数を用いることで、関数を短いコードでシンプルに記述することが可能です。  \n",
        "また、コールバック関数を用いることで関数同士の複雑な連携が可能になります。  \n",
        "人工知能、特にディープラーニングのコードでは無名関数やコールバック関数がしばしば使用されます。  "
      ]
    },
    {
      "cell_type": "markdown",
      "metadata": {
        "id": "PThiy1JHQaWo"
      },
      "source": [
        "## ●無名関数\n",
        "以下はシンプルな関数の例です。  "
      ]
    },
    {
      "cell_type": "code",
      "execution_count": 1,
      "metadata": {
        "id": "N-F30GolQaWo",
        "colab": {
          "base_uri": "https://localhost:8080/"
        },
        "outputId": "9639da66-74d4-48bc-b3b5-f1e41db8db58"
      },
      "outputs": [
        {
          "output_type": "stream",
          "name": "stdout",
          "text": [
            "7\n"
          ]
        }
      ],
      "source": [
        "def add(a, b):  # addという名前の関数\n",
        "    c = a + b\n",
        "    return c\n",
        "    \n",
        "print(add(3, 4))"
      ]
    },
    {
      "cell_type": "code",
      "metadata": {
        "id": "P7xzMeJE29FN"
      },
      "source": [
        "# 練習用\n"
      ],
      "execution_count": 2,
      "outputs": []
    },
    {
      "cell_type": "markdown",
      "metadata": {
        "id": "aN9hy4uUQaWr"
      },
      "source": [
        "( ) を書かずに、関数名のみのものを、「関数オブジェクト」といいます。  \n",
        "関数オブジェクトは、変数のように扱って他の変数に代入することができます。  "
      ]
    },
    {
      "cell_type": "code",
      "execution_count": 3,
      "metadata": {
        "id": "jR-ynsTJQaWr",
        "colab": {
          "base_uri": "https://localhost:8080/"
        },
        "outputId": "2c54363c-d036-40ea-f926-dcb4aa0f4222"
      },
      "outputs": [
        {
          "output_type": "stream",
          "name": "stdout",
          "text": [
            "7\n"
          ]
        }
      ],
      "source": [
        "add_2 = add\n",
        "print(add_2(3, 4))"
      ]
    },
    {
      "cell_type": "code",
      "metadata": {
        "id": "EEEKklK_Npy4"
      },
      "source": [
        "# 練習用\n"
      ],
      "execution_count": 4,
      "outputs": []
    },
    {
      "cell_type": "markdown",
      "metadata": {
        "id": "OTCdeJS1QaWs"
      },
      "source": [
        "このような関数オブジェクトは、`lambda`というキーワードを使って簡単に作成することができます。  \n",
        "この書き方を「無名関数」、もしくは「ラムダ関数」といいます。"
      ]
    },
    {
      "cell_type": "code",
      "execution_count": 5,
      "metadata": {
        "id": "PORZydoFQaWt",
        "colab": {
          "base_uri": "https://localhost:8080/"
        },
        "outputId": "39804c43-f8a5-41fe-cea9-c28e5cf8ebc4"
      },
      "outputs": [
        {
          "output_type": "stream",
          "name": "stdout",
          "text": [
            "12\n"
          ]
        }
      ],
      "source": [
        "multiply = lambda a, b : a * b # a, bが引数、a * bが返り値\n",
        "print(multiply(3, 4))"
      ]
    },
    {
      "cell_type": "code",
      "metadata": {
        "id": "6cyjk-fCNqeh"
      },
      "source": [
        "# 練習用\n"
      ],
      "execution_count": 6,
      "outputs": []
    },
    {
      "cell_type": "markdown",
      "metadata": {
        "id": "jfCJ27AjQaWt"
      },
      "source": [
        "無名関数は、比較的シンプルな処理の記述に向いています。"
      ]
    },
    {
      "cell_type": "markdown",
      "metadata": {
        "id": "4ot9l2CKQbqG"
      },
      "source": [
        "## ●コールバック関数\n",
        "関数の引数として、関数オブジェクトを渡すことができます。  \n",
        "以下の例では、関数`showResult`の引数として、関数オブジェクト`add`を渡しています。  \n",
        "このように引数として渡される関数を、「コールバック関数」といいます。"
      ]
    },
    {
      "cell_type": "code",
      "execution_count": 7,
      "metadata": {
        "id": "XdMb-_CUQbqK",
        "colab": {
          "base_uri": "https://localhost:8080/"
        },
        "outputId": "f606c323-2593-4daa-823a-c7e5236637a8"
      },
      "outputs": [
        {
          "output_type": "stream",
          "name": "stdout",
          "text": [
            "7\n"
          ]
        }
      ],
      "source": [
        "def showResult(a, b, callback): # callbackがコールバック関数\n",
        "    c = callback(a, b)\n",
        "    print(c)\n",
        "    \n",
        "def add(a, b):\n",
        "    return a + b\n",
        "    \n",
        "showResult(3, 4, add) # 第3引数として関数オブジェクトaddを渡す"
      ]
    },
    {
      "cell_type": "code",
      "metadata": {
        "id": "9KaDCRGDWXr0"
      },
      "source": [
        "# 練習用\n"
      ],
      "execution_count": 8,
      "outputs": []
    },
    {
      "cell_type": "markdown",
      "metadata": {
        "id": "PJrZ2BFSQbqM"
      },
      "source": [
        "上記のコードは、無名関数を用いてよりシンプルに記述することが可能です。"
      ]
    },
    {
      "cell_type": "code",
      "execution_count": 9,
      "metadata": {
        "id": "kYoTBXezQbqM",
        "colab": {
          "base_uri": "https://localhost:8080/"
        },
        "outputId": "9fc79fe4-58c0-4dac-bb28-3222068b39e7"
      },
      "outputs": [
        {
          "output_type": "stream",
          "name": "stdout",
          "text": [
            "7\n"
          ]
        }
      ],
      "source": [
        "def showResult(a, b, callback):  # callbackがコールバック関数\n",
        "    c = callback(a, b)\n",
        "    print(c)\n",
        "    \n",
        "showResult(3, 4, lambda a, b : a + b) # 第3引数として無名関数を渡す"
      ]
    },
    {
      "cell_type": "code",
      "metadata": {
        "id": "M9Wgwtb0WYI6"
      },
      "source": [
        "# 練習用\n"
      ],
      "execution_count": 10,
      "outputs": []
    },
    {
      "cell_type": "markdown",
      "metadata": {
        "id": "t-zNZzdIQbqN"
      },
      "source": [
        "コールバック関数を用いることで、関数同士の複雑な連携が可能になります。"
      ]
    }
  ],
  "metadata": {
    "kernelspec": {
      "display_name": "Python 3",
      "language": "python",
      "name": "python3"
    },
    "language_info": {
      "codemirror_mode": {
        "name": "ipython",
        "version": 3
      },
      "file_extension": ".py",
      "mimetype": "text/x-python",
      "name": "python",
      "nbconvert_exporter": "python",
      "pygments_lexer": "ipython3",
      "version": "3.7.1"
    },
    "colab": {
      "name": "practice_anonymous_callback.ipynb.ipynb",
      "provenance": [],
      "collapsed_sections": [],
      "include_colab_link": true
    }
  },
  "nbformat": 4,
  "nbformat_minor": 0
}