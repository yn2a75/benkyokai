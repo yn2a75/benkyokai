{
  "cells": [
    {
      "cell_type": "markdown",
      "metadata": {
        "id": "view-in-github",
        "colab_type": "text"
      },
      "source": [
        "<a href=\"https://colab.research.google.com/github/yn2a75/benkyokai/blob/main/practice_comprehension.ipynb\" target=\"_parent\"><img src=\"https://colab.research.google.com/assets/colab-badge.svg\" alt=\"Open In Colab\"/></a>"
      ]
    },
    {
      "cell_type": "markdown",
      "metadata": {
        "id": "PQ8PmAAvOvm_"
      },
      "source": [
        "# 内包表記\n",
        "内包表記を用いると、短いコードでリスト内の値を加工して新たなリストを作ることが可能になります。  \n",
        "機械学習のコードを短く簡潔に記述するために、内包表記がしばしば使用されます。  "
      ]
    },
    {
      "cell_type": "markdown",
      "metadata": {
        "id": "I9_Qn679OvnE"
      },
      "source": [
        "## ●リストと内包表記\n",
        "例えば以下のようにして、リストから新たなリストを作ることができます。"
      ]
    },
    {
      "cell_type": "code",
      "execution_count": null,
      "metadata": {
        "id": "kfaMXK-1OvnE"
      },
      "outputs": [],
      "source": [
        "a = [1, 2, 3, 4, 5, 6, 7]\n",
        "b = []\n",
        "\n",
        "for c in a:\n",
        "    b.append(c*2)\n",
        "    \n",
        "print(b)"
      ]
    },
    {
      "cell_type": "code",
      "metadata": {
        "id": "wrO8sv-WZHuo"
      },
      "source": [
        "# 練習用\n"
      ],
      "execution_count": null,
      "outputs": []
    },
    {
      "cell_type": "markdown",
      "metadata": {
        "id": "Da9eGuUtOvnH"
      },
      "source": [
        "上記のコードは、以下の記法に従う「内包表記」を用いて短く記述することができます。\n",
        "  \n",
        "**新たなリスト = [ 要素への処理 for 要素 in リスト]**  "
      ]
    },
    {
      "cell_type": "code",
      "execution_count": null,
      "metadata": {
        "id": "XZmcW3KjOvnH"
      },
      "outputs": [],
      "source": [
        "a = [1, 2, 3, 4, 5, 6, 7]\n",
        "b = [c*2 for c in a]  # bは新たなリスト\n",
        "print(b)"
      ]
    },
    {
      "cell_type": "code",
      "metadata": {
        "id": "4XtpBJiVdbwW"
      },
      "source": [
        "# 練習用\n"
      ],
      "execution_count": null,
      "outputs": []
    },
    {
      "cell_type": "markdown",
      "metadata": {
        "id": "wzyLRULfOvnI"
      },
      "source": [
        "リストaの各要素cに2をかけて、新たなリストbを作ります。"
      ]
    },
    {
      "cell_type": "markdown",
      "metadata": {
        "id": "hkdgcea4OvnJ"
      },
      "source": [
        "## ●内包表記と条件式\n",
        "以下の記法に従い、内包表記には条件式を入れることができます。  \n",
        "**新たなリスト = [ 要素への処理 for 要素 in リスト if 条件式 ]**  \n"
      ]
    },
    {
      "cell_type": "code",
      "execution_count": null,
      "metadata": {
        "id": "VpAV87aNOvnJ"
      },
      "outputs": [],
      "source": [
        "a = [1, 2, 3, 4, 5, 6, 7]\n",
        "b = [c*2 for c in a if c < 5]  # bは新たなリスト\n",
        "print(b)"
      ]
    },
    {
      "cell_type": "code",
      "metadata": {
        "id": "rai-U5befKUS"
      },
      "source": [
        "# 練習用\n"
      ],
      "execution_count": null,
      "outputs": []
    },
    {
      "cell_type": "markdown",
      "metadata": {
        "id": "wUh4G4yIOvnK"
      },
      "source": [
        "これにより、特的の条件を満たす要素のみを取り出すことができます。\n"
      ]
    },
    {
      "cell_type": "markdown",
      "metadata": {
        "id": "z_jObicaOvnK"
      },
      "source": [
        "## ●三項演算子\n",
        "Pythonでは、以下の記法で「三項演算子」を記述することができます。  \n",
        "**変数 = Trueのときの値 if 条件式 else Falseのときの値**  \n",
        "以下の例では、weightの値によって、異なる文字列をfruitに代入しています。"
      ]
    },
    {
      "cell_type": "code",
      "execution_count": null,
      "metadata": {
        "id": "-B8fgr-ZxLMW"
      },
      "outputs": [],
      "source": [
        "weight = 500\n",
        "fruit = \"Apple\" if weight < 400 else \"Pineapple\"  # weightの値により、\"Apple\"もしくは\"Pineapple\"を選択\n",
        "print(fruit)"
      ]
    },
    {
      "cell_type": "code",
      "metadata": {
        "id": "UDqBqBrX28R7"
      },
      "source": [
        "# 練習用\n"
      ],
      "execution_count": null,
      "outputs": []
    },
    {
      "cell_type": "markdown",
      "metadata": {
        "id": "FuG_9g2mxLMY"
      },
      "source": [
        "三項演算子を利用することで、条件分岐を短く記述することが可能になります。"
      ]
    },
    {
      "cell_type": "markdown",
      "source": [
        "## ●三項演算子と内包表記\n",
        "三項演算子は、以下のような記述により内包表記の中で使うことができます。  \n",
        "**新たなリスト = [Trueのときの値 if 条件式 else Falseのときの値 for 要素 in リスト]**  \n"
      ],
      "metadata": {
        "id": "bnUdKcFITlIp"
      }
    },
    {
      "cell_type": "code",
      "source": [
        "a = [1, 2, 3, 4, 5, 6, 7]\n",
        "b = [\"even\" if i%2==0 else \"odd\" for i in a] # bは新たなリスト\n",
        "print(b)"
      ],
      "metadata": {
        "id": "xh0qXDwI0NVs"
      },
      "execution_count": null,
      "outputs": []
    },
    {
      "cell_type": "code",
      "metadata": {
        "id": "PerYICuY282J"
      },
      "source": [
        "# 練習用\n"
      ],
      "execution_count": null,
      "outputs": []
    },
    {
      "cell_type": "markdown",
      "source": [
        "上記の三項演算子と内包表記を使った処理は、以下のfor文とif文を使った処理と同じです。"
      ],
      "metadata": {
        "id": "_VaIPgoz03z2"
      }
    },
    {
      "cell_type": "code",
      "source": [
        "a = [1, 2, 3, 4, 5, 6, 7]\n",
        "b = []\n",
        "\n",
        "for i in a:\n",
        "    if i%2==0:\n",
        "        b.append(\"even\")\n",
        "    else:\n",
        "        b.append(\"odd\")\n",
        "\n",
        "print(b)"
      ],
      "metadata": {
        "id": "IJrNud791dD0"
      },
      "execution_count": null,
      "outputs": []
    },
    {
      "cell_type": "code",
      "metadata": {
        "id": "P7xzMeJE29FN"
      },
      "source": [
        "# 練習用\n"
      ],
      "execution_count": null,
      "outputs": []
    },
    {
      "cell_type": "markdown",
      "source": [
        "このように、内包表記を上手に使えばコードの量を少なく抑えることが可能になります。"
      ],
      "metadata": {
        "id": "RDH0S43Y1k0z"
      }
    }
  ],
  "metadata": {
    "kernelspec": {
      "display_name": "Python 3",
      "language": "python",
      "name": "python3"
    },
    "language_info": {
      "codemirror_mode": {
        "name": "ipython",
        "version": 3
      },
      "file_extension": ".py",
      "mimetype": "text/x-python",
      "name": "python",
      "nbconvert_exporter": "python",
      "pygments_lexer": "ipython3",
      "version": "3.5.4"
    },
    "colab": {
      "name": "practice_comprehension.ipynb",
      "provenance": [],
      "collapsed_sections": [],
      "include_colab_link": true
    }
  },
  "nbformat": 4,
  "nbformat_minor": 0
}