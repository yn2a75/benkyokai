{
  "nbformat": 4,
  "nbformat_minor": 0,
  "metadata": {
    "colab": {
      "name": "Kikagaku_Bert文書分類演習_ネガティブ判定.ipynb",
      "provenance": [],
      "collapsed_sections": [],
      "machine_shape": "hm",
      "authorship_tag": "ABX9TyP8DjaAQdP/2S4+vfLgpBpn",
      "include_colab_link": true
    },
    "kernelspec": {
      "name": "python3",
      "display_name": "Python 3"
    },
    "language_info": {
      "name": "python"
    },
    "accelerator": "GPU",
    "widgets": {
      "application/vnd.jupyter.widget-state+json": {
        "bab02c6db72d49ffbad59f783fbde9a3": {
          "model_module": "@jupyter-widgets/controls",
          "model_name": "HBoxModel",
          "model_module_version": "1.5.0",
          "state": {
            "_dom_classes": [],
            "_model_module": "@jupyter-widgets/controls",
            "_model_module_version": "1.5.0",
            "_model_name": "HBoxModel",
            "_view_count": null,
            "_view_module": "@jupyter-widgets/controls",
            "_view_module_version": "1.5.0",
            "_view_name": "HBoxView",
            "box_style": "",
            "children": [
              "IPY_MODEL_c71fe9ce16ef4f3ab8ed4e0de776ea37",
              "IPY_MODEL_a1cc296d862c4750adaa9f37acdb86f4",
              "IPY_MODEL_d163f2e4e1b745608ba29bb144fed1ee"
            ],
            "layout": "IPY_MODEL_ee7f3680aefe4b5dae203be4806cfb59"
          }
        },
        "c71fe9ce16ef4f3ab8ed4e0de776ea37": {
          "model_module": "@jupyter-widgets/controls",
          "model_name": "HTMLModel",
          "model_module_version": "1.5.0",
          "state": {
            "_dom_classes": [],
            "_model_module": "@jupyter-widgets/controls",
            "_model_module_version": "1.5.0",
            "_model_name": "HTMLModel",
            "_view_count": null,
            "_view_module": "@jupyter-widgets/controls",
            "_view_module_version": "1.5.0",
            "_view_name": "HTMLView",
            "description": "",
            "description_tooltip": null,
            "layout": "IPY_MODEL_23778190c8014424bfd8a32a4cf19b2d",
            "placeholder": "​",
            "style": "IPY_MODEL_b659819785914ac8a7e53379a299f40e",
            "value": "Downloading: 100%"
          }
        },
        "a1cc296d862c4750adaa9f37acdb86f4": {
          "model_module": "@jupyter-widgets/controls",
          "model_name": "FloatProgressModel",
          "model_module_version": "1.5.0",
          "state": {
            "_dom_classes": [],
            "_model_module": "@jupyter-widgets/controls",
            "_model_module_version": "1.5.0",
            "_model_name": "FloatProgressModel",
            "_view_count": null,
            "_view_module": "@jupyter-widgets/controls",
            "_view_module_version": "1.5.0",
            "_view_name": "ProgressView",
            "bar_style": "success",
            "description": "",
            "description_tooltip": null,
            "layout": "IPY_MODEL_005f249a21f7414cbda5cb5ef1742801",
            "max": 257706,
            "min": 0,
            "orientation": "horizontal",
            "style": "IPY_MODEL_d2c1ded7920a40b7ac0fef6627a67126",
            "value": 257706
          }
        },
        "d163f2e4e1b745608ba29bb144fed1ee": {
          "model_module": "@jupyter-widgets/controls",
          "model_name": "HTMLModel",
          "model_module_version": "1.5.0",
          "state": {
            "_dom_classes": [],
            "_model_module": "@jupyter-widgets/controls",
            "_model_module_version": "1.5.0",
            "_model_name": "HTMLModel",
            "_view_count": null,
            "_view_module": "@jupyter-widgets/controls",
            "_view_module_version": "1.5.0",
            "_view_name": "HTMLView",
            "description": "",
            "description_tooltip": null,
            "layout": "IPY_MODEL_083d6c5d5c1e47bbb490dd1f3b38c508",
            "placeholder": "​",
            "style": "IPY_MODEL_5155e8b9b56b489aaa9de1c82c45f55c",
            "value": " 258k/258k [00:00&lt;00:00, 354kB/s]"
          }
        },
        "ee7f3680aefe4b5dae203be4806cfb59": {
          "model_module": "@jupyter-widgets/base",
          "model_name": "LayoutModel",
          "model_module_version": "1.2.0",
          "state": {
            "_model_module": "@jupyter-widgets/base",
            "_model_module_version": "1.2.0",
            "_model_name": "LayoutModel",
            "_view_count": null,
            "_view_module": "@jupyter-widgets/base",
            "_view_module_version": "1.2.0",
            "_view_name": "LayoutView",
            "align_content": null,
            "align_items": null,
            "align_self": null,
            "border": null,
            "bottom": null,
            "display": null,
            "flex": null,
            "flex_flow": null,
            "grid_area": null,
            "grid_auto_columns": null,
            "grid_auto_flow": null,
            "grid_auto_rows": null,
            "grid_column": null,
            "grid_gap": null,
            "grid_row": null,
            "grid_template_areas": null,
            "grid_template_columns": null,
            "grid_template_rows": null,
            "height": null,
            "justify_content": null,
            "justify_items": null,
            "left": null,
            "margin": null,
            "max_height": null,
            "max_width": null,
            "min_height": null,
            "min_width": null,
            "object_fit": null,
            "object_position": null,
            "order": null,
            "overflow": null,
            "overflow_x": null,
            "overflow_y": null,
            "padding": null,
            "right": null,
            "top": null,
            "visibility": null,
            "width": null
          }
        },
        "23778190c8014424bfd8a32a4cf19b2d": {
          "model_module": "@jupyter-widgets/base",
          "model_name": "LayoutModel",
          "model_module_version": "1.2.0",
          "state": {
            "_model_module": "@jupyter-widgets/base",
            "_model_module_version": "1.2.0",
            "_model_name": "LayoutModel",
            "_view_count": null,
            "_view_module": "@jupyter-widgets/base",
            "_view_module_version": "1.2.0",
            "_view_name": "LayoutView",
            "align_content": null,
            "align_items": null,
            "align_self": null,
            "border": null,
            "bottom": null,
            "display": null,
            "flex": null,
            "flex_flow": null,
            "grid_area": null,
            "grid_auto_columns": null,
            "grid_auto_flow": null,
            "grid_auto_rows": null,
            "grid_column": null,
            "grid_gap": null,
            "grid_row": null,
            "grid_template_areas": null,
            "grid_template_columns": null,
            "grid_template_rows": null,
            "height": null,
            "justify_content": null,
            "justify_items": null,
            "left": null,
            "margin": null,
            "max_height": null,
            "max_width": null,
            "min_height": null,
            "min_width": null,
            "object_fit": null,
            "object_position": null,
            "order": null,
            "overflow": null,
            "overflow_x": null,
            "overflow_y": null,
            "padding": null,
            "right": null,
            "top": null,
            "visibility": null,
            "width": null
          }
        },
        "b659819785914ac8a7e53379a299f40e": {
          "model_module": "@jupyter-widgets/controls",
          "model_name": "DescriptionStyleModel",
          "model_module_version": "1.5.0",
          "state": {
            "_model_module": "@jupyter-widgets/controls",
            "_model_module_version": "1.5.0",
            "_model_name": "DescriptionStyleModel",
            "_view_count": null,
            "_view_module": "@jupyter-widgets/base",
            "_view_module_version": "1.2.0",
            "_view_name": "StyleView",
            "description_width": ""
          }
        },
        "005f249a21f7414cbda5cb5ef1742801": {
          "model_module": "@jupyter-widgets/base",
          "model_name": "LayoutModel",
          "model_module_version": "1.2.0",
          "state": {
            "_model_module": "@jupyter-widgets/base",
            "_model_module_version": "1.2.0",
            "_model_name": "LayoutModel",
            "_view_count": null,
            "_view_module": "@jupyter-widgets/base",
            "_view_module_version": "1.2.0",
            "_view_name": "LayoutView",
            "align_content": null,
            "align_items": null,
            "align_self": null,
            "border": null,
            "bottom": null,
            "display": null,
            "flex": null,
            "flex_flow": null,
            "grid_area": null,
            "grid_auto_columns": null,
            "grid_auto_flow": null,
            "grid_auto_rows": null,
            "grid_column": null,
            "grid_gap": null,
            "grid_row": null,
            "grid_template_areas": null,
            "grid_template_columns": null,
            "grid_template_rows": null,
            "height": null,
            "justify_content": null,
            "justify_items": null,
            "left": null,
            "margin": null,
            "max_height": null,
            "max_width": null,
            "min_height": null,
            "min_width": null,
            "object_fit": null,
            "object_position": null,
            "order": null,
            "overflow": null,
            "overflow_x": null,
            "overflow_y": null,
            "padding": null,
            "right": null,
            "top": null,
            "visibility": null,
            "width": null
          }
        },
        "d2c1ded7920a40b7ac0fef6627a67126": {
          "model_module": "@jupyter-widgets/controls",
          "model_name": "ProgressStyleModel",
          "model_module_version": "1.5.0",
          "state": {
            "_model_module": "@jupyter-widgets/controls",
            "_model_module_version": "1.5.0",
            "_model_name": "ProgressStyleModel",
            "_view_count": null,
            "_view_module": "@jupyter-widgets/base",
            "_view_module_version": "1.2.0",
            "_view_name": "StyleView",
            "bar_color": null,
            "description_width": ""
          }
        },
        "083d6c5d5c1e47bbb490dd1f3b38c508": {
          "model_module": "@jupyter-widgets/base",
          "model_name": "LayoutModel",
          "model_module_version": "1.2.0",
          "state": {
            "_model_module": "@jupyter-widgets/base",
            "_model_module_version": "1.2.0",
            "_model_name": "LayoutModel",
            "_view_count": null,
            "_view_module": "@jupyter-widgets/base",
            "_view_module_version": "1.2.0",
            "_view_name": "LayoutView",
            "align_content": null,
            "align_items": null,
            "align_self": null,
            "border": null,
            "bottom": null,
            "display": null,
            "flex": null,
            "flex_flow": null,
            "grid_area": null,
            "grid_auto_columns": null,
            "grid_auto_flow": null,
            "grid_auto_rows": null,
            "grid_column": null,
            "grid_gap": null,
            "grid_row": null,
            "grid_template_areas": null,
            "grid_template_columns": null,
            "grid_template_rows": null,
            "height": null,
            "justify_content": null,
            "justify_items": null,
            "left": null,
            "margin": null,
            "max_height": null,
            "max_width": null,
            "min_height": null,
            "min_width": null,
            "object_fit": null,
            "object_position": null,
            "order": null,
            "overflow": null,
            "overflow_x": null,
            "overflow_y": null,
            "padding": null,
            "right": null,
            "top": null,
            "visibility": null,
            "width": null
          }
        },
        "5155e8b9b56b489aaa9de1c82c45f55c": {
          "model_module": "@jupyter-widgets/controls",
          "model_name": "DescriptionStyleModel",
          "model_module_version": "1.5.0",
          "state": {
            "_model_module": "@jupyter-widgets/controls",
            "_model_module_version": "1.5.0",
            "_model_name": "DescriptionStyleModel",
            "_view_count": null,
            "_view_module": "@jupyter-widgets/base",
            "_view_module_version": "1.2.0",
            "_view_name": "StyleView",
            "description_width": ""
          }
        },
        "3ec74d4b0ac6475aaf729d99e48017ca": {
          "model_module": "@jupyter-widgets/controls",
          "model_name": "HBoxModel",
          "model_module_version": "1.5.0",
          "state": {
            "_dom_classes": [],
            "_model_module": "@jupyter-widgets/controls",
            "_model_module_version": "1.5.0",
            "_model_name": "HBoxModel",
            "_view_count": null,
            "_view_module": "@jupyter-widgets/controls",
            "_view_module_version": "1.5.0",
            "_view_name": "HBoxView",
            "box_style": "",
            "children": [
              "IPY_MODEL_f47b3a0b5930419aa38b5d040d6d013c",
              "IPY_MODEL_3623cb20583c44189ee784d05d6d89bd",
              "IPY_MODEL_f82b9bdce2944f4fa937fd761c7c16db"
            ],
            "layout": "IPY_MODEL_d9b780a1ad304a9b9b56dd715ae68fe0"
          }
        },
        "f47b3a0b5930419aa38b5d040d6d013c": {
          "model_module": "@jupyter-widgets/controls",
          "model_name": "HTMLModel",
          "model_module_version": "1.5.0",
          "state": {
            "_dom_classes": [],
            "_model_module": "@jupyter-widgets/controls",
            "_model_module_version": "1.5.0",
            "_model_name": "HTMLModel",
            "_view_count": null,
            "_view_module": "@jupyter-widgets/controls",
            "_view_module_version": "1.5.0",
            "_view_name": "HTMLView",
            "description": "",
            "description_tooltip": null,
            "layout": "IPY_MODEL_0c8a02adbe784c47b585a430f5de75d0",
            "placeholder": "​",
            "style": "IPY_MODEL_22b88d2eacc8446db3fce80f42c1b965",
            "value": "Downloading: 100%"
          }
        },
        "3623cb20583c44189ee784d05d6d89bd": {
          "model_module": "@jupyter-widgets/controls",
          "model_name": "FloatProgressModel",
          "model_module_version": "1.5.0",
          "state": {
            "_dom_classes": [],
            "_model_module": "@jupyter-widgets/controls",
            "_model_module_version": "1.5.0",
            "_model_name": "FloatProgressModel",
            "_view_count": null,
            "_view_module": "@jupyter-widgets/controls",
            "_view_module_version": "1.5.0",
            "_view_name": "ProgressView",
            "bar_style": "success",
            "description": "",
            "description_tooltip": null,
            "layout": "IPY_MODEL_d710d4fb437b479393f27af39b327d61",
            "max": 110,
            "min": 0,
            "orientation": "horizontal",
            "style": "IPY_MODEL_e60331cb89ce498791e5b80033c11499",
            "value": 110
          }
        },
        "f82b9bdce2944f4fa937fd761c7c16db": {
          "model_module": "@jupyter-widgets/controls",
          "model_name": "HTMLModel",
          "model_module_version": "1.5.0",
          "state": {
            "_dom_classes": [],
            "_model_module": "@jupyter-widgets/controls",
            "_model_module_version": "1.5.0",
            "_model_name": "HTMLModel",
            "_view_count": null,
            "_view_module": "@jupyter-widgets/controls",
            "_view_module_version": "1.5.0",
            "_view_name": "HTMLView",
            "description": "",
            "description_tooltip": null,
            "layout": "IPY_MODEL_b2d6e88a68a04d23988414ade927a5fe",
            "placeholder": "​",
            "style": "IPY_MODEL_4ee41a6f2cb54078983814f6d6c01c1e",
            "value": " 110/110 [00:00&lt;00:00, 4.35kB/s]"
          }
        },
        "d9b780a1ad304a9b9b56dd715ae68fe0": {
          "model_module": "@jupyter-widgets/base",
          "model_name": "LayoutModel",
          "model_module_version": "1.2.0",
          "state": {
            "_model_module": "@jupyter-widgets/base",
            "_model_module_version": "1.2.0",
            "_model_name": "LayoutModel",
            "_view_count": null,
            "_view_module": "@jupyter-widgets/base",
            "_view_module_version": "1.2.0",
            "_view_name": "LayoutView",
            "align_content": null,
            "align_items": null,
            "align_self": null,
            "border": null,
            "bottom": null,
            "display": null,
            "flex": null,
            "flex_flow": null,
            "grid_area": null,
            "grid_auto_columns": null,
            "grid_auto_flow": null,
            "grid_auto_rows": null,
            "grid_column": null,
            "grid_gap": null,
            "grid_row": null,
            "grid_template_areas": null,
            "grid_template_columns": null,
            "grid_template_rows": null,
            "height": null,
            "justify_content": null,
            "justify_items": null,
            "left": null,
            "margin": null,
            "max_height": null,
            "max_width": null,
            "min_height": null,
            "min_width": null,
            "object_fit": null,
            "object_position": null,
            "order": null,
            "overflow": null,
            "overflow_x": null,
            "overflow_y": null,
            "padding": null,
            "right": null,
            "top": null,
            "visibility": null,
            "width": null
          }
        },
        "0c8a02adbe784c47b585a430f5de75d0": {
          "model_module": "@jupyter-widgets/base",
          "model_name": "LayoutModel",
          "model_module_version": "1.2.0",
          "state": {
            "_model_module": "@jupyter-widgets/base",
            "_model_module_version": "1.2.0",
            "_model_name": "LayoutModel",
            "_view_count": null,
            "_view_module": "@jupyter-widgets/base",
            "_view_module_version": "1.2.0",
            "_view_name": "LayoutView",
            "align_content": null,
            "align_items": null,
            "align_self": null,
            "border": null,
            "bottom": null,
            "display": null,
            "flex": null,
            "flex_flow": null,
            "grid_area": null,
            "grid_auto_columns": null,
            "grid_auto_flow": null,
            "grid_auto_rows": null,
            "grid_column": null,
            "grid_gap": null,
            "grid_row": null,
            "grid_template_areas": null,
            "grid_template_columns": null,
            "grid_template_rows": null,
            "height": null,
            "justify_content": null,
            "justify_items": null,
            "left": null,
            "margin": null,
            "max_height": null,
            "max_width": null,
            "min_height": null,
            "min_width": null,
            "object_fit": null,
            "object_position": null,
            "order": null,
            "overflow": null,
            "overflow_x": null,
            "overflow_y": null,
            "padding": null,
            "right": null,
            "top": null,
            "visibility": null,
            "width": null
          }
        },
        "22b88d2eacc8446db3fce80f42c1b965": {
          "model_module": "@jupyter-widgets/controls",
          "model_name": "DescriptionStyleModel",
          "model_module_version": "1.5.0",
          "state": {
            "_model_module": "@jupyter-widgets/controls",
            "_model_module_version": "1.5.0",
            "_model_name": "DescriptionStyleModel",
            "_view_count": null,
            "_view_module": "@jupyter-widgets/base",
            "_view_module_version": "1.2.0",
            "_view_name": "StyleView",
            "description_width": ""
          }
        },
        "d710d4fb437b479393f27af39b327d61": {
          "model_module": "@jupyter-widgets/base",
          "model_name": "LayoutModel",
          "model_module_version": "1.2.0",
          "state": {
            "_model_module": "@jupyter-widgets/base",
            "_model_module_version": "1.2.0",
            "_model_name": "LayoutModel",
            "_view_count": null,
            "_view_module": "@jupyter-widgets/base",
            "_view_module_version": "1.2.0",
            "_view_name": "LayoutView",
            "align_content": null,
            "align_items": null,
            "align_self": null,
            "border": null,
            "bottom": null,
            "display": null,
            "flex": null,
            "flex_flow": null,
            "grid_area": null,
            "grid_auto_columns": null,
            "grid_auto_flow": null,
            "grid_auto_rows": null,
            "grid_column": null,
            "grid_gap": null,
            "grid_row": null,
            "grid_template_areas": null,
            "grid_template_columns": null,
            "grid_template_rows": null,
            "height": null,
            "justify_content": null,
            "justify_items": null,
            "left": null,
            "margin": null,
            "max_height": null,
            "max_width": null,
            "min_height": null,
            "min_width": null,
            "object_fit": null,
            "object_position": null,
            "order": null,
            "overflow": null,
            "overflow_x": null,
            "overflow_y": null,
            "padding": null,
            "right": null,
            "top": null,
            "visibility": null,
            "width": null
          }
        },
        "e60331cb89ce498791e5b80033c11499": {
          "model_module": "@jupyter-widgets/controls",
          "model_name": "ProgressStyleModel",
          "model_module_version": "1.5.0",
          "state": {
            "_model_module": "@jupyter-widgets/controls",
            "_model_module_version": "1.5.0",
            "_model_name": "ProgressStyleModel",
            "_view_count": null,
            "_view_module": "@jupyter-widgets/base",
            "_view_module_version": "1.2.0",
            "_view_name": "StyleView",
            "bar_color": null,
            "description_width": ""
          }
        },
        "b2d6e88a68a04d23988414ade927a5fe": {
          "model_module": "@jupyter-widgets/base",
          "model_name": "LayoutModel",
          "model_module_version": "1.2.0",
          "state": {
            "_model_module": "@jupyter-widgets/base",
            "_model_module_version": "1.2.0",
            "_model_name": "LayoutModel",
            "_view_count": null,
            "_view_module": "@jupyter-widgets/base",
            "_view_module_version": "1.2.0",
            "_view_name": "LayoutView",
            "align_content": null,
            "align_items": null,
            "align_self": null,
            "border": null,
            "bottom": null,
            "display": null,
            "flex": null,
            "flex_flow": null,
            "grid_area": null,
            "grid_auto_columns": null,
            "grid_auto_flow": null,
            "grid_auto_rows": null,
            "grid_column": null,
            "grid_gap": null,
            "grid_row": null,
            "grid_template_areas": null,
            "grid_template_columns": null,
            "grid_template_rows": null,
            "height": null,
            "justify_content": null,
            "justify_items": null,
            "left": null,
            "margin": null,
            "max_height": null,
            "max_width": null,
            "min_height": null,
            "min_width": null,
            "object_fit": null,
            "object_position": null,
            "order": null,
            "overflow": null,
            "overflow_x": null,
            "overflow_y": null,
            "padding": null,
            "right": null,
            "top": null,
            "visibility": null,
            "width": null
          }
        },
        "4ee41a6f2cb54078983814f6d6c01c1e": {
          "model_module": "@jupyter-widgets/controls",
          "model_name": "DescriptionStyleModel",
          "model_module_version": "1.5.0",
          "state": {
            "_model_module": "@jupyter-widgets/controls",
            "_model_module_version": "1.5.0",
            "_model_name": "DescriptionStyleModel",
            "_view_count": null,
            "_view_module": "@jupyter-widgets/base",
            "_view_module_version": "1.2.0",
            "_view_name": "StyleView",
            "description_width": ""
          }
        },
        "40c92564b88a477ebc7e95b6ed883b4f": {
          "model_module": "@jupyter-widgets/controls",
          "model_name": "HBoxModel",
          "model_module_version": "1.5.0",
          "state": {
            "_dom_classes": [],
            "_model_module": "@jupyter-widgets/controls",
            "_model_module_version": "1.5.0",
            "_model_name": "HBoxModel",
            "_view_count": null,
            "_view_module": "@jupyter-widgets/controls",
            "_view_module_version": "1.5.0",
            "_view_name": "HBoxView",
            "box_style": "",
            "children": [
              "IPY_MODEL_b19285ddb7f841588da01b5adf9cacc8",
              "IPY_MODEL_8ba0d77017ef45d18b83937b7ef2d7aa",
              "IPY_MODEL_a40196aa9c254410a4293b89b9e71b50"
            ],
            "layout": "IPY_MODEL_9fd4b66f3ffc4a298657162eac4eb894"
          }
        },
        "b19285ddb7f841588da01b5adf9cacc8": {
          "model_module": "@jupyter-widgets/controls",
          "model_name": "HTMLModel",
          "model_module_version": "1.5.0",
          "state": {
            "_dom_classes": [],
            "_model_module": "@jupyter-widgets/controls",
            "_model_module_version": "1.5.0",
            "_model_name": "HTMLModel",
            "_view_count": null,
            "_view_module": "@jupyter-widgets/controls",
            "_view_module_version": "1.5.0",
            "_view_name": "HTMLView",
            "description": "",
            "description_tooltip": null,
            "layout": "IPY_MODEL_dd2819d50f1d41b28f0663f5c5baec5c",
            "placeholder": "​",
            "style": "IPY_MODEL_e144db438db747f494aee28ae4bde15d",
            "value": "Downloading: 100%"
          }
        },
        "8ba0d77017ef45d18b83937b7ef2d7aa": {
          "model_module": "@jupyter-widgets/controls",
          "model_name": "FloatProgressModel",
          "model_module_version": "1.5.0",
          "state": {
            "_dom_classes": [],
            "_model_module": "@jupyter-widgets/controls",
            "_model_module_version": "1.5.0",
            "_model_name": "FloatProgressModel",
            "_view_count": null,
            "_view_module": "@jupyter-widgets/controls",
            "_view_module_version": "1.5.0",
            "_view_name": "ProgressView",
            "bar_style": "success",
            "description": "",
            "description_tooltip": null,
            "layout": "IPY_MODEL_1a4a0dc904c749b6a2c667d280c2c824",
            "max": 479,
            "min": 0,
            "orientation": "horizontal",
            "style": "IPY_MODEL_579453b5d8b04e83bdfd787b058cbb43",
            "value": 479
          }
        },
        "a40196aa9c254410a4293b89b9e71b50": {
          "model_module": "@jupyter-widgets/controls",
          "model_name": "HTMLModel",
          "model_module_version": "1.5.0",
          "state": {
            "_dom_classes": [],
            "_model_module": "@jupyter-widgets/controls",
            "_model_module_version": "1.5.0",
            "_model_name": "HTMLModel",
            "_view_count": null,
            "_view_module": "@jupyter-widgets/controls",
            "_view_module_version": "1.5.0",
            "_view_name": "HTMLView",
            "description": "",
            "description_tooltip": null,
            "layout": "IPY_MODEL_c2dee65d8a2140e09fd01243e2ab698c",
            "placeholder": "​",
            "style": "IPY_MODEL_b8b12145b7654f88929fa0ce3ef5f3b8",
            "value": " 479/479 [00:00&lt;00:00, 15.0kB/s]"
          }
        },
        "9fd4b66f3ffc4a298657162eac4eb894": {
          "model_module": "@jupyter-widgets/base",
          "model_name": "LayoutModel",
          "model_module_version": "1.2.0",
          "state": {
            "_model_module": "@jupyter-widgets/base",
            "_model_module_version": "1.2.0",
            "_model_name": "LayoutModel",
            "_view_count": null,
            "_view_module": "@jupyter-widgets/base",
            "_view_module_version": "1.2.0",
            "_view_name": "LayoutView",
            "align_content": null,
            "align_items": null,
            "align_self": null,
            "border": null,
            "bottom": null,
            "display": null,
            "flex": null,
            "flex_flow": null,
            "grid_area": null,
            "grid_auto_columns": null,
            "grid_auto_flow": null,
            "grid_auto_rows": null,
            "grid_column": null,
            "grid_gap": null,
            "grid_row": null,
            "grid_template_areas": null,
            "grid_template_columns": null,
            "grid_template_rows": null,
            "height": null,
            "justify_content": null,
            "justify_items": null,
            "left": null,
            "margin": null,
            "max_height": null,
            "max_width": null,
            "min_height": null,
            "min_width": null,
            "object_fit": null,
            "object_position": null,
            "order": null,
            "overflow": null,
            "overflow_x": null,
            "overflow_y": null,
            "padding": null,
            "right": null,
            "top": null,
            "visibility": null,
            "width": null
          }
        },
        "dd2819d50f1d41b28f0663f5c5baec5c": {
          "model_module": "@jupyter-widgets/base",
          "model_name": "LayoutModel",
          "model_module_version": "1.2.0",
          "state": {
            "_model_module": "@jupyter-widgets/base",
            "_model_module_version": "1.2.0",
            "_model_name": "LayoutModel",
            "_view_count": null,
            "_view_module": "@jupyter-widgets/base",
            "_view_module_version": "1.2.0",
            "_view_name": "LayoutView",
            "align_content": null,
            "align_items": null,
            "align_self": null,
            "border": null,
            "bottom": null,
            "display": null,
            "flex": null,
            "flex_flow": null,
            "grid_area": null,
            "grid_auto_columns": null,
            "grid_auto_flow": null,
            "grid_auto_rows": null,
            "grid_column": null,
            "grid_gap": null,
            "grid_row": null,
            "grid_template_areas": null,
            "grid_template_columns": null,
            "grid_template_rows": null,
            "height": null,
            "justify_content": null,
            "justify_items": null,
            "left": null,
            "margin": null,
            "max_height": null,
            "max_width": null,
            "min_height": null,
            "min_width": null,
            "object_fit": null,
            "object_position": null,
            "order": null,
            "overflow": null,
            "overflow_x": null,
            "overflow_y": null,
            "padding": null,
            "right": null,
            "top": null,
            "visibility": null,
            "width": null
          }
        },
        "e144db438db747f494aee28ae4bde15d": {
          "model_module": "@jupyter-widgets/controls",
          "model_name": "DescriptionStyleModel",
          "model_module_version": "1.5.0",
          "state": {
            "_model_module": "@jupyter-widgets/controls",
            "_model_module_version": "1.5.0",
            "_model_name": "DescriptionStyleModel",
            "_view_count": null,
            "_view_module": "@jupyter-widgets/base",
            "_view_module_version": "1.2.0",
            "_view_name": "StyleView",
            "description_width": ""
          }
        },
        "1a4a0dc904c749b6a2c667d280c2c824": {
          "model_module": "@jupyter-widgets/base",
          "model_name": "LayoutModel",
          "model_module_version": "1.2.0",
          "state": {
            "_model_module": "@jupyter-widgets/base",
            "_model_module_version": "1.2.0",
            "_model_name": "LayoutModel",
            "_view_count": null,
            "_view_module": "@jupyter-widgets/base",
            "_view_module_version": "1.2.0",
            "_view_name": "LayoutView",
            "align_content": null,
            "align_items": null,
            "align_self": null,
            "border": null,
            "bottom": null,
            "display": null,
            "flex": null,
            "flex_flow": null,
            "grid_area": null,
            "grid_auto_columns": null,
            "grid_auto_flow": null,
            "grid_auto_rows": null,
            "grid_column": null,
            "grid_gap": null,
            "grid_row": null,
            "grid_template_areas": null,
            "grid_template_columns": null,
            "grid_template_rows": null,
            "height": null,
            "justify_content": null,
            "justify_items": null,
            "left": null,
            "margin": null,
            "max_height": null,
            "max_width": null,
            "min_height": null,
            "min_width": null,
            "object_fit": null,
            "object_position": null,
            "order": null,
            "overflow": null,
            "overflow_x": null,
            "overflow_y": null,
            "padding": null,
            "right": null,
            "top": null,
            "visibility": null,
            "width": null
          }
        },
        "579453b5d8b04e83bdfd787b058cbb43": {
          "model_module": "@jupyter-widgets/controls",
          "model_name": "ProgressStyleModel",
          "model_module_version": "1.5.0",
          "state": {
            "_model_module": "@jupyter-widgets/controls",
            "_model_module_version": "1.5.0",
            "_model_name": "ProgressStyleModel",
            "_view_count": null,
            "_view_module": "@jupyter-widgets/base",
            "_view_module_version": "1.2.0",
            "_view_name": "StyleView",
            "bar_color": null,
            "description_width": ""
          }
        },
        "c2dee65d8a2140e09fd01243e2ab698c": {
          "model_module": "@jupyter-widgets/base",
          "model_name": "LayoutModel",
          "model_module_version": "1.2.0",
          "state": {
            "_model_module": "@jupyter-widgets/base",
            "_model_module_version": "1.2.0",
            "_model_name": "LayoutModel",
            "_view_count": null,
            "_view_module": "@jupyter-widgets/base",
            "_view_module_version": "1.2.0",
            "_view_name": "LayoutView",
            "align_content": null,
            "align_items": null,
            "align_self": null,
            "border": null,
            "bottom": null,
            "display": null,
            "flex": null,
            "flex_flow": null,
            "grid_area": null,
            "grid_auto_columns": null,
            "grid_auto_flow": null,
            "grid_auto_rows": null,
            "grid_column": null,
            "grid_gap": null,
            "grid_row": null,
            "grid_template_areas": null,
            "grid_template_columns": null,
            "grid_template_rows": null,
            "height": null,
            "justify_content": null,
            "justify_items": null,
            "left": null,
            "margin": null,
            "max_height": null,
            "max_width": null,
            "min_height": null,
            "min_width": null,
            "object_fit": null,
            "object_position": null,
            "order": null,
            "overflow": null,
            "overflow_x": null,
            "overflow_y": null,
            "padding": null,
            "right": null,
            "top": null,
            "visibility": null,
            "width": null
          }
        },
        "b8b12145b7654f88929fa0ce3ef5f3b8": {
          "model_module": "@jupyter-widgets/controls",
          "model_name": "DescriptionStyleModel",
          "model_module_version": "1.5.0",
          "state": {
            "_model_module": "@jupyter-widgets/controls",
            "_model_module_version": "1.5.0",
            "_model_name": "DescriptionStyleModel",
            "_view_count": null,
            "_view_module": "@jupyter-widgets/base",
            "_view_module_version": "1.2.0",
            "_view_name": "StyleView",
            "description_width": ""
          }
        },
        "211d45228d6941edbd48699d6996af92": {
          "model_module": "@jupyter-widgets/controls",
          "model_name": "HBoxModel",
          "model_module_version": "1.5.0",
          "state": {
            "_dom_classes": [],
            "_model_module": "@jupyter-widgets/controls",
            "_model_module_version": "1.5.0",
            "_model_name": "HBoxModel",
            "_view_count": null,
            "_view_module": "@jupyter-widgets/controls",
            "_view_module_version": "1.5.0",
            "_view_name": "HBoxView",
            "box_style": "",
            "children": [
              "IPY_MODEL_aa2dc3deab9f43a49df9caabe666f24e",
              "IPY_MODEL_dd53dd3c78c348cbad696f22dce10063",
              "IPY_MODEL_e4813d656763401ea23f610c0fe5db89"
            ],
            "layout": "IPY_MODEL_41b13924e68f4f75b527df54e054069d"
          }
        },
        "aa2dc3deab9f43a49df9caabe666f24e": {
          "model_module": "@jupyter-widgets/controls",
          "model_name": "HTMLModel",
          "model_module_version": "1.5.0",
          "state": {
            "_dom_classes": [],
            "_model_module": "@jupyter-widgets/controls",
            "_model_module_version": "1.5.0",
            "_model_name": "HTMLModel",
            "_view_count": null,
            "_view_module": "@jupyter-widgets/controls",
            "_view_module_version": "1.5.0",
            "_view_name": "HTMLView",
            "description": "",
            "description_tooltip": null,
            "layout": "IPY_MODEL_0be94edfc3bd4725bd74f5d6f6c671b9",
            "placeholder": "​",
            "style": "IPY_MODEL_3a216e9d86904cf4bb81332c8ded8467",
            "value": "Downloading: 100%"
          }
        },
        "dd53dd3c78c348cbad696f22dce10063": {
          "model_module": "@jupyter-widgets/controls",
          "model_name": "FloatProgressModel",
          "model_module_version": "1.5.0",
          "state": {
            "_dom_classes": [],
            "_model_module": "@jupyter-widgets/controls",
            "_model_module_version": "1.5.0",
            "_model_name": "FloatProgressModel",
            "_view_count": null,
            "_view_module": "@jupyter-widgets/controls",
            "_view_module_version": "1.5.0",
            "_view_name": "ProgressView",
            "bar_style": "success",
            "description": "",
            "description_tooltip": null,
            "layout": "IPY_MODEL_0fbf60310a964348a1c982e70d9314a1",
            "max": 445021143,
            "min": 0,
            "orientation": "horizontal",
            "style": "IPY_MODEL_a11024d672894fa1bedb495a263c6be5",
            "value": 445021143
          }
        },
        "e4813d656763401ea23f610c0fe5db89": {
          "model_module": "@jupyter-widgets/controls",
          "model_name": "HTMLModel",
          "model_module_version": "1.5.0",
          "state": {
            "_dom_classes": [],
            "_model_module": "@jupyter-widgets/controls",
            "_model_module_version": "1.5.0",
            "_model_name": "HTMLModel",
            "_view_count": null,
            "_view_module": "@jupyter-widgets/controls",
            "_view_module_version": "1.5.0",
            "_view_name": "HTMLView",
            "description": "",
            "description_tooltip": null,
            "layout": "IPY_MODEL_dad714a40dd2433eb165cc3bac9cead7",
            "placeholder": "​",
            "style": "IPY_MODEL_1ca3b79f09e746199a4524a001c075f9",
            "value": " 445M/445M [00:07&lt;00:00, 63.7MB/s]"
          }
        },
        "41b13924e68f4f75b527df54e054069d": {
          "model_module": "@jupyter-widgets/base",
          "model_name": "LayoutModel",
          "model_module_version": "1.2.0",
          "state": {
            "_model_module": "@jupyter-widgets/base",
            "_model_module_version": "1.2.0",
            "_model_name": "LayoutModel",
            "_view_count": null,
            "_view_module": "@jupyter-widgets/base",
            "_view_module_version": "1.2.0",
            "_view_name": "LayoutView",
            "align_content": null,
            "align_items": null,
            "align_self": null,
            "border": null,
            "bottom": null,
            "display": null,
            "flex": null,
            "flex_flow": null,
            "grid_area": null,
            "grid_auto_columns": null,
            "grid_auto_flow": null,
            "grid_auto_rows": null,
            "grid_column": null,
            "grid_gap": null,
            "grid_row": null,
            "grid_template_areas": null,
            "grid_template_columns": null,
            "grid_template_rows": null,
            "height": null,
            "justify_content": null,
            "justify_items": null,
            "left": null,
            "margin": null,
            "max_height": null,
            "max_width": null,
            "min_height": null,
            "min_width": null,
            "object_fit": null,
            "object_position": null,
            "order": null,
            "overflow": null,
            "overflow_x": null,
            "overflow_y": null,
            "padding": null,
            "right": null,
            "top": null,
            "visibility": null,
            "width": null
          }
        },
        "0be94edfc3bd4725bd74f5d6f6c671b9": {
          "model_module": "@jupyter-widgets/base",
          "model_name": "LayoutModel",
          "model_module_version": "1.2.0",
          "state": {
            "_model_module": "@jupyter-widgets/base",
            "_model_module_version": "1.2.0",
            "_model_name": "LayoutModel",
            "_view_count": null,
            "_view_module": "@jupyter-widgets/base",
            "_view_module_version": "1.2.0",
            "_view_name": "LayoutView",
            "align_content": null,
            "align_items": null,
            "align_self": null,
            "border": null,
            "bottom": null,
            "display": null,
            "flex": null,
            "flex_flow": null,
            "grid_area": null,
            "grid_auto_columns": null,
            "grid_auto_flow": null,
            "grid_auto_rows": null,
            "grid_column": null,
            "grid_gap": null,
            "grid_row": null,
            "grid_template_areas": null,
            "grid_template_columns": null,
            "grid_template_rows": null,
            "height": null,
            "justify_content": null,
            "justify_items": null,
            "left": null,
            "margin": null,
            "max_height": null,
            "max_width": null,
            "min_height": null,
            "min_width": null,
            "object_fit": null,
            "object_position": null,
            "order": null,
            "overflow": null,
            "overflow_x": null,
            "overflow_y": null,
            "padding": null,
            "right": null,
            "top": null,
            "visibility": null,
            "width": null
          }
        },
        "3a216e9d86904cf4bb81332c8ded8467": {
          "model_module": "@jupyter-widgets/controls",
          "model_name": "DescriptionStyleModel",
          "model_module_version": "1.5.0",
          "state": {
            "_model_module": "@jupyter-widgets/controls",
            "_model_module_version": "1.5.0",
            "_model_name": "DescriptionStyleModel",
            "_view_count": null,
            "_view_module": "@jupyter-widgets/base",
            "_view_module_version": "1.2.0",
            "_view_name": "StyleView",
            "description_width": ""
          }
        },
        "0fbf60310a964348a1c982e70d9314a1": {
          "model_module": "@jupyter-widgets/base",
          "model_name": "LayoutModel",
          "model_module_version": "1.2.0",
          "state": {
            "_model_module": "@jupyter-widgets/base",
            "_model_module_version": "1.2.0",
            "_model_name": "LayoutModel",
            "_view_count": null,
            "_view_module": "@jupyter-widgets/base",
            "_view_module_version": "1.2.0",
            "_view_name": "LayoutView",
            "align_content": null,
            "align_items": null,
            "align_self": null,
            "border": null,
            "bottom": null,
            "display": null,
            "flex": null,
            "flex_flow": null,
            "grid_area": null,
            "grid_auto_columns": null,
            "grid_auto_flow": null,
            "grid_auto_rows": null,
            "grid_column": null,
            "grid_gap": null,
            "grid_row": null,
            "grid_template_areas": null,
            "grid_template_columns": null,
            "grid_template_rows": null,
            "height": null,
            "justify_content": null,
            "justify_items": null,
            "left": null,
            "margin": null,
            "max_height": null,
            "max_width": null,
            "min_height": null,
            "min_width": null,
            "object_fit": null,
            "object_position": null,
            "order": null,
            "overflow": null,
            "overflow_x": null,
            "overflow_y": null,
            "padding": null,
            "right": null,
            "top": null,
            "visibility": null,
            "width": null
          }
        },
        "a11024d672894fa1bedb495a263c6be5": {
          "model_module": "@jupyter-widgets/controls",
          "model_name": "ProgressStyleModel",
          "model_module_version": "1.5.0",
          "state": {
            "_model_module": "@jupyter-widgets/controls",
            "_model_module_version": "1.5.0",
            "_model_name": "ProgressStyleModel",
            "_view_count": null,
            "_view_module": "@jupyter-widgets/base",
            "_view_module_version": "1.2.0",
            "_view_name": "StyleView",
            "bar_color": null,
            "description_width": ""
          }
        },
        "dad714a40dd2433eb165cc3bac9cead7": {
          "model_module": "@jupyter-widgets/base",
          "model_name": "LayoutModel",
          "model_module_version": "1.2.0",
          "state": {
            "_model_module": "@jupyter-widgets/base",
            "_model_module_version": "1.2.0",
            "_model_name": "LayoutModel",
            "_view_count": null,
            "_view_module": "@jupyter-widgets/base",
            "_view_module_version": "1.2.0",
            "_view_name": "LayoutView",
            "align_content": null,
            "align_items": null,
            "align_self": null,
            "border": null,
            "bottom": null,
            "display": null,
            "flex": null,
            "flex_flow": null,
            "grid_area": null,
            "grid_auto_columns": null,
            "grid_auto_flow": null,
            "grid_auto_rows": null,
            "grid_column": null,
            "grid_gap": null,
            "grid_row": null,
            "grid_template_areas": null,
            "grid_template_columns": null,
            "grid_template_rows": null,
            "height": null,
            "justify_content": null,
            "justify_items": null,
            "left": null,
            "margin": null,
            "max_height": null,
            "max_width": null,
            "min_height": null,
            "min_width": null,
            "object_fit": null,
            "object_position": null,
            "order": null,
            "overflow": null,
            "overflow_x": null,
            "overflow_y": null,
            "padding": null,
            "right": null,
            "top": null,
            "visibility": null,
            "width": null
          }
        },
        "1ca3b79f09e746199a4524a001c075f9": {
          "model_module": "@jupyter-widgets/controls",
          "model_name": "DescriptionStyleModel",
          "model_module_version": "1.5.0",
          "state": {
            "_model_module": "@jupyter-widgets/controls",
            "_model_module_version": "1.5.0",
            "_model_name": "DescriptionStyleModel",
            "_view_count": null,
            "_view_module": "@jupyter-widgets/base",
            "_view_module_version": "1.2.0",
            "_view_name": "StyleView",
            "description_width": ""
          }
        },
        "b2771d72e5864e7583b2f5420abc5229": {
          "model_module": "@jupyter-widgets/controls",
          "model_name": "HBoxModel",
          "model_module_version": "1.5.0",
          "state": {
            "_dom_classes": [],
            "_model_module": "@jupyter-widgets/controls",
            "_model_module_version": "1.5.0",
            "_model_name": "HBoxModel",
            "_view_count": null,
            "_view_module": "@jupyter-widgets/controls",
            "_view_module_version": "1.5.0",
            "_view_name": "HBoxView",
            "box_style": "",
            "children": [
              "IPY_MODEL_3d248d80208742bf9d627bb3c3476eba",
              "IPY_MODEL_b22e07ce19d94d918b74db2f9b915ac0",
              "IPY_MODEL_4954f31e3a6f434a8e6a86dd6690041c"
            ],
            "layout": "IPY_MODEL_34b8a7e3085548dfbc39776829e8e378"
          }
        },
        "3d248d80208742bf9d627bb3c3476eba": {
          "model_module": "@jupyter-widgets/controls",
          "model_name": "HTMLModel",
          "model_module_version": "1.5.0",
          "state": {
            "_dom_classes": [],
            "_model_module": "@jupyter-widgets/controls",
            "_model_module_version": "1.5.0",
            "_model_name": "HTMLModel",
            "_view_count": null,
            "_view_module": "@jupyter-widgets/controls",
            "_view_module_version": "1.5.0",
            "_view_name": "HTMLView",
            "description": "",
            "description_tooltip": null,
            "layout": "IPY_MODEL_11b6a71d45724037896ba25f5cf752cc",
            "placeholder": "​",
            "style": "IPY_MODEL_7fe1195d9cd14375888a2e1f980c0c6f",
            "value": "Validation sanity check: 100%"
          }
        },
        "b22e07ce19d94d918b74db2f9b915ac0": {
          "model_module": "@jupyter-widgets/controls",
          "model_name": "FloatProgressModel",
          "model_module_version": "1.5.0",
          "state": {
            "_dom_classes": [],
            "_model_module": "@jupyter-widgets/controls",
            "_model_module_version": "1.5.0",
            "_model_name": "FloatProgressModel",
            "_view_count": null,
            "_view_module": "@jupyter-widgets/controls",
            "_view_module_version": "1.5.0",
            "_view_name": "ProgressView",
            "bar_style": "",
            "description": "",
            "description_tooltip": null,
            "layout": "IPY_MODEL_fd31ff671f8e460389e4621174f8719e",
            "max": 2,
            "min": 0,
            "orientation": "horizontal",
            "style": "IPY_MODEL_1c5217d73a4f4e5cbb4b3900039fccd4",
            "value": 2
          }
        },
        "4954f31e3a6f434a8e6a86dd6690041c": {
          "model_module": "@jupyter-widgets/controls",
          "model_name": "HTMLModel",
          "model_module_version": "1.5.0",
          "state": {
            "_dom_classes": [],
            "_model_module": "@jupyter-widgets/controls",
            "_model_module_version": "1.5.0",
            "_model_name": "HTMLModel",
            "_view_count": null,
            "_view_module": "@jupyter-widgets/controls",
            "_view_module_version": "1.5.0",
            "_view_name": "HTMLView",
            "description": "",
            "description_tooltip": null,
            "layout": "IPY_MODEL_58af5e735a954e00ac390192f5cd87d5",
            "placeholder": "​",
            "style": "IPY_MODEL_a52bba56eeda4093beb08e14cd8b14bb",
            "value": " 2/2 [00:00&lt;00:00, 13.03it/s]"
          }
        },
        "34b8a7e3085548dfbc39776829e8e378": {
          "model_module": "@jupyter-widgets/base",
          "model_name": "LayoutModel",
          "model_module_version": "1.2.0",
          "state": {
            "_model_module": "@jupyter-widgets/base",
            "_model_module_version": "1.2.0",
            "_model_name": "LayoutModel",
            "_view_count": null,
            "_view_module": "@jupyter-widgets/base",
            "_view_module_version": "1.2.0",
            "_view_name": "LayoutView",
            "align_content": null,
            "align_items": null,
            "align_self": null,
            "border": null,
            "bottom": null,
            "display": "inline-flex",
            "flex": null,
            "flex_flow": "row wrap",
            "grid_area": null,
            "grid_auto_columns": null,
            "grid_auto_flow": null,
            "grid_auto_rows": null,
            "grid_column": null,
            "grid_gap": null,
            "grid_row": null,
            "grid_template_areas": null,
            "grid_template_columns": null,
            "grid_template_rows": null,
            "height": null,
            "justify_content": null,
            "justify_items": null,
            "left": null,
            "margin": null,
            "max_height": null,
            "max_width": null,
            "min_height": null,
            "min_width": null,
            "object_fit": null,
            "object_position": null,
            "order": null,
            "overflow": null,
            "overflow_x": null,
            "overflow_y": null,
            "padding": null,
            "right": null,
            "top": null,
            "visibility": null,
            "width": "100%"
          }
        },
        "11b6a71d45724037896ba25f5cf752cc": {
          "model_module": "@jupyter-widgets/base",
          "model_name": "LayoutModel",
          "model_module_version": "1.2.0",
          "state": {
            "_model_module": "@jupyter-widgets/base",
            "_model_module_version": "1.2.0",
            "_model_name": "LayoutModel",
            "_view_count": null,
            "_view_module": "@jupyter-widgets/base",
            "_view_module_version": "1.2.0",
            "_view_name": "LayoutView",
            "align_content": null,
            "align_items": null,
            "align_self": null,
            "border": null,
            "bottom": null,
            "display": null,
            "flex": null,
            "flex_flow": null,
            "grid_area": null,
            "grid_auto_columns": null,
            "grid_auto_flow": null,
            "grid_auto_rows": null,
            "grid_column": null,
            "grid_gap": null,
            "grid_row": null,
            "grid_template_areas": null,
            "grid_template_columns": null,
            "grid_template_rows": null,
            "height": null,
            "justify_content": null,
            "justify_items": null,
            "left": null,
            "margin": null,
            "max_height": null,
            "max_width": null,
            "min_height": null,
            "min_width": null,
            "object_fit": null,
            "object_position": null,
            "order": null,
            "overflow": null,
            "overflow_x": null,
            "overflow_y": null,
            "padding": null,
            "right": null,
            "top": null,
            "visibility": null,
            "width": null
          }
        },
        "7fe1195d9cd14375888a2e1f980c0c6f": {
          "model_module": "@jupyter-widgets/controls",
          "model_name": "DescriptionStyleModel",
          "model_module_version": "1.5.0",
          "state": {
            "_model_module": "@jupyter-widgets/controls",
            "_model_module_version": "1.5.0",
            "_model_name": "DescriptionStyleModel",
            "_view_count": null,
            "_view_module": "@jupyter-widgets/base",
            "_view_module_version": "1.2.0",
            "_view_name": "StyleView",
            "description_width": ""
          }
        },
        "fd31ff671f8e460389e4621174f8719e": {
          "model_module": "@jupyter-widgets/base",
          "model_name": "LayoutModel",
          "model_module_version": "1.2.0",
          "state": {
            "_model_module": "@jupyter-widgets/base",
            "_model_module_version": "1.2.0",
            "_model_name": "LayoutModel",
            "_view_count": null,
            "_view_module": "@jupyter-widgets/base",
            "_view_module_version": "1.2.0",
            "_view_name": "LayoutView",
            "align_content": null,
            "align_items": null,
            "align_self": null,
            "border": null,
            "bottom": null,
            "display": null,
            "flex": "2",
            "flex_flow": null,
            "grid_area": null,
            "grid_auto_columns": null,
            "grid_auto_flow": null,
            "grid_auto_rows": null,
            "grid_column": null,
            "grid_gap": null,
            "grid_row": null,
            "grid_template_areas": null,
            "grid_template_columns": null,
            "grid_template_rows": null,
            "height": null,
            "justify_content": null,
            "justify_items": null,
            "left": null,
            "margin": null,
            "max_height": null,
            "max_width": null,
            "min_height": null,
            "min_width": null,
            "object_fit": null,
            "object_position": null,
            "order": null,
            "overflow": null,
            "overflow_x": null,
            "overflow_y": null,
            "padding": null,
            "right": null,
            "top": null,
            "visibility": null,
            "width": null
          }
        },
        "1c5217d73a4f4e5cbb4b3900039fccd4": {
          "model_module": "@jupyter-widgets/controls",
          "model_name": "ProgressStyleModel",
          "model_module_version": "1.5.0",
          "state": {
            "_model_module": "@jupyter-widgets/controls",
            "_model_module_version": "1.5.0",
            "_model_name": "ProgressStyleModel",
            "_view_count": null,
            "_view_module": "@jupyter-widgets/base",
            "_view_module_version": "1.2.0",
            "_view_name": "StyleView",
            "bar_color": null,
            "description_width": ""
          }
        },
        "58af5e735a954e00ac390192f5cd87d5": {
          "model_module": "@jupyter-widgets/base",
          "model_name": "LayoutModel",
          "model_module_version": "1.2.0",
          "state": {
            "_model_module": "@jupyter-widgets/base",
            "_model_module_version": "1.2.0",
            "_model_name": "LayoutModel",
            "_view_count": null,
            "_view_module": "@jupyter-widgets/base",
            "_view_module_version": "1.2.0",
            "_view_name": "LayoutView",
            "align_content": null,
            "align_items": null,
            "align_self": null,
            "border": null,
            "bottom": null,
            "display": null,
            "flex": null,
            "flex_flow": null,
            "grid_area": null,
            "grid_auto_columns": null,
            "grid_auto_flow": null,
            "grid_auto_rows": null,
            "grid_column": null,
            "grid_gap": null,
            "grid_row": null,
            "grid_template_areas": null,
            "grid_template_columns": null,
            "grid_template_rows": null,
            "height": null,
            "justify_content": null,
            "justify_items": null,
            "left": null,
            "margin": null,
            "max_height": null,
            "max_width": null,
            "min_height": null,
            "min_width": null,
            "object_fit": null,
            "object_position": null,
            "order": null,
            "overflow": null,
            "overflow_x": null,
            "overflow_y": null,
            "padding": null,
            "right": null,
            "top": null,
            "visibility": null,
            "width": null
          }
        },
        "a52bba56eeda4093beb08e14cd8b14bb": {
          "model_module": "@jupyter-widgets/controls",
          "model_name": "DescriptionStyleModel",
          "model_module_version": "1.5.0",
          "state": {
            "_model_module": "@jupyter-widgets/controls",
            "_model_module_version": "1.5.0",
            "_model_name": "DescriptionStyleModel",
            "_view_count": null,
            "_view_module": "@jupyter-widgets/base",
            "_view_module_version": "1.2.0",
            "_view_name": "StyleView",
            "description_width": ""
          }
        },
        "f94f27e203694d3a8c2790d470387742": {
          "model_module": "@jupyter-widgets/controls",
          "model_name": "HBoxModel",
          "model_module_version": "1.5.0",
          "state": {
            "_dom_classes": [],
            "_model_module": "@jupyter-widgets/controls",
            "_model_module_version": "1.5.0",
            "_model_name": "HBoxModel",
            "_view_count": null,
            "_view_module": "@jupyter-widgets/controls",
            "_view_module_version": "1.5.0",
            "_view_name": "HBoxView",
            "box_style": "",
            "children": [
              "IPY_MODEL_4c850dceac7a4e538725049de8636061",
              "IPY_MODEL_8ae0b9ddecf54aa1b24389137ee55121",
              "IPY_MODEL_f504e7052fe84032ad130b1c0a41028e"
            ],
            "layout": "IPY_MODEL_93ba67d3ee704f658cae4d1d1053a153"
          }
        },
        "4c850dceac7a4e538725049de8636061": {
          "model_module": "@jupyter-widgets/controls",
          "model_name": "HTMLModel",
          "model_module_version": "1.5.0",
          "state": {
            "_dom_classes": [],
            "_model_module": "@jupyter-widgets/controls",
            "_model_module_version": "1.5.0",
            "_model_name": "HTMLModel",
            "_view_count": null,
            "_view_module": "@jupyter-widgets/controls",
            "_view_module_version": "1.5.0",
            "_view_name": "HTMLView",
            "description": "",
            "description_tooltip": null,
            "layout": "IPY_MODEL_a9f3fb4730aa4244abcd3423435b955f",
            "placeholder": "​",
            "style": "IPY_MODEL_2212faf10d73464f9070f1ddd10105a5",
            "value": "Epoch 5: 100%"
          }
        },
        "8ae0b9ddecf54aa1b24389137ee55121": {
          "model_module": "@jupyter-widgets/controls",
          "model_name": "FloatProgressModel",
          "model_module_version": "1.5.0",
          "state": {
            "_dom_classes": [],
            "_model_module": "@jupyter-widgets/controls",
            "_model_module_version": "1.5.0",
            "_model_name": "FloatProgressModel",
            "_view_count": null,
            "_view_module": "@jupyter-widgets/controls",
            "_view_module_version": "1.5.0",
            "_view_name": "ProgressView",
            "bar_style": "success",
            "description": "",
            "description_tooltip": null,
            "layout": "IPY_MODEL_0102c164aa37425ea91403a4930515f5",
            "max": 124,
            "min": 0,
            "orientation": "horizontal",
            "style": "IPY_MODEL_fcb2099c4b09439499a51b71b215e5ae",
            "value": 124
          }
        },
        "f504e7052fe84032ad130b1c0a41028e": {
          "model_module": "@jupyter-widgets/controls",
          "model_name": "HTMLModel",
          "model_module_version": "1.5.0",
          "state": {
            "_dom_classes": [],
            "_model_module": "@jupyter-widgets/controls",
            "_model_module_version": "1.5.0",
            "_model_name": "HTMLModel",
            "_view_count": null,
            "_view_module": "@jupyter-widgets/controls",
            "_view_module_version": "1.5.0",
            "_view_name": "HTMLView",
            "description": "",
            "description_tooltip": null,
            "layout": "IPY_MODEL_2d20252d95b548da956ae7976b4a93ff",
            "placeholder": "​",
            "style": "IPY_MODEL_567707a8bfd34ddd9e10689830897b9a",
            "value": " 124/124 [00:19&lt;00:00,  6.41it/s, loss=0.239, v_num=0]"
          }
        },
        "93ba67d3ee704f658cae4d1d1053a153": {
          "model_module": "@jupyter-widgets/base",
          "model_name": "LayoutModel",
          "model_module_version": "1.2.0",
          "state": {
            "_model_module": "@jupyter-widgets/base",
            "_model_module_version": "1.2.0",
            "_model_name": "LayoutModel",
            "_view_count": null,
            "_view_module": "@jupyter-widgets/base",
            "_view_module_version": "1.2.0",
            "_view_name": "LayoutView",
            "align_content": null,
            "align_items": null,
            "align_self": null,
            "border": null,
            "bottom": null,
            "display": "inline-flex",
            "flex": null,
            "flex_flow": "row wrap",
            "grid_area": null,
            "grid_auto_columns": null,
            "grid_auto_flow": null,
            "grid_auto_rows": null,
            "grid_column": null,
            "grid_gap": null,
            "grid_row": null,
            "grid_template_areas": null,
            "grid_template_columns": null,
            "grid_template_rows": null,
            "height": null,
            "justify_content": null,
            "justify_items": null,
            "left": null,
            "margin": null,
            "max_height": null,
            "max_width": null,
            "min_height": null,
            "min_width": null,
            "object_fit": null,
            "object_position": null,
            "order": null,
            "overflow": null,
            "overflow_x": null,
            "overflow_y": null,
            "padding": null,
            "right": null,
            "top": null,
            "visibility": null,
            "width": "100%"
          }
        },
        "a9f3fb4730aa4244abcd3423435b955f": {
          "model_module": "@jupyter-widgets/base",
          "model_name": "LayoutModel",
          "model_module_version": "1.2.0",
          "state": {
            "_model_module": "@jupyter-widgets/base",
            "_model_module_version": "1.2.0",
            "_model_name": "LayoutModel",
            "_view_count": null,
            "_view_module": "@jupyter-widgets/base",
            "_view_module_version": "1.2.0",
            "_view_name": "LayoutView",
            "align_content": null,
            "align_items": null,
            "align_self": null,
            "border": null,
            "bottom": null,
            "display": null,
            "flex": null,
            "flex_flow": null,
            "grid_area": null,
            "grid_auto_columns": null,
            "grid_auto_flow": null,
            "grid_auto_rows": null,
            "grid_column": null,
            "grid_gap": null,
            "grid_row": null,
            "grid_template_areas": null,
            "grid_template_columns": null,
            "grid_template_rows": null,
            "height": null,
            "justify_content": null,
            "justify_items": null,
            "left": null,
            "margin": null,
            "max_height": null,
            "max_width": null,
            "min_height": null,
            "min_width": null,
            "object_fit": null,
            "object_position": null,
            "order": null,
            "overflow": null,
            "overflow_x": null,
            "overflow_y": null,
            "padding": null,
            "right": null,
            "top": null,
            "visibility": null,
            "width": null
          }
        },
        "2212faf10d73464f9070f1ddd10105a5": {
          "model_module": "@jupyter-widgets/controls",
          "model_name": "DescriptionStyleModel",
          "model_module_version": "1.5.0",
          "state": {
            "_model_module": "@jupyter-widgets/controls",
            "_model_module_version": "1.5.0",
            "_model_name": "DescriptionStyleModel",
            "_view_count": null,
            "_view_module": "@jupyter-widgets/base",
            "_view_module_version": "1.2.0",
            "_view_name": "StyleView",
            "description_width": ""
          }
        },
        "0102c164aa37425ea91403a4930515f5": {
          "model_module": "@jupyter-widgets/base",
          "model_name": "LayoutModel",
          "model_module_version": "1.2.0",
          "state": {
            "_model_module": "@jupyter-widgets/base",
            "_model_module_version": "1.2.0",
            "_model_name": "LayoutModel",
            "_view_count": null,
            "_view_module": "@jupyter-widgets/base",
            "_view_module_version": "1.2.0",
            "_view_name": "LayoutView",
            "align_content": null,
            "align_items": null,
            "align_self": null,
            "border": null,
            "bottom": null,
            "display": null,
            "flex": "2",
            "flex_flow": null,
            "grid_area": null,
            "grid_auto_columns": null,
            "grid_auto_flow": null,
            "grid_auto_rows": null,
            "grid_column": null,
            "grid_gap": null,
            "grid_row": null,
            "grid_template_areas": null,
            "grid_template_columns": null,
            "grid_template_rows": null,
            "height": null,
            "justify_content": null,
            "justify_items": null,
            "left": null,
            "margin": null,
            "max_height": null,
            "max_width": null,
            "min_height": null,
            "min_width": null,
            "object_fit": null,
            "object_position": null,
            "order": null,
            "overflow": null,
            "overflow_x": null,
            "overflow_y": null,
            "padding": null,
            "right": null,
            "top": null,
            "visibility": null,
            "width": null
          }
        },
        "fcb2099c4b09439499a51b71b215e5ae": {
          "model_module": "@jupyter-widgets/controls",
          "model_name": "ProgressStyleModel",
          "model_module_version": "1.5.0",
          "state": {
            "_model_module": "@jupyter-widgets/controls",
            "_model_module_version": "1.5.0",
            "_model_name": "ProgressStyleModel",
            "_view_count": null,
            "_view_module": "@jupyter-widgets/base",
            "_view_module_version": "1.2.0",
            "_view_name": "StyleView",
            "bar_color": null,
            "description_width": ""
          }
        },
        "2d20252d95b548da956ae7976b4a93ff": {
          "model_module": "@jupyter-widgets/base",
          "model_name": "LayoutModel",
          "model_module_version": "1.2.0",
          "state": {
            "_model_module": "@jupyter-widgets/base",
            "_model_module_version": "1.2.0",
            "_model_name": "LayoutModel",
            "_view_count": null,
            "_view_module": "@jupyter-widgets/base",
            "_view_module_version": "1.2.0",
            "_view_name": "LayoutView",
            "align_content": null,
            "align_items": null,
            "align_self": null,
            "border": null,
            "bottom": null,
            "display": null,
            "flex": null,
            "flex_flow": null,
            "grid_area": null,
            "grid_auto_columns": null,
            "grid_auto_flow": null,
            "grid_auto_rows": null,
            "grid_column": null,
            "grid_gap": null,
            "grid_row": null,
            "grid_template_areas": null,
            "grid_template_columns": null,
            "grid_template_rows": null,
            "height": null,
            "justify_content": null,
            "justify_items": null,
            "left": null,
            "margin": null,
            "max_height": null,
            "max_width": null,
            "min_height": null,
            "min_width": null,
            "object_fit": null,
            "object_position": null,
            "order": null,
            "overflow": null,
            "overflow_x": null,
            "overflow_y": null,
            "padding": null,
            "right": null,
            "top": null,
            "visibility": null,
            "width": null
          }
        },
        "567707a8bfd34ddd9e10689830897b9a": {
          "model_module": "@jupyter-widgets/controls",
          "model_name": "DescriptionStyleModel",
          "model_module_version": "1.5.0",
          "state": {
            "_model_module": "@jupyter-widgets/controls",
            "_model_module_version": "1.5.0",
            "_model_name": "DescriptionStyleModel",
            "_view_count": null,
            "_view_module": "@jupyter-widgets/base",
            "_view_module_version": "1.2.0",
            "_view_name": "StyleView",
            "description_width": ""
          }
        },
        "8d77cfe7850c44369816d5078370eaca": {
          "model_module": "@jupyter-widgets/controls",
          "model_name": "HBoxModel",
          "model_module_version": "1.5.0",
          "state": {
            "_dom_classes": [],
            "_model_module": "@jupyter-widgets/controls",
            "_model_module_version": "1.5.0",
            "_model_name": "HBoxModel",
            "_view_count": null,
            "_view_module": "@jupyter-widgets/controls",
            "_view_module_version": "1.5.0",
            "_view_name": "HBoxView",
            "box_style": "",
            "children": [
              "IPY_MODEL_59bc49a006394ee18315ca18e41fa56f",
              "IPY_MODEL_0c179b3115344dddad71a1346806f61f",
              "IPY_MODEL_952950e6ef324b89a3ccb23106116591"
            ],
            "layout": "IPY_MODEL_dec24d23d3004dc3ad755be81a6de2b7"
          }
        },
        "59bc49a006394ee18315ca18e41fa56f": {
          "model_module": "@jupyter-widgets/controls",
          "model_name": "HTMLModel",
          "model_module_version": "1.5.0",
          "state": {
            "_dom_classes": [],
            "_model_module": "@jupyter-widgets/controls",
            "_model_module_version": "1.5.0",
            "_model_name": "HTMLModel",
            "_view_count": null,
            "_view_module": "@jupyter-widgets/controls",
            "_view_module_version": "1.5.0",
            "_view_name": "HTMLView",
            "description": "",
            "description_tooltip": null,
            "layout": "IPY_MODEL_9e1861da8e0744399dc94678bca950c2",
            "placeholder": "​",
            "style": "IPY_MODEL_57d89bfb87484c688a7a4ca783fc8bea",
            "value": "Validating: 100%"
          }
        },
        "0c179b3115344dddad71a1346806f61f": {
          "model_module": "@jupyter-widgets/controls",
          "model_name": "FloatProgressModel",
          "model_module_version": "1.5.0",
          "state": {
            "_dom_classes": [],
            "_model_module": "@jupyter-widgets/controls",
            "_model_module_version": "1.5.0",
            "_model_name": "FloatProgressModel",
            "_view_count": null,
            "_view_module": "@jupyter-widgets/controls",
            "_view_module_version": "1.5.0",
            "_view_name": "ProgressView",
            "bar_style": "",
            "description": "",
            "description_tooltip": null,
            "layout": "IPY_MODEL_e0e04209075d4a2da21459636d11d6d5",
            "max": 37,
            "min": 0,
            "orientation": "horizontal",
            "style": "IPY_MODEL_2bdf271d35ba4cec9598e6cdd034a8a8",
            "value": 37
          }
        },
        "952950e6ef324b89a3ccb23106116591": {
          "model_module": "@jupyter-widgets/controls",
          "model_name": "HTMLModel",
          "model_module_version": "1.5.0",
          "state": {
            "_dom_classes": [],
            "_model_module": "@jupyter-widgets/controls",
            "_model_module_version": "1.5.0",
            "_model_name": "HTMLModel",
            "_view_count": null,
            "_view_module": "@jupyter-widgets/controls",
            "_view_module_version": "1.5.0",
            "_view_name": "HTMLView",
            "description": "",
            "description_tooltip": null,
            "layout": "IPY_MODEL_67f9dee8bc0f4f8fad6ae796c1b1e839",
            "placeholder": "​",
            "style": "IPY_MODEL_d17f905e2be641579d2fef5493a3e21e",
            "value": " 37/37 [00:02&lt;00:00, 16.19it/s]"
          }
        },
        "dec24d23d3004dc3ad755be81a6de2b7": {
          "model_module": "@jupyter-widgets/base",
          "model_name": "LayoutModel",
          "model_module_version": "1.2.0",
          "state": {
            "_model_module": "@jupyter-widgets/base",
            "_model_module_version": "1.2.0",
            "_model_name": "LayoutModel",
            "_view_count": null,
            "_view_module": "@jupyter-widgets/base",
            "_view_module_version": "1.2.0",
            "_view_name": "LayoutView",
            "align_content": null,
            "align_items": null,
            "align_self": null,
            "border": null,
            "bottom": null,
            "display": "inline-flex",
            "flex": null,
            "flex_flow": "row wrap",
            "grid_area": null,
            "grid_auto_columns": null,
            "grid_auto_flow": null,
            "grid_auto_rows": null,
            "grid_column": null,
            "grid_gap": null,
            "grid_row": null,
            "grid_template_areas": null,
            "grid_template_columns": null,
            "grid_template_rows": null,
            "height": null,
            "justify_content": null,
            "justify_items": null,
            "left": null,
            "margin": null,
            "max_height": null,
            "max_width": null,
            "min_height": null,
            "min_width": null,
            "object_fit": null,
            "object_position": null,
            "order": null,
            "overflow": null,
            "overflow_x": null,
            "overflow_y": null,
            "padding": null,
            "right": null,
            "top": null,
            "visibility": null,
            "width": "100%"
          }
        },
        "9e1861da8e0744399dc94678bca950c2": {
          "model_module": "@jupyter-widgets/base",
          "model_name": "LayoutModel",
          "model_module_version": "1.2.0",
          "state": {
            "_model_module": "@jupyter-widgets/base",
            "_model_module_version": "1.2.0",
            "_model_name": "LayoutModel",
            "_view_count": null,
            "_view_module": "@jupyter-widgets/base",
            "_view_module_version": "1.2.0",
            "_view_name": "LayoutView",
            "align_content": null,
            "align_items": null,
            "align_self": null,
            "border": null,
            "bottom": null,
            "display": null,
            "flex": null,
            "flex_flow": null,
            "grid_area": null,
            "grid_auto_columns": null,
            "grid_auto_flow": null,
            "grid_auto_rows": null,
            "grid_column": null,
            "grid_gap": null,
            "grid_row": null,
            "grid_template_areas": null,
            "grid_template_columns": null,
            "grid_template_rows": null,
            "height": null,
            "justify_content": null,
            "justify_items": null,
            "left": null,
            "margin": null,
            "max_height": null,
            "max_width": null,
            "min_height": null,
            "min_width": null,
            "object_fit": null,
            "object_position": null,
            "order": null,
            "overflow": null,
            "overflow_x": null,
            "overflow_y": null,
            "padding": null,
            "right": null,
            "top": null,
            "visibility": null,
            "width": null
          }
        },
        "57d89bfb87484c688a7a4ca783fc8bea": {
          "model_module": "@jupyter-widgets/controls",
          "model_name": "DescriptionStyleModel",
          "model_module_version": "1.5.0",
          "state": {
            "_model_module": "@jupyter-widgets/controls",
            "_model_module_version": "1.5.0",
            "_model_name": "DescriptionStyleModel",
            "_view_count": null,
            "_view_module": "@jupyter-widgets/base",
            "_view_module_version": "1.2.0",
            "_view_name": "StyleView",
            "description_width": ""
          }
        },
        "e0e04209075d4a2da21459636d11d6d5": {
          "model_module": "@jupyter-widgets/base",
          "model_name": "LayoutModel",
          "model_module_version": "1.2.0",
          "state": {
            "_model_module": "@jupyter-widgets/base",
            "_model_module_version": "1.2.0",
            "_model_name": "LayoutModel",
            "_view_count": null,
            "_view_module": "@jupyter-widgets/base",
            "_view_module_version": "1.2.0",
            "_view_name": "LayoutView",
            "align_content": null,
            "align_items": null,
            "align_self": null,
            "border": null,
            "bottom": null,
            "display": null,
            "flex": "2",
            "flex_flow": null,
            "grid_area": null,
            "grid_auto_columns": null,
            "grid_auto_flow": null,
            "grid_auto_rows": null,
            "grid_column": null,
            "grid_gap": null,
            "grid_row": null,
            "grid_template_areas": null,
            "grid_template_columns": null,
            "grid_template_rows": null,
            "height": null,
            "justify_content": null,
            "justify_items": null,
            "left": null,
            "margin": null,
            "max_height": null,
            "max_width": null,
            "min_height": null,
            "min_width": null,
            "object_fit": null,
            "object_position": null,
            "order": null,
            "overflow": null,
            "overflow_x": null,
            "overflow_y": null,
            "padding": null,
            "right": null,
            "top": null,
            "visibility": null,
            "width": null
          }
        },
        "2bdf271d35ba4cec9598e6cdd034a8a8": {
          "model_module": "@jupyter-widgets/controls",
          "model_name": "ProgressStyleModel",
          "model_module_version": "1.5.0",
          "state": {
            "_model_module": "@jupyter-widgets/controls",
            "_model_module_version": "1.5.0",
            "_model_name": "ProgressStyleModel",
            "_view_count": null,
            "_view_module": "@jupyter-widgets/base",
            "_view_module_version": "1.2.0",
            "_view_name": "StyleView",
            "bar_color": null,
            "description_width": ""
          }
        },
        "67f9dee8bc0f4f8fad6ae796c1b1e839": {
          "model_module": "@jupyter-widgets/base",
          "model_name": "LayoutModel",
          "model_module_version": "1.2.0",
          "state": {
            "_model_module": "@jupyter-widgets/base",
            "_model_module_version": "1.2.0",
            "_model_name": "LayoutModel",
            "_view_count": null,
            "_view_module": "@jupyter-widgets/base",
            "_view_module_version": "1.2.0",
            "_view_name": "LayoutView",
            "align_content": null,
            "align_items": null,
            "align_self": null,
            "border": null,
            "bottom": null,
            "display": null,
            "flex": null,
            "flex_flow": null,
            "grid_area": null,
            "grid_auto_columns": null,
            "grid_auto_flow": null,
            "grid_auto_rows": null,
            "grid_column": null,
            "grid_gap": null,
            "grid_row": null,
            "grid_template_areas": null,
            "grid_template_columns": null,
            "grid_template_rows": null,
            "height": null,
            "justify_content": null,
            "justify_items": null,
            "left": null,
            "margin": null,
            "max_height": null,
            "max_width": null,
            "min_height": null,
            "min_width": null,
            "object_fit": null,
            "object_position": null,
            "order": null,
            "overflow": null,
            "overflow_x": null,
            "overflow_y": null,
            "padding": null,
            "right": null,
            "top": null,
            "visibility": null,
            "width": null
          }
        },
        "d17f905e2be641579d2fef5493a3e21e": {
          "model_module": "@jupyter-widgets/controls",
          "model_name": "DescriptionStyleModel",
          "model_module_version": "1.5.0",
          "state": {
            "_model_module": "@jupyter-widgets/controls",
            "_model_module_version": "1.5.0",
            "_model_name": "DescriptionStyleModel",
            "_view_count": null,
            "_view_module": "@jupyter-widgets/base",
            "_view_module_version": "1.2.0",
            "_view_name": "StyleView",
            "description_width": ""
          }
        },
        "a1de56bdb493447c9e3cd5c236202139": {
          "model_module": "@jupyter-widgets/controls",
          "model_name": "HBoxModel",
          "model_module_version": "1.5.0",
          "state": {
            "_dom_classes": [],
            "_model_module": "@jupyter-widgets/controls",
            "_model_module_version": "1.5.0",
            "_model_name": "HBoxModel",
            "_view_count": null,
            "_view_module": "@jupyter-widgets/controls",
            "_view_module_version": "1.5.0",
            "_view_name": "HBoxView",
            "box_style": "",
            "children": [
              "IPY_MODEL_11aaf422468a43f9a647daa438075e9e",
              "IPY_MODEL_9ffb34bcdb5042c5a5fb78851f6ebbd9",
              "IPY_MODEL_5ceae69e985f4c2fb3732913119d5b3b"
            ],
            "layout": "IPY_MODEL_13420ee9d11a4a6b8579861640c2e4ee"
          }
        },
        "11aaf422468a43f9a647daa438075e9e": {
          "model_module": "@jupyter-widgets/controls",
          "model_name": "HTMLModel",
          "model_module_version": "1.5.0",
          "state": {
            "_dom_classes": [],
            "_model_module": "@jupyter-widgets/controls",
            "_model_module_version": "1.5.0",
            "_model_name": "HTMLModel",
            "_view_count": null,
            "_view_module": "@jupyter-widgets/controls",
            "_view_module_version": "1.5.0",
            "_view_name": "HTMLView",
            "description": "",
            "description_tooltip": null,
            "layout": "IPY_MODEL_40d03ca8d504465fa046086e532255ac",
            "placeholder": "​",
            "style": "IPY_MODEL_905b2cae308a4c02833a5b6bc06cf693",
            "value": "Validating: 100%"
          }
        },
        "9ffb34bcdb5042c5a5fb78851f6ebbd9": {
          "model_module": "@jupyter-widgets/controls",
          "model_name": "FloatProgressModel",
          "model_module_version": "1.5.0",
          "state": {
            "_dom_classes": [],
            "_model_module": "@jupyter-widgets/controls",
            "_model_module_version": "1.5.0",
            "_model_name": "FloatProgressModel",
            "_view_count": null,
            "_view_module": "@jupyter-widgets/controls",
            "_view_module_version": "1.5.0",
            "_view_name": "ProgressView",
            "bar_style": "",
            "description": "",
            "description_tooltip": null,
            "layout": "IPY_MODEL_88e43c852d2944928be70fd1a4361ba0",
            "max": 37,
            "min": 0,
            "orientation": "horizontal",
            "style": "IPY_MODEL_e90a849106774e02ae6b77eb0dd90dfd",
            "value": 37
          }
        },
        "5ceae69e985f4c2fb3732913119d5b3b": {
          "model_module": "@jupyter-widgets/controls",
          "model_name": "HTMLModel",
          "model_module_version": "1.5.0",
          "state": {
            "_dom_classes": [],
            "_model_module": "@jupyter-widgets/controls",
            "_model_module_version": "1.5.0",
            "_model_name": "HTMLModel",
            "_view_count": null,
            "_view_module": "@jupyter-widgets/controls",
            "_view_module_version": "1.5.0",
            "_view_name": "HTMLView",
            "description": "",
            "description_tooltip": null,
            "layout": "IPY_MODEL_438a59539fb74ebc96118bc5fcbe93a5",
            "placeholder": "​",
            "style": "IPY_MODEL_378adec374d641d69df2ecbef10cefac",
            "value": " 37/37 [00:02&lt;00:00, 17.61it/s]"
          }
        },
        "13420ee9d11a4a6b8579861640c2e4ee": {
          "model_module": "@jupyter-widgets/base",
          "model_name": "LayoutModel",
          "model_module_version": "1.2.0",
          "state": {
            "_model_module": "@jupyter-widgets/base",
            "_model_module_version": "1.2.0",
            "_model_name": "LayoutModel",
            "_view_count": null,
            "_view_module": "@jupyter-widgets/base",
            "_view_module_version": "1.2.0",
            "_view_name": "LayoutView",
            "align_content": null,
            "align_items": null,
            "align_self": null,
            "border": null,
            "bottom": null,
            "display": "inline-flex",
            "flex": null,
            "flex_flow": "row wrap",
            "grid_area": null,
            "grid_auto_columns": null,
            "grid_auto_flow": null,
            "grid_auto_rows": null,
            "grid_column": null,
            "grid_gap": null,
            "grid_row": null,
            "grid_template_areas": null,
            "grid_template_columns": null,
            "grid_template_rows": null,
            "height": null,
            "justify_content": null,
            "justify_items": null,
            "left": null,
            "margin": null,
            "max_height": null,
            "max_width": null,
            "min_height": null,
            "min_width": null,
            "object_fit": null,
            "object_position": null,
            "order": null,
            "overflow": null,
            "overflow_x": null,
            "overflow_y": null,
            "padding": null,
            "right": null,
            "top": null,
            "visibility": null,
            "width": "100%"
          }
        },
        "40d03ca8d504465fa046086e532255ac": {
          "model_module": "@jupyter-widgets/base",
          "model_name": "LayoutModel",
          "model_module_version": "1.2.0",
          "state": {
            "_model_module": "@jupyter-widgets/base",
            "_model_module_version": "1.2.0",
            "_model_name": "LayoutModel",
            "_view_count": null,
            "_view_module": "@jupyter-widgets/base",
            "_view_module_version": "1.2.0",
            "_view_name": "LayoutView",
            "align_content": null,
            "align_items": null,
            "align_self": null,
            "border": null,
            "bottom": null,
            "display": null,
            "flex": null,
            "flex_flow": null,
            "grid_area": null,
            "grid_auto_columns": null,
            "grid_auto_flow": null,
            "grid_auto_rows": null,
            "grid_column": null,
            "grid_gap": null,
            "grid_row": null,
            "grid_template_areas": null,
            "grid_template_columns": null,
            "grid_template_rows": null,
            "height": null,
            "justify_content": null,
            "justify_items": null,
            "left": null,
            "margin": null,
            "max_height": null,
            "max_width": null,
            "min_height": null,
            "min_width": null,
            "object_fit": null,
            "object_position": null,
            "order": null,
            "overflow": null,
            "overflow_x": null,
            "overflow_y": null,
            "padding": null,
            "right": null,
            "top": null,
            "visibility": null,
            "width": null
          }
        },
        "905b2cae308a4c02833a5b6bc06cf693": {
          "model_module": "@jupyter-widgets/controls",
          "model_name": "DescriptionStyleModel",
          "model_module_version": "1.5.0",
          "state": {
            "_model_module": "@jupyter-widgets/controls",
            "_model_module_version": "1.5.0",
            "_model_name": "DescriptionStyleModel",
            "_view_count": null,
            "_view_module": "@jupyter-widgets/base",
            "_view_module_version": "1.2.0",
            "_view_name": "StyleView",
            "description_width": ""
          }
        },
        "88e43c852d2944928be70fd1a4361ba0": {
          "model_module": "@jupyter-widgets/base",
          "model_name": "LayoutModel",
          "model_module_version": "1.2.0",
          "state": {
            "_model_module": "@jupyter-widgets/base",
            "_model_module_version": "1.2.0",
            "_model_name": "LayoutModel",
            "_view_count": null,
            "_view_module": "@jupyter-widgets/base",
            "_view_module_version": "1.2.0",
            "_view_name": "LayoutView",
            "align_content": null,
            "align_items": null,
            "align_self": null,
            "border": null,
            "bottom": null,
            "display": null,
            "flex": "2",
            "flex_flow": null,
            "grid_area": null,
            "grid_auto_columns": null,
            "grid_auto_flow": null,
            "grid_auto_rows": null,
            "grid_column": null,
            "grid_gap": null,
            "grid_row": null,
            "grid_template_areas": null,
            "grid_template_columns": null,
            "grid_template_rows": null,
            "height": null,
            "justify_content": null,
            "justify_items": null,
            "left": null,
            "margin": null,
            "max_height": null,
            "max_width": null,
            "min_height": null,
            "min_width": null,
            "object_fit": null,
            "object_position": null,
            "order": null,
            "overflow": null,
            "overflow_x": null,
            "overflow_y": null,
            "padding": null,
            "right": null,
            "top": null,
            "visibility": null,
            "width": null
          }
        },
        "e90a849106774e02ae6b77eb0dd90dfd": {
          "model_module": "@jupyter-widgets/controls",
          "model_name": "ProgressStyleModel",
          "model_module_version": "1.5.0",
          "state": {
            "_model_module": "@jupyter-widgets/controls",
            "_model_module_version": "1.5.0",
            "_model_name": "ProgressStyleModel",
            "_view_count": null,
            "_view_module": "@jupyter-widgets/base",
            "_view_module_version": "1.2.0",
            "_view_name": "StyleView",
            "bar_color": null,
            "description_width": ""
          }
        },
        "438a59539fb74ebc96118bc5fcbe93a5": {
          "model_module": "@jupyter-widgets/base",
          "model_name": "LayoutModel",
          "model_module_version": "1.2.0",
          "state": {
            "_model_module": "@jupyter-widgets/base",
            "_model_module_version": "1.2.0",
            "_model_name": "LayoutModel",
            "_view_count": null,
            "_view_module": "@jupyter-widgets/base",
            "_view_module_version": "1.2.0",
            "_view_name": "LayoutView",
            "align_content": null,
            "align_items": null,
            "align_self": null,
            "border": null,
            "bottom": null,
            "display": null,
            "flex": null,
            "flex_flow": null,
            "grid_area": null,
            "grid_auto_columns": null,
            "grid_auto_flow": null,
            "grid_auto_rows": null,
            "grid_column": null,
            "grid_gap": null,
            "grid_row": null,
            "grid_template_areas": null,
            "grid_template_columns": null,
            "grid_template_rows": null,
            "height": null,
            "justify_content": null,
            "justify_items": null,
            "left": null,
            "margin": null,
            "max_height": null,
            "max_width": null,
            "min_height": null,
            "min_width": null,
            "object_fit": null,
            "object_position": null,
            "order": null,
            "overflow": null,
            "overflow_x": null,
            "overflow_y": null,
            "padding": null,
            "right": null,
            "top": null,
            "visibility": null,
            "width": null
          }
        },
        "378adec374d641d69df2ecbef10cefac": {
          "model_module": "@jupyter-widgets/controls",
          "model_name": "DescriptionStyleModel",
          "model_module_version": "1.5.0",
          "state": {
            "_model_module": "@jupyter-widgets/controls",
            "_model_module_version": "1.5.0",
            "_model_name": "DescriptionStyleModel",
            "_view_count": null,
            "_view_module": "@jupyter-widgets/base",
            "_view_module_version": "1.2.0",
            "_view_name": "StyleView",
            "description_width": ""
          }
        },
        "4f1333e46ba6468e923cdb6a8fcaa354": {
          "model_module": "@jupyter-widgets/controls",
          "model_name": "HBoxModel",
          "model_module_version": "1.5.0",
          "state": {
            "_dom_classes": [],
            "_model_module": "@jupyter-widgets/controls",
            "_model_module_version": "1.5.0",
            "_model_name": "HBoxModel",
            "_view_count": null,
            "_view_module": "@jupyter-widgets/controls",
            "_view_module_version": "1.5.0",
            "_view_name": "HBoxView",
            "box_style": "",
            "children": [
              "IPY_MODEL_11fa515dec5e47a3ae1952e352d43ee1",
              "IPY_MODEL_6571b30fd4fa44d180ea6370aa738ce0",
              "IPY_MODEL_9f36c036580c4c55ac3fbad2df4cc1fe"
            ],
            "layout": "IPY_MODEL_544f9b8759b740b5bbda39edd40dc18f"
          }
        },
        "11fa515dec5e47a3ae1952e352d43ee1": {
          "model_module": "@jupyter-widgets/controls",
          "model_name": "HTMLModel",
          "model_module_version": "1.5.0",
          "state": {
            "_dom_classes": [],
            "_model_module": "@jupyter-widgets/controls",
            "_model_module_version": "1.5.0",
            "_model_name": "HTMLModel",
            "_view_count": null,
            "_view_module": "@jupyter-widgets/controls",
            "_view_module_version": "1.5.0",
            "_view_name": "HTMLView",
            "description": "",
            "description_tooltip": null,
            "layout": "IPY_MODEL_76aefe77aca64436a1efb946b504df38",
            "placeholder": "​",
            "style": "IPY_MODEL_840fad477403470a86a5f8a107c4628b",
            "value": "Validating: 100%"
          }
        },
        "6571b30fd4fa44d180ea6370aa738ce0": {
          "model_module": "@jupyter-widgets/controls",
          "model_name": "FloatProgressModel",
          "model_module_version": "1.5.0",
          "state": {
            "_dom_classes": [],
            "_model_module": "@jupyter-widgets/controls",
            "_model_module_version": "1.5.0",
            "_model_name": "FloatProgressModel",
            "_view_count": null,
            "_view_module": "@jupyter-widgets/controls",
            "_view_module_version": "1.5.0",
            "_view_name": "ProgressView",
            "bar_style": "",
            "description": "",
            "description_tooltip": null,
            "layout": "IPY_MODEL_c6cc94eb804340bdafd940deecc36880",
            "max": 37,
            "min": 0,
            "orientation": "horizontal",
            "style": "IPY_MODEL_7ab5f9a164f04f708ab25f016edf04db",
            "value": 37
          }
        },
        "9f36c036580c4c55ac3fbad2df4cc1fe": {
          "model_module": "@jupyter-widgets/controls",
          "model_name": "HTMLModel",
          "model_module_version": "1.5.0",
          "state": {
            "_dom_classes": [],
            "_model_module": "@jupyter-widgets/controls",
            "_model_module_version": "1.5.0",
            "_model_name": "HTMLModel",
            "_view_count": null,
            "_view_module": "@jupyter-widgets/controls",
            "_view_module_version": "1.5.0",
            "_view_name": "HTMLView",
            "description": "",
            "description_tooltip": null,
            "layout": "IPY_MODEL_639bb470072a4dd08a0898ea30d8cf11",
            "placeholder": "​",
            "style": "IPY_MODEL_ba4003a33966436aa1bff82099370fa7",
            "value": " 37/37 [00:02&lt;00:00, 17.64it/s]"
          }
        },
        "544f9b8759b740b5bbda39edd40dc18f": {
          "model_module": "@jupyter-widgets/base",
          "model_name": "LayoutModel",
          "model_module_version": "1.2.0",
          "state": {
            "_model_module": "@jupyter-widgets/base",
            "_model_module_version": "1.2.0",
            "_model_name": "LayoutModel",
            "_view_count": null,
            "_view_module": "@jupyter-widgets/base",
            "_view_module_version": "1.2.0",
            "_view_name": "LayoutView",
            "align_content": null,
            "align_items": null,
            "align_self": null,
            "border": null,
            "bottom": null,
            "display": "inline-flex",
            "flex": null,
            "flex_flow": "row wrap",
            "grid_area": null,
            "grid_auto_columns": null,
            "grid_auto_flow": null,
            "grid_auto_rows": null,
            "grid_column": null,
            "grid_gap": null,
            "grid_row": null,
            "grid_template_areas": null,
            "grid_template_columns": null,
            "grid_template_rows": null,
            "height": null,
            "justify_content": null,
            "justify_items": null,
            "left": null,
            "margin": null,
            "max_height": null,
            "max_width": null,
            "min_height": null,
            "min_width": null,
            "object_fit": null,
            "object_position": null,
            "order": null,
            "overflow": null,
            "overflow_x": null,
            "overflow_y": null,
            "padding": null,
            "right": null,
            "top": null,
            "visibility": null,
            "width": "100%"
          }
        },
        "76aefe77aca64436a1efb946b504df38": {
          "model_module": "@jupyter-widgets/base",
          "model_name": "LayoutModel",
          "model_module_version": "1.2.0",
          "state": {
            "_model_module": "@jupyter-widgets/base",
            "_model_module_version": "1.2.0",
            "_model_name": "LayoutModel",
            "_view_count": null,
            "_view_module": "@jupyter-widgets/base",
            "_view_module_version": "1.2.0",
            "_view_name": "LayoutView",
            "align_content": null,
            "align_items": null,
            "align_self": null,
            "border": null,
            "bottom": null,
            "display": null,
            "flex": null,
            "flex_flow": null,
            "grid_area": null,
            "grid_auto_columns": null,
            "grid_auto_flow": null,
            "grid_auto_rows": null,
            "grid_column": null,
            "grid_gap": null,
            "grid_row": null,
            "grid_template_areas": null,
            "grid_template_columns": null,
            "grid_template_rows": null,
            "height": null,
            "justify_content": null,
            "justify_items": null,
            "left": null,
            "margin": null,
            "max_height": null,
            "max_width": null,
            "min_height": null,
            "min_width": null,
            "object_fit": null,
            "object_position": null,
            "order": null,
            "overflow": null,
            "overflow_x": null,
            "overflow_y": null,
            "padding": null,
            "right": null,
            "top": null,
            "visibility": null,
            "width": null
          }
        },
        "840fad477403470a86a5f8a107c4628b": {
          "model_module": "@jupyter-widgets/controls",
          "model_name": "DescriptionStyleModel",
          "model_module_version": "1.5.0",
          "state": {
            "_model_module": "@jupyter-widgets/controls",
            "_model_module_version": "1.5.0",
            "_model_name": "DescriptionStyleModel",
            "_view_count": null,
            "_view_module": "@jupyter-widgets/base",
            "_view_module_version": "1.2.0",
            "_view_name": "StyleView",
            "description_width": ""
          }
        },
        "c6cc94eb804340bdafd940deecc36880": {
          "model_module": "@jupyter-widgets/base",
          "model_name": "LayoutModel",
          "model_module_version": "1.2.0",
          "state": {
            "_model_module": "@jupyter-widgets/base",
            "_model_module_version": "1.2.0",
            "_model_name": "LayoutModel",
            "_view_count": null,
            "_view_module": "@jupyter-widgets/base",
            "_view_module_version": "1.2.0",
            "_view_name": "LayoutView",
            "align_content": null,
            "align_items": null,
            "align_self": null,
            "border": null,
            "bottom": null,
            "display": null,
            "flex": "2",
            "flex_flow": null,
            "grid_area": null,
            "grid_auto_columns": null,
            "grid_auto_flow": null,
            "grid_auto_rows": null,
            "grid_column": null,
            "grid_gap": null,
            "grid_row": null,
            "grid_template_areas": null,
            "grid_template_columns": null,
            "grid_template_rows": null,
            "height": null,
            "justify_content": null,
            "justify_items": null,
            "left": null,
            "margin": null,
            "max_height": null,
            "max_width": null,
            "min_height": null,
            "min_width": null,
            "object_fit": null,
            "object_position": null,
            "order": null,
            "overflow": null,
            "overflow_x": null,
            "overflow_y": null,
            "padding": null,
            "right": null,
            "top": null,
            "visibility": null,
            "width": null
          }
        },
        "7ab5f9a164f04f708ab25f016edf04db": {
          "model_module": "@jupyter-widgets/controls",
          "model_name": "ProgressStyleModel",
          "model_module_version": "1.5.0",
          "state": {
            "_model_module": "@jupyter-widgets/controls",
            "_model_module_version": "1.5.0",
            "_model_name": "ProgressStyleModel",
            "_view_count": null,
            "_view_module": "@jupyter-widgets/base",
            "_view_module_version": "1.2.0",
            "_view_name": "StyleView",
            "bar_color": null,
            "description_width": ""
          }
        },
        "639bb470072a4dd08a0898ea30d8cf11": {
          "model_module": "@jupyter-widgets/base",
          "model_name": "LayoutModel",
          "model_module_version": "1.2.0",
          "state": {
            "_model_module": "@jupyter-widgets/base",
            "_model_module_version": "1.2.0",
            "_model_name": "LayoutModel",
            "_view_count": null,
            "_view_module": "@jupyter-widgets/base",
            "_view_module_version": "1.2.0",
            "_view_name": "LayoutView",
            "align_content": null,
            "align_items": null,
            "align_self": null,
            "border": null,
            "bottom": null,
            "display": null,
            "flex": null,
            "flex_flow": null,
            "grid_area": null,
            "grid_auto_columns": null,
            "grid_auto_flow": null,
            "grid_auto_rows": null,
            "grid_column": null,
            "grid_gap": null,
            "grid_row": null,
            "grid_template_areas": null,
            "grid_template_columns": null,
            "grid_template_rows": null,
            "height": null,
            "justify_content": null,
            "justify_items": null,
            "left": null,
            "margin": null,
            "max_height": null,
            "max_width": null,
            "min_height": null,
            "min_width": null,
            "object_fit": null,
            "object_position": null,
            "order": null,
            "overflow": null,
            "overflow_x": null,
            "overflow_y": null,
            "padding": null,
            "right": null,
            "top": null,
            "visibility": null,
            "width": null
          }
        },
        "ba4003a33966436aa1bff82099370fa7": {
          "model_module": "@jupyter-widgets/controls",
          "model_name": "DescriptionStyleModel",
          "model_module_version": "1.5.0",
          "state": {
            "_model_module": "@jupyter-widgets/controls",
            "_model_module_version": "1.5.0",
            "_model_name": "DescriptionStyleModel",
            "_view_count": null,
            "_view_module": "@jupyter-widgets/base",
            "_view_module_version": "1.2.0",
            "_view_name": "StyleView",
            "description_width": ""
          }
        },
        "484cb0e979d24d87a06f70095303a53d": {
          "model_module": "@jupyter-widgets/controls",
          "model_name": "HBoxModel",
          "model_module_version": "1.5.0",
          "state": {
            "_dom_classes": [],
            "_model_module": "@jupyter-widgets/controls",
            "_model_module_version": "1.5.0",
            "_model_name": "HBoxModel",
            "_view_count": null,
            "_view_module": "@jupyter-widgets/controls",
            "_view_module_version": "1.5.0",
            "_view_name": "HBoxView",
            "box_style": "",
            "children": [
              "IPY_MODEL_2c420c55f2a344b29d10a30b3a803477",
              "IPY_MODEL_c3c9df5a40b14530b349ac9ba698e9cd",
              "IPY_MODEL_00b240966d814f9eacd00e951e330558"
            ],
            "layout": "IPY_MODEL_98f19bda656d4a229b1065182d3d9936"
          }
        },
        "2c420c55f2a344b29d10a30b3a803477": {
          "model_module": "@jupyter-widgets/controls",
          "model_name": "HTMLModel",
          "model_module_version": "1.5.0",
          "state": {
            "_dom_classes": [],
            "_model_module": "@jupyter-widgets/controls",
            "_model_module_version": "1.5.0",
            "_model_name": "HTMLModel",
            "_view_count": null,
            "_view_module": "@jupyter-widgets/controls",
            "_view_module_version": "1.5.0",
            "_view_name": "HTMLView",
            "description": "",
            "description_tooltip": null,
            "layout": "IPY_MODEL_11c1d69dc7ca4ca2a3a37714553fb60d",
            "placeholder": "​",
            "style": "IPY_MODEL_f36c879bff10480ea4474d9f41ef8d7e",
            "value": "Validating: 100%"
          }
        },
        "c3c9df5a40b14530b349ac9ba698e9cd": {
          "model_module": "@jupyter-widgets/controls",
          "model_name": "FloatProgressModel",
          "model_module_version": "1.5.0",
          "state": {
            "_dom_classes": [],
            "_model_module": "@jupyter-widgets/controls",
            "_model_module_version": "1.5.0",
            "_model_name": "FloatProgressModel",
            "_view_count": null,
            "_view_module": "@jupyter-widgets/controls",
            "_view_module_version": "1.5.0",
            "_view_name": "ProgressView",
            "bar_style": "",
            "description": "",
            "description_tooltip": null,
            "layout": "IPY_MODEL_88f1a94e8ec44aac8ac50beb8cb7a8e8",
            "max": 37,
            "min": 0,
            "orientation": "horizontal",
            "style": "IPY_MODEL_a0b5631e09c3427bb60e3aff00b895ca",
            "value": 37
          }
        },
        "00b240966d814f9eacd00e951e330558": {
          "model_module": "@jupyter-widgets/controls",
          "model_name": "HTMLModel",
          "model_module_version": "1.5.0",
          "state": {
            "_dom_classes": [],
            "_model_module": "@jupyter-widgets/controls",
            "_model_module_version": "1.5.0",
            "_model_name": "HTMLModel",
            "_view_count": null,
            "_view_module": "@jupyter-widgets/controls",
            "_view_module_version": "1.5.0",
            "_view_name": "HTMLView",
            "description": "",
            "description_tooltip": null,
            "layout": "IPY_MODEL_a90741df878441a19de66231ae5e2d47",
            "placeholder": "​",
            "style": "IPY_MODEL_b9e0df88b6364780bd3ce562974be996",
            "value": " 37/37 [00:02&lt;00:00, 17.66it/s]"
          }
        },
        "98f19bda656d4a229b1065182d3d9936": {
          "model_module": "@jupyter-widgets/base",
          "model_name": "LayoutModel",
          "model_module_version": "1.2.0",
          "state": {
            "_model_module": "@jupyter-widgets/base",
            "_model_module_version": "1.2.0",
            "_model_name": "LayoutModel",
            "_view_count": null,
            "_view_module": "@jupyter-widgets/base",
            "_view_module_version": "1.2.0",
            "_view_name": "LayoutView",
            "align_content": null,
            "align_items": null,
            "align_self": null,
            "border": null,
            "bottom": null,
            "display": "inline-flex",
            "flex": null,
            "flex_flow": "row wrap",
            "grid_area": null,
            "grid_auto_columns": null,
            "grid_auto_flow": null,
            "grid_auto_rows": null,
            "grid_column": null,
            "grid_gap": null,
            "grid_row": null,
            "grid_template_areas": null,
            "grid_template_columns": null,
            "grid_template_rows": null,
            "height": null,
            "justify_content": null,
            "justify_items": null,
            "left": null,
            "margin": null,
            "max_height": null,
            "max_width": null,
            "min_height": null,
            "min_width": null,
            "object_fit": null,
            "object_position": null,
            "order": null,
            "overflow": null,
            "overflow_x": null,
            "overflow_y": null,
            "padding": null,
            "right": null,
            "top": null,
            "visibility": null,
            "width": "100%"
          }
        },
        "11c1d69dc7ca4ca2a3a37714553fb60d": {
          "model_module": "@jupyter-widgets/base",
          "model_name": "LayoutModel",
          "model_module_version": "1.2.0",
          "state": {
            "_model_module": "@jupyter-widgets/base",
            "_model_module_version": "1.2.0",
            "_model_name": "LayoutModel",
            "_view_count": null,
            "_view_module": "@jupyter-widgets/base",
            "_view_module_version": "1.2.0",
            "_view_name": "LayoutView",
            "align_content": null,
            "align_items": null,
            "align_self": null,
            "border": null,
            "bottom": null,
            "display": null,
            "flex": null,
            "flex_flow": null,
            "grid_area": null,
            "grid_auto_columns": null,
            "grid_auto_flow": null,
            "grid_auto_rows": null,
            "grid_column": null,
            "grid_gap": null,
            "grid_row": null,
            "grid_template_areas": null,
            "grid_template_columns": null,
            "grid_template_rows": null,
            "height": null,
            "justify_content": null,
            "justify_items": null,
            "left": null,
            "margin": null,
            "max_height": null,
            "max_width": null,
            "min_height": null,
            "min_width": null,
            "object_fit": null,
            "object_position": null,
            "order": null,
            "overflow": null,
            "overflow_x": null,
            "overflow_y": null,
            "padding": null,
            "right": null,
            "top": null,
            "visibility": null,
            "width": null
          }
        },
        "f36c879bff10480ea4474d9f41ef8d7e": {
          "model_module": "@jupyter-widgets/controls",
          "model_name": "DescriptionStyleModel",
          "model_module_version": "1.5.0",
          "state": {
            "_model_module": "@jupyter-widgets/controls",
            "_model_module_version": "1.5.0",
            "_model_name": "DescriptionStyleModel",
            "_view_count": null,
            "_view_module": "@jupyter-widgets/base",
            "_view_module_version": "1.2.0",
            "_view_name": "StyleView",
            "description_width": ""
          }
        },
        "88f1a94e8ec44aac8ac50beb8cb7a8e8": {
          "model_module": "@jupyter-widgets/base",
          "model_name": "LayoutModel",
          "model_module_version": "1.2.0",
          "state": {
            "_model_module": "@jupyter-widgets/base",
            "_model_module_version": "1.2.0",
            "_model_name": "LayoutModel",
            "_view_count": null,
            "_view_module": "@jupyter-widgets/base",
            "_view_module_version": "1.2.0",
            "_view_name": "LayoutView",
            "align_content": null,
            "align_items": null,
            "align_self": null,
            "border": null,
            "bottom": null,
            "display": null,
            "flex": "2",
            "flex_flow": null,
            "grid_area": null,
            "grid_auto_columns": null,
            "grid_auto_flow": null,
            "grid_auto_rows": null,
            "grid_column": null,
            "grid_gap": null,
            "grid_row": null,
            "grid_template_areas": null,
            "grid_template_columns": null,
            "grid_template_rows": null,
            "height": null,
            "justify_content": null,
            "justify_items": null,
            "left": null,
            "margin": null,
            "max_height": null,
            "max_width": null,
            "min_height": null,
            "min_width": null,
            "object_fit": null,
            "object_position": null,
            "order": null,
            "overflow": null,
            "overflow_x": null,
            "overflow_y": null,
            "padding": null,
            "right": null,
            "top": null,
            "visibility": null,
            "width": null
          }
        },
        "a0b5631e09c3427bb60e3aff00b895ca": {
          "model_module": "@jupyter-widgets/controls",
          "model_name": "ProgressStyleModel",
          "model_module_version": "1.5.0",
          "state": {
            "_model_module": "@jupyter-widgets/controls",
            "_model_module_version": "1.5.0",
            "_model_name": "ProgressStyleModel",
            "_view_count": null,
            "_view_module": "@jupyter-widgets/base",
            "_view_module_version": "1.2.0",
            "_view_name": "StyleView",
            "bar_color": null,
            "description_width": ""
          }
        },
        "a90741df878441a19de66231ae5e2d47": {
          "model_module": "@jupyter-widgets/base",
          "model_name": "LayoutModel",
          "model_module_version": "1.2.0",
          "state": {
            "_model_module": "@jupyter-widgets/base",
            "_model_module_version": "1.2.0",
            "_model_name": "LayoutModel",
            "_view_count": null,
            "_view_module": "@jupyter-widgets/base",
            "_view_module_version": "1.2.0",
            "_view_name": "LayoutView",
            "align_content": null,
            "align_items": null,
            "align_self": null,
            "border": null,
            "bottom": null,
            "display": null,
            "flex": null,
            "flex_flow": null,
            "grid_area": null,
            "grid_auto_columns": null,
            "grid_auto_flow": null,
            "grid_auto_rows": null,
            "grid_column": null,
            "grid_gap": null,
            "grid_row": null,
            "grid_template_areas": null,
            "grid_template_columns": null,
            "grid_template_rows": null,
            "height": null,
            "justify_content": null,
            "justify_items": null,
            "left": null,
            "margin": null,
            "max_height": null,
            "max_width": null,
            "min_height": null,
            "min_width": null,
            "object_fit": null,
            "object_position": null,
            "order": null,
            "overflow": null,
            "overflow_x": null,
            "overflow_y": null,
            "padding": null,
            "right": null,
            "top": null,
            "visibility": null,
            "width": null
          }
        },
        "b9e0df88b6364780bd3ce562974be996": {
          "model_module": "@jupyter-widgets/controls",
          "model_name": "DescriptionStyleModel",
          "model_module_version": "1.5.0",
          "state": {
            "_model_module": "@jupyter-widgets/controls",
            "_model_module_version": "1.5.0",
            "_model_name": "DescriptionStyleModel",
            "_view_count": null,
            "_view_module": "@jupyter-widgets/base",
            "_view_module_version": "1.2.0",
            "_view_name": "StyleView",
            "description_width": ""
          }
        },
        "7b9f9f3879144eaa8f229cb80a4b10a6": {
          "model_module": "@jupyter-widgets/controls",
          "model_name": "HBoxModel",
          "model_module_version": "1.5.0",
          "state": {
            "_dom_classes": [],
            "_model_module": "@jupyter-widgets/controls",
            "_model_module_version": "1.5.0",
            "_model_name": "HBoxModel",
            "_view_count": null,
            "_view_module": "@jupyter-widgets/controls",
            "_view_module_version": "1.5.0",
            "_view_name": "HBoxView",
            "box_style": "",
            "children": [
              "IPY_MODEL_88001d19362b4f13ab42bfb2d4e3c565",
              "IPY_MODEL_9d88708e48044d388caffe0e1610d348",
              "IPY_MODEL_b1dabdcf1e984a80836610a55b2a4878"
            ],
            "layout": "IPY_MODEL_24423efbc30c4c3684c72c757e543b23"
          }
        },
        "88001d19362b4f13ab42bfb2d4e3c565": {
          "model_module": "@jupyter-widgets/controls",
          "model_name": "HTMLModel",
          "model_module_version": "1.5.0",
          "state": {
            "_dom_classes": [],
            "_model_module": "@jupyter-widgets/controls",
            "_model_module_version": "1.5.0",
            "_model_name": "HTMLModel",
            "_view_count": null,
            "_view_module": "@jupyter-widgets/controls",
            "_view_module_version": "1.5.0",
            "_view_name": "HTMLView",
            "description": "",
            "description_tooltip": null,
            "layout": "IPY_MODEL_97db08b654a947cab70bd421a3fc58a7",
            "placeholder": "​",
            "style": "IPY_MODEL_0f640939b3c94066b6f217cf963acd36",
            "value": "Validating: 100%"
          }
        },
        "9d88708e48044d388caffe0e1610d348": {
          "model_module": "@jupyter-widgets/controls",
          "model_name": "FloatProgressModel",
          "model_module_version": "1.5.0",
          "state": {
            "_dom_classes": [],
            "_model_module": "@jupyter-widgets/controls",
            "_model_module_version": "1.5.0",
            "_model_name": "FloatProgressModel",
            "_view_count": null,
            "_view_module": "@jupyter-widgets/controls",
            "_view_module_version": "1.5.0",
            "_view_name": "ProgressView",
            "bar_style": "",
            "description": "",
            "description_tooltip": null,
            "layout": "IPY_MODEL_f7486a6e2f874bb3b4c81e69dad32fa3",
            "max": 37,
            "min": 0,
            "orientation": "horizontal",
            "style": "IPY_MODEL_a2d6ac86868b4219ac8f750b1c9aca09",
            "value": 37
          }
        },
        "b1dabdcf1e984a80836610a55b2a4878": {
          "model_module": "@jupyter-widgets/controls",
          "model_name": "HTMLModel",
          "model_module_version": "1.5.0",
          "state": {
            "_dom_classes": [],
            "_model_module": "@jupyter-widgets/controls",
            "_model_module_version": "1.5.0",
            "_model_name": "HTMLModel",
            "_view_count": null,
            "_view_module": "@jupyter-widgets/controls",
            "_view_module_version": "1.5.0",
            "_view_name": "HTMLView",
            "description": "",
            "description_tooltip": null,
            "layout": "IPY_MODEL_3c5aa24bb473463881555a31db7d1333",
            "placeholder": "​",
            "style": "IPY_MODEL_c9b3440bcbe54d4aaab87724a691b020",
            "value": " 37/37 [00:02&lt;00:00, 17.63it/s]"
          }
        },
        "24423efbc30c4c3684c72c757e543b23": {
          "model_module": "@jupyter-widgets/base",
          "model_name": "LayoutModel",
          "model_module_version": "1.2.0",
          "state": {
            "_model_module": "@jupyter-widgets/base",
            "_model_module_version": "1.2.0",
            "_model_name": "LayoutModel",
            "_view_count": null,
            "_view_module": "@jupyter-widgets/base",
            "_view_module_version": "1.2.0",
            "_view_name": "LayoutView",
            "align_content": null,
            "align_items": null,
            "align_self": null,
            "border": null,
            "bottom": null,
            "display": "inline-flex",
            "flex": null,
            "flex_flow": "row wrap",
            "grid_area": null,
            "grid_auto_columns": null,
            "grid_auto_flow": null,
            "grid_auto_rows": null,
            "grid_column": null,
            "grid_gap": null,
            "grid_row": null,
            "grid_template_areas": null,
            "grid_template_columns": null,
            "grid_template_rows": null,
            "height": null,
            "justify_content": null,
            "justify_items": null,
            "left": null,
            "margin": null,
            "max_height": null,
            "max_width": null,
            "min_height": null,
            "min_width": null,
            "object_fit": null,
            "object_position": null,
            "order": null,
            "overflow": null,
            "overflow_x": null,
            "overflow_y": null,
            "padding": null,
            "right": null,
            "top": null,
            "visibility": null,
            "width": "100%"
          }
        },
        "97db08b654a947cab70bd421a3fc58a7": {
          "model_module": "@jupyter-widgets/base",
          "model_name": "LayoutModel",
          "model_module_version": "1.2.0",
          "state": {
            "_model_module": "@jupyter-widgets/base",
            "_model_module_version": "1.2.0",
            "_model_name": "LayoutModel",
            "_view_count": null,
            "_view_module": "@jupyter-widgets/base",
            "_view_module_version": "1.2.0",
            "_view_name": "LayoutView",
            "align_content": null,
            "align_items": null,
            "align_self": null,
            "border": null,
            "bottom": null,
            "display": null,
            "flex": null,
            "flex_flow": null,
            "grid_area": null,
            "grid_auto_columns": null,
            "grid_auto_flow": null,
            "grid_auto_rows": null,
            "grid_column": null,
            "grid_gap": null,
            "grid_row": null,
            "grid_template_areas": null,
            "grid_template_columns": null,
            "grid_template_rows": null,
            "height": null,
            "justify_content": null,
            "justify_items": null,
            "left": null,
            "margin": null,
            "max_height": null,
            "max_width": null,
            "min_height": null,
            "min_width": null,
            "object_fit": null,
            "object_position": null,
            "order": null,
            "overflow": null,
            "overflow_x": null,
            "overflow_y": null,
            "padding": null,
            "right": null,
            "top": null,
            "visibility": null,
            "width": null
          }
        },
        "0f640939b3c94066b6f217cf963acd36": {
          "model_module": "@jupyter-widgets/controls",
          "model_name": "DescriptionStyleModel",
          "model_module_version": "1.5.0",
          "state": {
            "_model_module": "@jupyter-widgets/controls",
            "_model_module_version": "1.5.0",
            "_model_name": "DescriptionStyleModel",
            "_view_count": null,
            "_view_module": "@jupyter-widgets/base",
            "_view_module_version": "1.2.0",
            "_view_name": "StyleView",
            "description_width": ""
          }
        },
        "f7486a6e2f874bb3b4c81e69dad32fa3": {
          "model_module": "@jupyter-widgets/base",
          "model_name": "LayoutModel",
          "model_module_version": "1.2.0",
          "state": {
            "_model_module": "@jupyter-widgets/base",
            "_model_module_version": "1.2.0",
            "_model_name": "LayoutModel",
            "_view_count": null,
            "_view_module": "@jupyter-widgets/base",
            "_view_module_version": "1.2.0",
            "_view_name": "LayoutView",
            "align_content": null,
            "align_items": null,
            "align_self": null,
            "border": null,
            "bottom": null,
            "display": null,
            "flex": "2",
            "flex_flow": null,
            "grid_area": null,
            "grid_auto_columns": null,
            "grid_auto_flow": null,
            "grid_auto_rows": null,
            "grid_column": null,
            "grid_gap": null,
            "grid_row": null,
            "grid_template_areas": null,
            "grid_template_columns": null,
            "grid_template_rows": null,
            "height": null,
            "justify_content": null,
            "justify_items": null,
            "left": null,
            "margin": null,
            "max_height": null,
            "max_width": null,
            "min_height": null,
            "min_width": null,
            "object_fit": null,
            "object_position": null,
            "order": null,
            "overflow": null,
            "overflow_x": null,
            "overflow_y": null,
            "padding": null,
            "right": null,
            "top": null,
            "visibility": null,
            "width": null
          }
        },
        "a2d6ac86868b4219ac8f750b1c9aca09": {
          "model_module": "@jupyter-widgets/controls",
          "model_name": "ProgressStyleModel",
          "model_module_version": "1.5.0",
          "state": {
            "_model_module": "@jupyter-widgets/controls",
            "_model_module_version": "1.5.0",
            "_model_name": "ProgressStyleModel",
            "_view_count": null,
            "_view_module": "@jupyter-widgets/base",
            "_view_module_version": "1.2.0",
            "_view_name": "StyleView",
            "bar_color": null,
            "description_width": ""
          }
        },
        "3c5aa24bb473463881555a31db7d1333": {
          "model_module": "@jupyter-widgets/base",
          "model_name": "LayoutModel",
          "model_module_version": "1.2.0",
          "state": {
            "_model_module": "@jupyter-widgets/base",
            "_model_module_version": "1.2.0",
            "_model_name": "LayoutModel",
            "_view_count": null,
            "_view_module": "@jupyter-widgets/base",
            "_view_module_version": "1.2.0",
            "_view_name": "LayoutView",
            "align_content": null,
            "align_items": null,
            "align_self": null,
            "border": null,
            "bottom": null,
            "display": null,
            "flex": null,
            "flex_flow": null,
            "grid_area": null,
            "grid_auto_columns": null,
            "grid_auto_flow": null,
            "grid_auto_rows": null,
            "grid_column": null,
            "grid_gap": null,
            "grid_row": null,
            "grid_template_areas": null,
            "grid_template_columns": null,
            "grid_template_rows": null,
            "height": null,
            "justify_content": null,
            "justify_items": null,
            "left": null,
            "margin": null,
            "max_height": null,
            "max_width": null,
            "min_height": null,
            "min_width": null,
            "object_fit": null,
            "object_position": null,
            "order": null,
            "overflow": null,
            "overflow_x": null,
            "overflow_y": null,
            "padding": null,
            "right": null,
            "top": null,
            "visibility": null,
            "width": null
          }
        },
        "c9b3440bcbe54d4aaab87724a691b020": {
          "model_module": "@jupyter-widgets/controls",
          "model_name": "DescriptionStyleModel",
          "model_module_version": "1.5.0",
          "state": {
            "_model_module": "@jupyter-widgets/controls",
            "_model_module_version": "1.5.0",
            "_model_name": "DescriptionStyleModel",
            "_view_count": null,
            "_view_module": "@jupyter-widgets/base",
            "_view_module_version": "1.2.0",
            "_view_name": "StyleView",
            "description_width": ""
          }
        },
        "a6360af309b94b7999f2b9a0131274f2": {
          "model_module": "@jupyter-widgets/controls",
          "model_name": "HBoxModel",
          "model_module_version": "1.5.0",
          "state": {
            "_dom_classes": [],
            "_model_module": "@jupyter-widgets/controls",
            "_model_module_version": "1.5.0",
            "_model_name": "HBoxModel",
            "_view_count": null,
            "_view_module": "@jupyter-widgets/controls",
            "_view_module_version": "1.5.0",
            "_view_name": "HBoxView",
            "box_style": "",
            "children": [
              "IPY_MODEL_3b1f82af9fe6417e9a2ddb812422c5a4",
              "IPY_MODEL_d5a9afcf120c47d6bb93b951e34aec56",
              "IPY_MODEL_36ff639979744349b0c04806c5dcf5d5"
            ],
            "layout": "IPY_MODEL_7572d8900b4847018cb556c85a0a65cf"
          }
        },
        "3b1f82af9fe6417e9a2ddb812422c5a4": {
          "model_module": "@jupyter-widgets/controls",
          "model_name": "HTMLModel",
          "model_module_version": "1.5.0",
          "state": {
            "_dom_classes": [],
            "_model_module": "@jupyter-widgets/controls",
            "_model_module_version": "1.5.0",
            "_model_name": "HTMLModel",
            "_view_count": null,
            "_view_module": "@jupyter-widgets/controls",
            "_view_module_version": "1.5.0",
            "_view_name": "HTMLView",
            "description": "",
            "description_tooltip": null,
            "layout": "IPY_MODEL_634c795add374b419efe78b67d21439f",
            "placeholder": "​",
            "style": "IPY_MODEL_53ffcfb53a674a8199f4771bdb7d9e7c",
            "value": "Validating: 100%"
          }
        },
        "d5a9afcf120c47d6bb93b951e34aec56": {
          "model_module": "@jupyter-widgets/controls",
          "model_name": "FloatProgressModel",
          "model_module_version": "1.5.0",
          "state": {
            "_dom_classes": [],
            "_model_module": "@jupyter-widgets/controls",
            "_model_module_version": "1.5.0",
            "_model_name": "FloatProgressModel",
            "_view_count": null,
            "_view_module": "@jupyter-widgets/controls",
            "_view_module_version": "1.5.0",
            "_view_name": "ProgressView",
            "bar_style": "",
            "description": "",
            "description_tooltip": null,
            "layout": "IPY_MODEL_50d4fb6c6d7f421ba5cb930020d9682f",
            "max": 37,
            "min": 0,
            "orientation": "horizontal",
            "style": "IPY_MODEL_6cf7f4ce9c6a4371a89dbf5fbacab073",
            "value": 37
          }
        },
        "36ff639979744349b0c04806c5dcf5d5": {
          "model_module": "@jupyter-widgets/controls",
          "model_name": "HTMLModel",
          "model_module_version": "1.5.0",
          "state": {
            "_dom_classes": [],
            "_model_module": "@jupyter-widgets/controls",
            "_model_module_version": "1.5.0",
            "_model_name": "HTMLModel",
            "_view_count": null,
            "_view_module": "@jupyter-widgets/controls",
            "_view_module_version": "1.5.0",
            "_view_name": "HTMLView",
            "description": "",
            "description_tooltip": null,
            "layout": "IPY_MODEL_5db16fac82a74e8b8e3603b207ecfefa",
            "placeholder": "​",
            "style": "IPY_MODEL_8f64b6ad0a6a4613bc09b0c556a13dfb",
            "value": " 37/37 [00:02&lt;00:00, 17.64it/s]"
          }
        },
        "7572d8900b4847018cb556c85a0a65cf": {
          "model_module": "@jupyter-widgets/base",
          "model_name": "LayoutModel",
          "model_module_version": "1.2.0",
          "state": {
            "_model_module": "@jupyter-widgets/base",
            "_model_module_version": "1.2.0",
            "_model_name": "LayoutModel",
            "_view_count": null,
            "_view_module": "@jupyter-widgets/base",
            "_view_module_version": "1.2.0",
            "_view_name": "LayoutView",
            "align_content": null,
            "align_items": null,
            "align_self": null,
            "border": null,
            "bottom": null,
            "display": "inline-flex",
            "flex": null,
            "flex_flow": "row wrap",
            "grid_area": null,
            "grid_auto_columns": null,
            "grid_auto_flow": null,
            "grid_auto_rows": null,
            "grid_column": null,
            "grid_gap": null,
            "grid_row": null,
            "grid_template_areas": null,
            "grid_template_columns": null,
            "grid_template_rows": null,
            "height": null,
            "justify_content": null,
            "justify_items": null,
            "left": null,
            "margin": null,
            "max_height": null,
            "max_width": null,
            "min_height": null,
            "min_width": null,
            "object_fit": null,
            "object_position": null,
            "order": null,
            "overflow": null,
            "overflow_x": null,
            "overflow_y": null,
            "padding": null,
            "right": null,
            "top": null,
            "visibility": null,
            "width": "100%"
          }
        },
        "634c795add374b419efe78b67d21439f": {
          "model_module": "@jupyter-widgets/base",
          "model_name": "LayoutModel",
          "model_module_version": "1.2.0",
          "state": {
            "_model_module": "@jupyter-widgets/base",
            "_model_module_version": "1.2.0",
            "_model_name": "LayoutModel",
            "_view_count": null,
            "_view_module": "@jupyter-widgets/base",
            "_view_module_version": "1.2.0",
            "_view_name": "LayoutView",
            "align_content": null,
            "align_items": null,
            "align_self": null,
            "border": null,
            "bottom": null,
            "display": null,
            "flex": null,
            "flex_flow": null,
            "grid_area": null,
            "grid_auto_columns": null,
            "grid_auto_flow": null,
            "grid_auto_rows": null,
            "grid_column": null,
            "grid_gap": null,
            "grid_row": null,
            "grid_template_areas": null,
            "grid_template_columns": null,
            "grid_template_rows": null,
            "height": null,
            "justify_content": null,
            "justify_items": null,
            "left": null,
            "margin": null,
            "max_height": null,
            "max_width": null,
            "min_height": null,
            "min_width": null,
            "object_fit": null,
            "object_position": null,
            "order": null,
            "overflow": null,
            "overflow_x": null,
            "overflow_y": null,
            "padding": null,
            "right": null,
            "top": null,
            "visibility": null,
            "width": null
          }
        },
        "53ffcfb53a674a8199f4771bdb7d9e7c": {
          "model_module": "@jupyter-widgets/controls",
          "model_name": "DescriptionStyleModel",
          "model_module_version": "1.5.0",
          "state": {
            "_model_module": "@jupyter-widgets/controls",
            "_model_module_version": "1.5.0",
            "_model_name": "DescriptionStyleModel",
            "_view_count": null,
            "_view_module": "@jupyter-widgets/base",
            "_view_module_version": "1.2.0",
            "_view_name": "StyleView",
            "description_width": ""
          }
        },
        "50d4fb6c6d7f421ba5cb930020d9682f": {
          "model_module": "@jupyter-widgets/base",
          "model_name": "LayoutModel",
          "model_module_version": "1.2.0",
          "state": {
            "_model_module": "@jupyter-widgets/base",
            "_model_module_version": "1.2.0",
            "_model_name": "LayoutModel",
            "_view_count": null,
            "_view_module": "@jupyter-widgets/base",
            "_view_module_version": "1.2.0",
            "_view_name": "LayoutView",
            "align_content": null,
            "align_items": null,
            "align_self": null,
            "border": null,
            "bottom": null,
            "display": null,
            "flex": "2",
            "flex_flow": null,
            "grid_area": null,
            "grid_auto_columns": null,
            "grid_auto_flow": null,
            "grid_auto_rows": null,
            "grid_column": null,
            "grid_gap": null,
            "grid_row": null,
            "grid_template_areas": null,
            "grid_template_columns": null,
            "grid_template_rows": null,
            "height": null,
            "justify_content": null,
            "justify_items": null,
            "left": null,
            "margin": null,
            "max_height": null,
            "max_width": null,
            "min_height": null,
            "min_width": null,
            "object_fit": null,
            "object_position": null,
            "order": null,
            "overflow": null,
            "overflow_x": null,
            "overflow_y": null,
            "padding": null,
            "right": null,
            "top": null,
            "visibility": null,
            "width": null
          }
        },
        "6cf7f4ce9c6a4371a89dbf5fbacab073": {
          "model_module": "@jupyter-widgets/controls",
          "model_name": "ProgressStyleModel",
          "model_module_version": "1.5.0",
          "state": {
            "_model_module": "@jupyter-widgets/controls",
            "_model_module_version": "1.5.0",
            "_model_name": "ProgressStyleModel",
            "_view_count": null,
            "_view_module": "@jupyter-widgets/base",
            "_view_module_version": "1.2.0",
            "_view_name": "StyleView",
            "bar_color": null,
            "description_width": ""
          }
        },
        "5db16fac82a74e8b8e3603b207ecfefa": {
          "model_module": "@jupyter-widgets/base",
          "model_name": "LayoutModel",
          "model_module_version": "1.2.0",
          "state": {
            "_model_module": "@jupyter-widgets/base",
            "_model_module_version": "1.2.0",
            "_model_name": "LayoutModel",
            "_view_count": null,
            "_view_module": "@jupyter-widgets/base",
            "_view_module_version": "1.2.0",
            "_view_name": "LayoutView",
            "align_content": null,
            "align_items": null,
            "align_self": null,
            "border": null,
            "bottom": null,
            "display": null,
            "flex": null,
            "flex_flow": null,
            "grid_area": null,
            "grid_auto_columns": null,
            "grid_auto_flow": null,
            "grid_auto_rows": null,
            "grid_column": null,
            "grid_gap": null,
            "grid_row": null,
            "grid_template_areas": null,
            "grid_template_columns": null,
            "grid_template_rows": null,
            "height": null,
            "justify_content": null,
            "justify_items": null,
            "left": null,
            "margin": null,
            "max_height": null,
            "max_width": null,
            "min_height": null,
            "min_width": null,
            "object_fit": null,
            "object_position": null,
            "order": null,
            "overflow": null,
            "overflow_x": null,
            "overflow_y": null,
            "padding": null,
            "right": null,
            "top": null,
            "visibility": null,
            "width": null
          }
        },
        "8f64b6ad0a6a4613bc09b0c556a13dfb": {
          "model_module": "@jupyter-widgets/controls",
          "model_name": "DescriptionStyleModel",
          "model_module_version": "1.5.0",
          "state": {
            "_model_module": "@jupyter-widgets/controls",
            "_model_module_version": "1.5.0",
            "_model_name": "DescriptionStyleModel",
            "_view_count": null,
            "_view_module": "@jupyter-widgets/base",
            "_view_module_version": "1.2.0",
            "_view_name": "StyleView",
            "description_width": ""
          }
        },
        "1fe37fa7573d42f7af5e1c1f4699c25f": {
          "model_module": "@jupyter-widgets/controls",
          "model_name": "HBoxModel",
          "model_module_version": "1.5.0",
          "state": {
            "_dom_classes": [],
            "_model_module": "@jupyter-widgets/controls",
            "_model_module_version": "1.5.0",
            "_model_name": "HBoxModel",
            "_view_count": null,
            "_view_module": "@jupyter-widgets/controls",
            "_view_module_version": "1.5.0",
            "_view_name": "HBoxView",
            "box_style": "",
            "children": [
              "IPY_MODEL_1750bf7dd420401ab877fe23d904fcc0",
              "IPY_MODEL_47c6393a9b71407c865ba31ef2e6f495",
              "IPY_MODEL_bda99ca4061c4735ba8a9139bc9d4765"
            ],
            "layout": "IPY_MODEL_1de51e39654046d29940d8276302802b"
          }
        },
        "1750bf7dd420401ab877fe23d904fcc0": {
          "model_module": "@jupyter-widgets/controls",
          "model_name": "HTMLModel",
          "model_module_version": "1.5.0",
          "state": {
            "_dom_classes": [],
            "_model_module": "@jupyter-widgets/controls",
            "_model_module_version": "1.5.0",
            "_model_name": "HTMLModel",
            "_view_count": null,
            "_view_module": "@jupyter-widgets/controls",
            "_view_module_version": "1.5.0",
            "_view_name": "HTMLView",
            "description": "",
            "description_tooltip": null,
            "layout": "IPY_MODEL_de604e74399c498eb5135868cecaa406",
            "placeholder": "​",
            "style": "IPY_MODEL_36dd9908077641028cdcce7b56719f63",
            "value": "Testing: 100%"
          }
        },
        "47c6393a9b71407c865ba31ef2e6f495": {
          "model_module": "@jupyter-widgets/controls",
          "model_name": "FloatProgressModel",
          "model_module_version": "1.5.0",
          "state": {
            "_dom_classes": [],
            "_model_module": "@jupyter-widgets/controls",
            "_model_module_version": "1.5.0",
            "_model_name": "FloatProgressModel",
            "_view_count": null,
            "_view_module": "@jupyter-widgets/controls",
            "_view_module_version": "1.5.0",
            "_view_name": "ProgressView",
            "bar_style": "success",
            "description": "",
            "description_tooltip": null,
            "layout": "IPY_MODEL_5645cf93be70411fa172edd94764e0be",
            "max": 1,
            "min": 0,
            "orientation": "horizontal",
            "style": "IPY_MODEL_4e25dccc7f194ac4a71beab28510673a",
            "value": 1
          }
        },
        "bda99ca4061c4735ba8a9139bc9d4765": {
          "model_module": "@jupyter-widgets/controls",
          "model_name": "HTMLModel",
          "model_module_version": "1.5.0",
          "state": {
            "_dom_classes": [],
            "_model_module": "@jupyter-widgets/controls",
            "_model_module_version": "1.5.0",
            "_model_name": "HTMLModel",
            "_view_count": null,
            "_view_module": "@jupyter-widgets/controls",
            "_view_module_version": "1.5.0",
            "_view_name": "HTMLView",
            "description": "",
            "description_tooltip": null,
            "layout": "IPY_MODEL_918e523492f14678b316656379261c1e",
            "placeholder": "​",
            "style": "IPY_MODEL_6ecf3a6506754108a3edd14ab0950d20",
            "value": " 53/53 [00:03&lt;00:00, 15.63it/s]"
          }
        },
        "1de51e39654046d29940d8276302802b": {
          "model_module": "@jupyter-widgets/base",
          "model_name": "LayoutModel",
          "model_module_version": "1.2.0",
          "state": {
            "_model_module": "@jupyter-widgets/base",
            "_model_module_version": "1.2.0",
            "_model_name": "LayoutModel",
            "_view_count": null,
            "_view_module": "@jupyter-widgets/base",
            "_view_module_version": "1.2.0",
            "_view_name": "LayoutView",
            "align_content": null,
            "align_items": null,
            "align_self": null,
            "border": null,
            "bottom": null,
            "display": "inline-flex",
            "flex": null,
            "flex_flow": "row wrap",
            "grid_area": null,
            "grid_auto_columns": null,
            "grid_auto_flow": null,
            "grid_auto_rows": null,
            "grid_column": null,
            "grid_gap": null,
            "grid_row": null,
            "grid_template_areas": null,
            "grid_template_columns": null,
            "grid_template_rows": null,
            "height": null,
            "justify_content": null,
            "justify_items": null,
            "left": null,
            "margin": null,
            "max_height": null,
            "max_width": null,
            "min_height": null,
            "min_width": null,
            "object_fit": null,
            "object_position": null,
            "order": null,
            "overflow": null,
            "overflow_x": null,
            "overflow_y": null,
            "padding": null,
            "right": null,
            "top": null,
            "visibility": null,
            "width": "100%"
          }
        },
        "de604e74399c498eb5135868cecaa406": {
          "model_module": "@jupyter-widgets/base",
          "model_name": "LayoutModel",
          "model_module_version": "1.2.0",
          "state": {
            "_model_module": "@jupyter-widgets/base",
            "_model_module_version": "1.2.0",
            "_model_name": "LayoutModel",
            "_view_count": null,
            "_view_module": "@jupyter-widgets/base",
            "_view_module_version": "1.2.0",
            "_view_name": "LayoutView",
            "align_content": null,
            "align_items": null,
            "align_self": null,
            "border": null,
            "bottom": null,
            "display": null,
            "flex": null,
            "flex_flow": null,
            "grid_area": null,
            "grid_auto_columns": null,
            "grid_auto_flow": null,
            "grid_auto_rows": null,
            "grid_column": null,
            "grid_gap": null,
            "grid_row": null,
            "grid_template_areas": null,
            "grid_template_columns": null,
            "grid_template_rows": null,
            "height": null,
            "justify_content": null,
            "justify_items": null,
            "left": null,
            "margin": null,
            "max_height": null,
            "max_width": null,
            "min_height": null,
            "min_width": null,
            "object_fit": null,
            "object_position": null,
            "order": null,
            "overflow": null,
            "overflow_x": null,
            "overflow_y": null,
            "padding": null,
            "right": null,
            "top": null,
            "visibility": null,
            "width": null
          }
        },
        "36dd9908077641028cdcce7b56719f63": {
          "model_module": "@jupyter-widgets/controls",
          "model_name": "DescriptionStyleModel",
          "model_module_version": "1.5.0",
          "state": {
            "_model_module": "@jupyter-widgets/controls",
            "_model_module_version": "1.5.0",
            "_model_name": "DescriptionStyleModel",
            "_view_count": null,
            "_view_module": "@jupyter-widgets/base",
            "_view_module_version": "1.2.0",
            "_view_name": "StyleView",
            "description_width": ""
          }
        },
        "5645cf93be70411fa172edd94764e0be": {
          "model_module": "@jupyter-widgets/base",
          "model_name": "LayoutModel",
          "model_module_version": "1.2.0",
          "state": {
            "_model_module": "@jupyter-widgets/base",
            "_model_module_version": "1.2.0",
            "_model_name": "LayoutModel",
            "_view_count": null,
            "_view_module": "@jupyter-widgets/base",
            "_view_module_version": "1.2.0",
            "_view_name": "LayoutView",
            "align_content": null,
            "align_items": null,
            "align_self": null,
            "border": null,
            "bottom": null,
            "display": null,
            "flex": "2",
            "flex_flow": null,
            "grid_area": null,
            "grid_auto_columns": null,
            "grid_auto_flow": null,
            "grid_auto_rows": null,
            "grid_column": null,
            "grid_gap": null,
            "grid_row": null,
            "grid_template_areas": null,
            "grid_template_columns": null,
            "grid_template_rows": null,
            "height": null,
            "justify_content": null,
            "justify_items": null,
            "left": null,
            "margin": null,
            "max_height": null,
            "max_width": null,
            "min_height": null,
            "min_width": null,
            "object_fit": null,
            "object_position": null,
            "order": null,
            "overflow": null,
            "overflow_x": null,
            "overflow_y": null,
            "padding": null,
            "right": null,
            "top": null,
            "visibility": null,
            "width": null
          }
        },
        "4e25dccc7f194ac4a71beab28510673a": {
          "model_module": "@jupyter-widgets/controls",
          "model_name": "ProgressStyleModel",
          "model_module_version": "1.5.0",
          "state": {
            "_model_module": "@jupyter-widgets/controls",
            "_model_module_version": "1.5.0",
            "_model_name": "ProgressStyleModel",
            "_view_count": null,
            "_view_module": "@jupyter-widgets/base",
            "_view_module_version": "1.2.0",
            "_view_name": "StyleView",
            "bar_color": null,
            "description_width": ""
          }
        },
        "918e523492f14678b316656379261c1e": {
          "model_module": "@jupyter-widgets/base",
          "model_name": "LayoutModel",
          "model_module_version": "1.2.0",
          "state": {
            "_model_module": "@jupyter-widgets/base",
            "_model_module_version": "1.2.0",
            "_model_name": "LayoutModel",
            "_view_count": null,
            "_view_module": "@jupyter-widgets/base",
            "_view_module_version": "1.2.0",
            "_view_name": "LayoutView",
            "align_content": null,
            "align_items": null,
            "align_self": null,
            "border": null,
            "bottom": null,
            "display": null,
            "flex": null,
            "flex_flow": null,
            "grid_area": null,
            "grid_auto_columns": null,
            "grid_auto_flow": null,
            "grid_auto_rows": null,
            "grid_column": null,
            "grid_gap": null,
            "grid_row": null,
            "grid_template_areas": null,
            "grid_template_columns": null,
            "grid_template_rows": null,
            "height": null,
            "justify_content": null,
            "justify_items": null,
            "left": null,
            "margin": null,
            "max_height": null,
            "max_width": null,
            "min_height": null,
            "min_width": null,
            "object_fit": null,
            "object_position": null,
            "order": null,
            "overflow": null,
            "overflow_x": null,
            "overflow_y": null,
            "padding": null,
            "right": null,
            "top": null,
            "visibility": null,
            "width": null
          }
        },
        "6ecf3a6506754108a3edd14ab0950d20": {
          "model_module": "@jupyter-widgets/controls",
          "model_name": "DescriptionStyleModel",
          "model_module_version": "1.5.0",
          "state": {
            "_model_module": "@jupyter-widgets/controls",
            "_model_module_version": "1.5.0",
            "_model_name": "DescriptionStyleModel",
            "_view_count": null,
            "_view_module": "@jupyter-widgets/base",
            "_view_module_version": "1.2.0",
            "_view_name": "StyleView",
            "description_width": ""
          }
        }
      }
    }
  },
  "cells": [
    {
      "cell_type": "markdown",
      "metadata": {
        "id": "view-in-github",
        "colab_type": "text"
      },
      "source": [
        "<a href=\"https://colab.research.google.com/github/yn2a75/benkyokai/blob/main/Kikagaku_Bert%E6%96%87%E6%9B%B8%E5%88%86%E9%A1%9E%E6%BC%94%E7%BF%92_%E3%83%8D%E3%82%AC%E3%83%86%E3%82%A3%E3%83%96%E5%88%A4%E5%AE%9A.ipynb\" target=\"_parent\"><img src=\"https://colab.research.google.com/assets/colab-badge.svg\" alt=\"Open In Colab\"/></a>"
      ]
    },
    {
      "cell_type": "markdown",
      "source": [
        "# 問題\n",
        "###下記の要件にしたがって実装を行い、解答しなさい。\n",
        "上場企業の 2016 年度有価証券報告書データを使用して、ネガポジ分析を行います。\n",
        "今まで学習した手法（カウントベース・NN ベースの数値化手法、RNN、BERT etc...）を用いて、テストデータ（test.csv）に対する精度 85 % 以上のモデルを作成しなさい。\n",
        "\n",
        "### 要件\n",
        "pred_test.csv 内のデータに対する精度（accuracy）が 85 % 以上で合格\n",
        "- 使用するデータ：prac_data.zip\n",
        "- 乱数は、pl.seed_everything(0) で固定\n",
        "- 配布のデータ（pred_test.csv） に対する予測結果を CSV ファイルで提出。\n",
        "- カラムは2列。id：インデックス、pred：モデルの予測結果\n",
        "- index=None, header=None で保存\n",
        "\n",
        "### 手順\n",
        "\n",
        "- データセットの作成\n",
        "    - DataFrameに格納し、train,val,testに分けて、CSVに出力する。（今回は、すでにtrain,val,testに分かれた状態でデータが与えられているので処理は不要。）\n",
        "        - train.csv\n",
        "        - val.csv\n",
        "        - test.csv\n",
        "- Tokenizer\n",
        "- TokenizerとTorchTextを使用したデータセットの作成\n",
        "- DataLoaderの作成\n",
        "- ネットワークの定義\n",
        "    - ファインチューニングの設定\n",
        "    - 損失関数、最適化手法\n",
        "- 学習\n",
        "- 学習ログの可視化\n",
        "- Attentionの可視化\n",
        "- 結果をcsvに出力"
      ],
      "metadata": {
        "id": "GVNJjIADoGQ3"
      }
    },
    {
      "cell_type": "markdown",
      "source": [
        "# 必要なライブラリのインストール"
      ],
      "metadata": {
        "id": "Bv4mkh5BrdrN"
      }
    },
    {
      "cell_type": "code",
      "execution_count": 1,
      "metadata": {
        "id": "HA8wPOTxmEjJ",
        "colab": {
          "base_uri": "https://localhost:8080/"
        },
        "outputId": "ca05805d-2192-4c47-e37d-66d413cc80df"
      },
      "outputs": [
        {
          "output_type": "stream",
          "name": "stdout",
          "text": [
            "\u001b[K     |████████████████████████████████| 2.1 MB 4.3 MB/s \n",
            "\u001b[K     |████████████████████████████████| 3.3 MB 68.9 MB/s \n",
            "\u001b[K     |████████████████████████████████| 895 kB 85.4 MB/s \n",
            "\u001b[K     |████████████████████████████████| 527 kB 4.1 MB/s \n",
            "\u001b[K     |████████████████████████████████| 596 kB 77.7 MB/s \n",
            "\u001b[K     |████████████████████████████████| 134 kB 100.3 MB/s \n",
            "\u001b[K     |████████████████████████████████| 829 kB 81.7 MB/s \n",
            "\u001b[K     |████████████████████████████████| 397 kB 66.2 MB/s \n",
            "\u001b[K     |████████████████████████████████| 952 kB 54.4 MB/s \n",
            "\u001b[K     |████████████████████████████████| 1.1 MB 52.6 MB/s \n",
            "\u001b[K     |████████████████████████████████| 94 kB 3.4 MB/s \n",
            "\u001b[K     |████████████████████████████████| 271 kB 58.8 MB/s \n",
            "\u001b[K     |████████████████████████████████| 144 kB 77.5 MB/s \n",
            "\u001b[?25h  Building wheel for future (setup.py) ... \u001b[?25l\u001b[?25hdone\n",
            "\u001b[31mERROR: pip's dependency resolver does not currently take into account all the packages that are installed. This behaviour is the source of the following dependency conflicts.\n",
            "tensorflow 2.8.0 requires tf-estimator-nightly==2.8.0.dev2021122109, which is not installed.\n",
            "datascience 0.10.6 requires folium==0.2.1, but you have folium 0.8.3 which is incompatible.\u001b[0m\n"
          ]
        }
      ],
      "source": [
        "! pip install -q transformers==4.4.0\n",
        "! pip install -q pytorch_lightning\n",
        "! pip install -q torchmetrics"
      ]
    },
    {
      "cell_type": "code",
      "source": [
        "import torch\n",
        "import torch.nn as nn\n",
        "import torch.nn.functional as F\n",
        "from torchtext.legacy.data import Field, TabularDataset, BucketIterator\n",
        "import pytorch_lightning as pl\n",
        "import transformers\n",
        "\n",
        "import torchmetrics\n",
        "from torchmetrics.functional import accuracy\n",
        "\n"
      ],
      "metadata": {
        "id": "mI2LZbGZrwVX"
      },
      "execution_count": 2,
      "outputs": []
    },
    {
      "cell_type": "code",
      "source": [
        "#RUNTIME ERRORが出たため、指示通りに環境変数の設定をする\n",
        "%env CUBLAS_WORKSPACE_CONFIG=:4096:8"
      ],
      "metadata": {
        "colab": {
          "base_uri": "https://localhost:8080/"
        },
        "id": "Tr8-2KVjBv0Y",
        "outputId": "43993531-9d18-45ab-ff1e-61d0ca4f3494"
      },
      "execution_count": 3,
      "outputs": [
        {
          "output_type": "stream",
          "name": "stdout",
          "text": [
            "env: CUBLAS_WORKSPACE_CONFIG=:4096:8\n"
          ]
        }
      ]
    },
    {
      "cell_type": "code",
      "source": [
        "#gpuかどうかを確認する記載を追加\n",
        "device = torch.device('cuda' if torch.cuda.is_available() else 'cpu')\n",
        "device"
      ],
      "metadata": {
        "colab": {
          "base_uri": "https://localhost:8080/"
        },
        "id": "oum-nsuV2B6n",
        "outputId": "15f37edb-3c20-4113-d4f7-578c428a0cae"
      },
      "execution_count": 4,
      "outputs": [
        {
          "output_type": "execute_result",
          "data": {
            "text/plain": [
              "device(type='cuda')"
            ]
          },
          "metadata": {},
          "execution_count": 4
        }
      ]
    },
    {
      "cell_type": "code",
      "source": [
        "import torchtext\n",
        "print(torch.__version__)\n",
        "print(torchtext.__version__)\n",
        "print(pl.__version__)"
      ],
      "metadata": {
        "id": "ErzqUDVxvufh",
        "colab": {
          "base_uri": "https://localhost:8080/"
        },
        "outputId": "9d5da7e2-c8f1-4971-da4d-a84fd2caf758"
      },
      "execution_count": 5,
      "outputs": [
        {
          "output_type": "stream",
          "name": "stdout",
          "text": [
            "1.10.0+cu111\n",
            "0.11.0\n",
            "1.5.10\n"
          ]
        }
      ]
    },
    {
      "cell_type": "code",
      "source": [
        "torch.cuda.get_device_name(0)"
      ],
      "metadata": {
        "colab": {
          "base_uri": "https://localhost:8080/",
          "height": 35
        },
        "id": "V9IEJ9tai88V",
        "outputId": "76738ae2-7160-46d4-e077-596261bab353"
      },
      "execution_count": 6,
      "outputs": [
        {
          "output_type": "execute_result",
          "data": {
            "text/plain": [
              "'Tesla P100-PCIE-16GB'"
            ],
            "application/vnd.google.colaboratory.intrinsic+json": {
              "type": "string"
            }
          },
          "metadata": {},
          "execution_count": 6
        }
      ]
    },
    {
      "cell_type": "markdown",
      "source": [
        "# データセットの準備"
      ],
      "metadata": {
        "id": "NNVByZkAjFJ8"
      }
    },
    {
      "cell_type": "code",
      "source": [
        "import pandas as pd"
      ],
      "metadata": {
        "id": "p5lH0JnBjBVD"
      },
      "execution_count": 7,
      "outputs": []
    },
    {
      "cell_type": "code",
      "source": [
        "#GoogleDriveをマウント\n",
        "from google.colab import drive\n",
        "drive.mount(\"/content/drive/\")"
      ],
      "metadata": {
        "colab": {
          "base_uri": "https://localhost:8080/"
        },
        "id": "XBz05IonjPL_",
        "outputId": "c16c7a6c-b3e4-4a0c-a9bd-2da3d71d9b63"
      },
      "execution_count": 8,
      "outputs": [
        {
          "output_type": "stream",
          "name": "stdout",
          "text": [
            "Mounted at /content/drive/\n"
          ]
        }
      ]
    },
    {
      "cell_type": "code",
      "source": [
        "train_df=pd.read_csv(\"/content/drive/MyDrive/kikagakuNLP/prac_data2/train.csv\", header=None, names=['contents', 'label_id'])\n",
        "val_df=pd.read_csv(\"/content/drive/MyDrive/kikagakuNLP/prac_data2/val.csv\" ,header=None, names=['contents', 'label_id'])\n",
        "test_df=pd.read_csv(\"/content/drive/MyDrive/kikagakuNLP/prac_data2/test.csv\" , header=None, names=['contents', 'label_id'])"
      ],
      "metadata": {
        "id": "BdTFVzZCkPp_"
      },
      "execution_count": 9,
      "outputs": []
    },
    {
      "cell_type": "code",
      "source": [
        "train_df"
      ],
      "metadata": {
        "colab": {
          "base_uri": "https://localhost:8080/",
          "height": 423
        },
        "id": "qlUsuP0dmntz",
        "outputId": "bba1595b-c332-49bb-cd1b-57d41266efa8"
      },
      "execution_count": 10,
      "outputs": [
        {
          "output_type": "execute_result",
          "data": {
            "text/plain": [
              "                                               contents  label_id\n",
              "0     利益面では、売上原価率が上昇するとともに、販売費を主に販売費及び一般管理費が増加いたしました...         0\n",
              "1                         台湾ではパッケージ基板向け薬品売上が好調に推移いたしました         1\n",
              "2     電子部品向け金属粉の販売状況につきましては、スマートフォン関連需要に加え、軟磁性材向けの販売...         1\n",
              "3     当連結会計年度における世界経済は、米国市場では、新政権の誕生により一時混乱が見られたものの、...         1\n",
              "4     この結果、商業施設事業の売上高は23億36百万円(前期比0.5％増)、減価償却費減少などによ...         1\n",
              "...                                                 ...       ...\n",
              "1372  経費面においては、引き続き光熱費などの削減に努めましたが、売上増加に伴う人員の増強や10月か...         0\n",
              "1373  こうした中、わが国経済は、堅調な設備投資や欧米・アジア向け輸出の増加等により、回復基調が継続...         1\n",
              "1374                          またインターホン設備等の更新需要も増加いたしました         1\n",
              "1375  営業損益につきましては、営業利益4億45百万円となり、前期に比べ3億15百万円、243.2%...         1\n",
              "1376  完成工事高につきましては、空洞充填工事の完成工事高が619百万円（前事業年度比5.2％減）と...         1\n",
              "\n",
              "[1377 rows x 2 columns]"
            ],
            "text/html": [
              "\n",
              "  <div id=\"df-9d86385b-29f1-4737-8f3b-f77101c77e35\">\n",
              "    <div class=\"colab-df-container\">\n",
              "      <div>\n",
              "<style scoped>\n",
              "    .dataframe tbody tr th:only-of-type {\n",
              "        vertical-align: middle;\n",
              "    }\n",
              "\n",
              "    .dataframe tbody tr th {\n",
              "        vertical-align: top;\n",
              "    }\n",
              "\n",
              "    .dataframe thead th {\n",
              "        text-align: right;\n",
              "    }\n",
              "</style>\n",
              "<table border=\"1\" class=\"dataframe\">\n",
              "  <thead>\n",
              "    <tr style=\"text-align: right;\">\n",
              "      <th></th>\n",
              "      <th>contents</th>\n",
              "      <th>label_id</th>\n",
              "    </tr>\n",
              "  </thead>\n",
              "  <tbody>\n",
              "    <tr>\n",
              "      <th>0</th>\n",
              "      <td>利益面では、売上原価率が上昇するとともに、販売費を主に販売費及び一般管理費が増加いたしました...</td>\n",
              "      <td>0</td>\n",
              "    </tr>\n",
              "    <tr>\n",
              "      <th>1</th>\n",
              "      <td>台湾ではパッケージ基板向け薬品売上が好調に推移いたしました</td>\n",
              "      <td>1</td>\n",
              "    </tr>\n",
              "    <tr>\n",
              "      <th>2</th>\n",
              "      <td>電子部品向け金属粉の販売状況につきましては、スマートフォン関連需要に加え、軟磁性材向けの販売...</td>\n",
              "      <td>1</td>\n",
              "    </tr>\n",
              "    <tr>\n",
              "      <th>3</th>\n",
              "      <td>当連結会計年度における世界経済は、米国市場では、新政権の誕生により一時混乱が見られたものの、...</td>\n",
              "      <td>1</td>\n",
              "    </tr>\n",
              "    <tr>\n",
              "      <th>4</th>\n",
              "      <td>この結果、商業施設事業の売上高は23億36百万円(前期比0.5％増)、減価償却費減少などによ...</td>\n",
              "      <td>1</td>\n",
              "    </tr>\n",
              "    <tr>\n",
              "      <th>...</th>\n",
              "      <td>...</td>\n",
              "      <td>...</td>\n",
              "    </tr>\n",
              "    <tr>\n",
              "      <th>1372</th>\n",
              "      <td>経費面においては、引き続き光熱費などの削減に努めましたが、売上増加に伴う人員の増強や10月か...</td>\n",
              "      <td>0</td>\n",
              "    </tr>\n",
              "    <tr>\n",
              "      <th>1373</th>\n",
              "      <td>こうした中、わが国経済は、堅調な設備投資や欧米・アジア向け輸出の増加等により、回復基調が継続...</td>\n",
              "      <td>1</td>\n",
              "    </tr>\n",
              "    <tr>\n",
              "      <th>1374</th>\n",
              "      <td>またインターホン設備等の更新需要も増加いたしました</td>\n",
              "      <td>1</td>\n",
              "    </tr>\n",
              "    <tr>\n",
              "      <th>1375</th>\n",
              "      <td>営業損益につきましては、営業利益4億45百万円となり、前期に比べ3億15百万円、243.2%...</td>\n",
              "      <td>1</td>\n",
              "    </tr>\n",
              "    <tr>\n",
              "      <th>1376</th>\n",
              "      <td>完成工事高につきましては、空洞充填工事の完成工事高が619百万円（前事業年度比5.2％減）と...</td>\n",
              "      <td>1</td>\n",
              "    </tr>\n",
              "  </tbody>\n",
              "</table>\n",
              "<p>1377 rows × 2 columns</p>\n",
              "</div>\n",
              "      <button class=\"colab-df-convert\" onclick=\"convertToInteractive('df-9d86385b-29f1-4737-8f3b-f77101c77e35')\"\n",
              "              title=\"Convert this dataframe to an interactive table.\"\n",
              "              style=\"display:none;\">\n",
              "        \n",
              "  <svg xmlns=\"http://www.w3.org/2000/svg\" height=\"24px\"viewBox=\"0 0 24 24\"\n",
              "       width=\"24px\">\n",
              "    <path d=\"M0 0h24v24H0V0z\" fill=\"none\"/>\n",
              "    <path d=\"M18.56 5.44l.94 2.06.94-2.06 2.06-.94-2.06-.94-.94-2.06-.94 2.06-2.06.94zm-11 1L8.5 8.5l.94-2.06 2.06-.94-2.06-.94L8.5 2.5l-.94 2.06-2.06.94zm10 10l.94 2.06.94-2.06 2.06-.94-2.06-.94-.94-2.06-.94 2.06-2.06.94z\"/><path d=\"M17.41 7.96l-1.37-1.37c-.4-.4-.92-.59-1.43-.59-.52 0-1.04.2-1.43.59L10.3 9.45l-7.72 7.72c-.78.78-.78 2.05 0 2.83L4 21.41c.39.39.9.59 1.41.59.51 0 1.02-.2 1.41-.59l7.78-7.78 2.81-2.81c.8-.78.8-2.07 0-2.86zM5.41 20L4 18.59l7.72-7.72 1.47 1.35L5.41 20z\"/>\n",
              "  </svg>\n",
              "      </button>\n",
              "      \n",
              "  <style>\n",
              "    .colab-df-container {\n",
              "      display:flex;\n",
              "      flex-wrap:wrap;\n",
              "      gap: 12px;\n",
              "    }\n",
              "\n",
              "    .colab-df-convert {\n",
              "      background-color: #E8F0FE;\n",
              "      border: none;\n",
              "      border-radius: 50%;\n",
              "      cursor: pointer;\n",
              "      display: none;\n",
              "      fill: #1967D2;\n",
              "      height: 32px;\n",
              "      padding: 0 0 0 0;\n",
              "      width: 32px;\n",
              "    }\n",
              "\n",
              "    .colab-df-convert:hover {\n",
              "      background-color: #E2EBFA;\n",
              "      box-shadow: 0px 1px 2px rgba(60, 64, 67, 0.3), 0px 1px 3px 1px rgba(60, 64, 67, 0.15);\n",
              "      fill: #174EA6;\n",
              "    }\n",
              "\n",
              "    [theme=dark] .colab-df-convert {\n",
              "      background-color: #3B4455;\n",
              "      fill: #D2E3FC;\n",
              "    }\n",
              "\n",
              "    [theme=dark] .colab-df-convert:hover {\n",
              "      background-color: #434B5C;\n",
              "      box-shadow: 0px 1px 3px 1px rgba(0, 0, 0, 0.15);\n",
              "      filter: drop-shadow(0px 1px 2px rgba(0, 0, 0, 0.3));\n",
              "      fill: #FFFFFF;\n",
              "    }\n",
              "  </style>\n",
              "\n",
              "      <script>\n",
              "        const buttonEl =\n",
              "          document.querySelector('#df-9d86385b-29f1-4737-8f3b-f77101c77e35 button.colab-df-convert');\n",
              "        buttonEl.style.display =\n",
              "          google.colab.kernel.accessAllowed ? 'block' : 'none';\n",
              "\n",
              "        async function convertToInteractive(key) {\n",
              "          const element = document.querySelector('#df-9d86385b-29f1-4737-8f3b-f77101c77e35');\n",
              "          const dataTable =\n",
              "            await google.colab.kernel.invokeFunction('convertToInteractive',\n",
              "                                                     [key], {});\n",
              "          if (!dataTable) return;\n",
              "\n",
              "          const docLinkHtml = 'Like what you see? Visit the ' +\n",
              "            '<a target=\"_blank\" href=https://colab.research.google.com/notebooks/data_table.ipynb>data table notebook</a>'\n",
              "            + ' to learn more about interactive tables.';\n",
              "          element.innerHTML = '';\n",
              "          dataTable['output_type'] = 'display_data';\n",
              "          await google.colab.output.renderOutput(dataTable, element);\n",
              "          const docLink = document.createElement('div');\n",
              "          docLink.innerHTML = docLinkHtml;\n",
              "          element.appendChild(docLink);\n",
              "        }\n",
              "      </script>\n",
              "    </div>\n",
              "  </div>\n",
              "  "
            ]
          },
          "metadata": {},
          "execution_count": 10
        }
      ]
    },
    {
      "cell_type": "code",
      "source": [
        "# csvファイルとして保存する\n",
        "train_df.to_csv('train.csv', header=None, index=None)\n",
        "val_df.to_csv('val.csv', header=None, index=None)\n",
        "test_df.to_csv('test.csv', header=None, index=None)"
      ],
      "metadata": {
        "id": "0T7fv8oDvUXl"
      },
      "execution_count": 12,
      "outputs": []
    },
    {
      "cell_type": "code",
      "source": [
        "#後に ID → カテゴリ、カテゴリ → ID の変換を行うことを前提として、カテゴリの辞書を作成しておく。\n",
        "id2cat = {0:\"negative\",1:\"positive\"}\n",
        "cat2id = {\"negative\":0,\"positive\":1} "
      ],
      "metadata": {
        "id": "1g9Ukw4ZfKv1"
      },
      "execution_count": 13,
      "outputs": []
    },
    {
      "cell_type": "markdown",
      "source": [
        "# Tokenizerを用いたデータの準備\n",
        "Tokenizerの用意"
      ],
      "metadata": {
        "id": "KkMPMsVOn0PP"
      }
    },
    {
      "cell_type": "code",
      "source": [
        "#必要なライブラリをインストール\n",
        "!pip install -q fugashi\n",
        "!pip install -q ipadic"
      ],
      "metadata": {
        "id": "f_yTUOFrn69A",
        "colab": {
          "base_uri": "https://localhost:8080/"
        },
        "outputId": "c2924680-abaf-404a-a5bb-d04da341eaa8"
      },
      "execution_count": 14,
      "outputs": [
        {
          "output_type": "stream",
          "name": "stdout",
          "text": [
            "\u001b[K     |████████████████████████████████| 568 kB 4.3 MB/s \n",
            "\u001b[K     |████████████████████████████████| 13.4 MB 4.3 MB/s \n",
            "\u001b[?25h  Building wheel for ipadic (setup.py) ... \u001b[?25l\u001b[?25hdone\n"
          ]
        }
      ]
    },
    {
      "cell_type": "code",
      "source": [
        "from transformers import BertJapaneseTokenizer\n",
        "#分かち書き用のtokenizer\n",
        "\n",
        "tokenizer= BertJapaneseTokenizer.from_pretrained('cl-tohoku/bert-base-japanese-whole-word-masking')"
      ],
      "metadata": {
        "id": "ZDyaIHe0m44R",
        "colab": {
          "base_uri": "https://localhost:8080/",
          "height": 81,
          "referenced_widgets": [
            "bab02c6db72d49ffbad59f783fbde9a3",
            "c71fe9ce16ef4f3ab8ed4e0de776ea37",
            "a1cc296d862c4750adaa9f37acdb86f4",
            "d163f2e4e1b745608ba29bb144fed1ee",
            "ee7f3680aefe4b5dae203be4806cfb59",
            "23778190c8014424bfd8a32a4cf19b2d",
            "b659819785914ac8a7e53379a299f40e",
            "005f249a21f7414cbda5cb5ef1742801",
            "d2c1ded7920a40b7ac0fef6627a67126",
            "083d6c5d5c1e47bbb490dd1f3b38c508",
            "5155e8b9b56b489aaa9de1c82c45f55c",
            "3ec74d4b0ac6475aaf729d99e48017ca",
            "f47b3a0b5930419aa38b5d040d6d013c",
            "3623cb20583c44189ee784d05d6d89bd",
            "f82b9bdce2944f4fa937fd761c7c16db",
            "d9b780a1ad304a9b9b56dd715ae68fe0",
            "0c8a02adbe784c47b585a430f5de75d0",
            "22b88d2eacc8446db3fce80f42c1b965",
            "d710d4fb437b479393f27af39b327d61",
            "e60331cb89ce498791e5b80033c11499",
            "b2d6e88a68a04d23988414ade927a5fe",
            "4ee41a6f2cb54078983814f6d6c01c1e"
          ]
        },
        "outputId": "ad405a0f-894d-4030-c895-53406f8c8dae"
      },
      "execution_count": 15,
      "outputs": [
        {
          "output_type": "display_data",
          "data": {
            "text/plain": [
              "Downloading:   0%|          | 0.00/258k [00:00<?, ?B/s]"
            ],
            "application/vnd.jupyter.widget-view+json": {
              "version_major": 2,
              "version_minor": 0,
              "model_id": "bab02c6db72d49ffbad59f783fbde9a3"
            }
          },
          "metadata": {}
        },
        {
          "output_type": "display_data",
          "data": {
            "text/plain": [
              "Downloading:   0%|          | 0.00/110 [00:00<?, ?B/s]"
            ],
            "application/vnd.jupyter.widget-view+json": {
              "version_major": 2,
              "version_minor": 0,
              "model_id": "3ec74d4b0ac6475aaf729d99e48017ca"
            }
          },
          "metadata": {}
        }
      ]
    },
    {
      "cell_type": "code",
      "source": [
        "# 分かち書き用の tokenizer\n",
        "text = list(train_df['contents'])[0]\n",
        "\n",
        "# return_tensors に pt(PyTorch) を選択\n",
        "wakati_ids = tokenizer.encode(text, return_tensors='pt')\n",
        "\n",
        "print('各単語に振られている id：', wakati_ids)\n",
        "print('id のサイズ：', wakati_ids.size())"
      ],
      "metadata": {
        "colab": {
          "base_uri": "https://localhost:8080/"
        },
        "id": "lk4_Ljc2v7-U",
        "outputId": "6b292c2b-e83d-4066-c486-bb166cd55c96"
      },
      "execution_count": 16,
      "outputs": [
        {
          "output_type": "stream",
          "name": "stdout",
          "text": [
            "各単語に振られている id： tensor([[    2,  5161,   635,    12,     9,     6,  6446,   385, 29120,   786,\n",
            "            14,  4312,    34,   869,     6,  1011,  2251,    11,   137,     7,\n",
            "          1011,  2251,   920,   654,  1251,  2251,    14,  2157,  6785, 28454,\n",
            "          3913,    10,    45,   225,     6,  1790,  5161,     6,   226, 28917,\n",
            "          5161,   920, 12241,  9177,     7, 15310,    34,   162, 28692,  2947,\n",
            "          5161,     9,  1346, 29662,    13,   297,  3913,    10,     3]])\n",
            "id のサイズ： torch.Size([1, 59])\n"
          ]
        }
      ]
    },
    {
      "cell_type": "code",
      "source": [
        "print('分かち書きした単語：',tokenizer.convert_ids_to_tokens(wakati_ids[0]))"
      ],
      "metadata": {
        "colab": {
          "base_uri": "https://localhost:8080/"
        },
        "id": "TgI1JRDGwIkL",
        "outputId": "3b7b04ad-6994-4dbf-a9bd-fa91108bc648"
      },
      "execution_count": 17,
      "outputs": [
        {
          "output_type": "stream",
          "name": "stdout",
          "text": [
            "分かち書きした単語： ['[CLS]', '利益', '面', 'で', 'は', '、', '売上', '原', '##価', '率', 'が', '上昇', 'する', 'とともに', '、', '販売', '費', 'を', '主', 'に', '販売', '費', '及び', '一般', '管理', '費', 'が', '増加', 'いた', '##し', 'まし', 'た', 'こと', 'により', '、', '営業', '利益', '、', '経', '##常', '利益', '及び', '親会社', '株主', 'に', '帰属', 'する', '当', '##期', '純', '利益', 'は', '減', '##益', 'と', 'なり', 'まし', 'た', '[SEP]']\n"
          ]
        }
      ]
    },
    {
      "cell_type": "markdown",
      "source": [
        "#Bert用TokenizerとTorchTextを使用したデータセットの作成"
      ],
      "metadata": {
        "id": "1R4wAmxro8OQ"
      }
    },
    {
      "cell_type": "code",
      "source": [
        "#Bert用の分かち書きをする関数を作成\n",
        "def bert_tokenizer(text):\n",
        "  return tokenizer.encode(text, return_tensors='pt')[0]"
      ],
      "metadata": {
        "id": "ia2FQd-Roj91"
      },
      "execution_count": 18,
      "outputs": []
    },
    {
      "cell_type": "markdown",
      "source": [
        "###Fieldクラスを定義\n",
        "- batch_first:バッチサイズを出力次元の最初に設定\n",
        "- use_vocab:辞書を作成しないのでFalseに設定"
      ],
      "metadata": {
        "id": "b9PD25AKpn_-"
      }
    },
    {
      "cell_type": "code",
      "source": [
        "#Tokenizerの[pad]トークンIDの取得\n",
        "pad_token_idx = tokenizer.pad_token_id\n",
        "print(pad_token_idx)"
      ],
      "metadata": {
        "colab": {
          "base_uri": "https://localhost:8080/"
        },
        "id": "KGvaqu3QpSuG",
        "outputId": "97e30676-5c45-486b-83e9-0fab916afae9"
      },
      "execution_count": 19,
      "outputs": [
        {
          "output_type": "stream",
          "name": "stdout",
          "text": [
            "0\n"
          ]
        }
      ]
    },
    {
      "cell_type": "code",
      "source": [
        "#Fieldの設定\n",
        "TEXT=Field(\n",
        "    tokenize=bert_tokenizer,\n",
        "    use_vocab=False,\n",
        "    batch_first=True,\n",
        "    pad_token=pad_token_idx\n",
        ")\n",
        "\n",
        "LABEL=Field(\n",
        "    sequential=False,\n",
        "    use_vocab=False,\n",
        "    is_target=True\n",
        ")"
      ],
      "metadata": {
        "id": "cLpdFPInpier"
      },
      "execution_count": 20,
      "outputs": []
    },
    {
      "cell_type": "markdown",
      "source": [
        "データを読み込み"
      ],
      "metadata": {
        "id": "-hsu4XAurfZU"
      }
    },
    {
      "cell_type": "code",
      "source": [
        "#TorchText,TabularDatasetを使用した読み込み\n",
        "train_data,val_data,test_data=TabularDataset.splits(\n",
        "    path='',\n",
        "    train='train.csv',\n",
        "    validation='val.csv',\n",
        "    test='test.csv',\n",
        "    format='csv',\n",
        "    fields=[('x',TEXT),('t',LABEL)])"
      ],
      "metadata": {
        "id": "pcTedSR7q3VZ"
      },
      "execution_count": 21,
      "outputs": []
    },
    {
      "cell_type": "code",
      "source": [
        "train_data[0]"
      ],
      "metadata": {
        "colab": {
          "base_uri": "https://localhost:8080/"
        },
        "id": "eQ2LbwK-umTp",
        "outputId": "47b196d6-d58b-4a7a-fa1d-09c340020d5d"
      },
      "execution_count": 22,
      "outputs": [
        {
          "output_type": "execute_result",
          "data": {
            "text/plain": [
              "<torchtext.legacy.data.example.Example at 0x7f2b7d56dd90>"
            ]
          },
          "metadata": {},
          "execution_count": 22
        }
      ]
    },
    {
      "cell_type": "markdown",
      "source": [
        "#DataLoaderの作成\n",
        "BucketIteratorを使用  \n",
        "引数にdevice=deviceと指定し、GPU対応をする  \n",
        "\n",
        "https://qiita.com/kenta1984/items/5ba254afa8a524381c43\n",
        "\n"
      ],
      "metadata": {
        "id": "shDAEPIetJRw"
      }
    },
    {
      "cell_type": "code",
      "source": [
        "pl.seed_everything(0)\n",
        "batch_size=16\n",
        "\n",
        "train_loader=BucketIterator(train_data,batch_size,device=device,shuffle=True)\n",
        "val_loader=BucketIterator(val_data,batch_size,device=device,shuffle=False)\n",
        "test_loader=BucketIterator(test_data,batch_size,device=device,shuffle=False)\n"
      ],
      "metadata": {
        "colab": {
          "base_uri": "https://localhost:8080/"
        },
        "id": "BxD2rTHgs2w5",
        "outputId": "4a05d2b5-e656-4585-e49f-5a9bf259eb08"
      },
      "execution_count": 23,
      "outputs": [
        {
          "output_type": "stream",
          "name": "stderr",
          "text": [
            "Global seed set to 0\n"
          ]
        }
      ]
    },
    {
      "cell_type": "code",
      "source": [
        "print(train_data)"
      ],
      "metadata": {
        "colab": {
          "base_uri": "https://localhost:8080/"
        },
        "id": "jvzs_s35Lu3w",
        "outputId": "eeab8b6b-f39c-452f-a04c-05596de0ea02"
      },
      "execution_count": 24,
      "outputs": [
        {
          "output_type": "stream",
          "name": "stdout",
          "text": [
            "<torchtext.legacy.data.dataset.TabularDataset object at 0x7f2c91a50090>\n"
          ]
        }
      ]
    },
    {
      "cell_type": "markdown",
      "source": [
        "DataLoaderの中身を確認"
      ],
      "metadata": {
        "id": "xJmDWcYit3ms"
      }
    },
    {
      "cell_type": "code",
      "source": [
        "# 中身を確認\n",
        "batch = next(iter(train_loader))\n",
        "\n",
        "print('train_iter 内の最初の文章（ID）：', batch.x[0])\n",
        "print(\"長さ：\", len(batch.x[0]))  \n",
        "print(\"ラベル：\", batch.t[0])\n",
        "\n",
        "print('含まれる文字列：', tokenizer.convert_ids_to_tokens(batch.x[0]))"
      ],
      "metadata": {
        "id": "4zD7VTGtuAH7",
        "colab": {
          "base_uri": "https://localhost:8080/"
        },
        "outputId": "088538e8-8325-43ae-e474-26f7646df6c5"
      },
      "execution_count": 25,
      "outputs": [
        {
          "output_type": "stream",
          "name": "stdout",
          "text": [
            "train_iter 内の最初の文章（ID）： tensor([    2,   269, 18549,  2413,     5,  3405,    28,  2450,    16,   206,\n",
            "         2610,    14,     6,   892,  5148,  3569,   587,  6446,   107,  2643,\n",
            "            5,   881,    14,  1499,     6,  2563,   393, 29064,   774,  1562,\n",
            "           50,     5,  9026,  3465, 10095,    13,    58,    16,   206,  2610,\n",
            "            3,     0,     0,     0,     0,     0,     0,     0,     0,     0,\n",
            "            0,     0,     0,     0,     0,     0,     0,     0,     0,     0,\n",
            "            0,     0,     0,     0,     0,     0,     0,     0,     0,     0,\n",
            "            0,     0,     0,     0,     0,     0,     0,     0,     0,     0,\n",
            "            0,     0,     0,     0,     0,     0,     0,     0,     0,     0,\n",
            "            0,     0,     0,     0,     0,     0,     0,     0,     0,     0,\n",
            "            0,     0,     0,     0,     0,     0,     0,     0,     0,     0,\n",
            "            0,     0,     0,     0], device='cuda:0')\n",
            "長さ： 114\n",
            "ラベル： tensor(0, device='cuda:0')\n",
            "含まれる文字列： ['[CLS]', '不', '採算', '店舗', 'の', '撤退', 'も', '進め', 'て', 'おり', 'ます', 'が', '、', '特に', '上海', 'エリア', 'における', '売上', '高', '減少', 'の', '影響', 'が', '大きく', '、', '海外', '外', '##食', '事業', '全体', 'として', 'の', '収益', '改善', '途上', 'と', 'なっ', 'て', 'おり', 'ます', '[SEP]', '[PAD]', '[PAD]', '[PAD]', '[PAD]', '[PAD]', '[PAD]', '[PAD]', '[PAD]', '[PAD]', '[PAD]', '[PAD]', '[PAD]', '[PAD]', '[PAD]', '[PAD]', '[PAD]', '[PAD]', '[PAD]', '[PAD]', '[PAD]', '[PAD]', '[PAD]', '[PAD]', '[PAD]', '[PAD]', '[PAD]', '[PAD]', '[PAD]', '[PAD]', '[PAD]', '[PAD]', '[PAD]', '[PAD]', '[PAD]', '[PAD]', '[PAD]', '[PAD]', '[PAD]', '[PAD]', '[PAD]', '[PAD]', '[PAD]', '[PAD]', '[PAD]', '[PAD]', '[PAD]', '[PAD]', '[PAD]', '[PAD]', '[PAD]', '[PAD]', '[PAD]', '[PAD]', '[PAD]', '[PAD]', '[PAD]', '[PAD]', '[PAD]', '[PAD]', '[PAD]', '[PAD]', '[PAD]', '[PAD]', '[PAD]', '[PAD]', '[PAD]', '[PAD]', '[PAD]', '[PAD]', '[PAD]', '[PAD]', '[PAD]', '[PAD]']\n"
          ]
        }
      ]
    },
    {
      "cell_type": "code",
      "source": [
        "batch.x"
      ],
      "metadata": {
        "colab": {
          "base_uri": "https://localhost:8080/"
        },
        "id": "rS2IGpF4OSxp",
        "outputId": "350db37f-44b5-4a6b-d4d9-f22d342585c7"
      },
      "execution_count": 26,
      "outputs": [
        {
          "output_type": "execute_result",
          "data": {
            "text/plain": [
              "tensor([[    2,   269, 18549,  ...,     0,     0,     0],\n",
              "        [    2,   366,     9,  ...,     0,     0,     0],\n",
              "        [    2,  5161,   362,  ...,     0,     0,     0],\n",
              "        ...,\n",
              "        [    2,  1640, 15459,  ...,     0,     0,     0],\n",
              "        [    2,  2222, 29662,  ...,     0,     0,     0],\n",
              "        [    2,   106,     6,  ...,     0,     0,     0]], device='cuda:0')"
            ]
          },
          "metadata": {},
          "execution_count": 26
        }
      ]
    },
    {
      "cell_type": "markdown",
      "source": [
        "Bertの挙動を確認"
      ],
      "metadata": {
        "id": "ehKrnJZ4yFke"
      }
    },
    {
      "cell_type": "code",
      "source": [
        "from transformers import BertModel\n",
        "\n",
        "#.to(device)でCUDA、CPUの切り替え\n",
        "bert=BertModel.from_pretrained('cl-tohoku/bert-base-japanese-whole-word-masking').to(device)\n",
        "print(bert.config)"
      ],
      "metadata": {
        "colab": {
          "base_uri": "https://localhost:8080/",
          "height": 553,
          "referenced_widgets": [
            "40c92564b88a477ebc7e95b6ed883b4f",
            "b19285ddb7f841588da01b5adf9cacc8",
            "8ba0d77017ef45d18b83937b7ef2d7aa",
            "a40196aa9c254410a4293b89b9e71b50",
            "9fd4b66f3ffc4a298657162eac4eb894",
            "dd2819d50f1d41b28f0663f5c5baec5c",
            "e144db438db747f494aee28ae4bde15d",
            "1a4a0dc904c749b6a2c667d280c2c824",
            "579453b5d8b04e83bdfd787b058cbb43",
            "c2dee65d8a2140e09fd01243e2ab698c",
            "b8b12145b7654f88929fa0ce3ef5f3b8",
            "211d45228d6941edbd48699d6996af92",
            "aa2dc3deab9f43a49df9caabe666f24e",
            "dd53dd3c78c348cbad696f22dce10063",
            "e4813d656763401ea23f610c0fe5db89",
            "41b13924e68f4f75b527df54e054069d",
            "0be94edfc3bd4725bd74f5d6f6c671b9",
            "3a216e9d86904cf4bb81332c8ded8467",
            "0fbf60310a964348a1c982e70d9314a1",
            "a11024d672894fa1bedb495a263c6be5",
            "dad714a40dd2433eb165cc3bac9cead7",
            "1ca3b79f09e746199a4524a001c075f9"
          ]
        },
        "id": "0kvY0dN7yBIk",
        "outputId": "cadb4f3f-487b-4196-fdd1-fb3dc0c9919e"
      },
      "execution_count": 27,
      "outputs": [
        {
          "output_type": "display_data",
          "data": {
            "text/plain": [
              "Downloading:   0%|          | 0.00/479 [00:00<?, ?B/s]"
            ],
            "application/vnd.jupyter.widget-view+json": {
              "version_major": 2,
              "version_minor": 0,
              "model_id": "40c92564b88a477ebc7e95b6ed883b4f"
            }
          },
          "metadata": {}
        },
        {
          "output_type": "display_data",
          "data": {
            "text/plain": [
              "Downloading:   0%|          | 0.00/445M [00:00<?, ?B/s]"
            ],
            "application/vnd.jupyter.widget-view+json": {
              "version_major": 2,
              "version_minor": 0,
              "model_id": "211d45228d6941edbd48699d6996af92"
            }
          },
          "metadata": {}
        },
        {
          "output_type": "stream",
          "name": "stdout",
          "text": [
            "BertConfig {\n",
            "  \"_name_or_path\": \"cl-tohoku/bert-base-japanese-whole-word-masking\",\n",
            "  \"architectures\": [\n",
            "    \"BertForMaskedLM\"\n",
            "  ],\n",
            "  \"attention_probs_dropout_prob\": 0.1,\n",
            "  \"gradient_checkpointing\": false,\n",
            "  \"hidden_act\": \"gelu\",\n",
            "  \"hidden_dropout_prob\": 0.1,\n",
            "  \"hidden_size\": 768,\n",
            "  \"initializer_range\": 0.02,\n",
            "  \"intermediate_size\": 3072,\n",
            "  \"layer_norm_eps\": 1e-12,\n",
            "  \"max_position_embeddings\": 512,\n",
            "  \"model_type\": \"bert\",\n",
            "  \"num_attention_heads\": 12,\n",
            "  \"num_hidden_layers\": 12,\n",
            "  \"pad_token_id\": 0,\n",
            "  \"position_embedding_type\": \"absolute\",\n",
            "  \"tokenizer_class\": \"BertJapaneseTokenizer\",\n",
            "  \"transformers_version\": \"4.4.0\",\n",
            "  \"type_vocab_size\": 2,\n",
            "  \"use_cache\": true,\n",
            "  \"vocab_size\": 32000\n",
            "}\n",
            "\n"
          ]
        }
      ]
    },
    {
      "cell_type": "code",
      "source": [
        "sample_ids=batch.x[0].unsqueeze(0)\n",
        "bert_out=bert(sample_ids,output_attentions=True)\n",
        "len(bert_out)"
      ],
      "metadata": {
        "colab": {
          "base_uri": "https://localhost:8080/"
        },
        "id": "Mg1ppAJkydIJ",
        "outputId": "e6d16357-dafa-49ed-cbaf-8262d6b57907"
      },
      "execution_count": 28,
      "outputs": [
        {
          "output_type": "execute_result",
          "data": {
            "text/plain": [
              "3"
            ]
          },
          "metadata": {},
          "execution_count": 28
        }
      ]
    },
    {
      "cell_type": "markdown",
      "source": [
        "### BERT の出力 1 sequence_output\n",
        "BERT により入力された系列が埋め込み表現に変換された値が格納される。\n"
      ],
      "metadata": {
        "id": "QfM0rFfQy6OP"
      }
    },
    {
      "cell_type": "code",
      "source": [
        "print('BERT の分散表現:', bert_out[0])\n",
        "print('分散表現の形：', bert_out[0].shape)"
      ],
      "metadata": {
        "colab": {
          "base_uri": "https://localhost:8080/"
        },
        "id": "rH9dm8GNyusG",
        "outputId": "6aed989a-5db7-4807-da42-ed8cd553f74b"
      },
      "execution_count": 29,
      "outputs": [
        {
          "output_type": "stream",
          "name": "stdout",
          "text": [
            "BERT の分散表現: tensor([[[-0.6195,  0.2102, -0.1645,  ..., -0.3445, -1.2501,  0.0231],\n",
            "         [-0.8272,  0.5206, -0.3985,  ..., -0.6935, -1.3087,  0.4249],\n",
            "         [-0.5086,  0.2657, -0.1432,  ..., -0.3472, -1.4271,  0.3717],\n",
            "         ...,\n",
            "         [-0.5725,  0.2274, -0.1445,  ..., -0.0947, -1.3014, -0.0466],\n",
            "         [-0.5769,  0.2471, -0.1346,  ..., -0.0942, -1.3024, -0.0680],\n",
            "         [-0.6018,  0.2950, -0.1433,  ..., -0.0849, -1.3207, -0.0523]]],\n",
            "       device='cuda:0', grad_fn=<NativeLayerNormBackward0>)\n",
            "分散表現の形： torch.Size([1, 114, 768])\n"
          ]
        }
      ]
    },
    {
      "cell_type": "markdown",
      "source": [
        "### BERT の出力 2 pooled_output\n",
        "これには、 [CLS] トークンに対応するベクトルをさらに線形写像したものが格納されている。\n",
        "入力の全体として何らかの判定をしたい、例えば今回の様な文書分類のタスクなどの際に用いる。\n"
      ],
      "metadata": {
        "id": "KqtKxfwsy8xK"
      }
    },
    {
      "cell_type": "code",
      "source": [
        "print(bert_out[1])\n",
        "print(bert_out[1].shape)"
      ],
      "metadata": {
        "id": "C3H0n8evy5U2",
        "colab": {
          "base_uri": "https://localhost:8080/"
        },
        "outputId": "0b77cbb0-284a-49b2-dee1-8b1264f090f8"
      },
      "execution_count": 30,
      "outputs": [
        {
          "output_type": "stream",
          "name": "stdout",
          "text": [
            "tensor([[ 7.9558e-01, -5.2010e-01, -4.0600e-01, -2.8980e-01,  3.2107e-01,\n",
            "          9.9844e-01, -3.8556e-01,  5.0100e-02, -4.5320e-02,  6.0328e-02,\n",
            "          5.0576e-01,  3.2640e-01, -5.2126e-02,  3.3933e-01,  4.4356e-02,\n",
            "         -4.4207e-01,  4.1727e-01, -1.9196e-01,  4.8068e-01,  2.7117e-01,\n",
            "         -1.1353e-02,  3.7900e-01, -2.3613e-01,  9.9850e-01,  9.9984e-01,\n",
            "          3.5645e-01,  5.6646e-02, -5.3996e-01,  9.9860e-01,  7.2530e-01,\n",
            "          4.6263e-01,  1.7606e-01,  1.0027e-01,  1.0945e-01,  2.4563e-01,\n",
            "          1.2525e-01,  7.3371e-01, -7.8958e-02, -1.3881e-01, -5.1159e-02,\n",
            "         -8.2498e-02, -9.5961e-01, -8.8046e-01,  1.3067e-03,  4.5617e-01,\n",
            "          1.5074e-01, -5.8500e-02, -4.8240e-01,  2.9541e-01, -5.8486e-02,\n",
            "         -1.8429e-01,  2.1389e-01,  4.7732e-01, -9.9867e-01, -2.6521e-01,\n",
            "          5.5714e-01, -1.1061e-01, -4.9097e-01, -2.8201e-01,  9.9949e-01,\n",
            "          9.8159e-01, -1.8515e-02,  2.4281e-01,  5.2152e-01, -5.7399e-01,\n",
            "          6.1216e-01,  2.7095e-01,  5.0346e-01,  5.0682e-01,  9.1285e-01,\n",
            "          3.1778e-01,  2.4598e-01, -3.4737e-01,  3.0631e-01,  6.0201e-01,\n",
            "          2.2702e-01,  9.8924e-01, -1.2149e-02, -9.6677e-01,  2.4070e-01,\n",
            "         -9.1542e-01,  2.5948e-01, -4.5113e-01,  4.7063e-01, -6.8675e-01,\n",
            "          6.6628e-01, -2.2990e-01, -2.2644e-01,  1.6975e-01,  5.6269e-01,\n",
            "          1.6827e-01, -9.7993e-01,  1.4657e-01, -3.2428e-01, -5.8270e-02,\n",
            "          1.1009e-01, -3.6546e-01,  7.0341e-01, -3.2448e-01,  2.6714e-01,\n",
            "          4.4089e-01,  4.4051e-01, -3.7376e-01,  1.3367e-01,  3.3332e-01,\n",
            "          3.7132e-01, -4.1373e-02,  4.3569e-01, -3.8602e-01,  1.2478e-01,\n",
            "         -1.2018e-01, -2.9284e-01, -4.0867e-01, -4.2355e-01,  1.7584e-01,\n",
            "          4.0686e-01, -6.2218e-01, -3.2442e-01, -1.8923e-01,  4.9378e-01,\n",
            "          1.5417e-01, -7.3928e-01,  5.4660e-01, -2.7701e-01, -9.8018e-01,\n",
            "         -9.9927e-01, -6.8585e-01,  7.2476e-02,  1.5777e-01,  1.8419e-02,\n",
            "         -3.3014e-01,  2.0074e-01,  4.4473e-01,  3.6304e-01, -2.9755e-01,\n",
            "          2.4326e-01,  3.2249e-01,  3.4260e-01, -3.7809e-01,  1.9932e-01,\n",
            "         -2.6888e-01,  9.0006e-01,  2.6724e-01,  7.8617e-01, -9.9985e-01,\n",
            "         -9.1643e-02,  8.9072e-01,  1.3839e-01, -1.9127e-01,  3.8319e-01,\n",
            "         -4.6108e-01, -1.7632e-01,  2.9233e-01, -4.2959e-01,  4.1307e-01,\n",
            "          2.9058e-01,  5.6131e-01, -8.4474e-02,  4.0994e-01, -5.5174e-01,\n",
            "         -3.7056e-01,  1.4202e-01, -4.7542e-01, -6.2435e-01, -3.3910e-01,\n",
            "          3.7042e-02, -2.5975e-01, -2.2339e-01,  2.9783e-01,  2.1774e-01,\n",
            "         -2.6768e-01,  3.1149e-01,  6.2952e-01, -8.9926e-01,  1.0145e-01,\n",
            "         -7.4969e-01,  5.4419e-01,  5.2440e-01,  4.2989e-01,  2.6853e-01,\n",
            "         -2.7939e-01,  3.8465e-01,  4.1165e-01, -1.8146e-02, -1.3007e-01,\n",
            "          5.5725e-01, -2.2286e-01, -4.1334e-01, -8.8838e-01, -5.9627e-01,\n",
            "          2.4975e-01,  9.6000e-01,  2.7142e-02, -4.1071e-01,  3.9364e-01,\n",
            "         -2.0655e-01, -2.7338e-01,  2.7486e-01,  6.5803e-01,  9.9529e-01,\n",
            "         -7.4303e-01, -5.0525e-01,  1.7492e-02,  8.6063e-01, -4.4025e-01,\n",
            "         -6.1907e-02,  7.9401e-01,  2.6152e-01, -5.7778e-01, -1.8334e-02,\n",
            "         -6.3251e-01, -4.4061e-01, -9.0896e-01,  9.5627e-01,  9.7201e-01,\n",
            "         -1.4726e-01, -1.6482e-01,  1.6030e-01,  1.4343e-02, -4.4942e-01,\n",
            "         -4.6993e-01,  8.5254e-01, -9.0054e-01,  5.9035e-02, -5.3197e-01,\n",
            "          2.6486e-01, -5.7192e-01, -3.4753e-01, -1.2752e-01,  9.8953e-01,\n",
            "          8.7965e-01, -1.3276e-01,  5.8020e-01, -7.5566e-02, -5.0390e-01,\n",
            "          3.5401e-01, -3.3710e-01,  2.0454e-01,  4.8345e-02, -8.7798e-02,\n",
            "         -2.5226e-01, -1.5923e-01,  3.4896e-01,  9.9350e-01, -1.3387e-02,\n",
            "          2.6752e-01,  2.6762e-01, -2.0153e-01, -3.4643e-01,  3.4505e-01,\n",
            "         -9.9985e-01, -1.2305e-01,  2.0838e-01,  2.9305e-01,  1.4220e-02,\n",
            "          1.6501e-01,  9.5709e-01,  6.4028e-02,  9.8471e-01,  1.0743e-01,\n",
            "         -3.5131e-01, -8.0325e-01, -6.0953e-01, -1.9773e-01,  9.4416e-01,\n",
            "         -1.9726e-01, -1.3680e-01,  3.2915e-01,  7.0958e-01,  9.8262e-01,\n",
            "          2.9083e-01, -2.9813e-02,  9.1547e-01,  6.8110e-02, -7.7193e-01,\n",
            "          4.3692e-03, -4.8235e-01, -6.1365e-01, -4.2707e-01, -4.1893e-01,\n",
            "          1.9521e-01,  7.6435e-01, -4.9010e-01,  9.9937e-01,  1.9652e-01,\n",
            "         -2.2144e-01, -4.2140e-01, -3.2574e-02, -1.1870e-01, -9.9976e-01,\n",
            "          5.6031e-01,  1.2401e-01, -2.0303e-01,  4.7641e-01, -3.2612e-01,\n",
            "          3.0864e-02,  3.8431e-01, -4.5014e-01,  2.0332e-01, -5.6440e-01,\n",
            "         -2.6061e-02,  9.5902e-01,  5.6959e-01,  2.9537e-01, -5.3061e-01,\n",
            "          4.2840e-01, -9.9971e-01, -7.7374e-02, -4.1154e-01, -9.9935e-01,\n",
            "          9.7179e-01, -1.7541e-01, -9.9893e-01, -9.0879e-01, -1.6040e-01,\n",
            "          1.9949e-01, -3.5448e-01,  4.3339e-01, -2.9420e-02, -2.3901e-01,\n",
            "         -3.6418e-01, -5.0029e-01, -1.2916e-02, -2.0318e-01, -8.1154e-02,\n",
            "         -1.3783e-01,  7.1926e-01,  2.7343e-01,  1.6467e-01,  5.5586e-01,\n",
            "          5.2443e-01,  4.3837e-01,  4.5861e-01, -6.0581e-01, -2.1359e-01,\n",
            "          1.8161e-01,  6.6123e-01, -3.2945e-01, -1.6627e-01, -1.7334e-01,\n",
            "         -1.5628e-01,  7.8881e-01, -2.7597e-01, -3.7700e-01,  3.1396e-01,\n",
            "          1.6586e-01, -5.0791e-01, -3.1058e-01, -3.1291e-01,  7.4528e-02,\n",
            "         -6.0306e-01, -2.2612e-01,  2.4701e-02, -1.9214e-01, -6.4109e-01,\n",
            "         -1.3659e-02,  1.5447e-01,  2.4146e-01, -7.6196e-01, -3.0585e-01,\n",
            "         -3.6285e-01,  9.3386e-01, -1.5609e-01,  1.0654e-02, -9.6763e-01,\n",
            "         -8.5906e-01, -3.9726e-01, -5.9131e-01,  5.2544e-01,  2.4791e-01,\n",
            "          2.1822e-01, -6.0990e-01,  2.6183e-01, -9.0842e-02,  3.0223e-01,\n",
            "          3.0954e-01, -8.4794e-01, -3.7248e-01, -1.5007e-01,  9.9957e-01,\n",
            "          5.5688e-02,  4.6800e-01, -1.2322e-01,  5.2572e-01, -6.3726e-01,\n",
            "          5.6827e-01, -5.2500e-01, -1.8441e-01,  9.5438e-02, -1.2673e-01,\n",
            "         -3.2506e-01,  7.8073e-01, -7.3023e-01,  9.9100e-02, -2.8033e-01,\n",
            "          2.0765e-01,  2.2264e-01,  2.6900e-01, -4.8627e-01, -5.3620e-01,\n",
            "         -3.0590e-02,  8.8256e-02,  7.7913e-01, -3.4162e-01,  1.4092e-01,\n",
            "         -7.5197e-01, -3.0574e-01, -3.2365e-01, -4.2357e-01,  2.5357e-01,\n",
            "         -1.7071e-01, -9.6862e-01,  4.0104e-01, -9.9790e-01,  3.4233e-01,\n",
            "         -2.8246e-01, -9.5692e-01, -9.9618e-01,  2.9131e-01,  5.5186e-01,\n",
            "          6.5572e-01,  3.4618e-01, -1.1703e-02,  2.1137e-01, -3.1613e-01,\n",
            "         -9.8596e-01,  2.9391e-01, -2.8600e-01,  9.9375e-02, -1.1814e-01,\n",
            "         -9.9429e-01,  9.9964e-01,  1.5146e-01, -4.0457e-01,  2.5637e-01,\n",
            "          1.0270e-01,  4.6812e-01,  9.8227e-01, -3.7738e-01,  2.3452e-01,\n",
            "         -5.0364e-01,  5.7975e-01,  5.8928e-02,  5.3405e-01,  6.9847e-01,\n",
            "         -7.8067e-01, -4.2143e-01,  4.0038e-01, -7.6085e-01,  5.4497e-01,\n",
            "          9.7983e-01,  1.7213e-01, -1.8306e-01,  6.5216e-01, -2.9933e-01,\n",
            "         -1.6293e-01, -7.9022e-02, -9.7850e-01, -6.7664e-01,  1.5811e-01,\n",
            "         -5.2273e-01,  2.4924e-01,  2.6634e-01, -7.4016e-01,  1.9409e-01,\n",
            "          9.9972e-01, -3.8481e-01,  6.2021e-03,  3.5658e-01, -5.1628e-02,\n",
            "          1.2786e-01,  9.6994e-01,  8.8620e-02, -2.8585e-01,  4.3884e-01,\n",
            "         -2.8743e-01,  3.5797e-01,  3.2034e-01, -3.0794e-01,  7.0284e-02,\n",
            "         -9.6712e-01, -7.5859e-01,  4.3340e-01, -9.9981e-01,  3.2351e-01,\n",
            "          1.5909e-01,  4.8552e-01, -4.1213e-01, -9.5607e-01, -4.6446e-01,\n",
            "          9.9480e-01, -6.1410e-01,  3.4119e-01, -2.0592e-01, -3.7069e-01,\n",
            "         -5.7894e-02, -4.9142e-01,  4.7604e-01,  9.5796e-01, -2.5991e-01,\n",
            "          6.7249e-01, -9.9982e-01,  8.6961e-01,  1.4356e-01, -8.5443e-01,\n",
            "          1.2053e-01,  1.7853e-01,  1.9900e-01, -1.3929e-01, -9.5459e-01,\n",
            "         -5.1514e-02, -5.0116e-01, -2.1383e-01,  3.8886e-02,  5.4042e-01,\n",
            "          1.6283e-01, -3.5524e-01,  3.8594e-02,  3.1003e-01, -9.1610e-01,\n",
            "         -3.5336e-01,  3.0971e-01, -4.4477e-01,  8.6973e-01,  1.5787e-01,\n",
            "          1.9946e-01, -9.1844e-01, -3.7114e-01,  9.7566e-01, -3.5547e-01,\n",
            "         -7.9157e-03,  3.2872e-01, -3.8602e-01, -9.9719e-01, -5.9888e-01,\n",
            "          9.8387e-01, -3.1786e-01,  1.5187e-01, -4.5543e-01, -1.0298e-01,\n",
            "          3.4501e-01, -5.2423e-02, -3.1605e-01,  7.4877e-02, -1.3348e-01,\n",
            "          9.8848e-01,  2.6709e-01, -2.2190e-01, -4.7372e-01, -2.7553e-01,\n",
            "         -3.5077e-01, -3.8762e-01,  3.9644e-02, -8.5640e-01, -5.1450e-01,\n",
            "          7.5830e-02,  4.6733e-02,  4.6023e-01, -2.1838e-02,  3.0914e-01,\n",
            "         -4.1412e-01,  6.4112e-01,  2.0333e-01, -1.3701e-01, -9.9969e-01,\n",
            "         -4.0995e-01, -1.1599e-01, -6.4455e-02,  5.7027e-02, -2.7017e-01,\n",
            "          3.0448e-01, -1.7025e-02, -9.5366e-01, -5.1637e-03,  4.7409e-01,\n",
            "         -9.7806e-01,  9.7583e-01, -5.9801e-01, -2.0903e-03, -8.3988e-02,\n",
            "          8.4631e-02, -4.9065e-01, -4.0694e-01, -7.5810e-02,  1.4604e-01,\n",
            "          3.4721e-01,  2.6693e-01, -9.0852e-01,  1.6506e-01,  1.8896e-01,\n",
            "          2.2907e-01, -7.4747e-02,  2.4724e-01,  9.2191e-01,  1.8085e-01,\n",
            "          4.9406e-04, -4.1288e-01, -6.4085e-01,  6.9950e-02, -1.5298e-02,\n",
            "         -3.2789e-01,  9.9987e-01, -1.1035e-03,  9.5585e-01,  5.1988e-01,\n",
            "          8.3002e-01, -3.7961e-01, -3.3069e-01, -1.7543e-01,  5.6123e-01,\n",
            "         -4.6583e-01, -4.7975e-01,  6.7031e-01, -9.6386e-01, -6.4009e-01,\n",
            "         -4.0541e-01, -4.9347e-01,  2.1726e-01, -3.0557e-01, -5.7817e-02,\n",
            "          9.9990e-01, -6.7306e-01, -2.6009e-01,  1.0228e-01,  1.2790e-01,\n",
            "         -8.9085e-01, -2.7947e-01,  1.7264e-01, -2.2118e-01, -1.0005e-01,\n",
            "          5.3788e-01,  4.6123e-01, -1.1635e-01,  4.0288e-01,  3.6685e-01,\n",
            "         -2.8359e-01, -5.2719e-02, -1.8596e-01,  3.5427e-01,  3.2925e-01,\n",
            "          6.5412e-01,  1.1883e-01, -2.8144e-01,  4.5119e-01, -6.2215e-01,\n",
            "         -9.9443e-01,  6.6430e-01,  8.1476e-01,  2.6954e-01, -9.5925e-02,\n",
            "          8.1298e-04,  1.2226e-01,  3.9044e-01,  3.9472e-01, -9.9840e-01,\n",
            "         -6.6520e-01,  2.8193e-01,  3.9873e-02, -8.0549e-01,  2.2385e-01,\n",
            "          1.3769e-01,  9.9604e-01,  2.7252e-01,  2.6578e-01, -7.3513e-02,\n",
            "          1.2628e-01, -4.2938e-01,  2.4339e-01,  6.2600e-01,  2.5523e-01,\n",
            "         -2.1314e-01, -3.6352e-01,  2.0734e-02,  9.5578e-01, -2.7793e-01,\n",
            "          1.2599e-01, -2.0798e-01, -1.8168e-01,  4.3071e-01, -9.8446e-01,\n",
            "          4.0069e-01,  7.8970e-01, -1.1925e-01,  9.0637e-01, -4.2884e-01,\n",
            "         -3.8372e-01,  5.3774e-01,  2.3397e-01,  7.0344e-01,  2.8783e-02,\n",
            "          9.6858e-01, -3.7189e-01, -4.5789e-01, -1.7810e-01,  4.9571e-01,\n",
            "          4.9596e-01,  3.6466e-01,  1.9471e-01, -8.1837e-01, -6.0037e-01,\n",
            "         -5.8314e-01, -5.0626e-01,  2.9411e-01,  7.3977e-02,  1.8291e-01,\n",
            "          4.0138e-01,  1.8290e-02, -9.8231e-01, -5.3681e-01, -5.7206e-01,\n",
            "         -2.1083e-01,  3.1640e-01,  9.9659e-01,  3.9575e-01, -3.1891e-02,\n",
            "         -4.0428e-01, -5.5895e-01,  6.4944e-02,  4.5176e-01,  3.3997e-02,\n",
            "         -3.1596e-01,  2.9273e-02, -3.4451e-01, -2.4447e-01,  8.2368e-02,\n",
            "         -9.8640e-01, -1.5870e-02,  2.1511e-01,  1.2549e-01, -4.7359e-01,\n",
            "          2.2737e-01, -9.9979e-01, -9.9359e-01, -9.5200e-02, -4.9291e-01,\n",
            "          1.8579e-01, -4.8662e-01,  5.4824e-02, -3.7523e-01, -3.9980e-01,\n",
            "          2.0993e-01, -3.4017e-01,  1.5003e-01,  3.0743e-01, -6.6366e-02,\n",
            "          6.0638e-02, -4.6451e-02,  4.3731e-01, -9.8411e-01, -1.5056e-01,\n",
            "          5.5689e-02,  3.5821e-01,  6.3336e-01,  2.1433e-01,  5.4389e-01,\n",
            "         -9.9684e-01, -3.0404e-01,  2.5780e-01,  3.8587e-02,  4.5485e-01,\n",
            "         -1.2505e-01,  5.5778e-01,  1.1464e-01,  4.8729e-01, -1.9012e-01,\n",
            "          5.9248e-01, -2.1170e-02, -2.1768e-01]], device='cuda:0',\n",
            "       grad_fn=<TanhBackward0>)\n",
            "torch.Size([1, 768])\n"
          ]
        }
      ]
    },
    {
      "cell_type": "markdown",
      "source": [
        "### BERT の出力 3 Attention Weight  \n",
        "BERT 内で使用されている Attention Weight が格納されている。  \n",
        "BERT では Multi-head Attention と線形変換のセットをtransformer layer の 1 層として数えて、これを 12 層重ねた構造になっている。\n",
        "12 個ある bert_layer の最後の層の Attention Weight の形は [batch_size, num_attention_heads, max_seq_length, max_seq_length] となっている。"
      ],
      "metadata": {
        "id": "FQKY-uLKzB74"
      }
    },
    {
      "cell_type": "code",
      "source": [
        "print(len(bert_out[2]))\n",
        "#bert最終層のAttention Weightを出力\n",
        "print(bert_out[2][-1])\n",
        "print(bert_out[2][-1].shape)"
      ],
      "metadata": {
        "id": "_FaVL2aFzC88",
        "colab": {
          "base_uri": "https://localhost:8080/"
        },
        "outputId": "27e960f6-7934-40ad-9a60-fd1d7a7cbd8c"
      },
      "execution_count": 31,
      "outputs": [
        {
          "output_type": "stream",
          "name": "stdout",
          "text": [
            "12\n",
            "tensor([[[[0.0116, 0.0013, 0.0033,  ..., 0.0076, 0.0070, 0.0069],\n",
            "          [0.0056, 0.0044, 0.0072,  ..., 0.0035, 0.0030, 0.0028],\n",
            "          [0.0067, 0.0056, 0.0099,  ..., 0.0048, 0.0043, 0.0041],\n",
            "          ...,\n",
            "          [0.0046, 0.0008, 0.0022,  ..., 0.0450, 0.0511, 0.0504],\n",
            "          [0.0051, 0.0010, 0.0025,  ..., 0.0373, 0.0470, 0.0496],\n",
            "          [0.0057, 0.0011, 0.0030,  ..., 0.0315, 0.0418, 0.0460]],\n",
            "\n",
            "         [[0.0238, 0.0097, 0.0104,  ..., 0.0056, 0.0057, 0.0060],\n",
            "          [0.0108, 0.0355, 0.0632,  ..., 0.0025, 0.0023, 0.0024],\n",
            "          [0.0156, 0.0473, 0.0404,  ..., 0.0045, 0.0044, 0.0048],\n",
            "          ...,\n",
            "          [0.0139, 0.0060, 0.0064,  ..., 0.0659, 0.0777, 0.0784],\n",
            "          [0.0151, 0.0065, 0.0069,  ..., 0.0553, 0.0766, 0.0888],\n",
            "          [0.0161, 0.0073, 0.0077,  ..., 0.0440, 0.0634, 0.0782]],\n",
            "\n",
            "         [[0.0065, 0.0022, 0.0038,  ..., 0.0109, 0.0103, 0.0103],\n",
            "          [0.0056, 0.0072, 0.0265,  ..., 0.0094, 0.0086, 0.0085],\n",
            "          [0.0038, 0.0033, 0.0086,  ..., 0.0064, 0.0060, 0.0059],\n",
            "          ...,\n",
            "          [0.0075, 0.0031, 0.0046,  ..., 0.0122, 0.0124, 0.0126],\n",
            "          [0.0074, 0.0032, 0.0046,  ..., 0.0123, 0.0126, 0.0129],\n",
            "          [0.0074, 0.0032, 0.0047,  ..., 0.0122, 0.0125, 0.0129]],\n",
            "\n",
            "         ...,\n",
            "\n",
            "         [[0.0176, 0.0122, 0.0048,  ..., 0.0138, 0.0125, 0.0102],\n",
            "          [0.0195, 0.0579, 0.0201,  ..., 0.0069, 0.0064, 0.0051],\n",
            "          [0.0148, 0.0380, 0.0515,  ..., 0.0050, 0.0046, 0.0037],\n",
            "          ...,\n",
            "          [0.0166, 0.0114, 0.0046,  ..., 0.0143, 0.0133, 0.0109],\n",
            "          [0.0164, 0.0113, 0.0044,  ..., 0.0143, 0.0134, 0.0111],\n",
            "          [0.0162, 0.0111, 0.0043,  ..., 0.0143, 0.0136, 0.0113]],\n",
            "\n",
            "         [[0.0130, 0.0036, 0.0064,  ..., 0.0140, 0.0131, 0.0120],\n",
            "          [0.0084, 0.0114, 0.0204,  ..., 0.0126, 0.0116, 0.0106],\n",
            "          [0.0110, 0.0150, 0.0335,  ..., 0.0156, 0.0145, 0.0134],\n",
            "          ...,\n",
            "          [0.0125, 0.0051, 0.0127,  ..., 0.0243, 0.0235, 0.0217],\n",
            "          [0.0126, 0.0049, 0.0123,  ..., 0.0245, 0.0241, 0.0224],\n",
            "          [0.0123, 0.0047, 0.0122,  ..., 0.0242, 0.0240, 0.0226]],\n",
            "\n",
            "         [[0.0130, 0.0135, 0.0068,  ..., 0.0132, 0.0128, 0.0121],\n",
            "          [0.0072, 0.0496, 0.0217,  ..., 0.0073, 0.0072, 0.0070],\n",
            "          [0.0093, 0.0346, 0.0197,  ..., 0.0137, 0.0132, 0.0122],\n",
            "          ...,\n",
            "          [0.0114, 0.0166, 0.0111,  ..., 0.0322, 0.0314, 0.0293],\n",
            "          [0.0116, 0.0168, 0.0112,  ..., 0.0321, 0.0318, 0.0301],\n",
            "          [0.0116, 0.0163, 0.0111,  ..., 0.0315, 0.0315, 0.0304]]]],\n",
            "       device='cuda:0', grad_fn=<SoftmaxBackward0>)\n",
            "torch.Size([1, 12, 114, 114])\n"
          ]
        }
      ]
    },
    {
      "cell_type": "markdown",
      "source": [
        "#ネットワークの定義"
      ],
      "metadata": {
        "id": "KAuCSOJLzHCP"
      }
    },
    {
      "cell_type": "markdown",
      "source": [
        "## ファインチューニングの設定\n",
        "勾配計算をBERTの最後の層と追加した全結合層にのみ実行するように設定"
      ],
      "metadata": {
        "id": "InQl2PiWSgg-"
      }
    },
    {
      "cell_type": "markdown",
      "source": [
        "Fine tuningの設定  \n",
        "すべての勾配計算Falseに設定  \n",
        "for param in self.parameters():\n",
        "  param.required_grad=False\n",
        "\n",
        "\n",
        "Bertの最後の層のみ勾配計算ありに変更  \n",
        "for param in self.bert.encoder.layer[-1].parameters():\n",
        "  param.required_grad=True\n",
        "\n",
        "\n",
        "Linearを勾配計算ありに設定  \n",
        "for param in self.fc.parameters():\n",
        "  param.required_grad=True\n",
        "  "
      ],
      "metadata": {
        "id": "u9-a8EY9zI-G"
      }
    },
    {
      "cell_type": "markdown",
      "source": [
        "## 損失関数、最適化手法"
      ],
      "metadata": {
        "id": "TQTRXDeCUfGL"
      }
    },
    {
      "cell_type": "code",
      "source": [
        "def configure_optimizers(self):\n",
        "  #学習率を分ける\n",
        "  optimizer = transformers.Adamw([\n",
        "                                  {'params':self.bert.encoder.layer[-1].parameters, 'lr':5e-5},\n",
        "                                  {'params':self.fc.parameters, 'lr':3e-5}\n",
        "  ])\n",
        "  return optimizer"
      ],
      "metadata": {
        "id": "oaM81nm1UVT5"
      },
      "execution_count": 32,
      "outputs": []
    },
    {
      "cell_type": "code",
      "source": [
        "  print(bert.pooler.dense.in_features)\n"
      ],
      "metadata": {
        "colab": {
          "base_uri": "https://localhost:8080/"
        },
        "id": "WktqR2mDjIgq",
        "outputId": "611e86a7-7b7b-4ce9-8827-c0ad7b02b37c"
      },
      "execution_count": 33,
      "outputs": [
        {
          "output_type": "stream",
          "name": "stdout",
          "text": [
            "768\n"
          ]
        }
      ]
    },
    {
      "cell_type": "markdown",
      "source": [
        "# モデルを定義"
      ],
      "metadata": {
        "id": "IFrmnTBNmLSc"
      }
    },
    {
      "cell_type": "code",
      "source": [
        "class BertClassifier(pl.LightningModule):\n",
        "  def __init__(self,n_output=2):\n",
        "    super().__init__()\n",
        "    self.bert = BertModel.from_pretrained('cl-tohoku/bert-base-japanese-whole-word-masking')\n",
        "\n",
        "    d_model=self.bert.pooler.dense.in_features\n",
        "    \n",
        "    #Bertの隠れ層の次元数は768、出力のカテゴリ数は2\n",
        "    self.fc=nn.Linear(d_model,n_output)\n",
        "\n",
        "    #FineTuningの設定\n",
        "    #すべての層の勾配計算をFalseに設定\n",
        "    for param in self.parameters():\n",
        "      param.required_grad=False\n",
        "\n",
        "    #Bertの最終層のみ勾配計算ありに設定\n",
        "    for param in self.bert.encoder.layer[-1].parameters():\n",
        "      param.requres_grad=True\n",
        "\n",
        "    #全結合層のすべてのparameterを勾配計算ありに設定\n",
        "    for param in self.fc.parameters():\n",
        "      param.requires_grad=True\n",
        "\n",
        "  def forward(self,x):\n",
        "    bert_out=self.bert(x,output_attentions=True)\n",
        "    #[CLS]に対する分散表現のみを取得\n",
        "    h=bert_out[0][:,0,:]\n",
        "    #h=bert_out[1]\n",
        "    h=self.fc(h)\n",
        "    return h,bert_out[2]\n",
        "\n",
        "  def training_step(self, batch, batch_idx):\n",
        "    x,t =batch.x ,batch.t\n",
        "    #forwardの出力は、outとattentionsのタプル\n",
        "    y=self(x)[0]\n",
        "    loss=F.cross_entropy(y,t)\n",
        "\n",
        "    self.log('train_loss',loss, on_step=False, on_epoch=True)\n",
        "    self.log('train_acc',accuracy(y.softmax(dim=-1),t),on_step=False,on_epoch=True)\n",
        "    return loss\n",
        "\n",
        "  def validation_step(self, batch, batch_idx):\n",
        "    x,t=batch.x, batch.t\n",
        "    y=self(x)[0]\n",
        "    loss=F.cross_entropy(y,t)\n",
        "\n",
        "    self.log('val_loss',loss, on_step=False, on_epoch=True)\n",
        "    self.log('val_acc',accuracy(y.softmax(dim=-1),t), on_step=False, on_epoch=True)\n",
        "\n",
        "  def test_step(self, batch, batch_idx):\n",
        "    x,t=batch.x, batch.t\n",
        "    y=self(x)[0]\n",
        "    loss=F.cross_entropy(y,t)\n",
        "\n",
        "    self.log('test_loss',loss, on_step=False, on_epoch=True)\n",
        "    self.log('test_acc',accuracy(y.softmax(dim=-1),t), on_step=False, on_epoch=True)\n",
        "\n",
        "  def configure_optimizers(self):\n",
        "    # 学習率を分ける\n",
        "    optimizer = transformers.AdamW([\n",
        "        {'params': self.bert.encoder.layer[-1].parameters(), 'lr': 5e-5},\n",
        "        {'params': self.fc.parameters(), 'lr': 3e-5}\n",
        "    ])\n",
        "    return optimizer\n",
        " \n"
      ],
      "metadata": {
        "id": "-gCpdfmFjSrP"
      },
      "execution_count": 34,
      "outputs": []
    },
    {
      "cell_type": "markdown",
      "source": [
        "#学習"
      ],
      "metadata": {
        "id": "1fdEWDjRzHJY"
      }
    },
    {
      "cell_type": "code",
      "source": [
        "from pytorch_lightning.loggers import CSVLogger\n"
      ],
      "metadata": {
        "id": "lf2URKw9jqKL"
      },
      "execution_count": 35,
      "outputs": []
    },
    {
      "cell_type": "code",
      "source": [
        "#乱数シードの固定\n",
        "pl.seed_everything(0)\n",
        "\n",
        "#インスタンス化\n",
        "net=BertClassifier()\n",
        "\n",
        "logger=CSVLogger(save_dir='logs',name='my_exp')\n",
        "\n",
        "trainer=pl.Trainer(max_epochs=6,gpus=1,deterministic=True,logger=logger)\n",
        "trainer.fit(net, train_loader, val_loader)"
      ],
      "metadata": {
        "colab": {
          "base_uri": "https://localhost:8080/",
          "height": 339,
          "referenced_widgets": [
            "b2771d72e5864e7583b2f5420abc5229",
            "3d248d80208742bf9d627bb3c3476eba",
            "b22e07ce19d94d918b74db2f9b915ac0",
            "4954f31e3a6f434a8e6a86dd6690041c",
            "34b8a7e3085548dfbc39776829e8e378",
            "11b6a71d45724037896ba25f5cf752cc",
            "7fe1195d9cd14375888a2e1f980c0c6f",
            "fd31ff671f8e460389e4621174f8719e",
            "1c5217d73a4f4e5cbb4b3900039fccd4",
            "58af5e735a954e00ac390192f5cd87d5",
            "a52bba56eeda4093beb08e14cd8b14bb",
            "f94f27e203694d3a8c2790d470387742",
            "4c850dceac7a4e538725049de8636061",
            "8ae0b9ddecf54aa1b24389137ee55121",
            "f504e7052fe84032ad130b1c0a41028e",
            "93ba67d3ee704f658cae4d1d1053a153",
            "a9f3fb4730aa4244abcd3423435b955f",
            "2212faf10d73464f9070f1ddd10105a5",
            "0102c164aa37425ea91403a4930515f5",
            "fcb2099c4b09439499a51b71b215e5ae",
            "2d20252d95b548da956ae7976b4a93ff",
            "567707a8bfd34ddd9e10689830897b9a",
            "8d77cfe7850c44369816d5078370eaca",
            "59bc49a006394ee18315ca18e41fa56f",
            "0c179b3115344dddad71a1346806f61f",
            "952950e6ef324b89a3ccb23106116591",
            "dec24d23d3004dc3ad755be81a6de2b7",
            "9e1861da8e0744399dc94678bca950c2",
            "57d89bfb87484c688a7a4ca783fc8bea",
            "e0e04209075d4a2da21459636d11d6d5",
            "2bdf271d35ba4cec9598e6cdd034a8a8",
            "67f9dee8bc0f4f8fad6ae796c1b1e839",
            "d17f905e2be641579d2fef5493a3e21e",
            "a1de56bdb493447c9e3cd5c236202139",
            "11aaf422468a43f9a647daa438075e9e",
            "9ffb34bcdb5042c5a5fb78851f6ebbd9",
            "5ceae69e985f4c2fb3732913119d5b3b",
            "13420ee9d11a4a6b8579861640c2e4ee",
            "40d03ca8d504465fa046086e532255ac",
            "905b2cae308a4c02833a5b6bc06cf693",
            "88e43c852d2944928be70fd1a4361ba0",
            "e90a849106774e02ae6b77eb0dd90dfd",
            "438a59539fb74ebc96118bc5fcbe93a5",
            "378adec374d641d69df2ecbef10cefac",
            "4f1333e46ba6468e923cdb6a8fcaa354",
            "11fa515dec5e47a3ae1952e352d43ee1",
            "6571b30fd4fa44d180ea6370aa738ce0",
            "9f36c036580c4c55ac3fbad2df4cc1fe",
            "544f9b8759b740b5bbda39edd40dc18f",
            "76aefe77aca64436a1efb946b504df38",
            "840fad477403470a86a5f8a107c4628b",
            "c6cc94eb804340bdafd940deecc36880",
            "7ab5f9a164f04f708ab25f016edf04db",
            "639bb470072a4dd08a0898ea30d8cf11",
            "ba4003a33966436aa1bff82099370fa7",
            "484cb0e979d24d87a06f70095303a53d",
            "2c420c55f2a344b29d10a30b3a803477",
            "c3c9df5a40b14530b349ac9ba698e9cd",
            "00b240966d814f9eacd00e951e330558",
            "98f19bda656d4a229b1065182d3d9936",
            "11c1d69dc7ca4ca2a3a37714553fb60d",
            "f36c879bff10480ea4474d9f41ef8d7e",
            "88f1a94e8ec44aac8ac50beb8cb7a8e8",
            "a0b5631e09c3427bb60e3aff00b895ca",
            "a90741df878441a19de66231ae5e2d47",
            "b9e0df88b6364780bd3ce562974be996",
            "7b9f9f3879144eaa8f229cb80a4b10a6",
            "88001d19362b4f13ab42bfb2d4e3c565",
            "9d88708e48044d388caffe0e1610d348",
            "b1dabdcf1e984a80836610a55b2a4878",
            "24423efbc30c4c3684c72c757e543b23",
            "97db08b654a947cab70bd421a3fc58a7",
            "0f640939b3c94066b6f217cf963acd36",
            "f7486a6e2f874bb3b4c81e69dad32fa3",
            "a2d6ac86868b4219ac8f750b1c9aca09",
            "3c5aa24bb473463881555a31db7d1333",
            "c9b3440bcbe54d4aaab87724a691b020",
            "a6360af309b94b7999f2b9a0131274f2",
            "3b1f82af9fe6417e9a2ddb812422c5a4",
            "d5a9afcf120c47d6bb93b951e34aec56",
            "36ff639979744349b0c04806c5dcf5d5",
            "7572d8900b4847018cb556c85a0a65cf",
            "634c795add374b419efe78b67d21439f",
            "53ffcfb53a674a8199f4771bdb7d9e7c",
            "50d4fb6c6d7f421ba5cb930020d9682f",
            "6cf7f4ce9c6a4371a89dbf5fbacab073",
            "5db16fac82a74e8b8e3603b207ecfefa",
            "8f64b6ad0a6a4613bc09b0c556a13dfb"
          ]
        },
        "id": "XnpBx8EWzOZn",
        "outputId": "88d24300-247b-437d-f400-3e78807c65f0"
      },
      "execution_count": 36,
      "outputs": [
        {
          "output_type": "stream",
          "name": "stderr",
          "text": [
            "Global seed set to 0\n",
            "GPU available: True, used: True\n",
            "TPU available: False, using: 0 TPU cores\n",
            "IPU available: False, using: 0 IPUs\n",
            "LOCAL_RANK: 0 - CUDA_VISIBLE_DEVICES: [0]\n",
            "\n",
            "  | Name | Type      | Params\n",
            "-----------------------------------\n",
            "0 | bert | BertModel | 110 M \n",
            "1 | fc   | Linear    | 1.5 K \n",
            "-----------------------------------\n",
            "110 M     Trainable params\n",
            "0         Non-trainable params\n",
            "110 M     Total params\n",
            "442.476   Total estimated model params size (MB)\n"
          ]
        },
        {
          "output_type": "display_data",
          "data": {
            "text/plain": [
              "Validation sanity check: 0it [00:00, ?it/s]"
            ],
            "application/vnd.jupyter.widget-view+json": {
              "version_major": 2,
              "version_minor": 0,
              "model_id": "b2771d72e5864e7583b2f5420abc5229"
            }
          },
          "metadata": {}
        },
        {
          "output_type": "stream",
          "name": "stderr",
          "text": [
            "Global seed set to 0\n"
          ]
        },
        {
          "output_type": "display_data",
          "data": {
            "text/plain": [
              "Training: 0it [00:00, ?it/s]"
            ],
            "application/vnd.jupyter.widget-view+json": {
              "version_major": 2,
              "version_minor": 0,
              "model_id": "f94f27e203694d3a8c2790d470387742"
            }
          },
          "metadata": {}
        },
        {
          "output_type": "display_data",
          "data": {
            "text/plain": [
              "Validating: 0it [00:00, ?it/s]"
            ],
            "application/vnd.jupyter.widget-view+json": {
              "version_major": 2,
              "version_minor": 0,
              "model_id": "8d77cfe7850c44369816d5078370eaca"
            }
          },
          "metadata": {}
        },
        {
          "output_type": "display_data",
          "data": {
            "text/plain": [
              "Validating: 0it [00:00, ?it/s]"
            ],
            "application/vnd.jupyter.widget-view+json": {
              "version_major": 2,
              "version_minor": 0,
              "model_id": "a1de56bdb493447c9e3cd5c236202139"
            }
          },
          "metadata": {}
        },
        {
          "output_type": "display_data",
          "data": {
            "text/plain": [
              "Validating: 0it [00:00, ?it/s]"
            ],
            "application/vnd.jupyter.widget-view+json": {
              "version_major": 2,
              "version_minor": 0,
              "model_id": "4f1333e46ba6468e923cdb6a8fcaa354"
            }
          },
          "metadata": {}
        },
        {
          "output_type": "display_data",
          "data": {
            "text/plain": [
              "Validating: 0it [00:00, ?it/s]"
            ],
            "application/vnd.jupyter.widget-view+json": {
              "version_major": 2,
              "version_minor": 0,
              "model_id": "484cb0e979d24d87a06f70095303a53d"
            }
          },
          "metadata": {}
        },
        {
          "output_type": "display_data",
          "data": {
            "text/plain": [
              "Validating: 0it [00:00, ?it/s]"
            ],
            "application/vnd.jupyter.widget-view+json": {
              "version_major": 2,
              "version_minor": 0,
              "model_id": "7b9f9f3879144eaa8f229cb80a4b10a6"
            }
          },
          "metadata": {}
        },
        {
          "output_type": "display_data",
          "data": {
            "text/plain": [
              "Validating: 0it [00:00, ?it/s]"
            ],
            "application/vnd.jupyter.widget-view+json": {
              "version_major": 2,
              "version_minor": 0,
              "model_id": "a6360af309b94b7999f2b9a0131274f2"
            }
          },
          "metadata": {}
        }
      ]
    },
    {
      "cell_type": "code",
      "source": [
        "result= trainer.test(test_dataloaders=test_loader)"
      ],
      "metadata": {
        "colab": {
          "base_uri": "https://localhost:8080/",
          "height": 269,
          "referenced_widgets": [
            "1fe37fa7573d42f7af5e1c1f4699c25f",
            "1750bf7dd420401ab877fe23d904fcc0",
            "47c6393a9b71407c865ba31ef2e6f495",
            "bda99ca4061c4735ba8a9139bc9d4765",
            "1de51e39654046d29940d8276302802b",
            "de604e74399c498eb5135868cecaa406",
            "36dd9908077641028cdcce7b56719f63",
            "5645cf93be70411fa172edd94764e0be",
            "4e25dccc7f194ac4a71beab28510673a",
            "918e523492f14678b316656379261c1e",
            "6ecf3a6506754108a3edd14ab0950d20"
          ]
        },
        "id": "ZzWXBRFxznMH",
        "outputId": "eecb787e-b5f6-492f-a204-a6d518f433e4"
      },
      "execution_count": 37,
      "outputs": [
        {
          "output_type": "stream",
          "name": "stderr",
          "text": [
            "/usr/local/lib/python3.7/dist-packages/pytorch_lightning/trainer/trainer.py:907: LightningDeprecationWarning: `trainer.test(test_dataloaders)` is deprecated in v1.4 and will be removed in v1.6. Use `trainer.test(dataloaders)` instead.\n",
            "  \"`trainer.test(test_dataloaders)` is deprecated in v1.4 and will be removed in v1.6.\"\n",
            "/usr/local/lib/python3.7/dist-packages/pytorch_lightning/trainer/trainer.py:1399: UserWarning: `.test(ckpt_path=None)` was called without a model. The best model of the previous `fit` call will be used. You can pass `test(ckpt_path='best')` to use and best model checkpoint and avoid this warning or `ckpt_path=trainer.checkpoint_callback.last_model_path` to use the last model.\n",
            "  f\"`.{fn}(ckpt_path=None)` was called without a model.\"\n",
            "Restoring states from the checkpoint path at logs/my_exp/version_0/checkpoints/epoch=5-step=521.ckpt\n",
            "LOCAL_RANK: 0 - CUDA_VISIBLE_DEVICES: [0]\n",
            "Loaded model weights from checkpoint at logs/my_exp/version_0/checkpoints/epoch=5-step=521.ckpt\n"
          ]
        },
        {
          "output_type": "display_data",
          "data": {
            "text/plain": [
              "Testing: 0it [00:00, ?it/s]"
            ],
            "application/vnd.jupyter.widget-view+json": {
              "version_major": 2,
              "version_minor": 0,
              "model_id": "1fe37fa7573d42f7af5e1c1f4699c25f"
            }
          },
          "metadata": {}
        },
        {
          "output_type": "stream",
          "name": "stdout",
          "text": [
            "--------------------------------------------------------------------------------\n",
            "DATALOADER:0 TEST RESULTS\n",
            "{'test_acc': 0.8715814352035522, 'test_loss': 0.3413836359977722}\n",
            "--------------------------------------------------------------------------------\n"
          ]
        }
      ]
    },
    {
      "cell_type": "markdown",
      "source": [
        "#学習ログの可視化"
      ],
      "metadata": {
        "id": "2l2PT9Vd4GAx"
      }
    },
    {
      "cell_type": "code",
      "source": [
        "log=pd.read_csv('logs/my_exp/version_0/metrics.csv')\n",
        "#train:blue,val:orange\n",
        "log[['train_loss', 'epoch']].dropna(how='any', axis=0).reset_index()['train_loss'].plot();\n",
        "log[['val_loss', 'epoch']].dropna(how='any', axis=0).reset_index()['val_loss'].plot();"
      ],
      "metadata": {
        "colab": {
          "base_uri": "https://localhost:8080/",
          "height": 265
        },
        "id": "h3bVtz2n4HlS",
        "outputId": "f2d6e32a-0c0f-4a97-ceba-fdb46aec16ac"
      },
      "execution_count": 38,
      "outputs": [
        {
          "output_type": "display_data",
          "data": {
            "text/plain": [
              "<Figure size 432x288 with 1 Axes>"
            ],
            "image/png": "[encoded data removed]"
          },
          "metadata": {
            "needs_background": "light"
          }
        }
      ]
    },
    {
      "cell_type": "code",
      "source": [
        "log[['train_acc', 'epoch']].dropna(how='any', axis=0).reset_index()['train_acc'].plot();\n",
        "log[['val_acc', 'epoch']].dropna(how='any', axis=0).reset_index()['val_acc'].plot();"
      ],
      "metadata": {
        "colab": {
          "base_uri": "https://localhost:8080/",
          "height": 265
        },
        "id": "4r5N8Juz4dv-",
        "outputId": "42367fa2-51bb-433f-da5a-72451542c020"
      },
      "execution_count": 39,
      "outputs": [
        {
          "output_type": "display_data",
          "data": {
            "text/plain": [
              "<Figure size 432x288 with 1 Axes>"
            ],
            "image/png": "[encoded data removed]"
          },
          "metadata": {
            "needs_background": "light"
          }
        }
      ]
    },
    {
      "cell_type": "markdown",
      "source": [
        "#Attentionの可視化  \n",
        "今回は[CLS] を使って文章分類したので、そのベクトルがどの単語に注意しているかを可視化することで、今回のタスクの判断根拠と見なすことができる。\n",
        "\n",
        "BERT の Self Attention は 12 個の Multi head attention なので、可視化する際は 12 個の Attention Weight を全て足し合わせておこなう。  \n",
        "Attention Weight のサイズは[batch_size, num_multi_heads, sequence_length, sequence_length] である。"
      ],
      "metadata": {
        "id": "CPPefrB-5f9k"
      }
    },
    {
      "cell_type": "code",
      "source": [
        "# 文字にハイライトを付ける\n",
        "def highlight(word, attn):\n",
        "    html_color = '#%02X%02X%02X' % (255, int(255*(1 - attn)), int(255*(1 - attn)))\n",
        "    return '<span style=\"background-color: {}\">{}</span>'.format(html_color, word)\n",
        "\n",
        "\n",
        "def mk_html(index, batch, preds, attention):\n",
        "    # ミニバッチの入力データを取得\n",
        "    sentence = batch.x[index]\n",
        "    # 教師データを取得\n",
        "    label =batch.t[index].item()\n",
        "    # 予測ラベルを取得\n",
        "    pred = preds[index].item()\n",
        "    \n",
        "    # 教師データから、カテゴリの名前を取得　　　　　　\n",
        "    label_str = id2cat[label]\n",
        "    # 予測ラベルから予測したカテゴリの名前を取得\n",
        "    pred_str = id2cat[pred]\n",
        "\n",
        "    # 正解と予測の表示\n",
        "    html = \"正解: {}<br>予測: {}<br><br>\".format(label_str, pred_str)\n",
        "\n",
        "    # 文章の長さ分の 0 のみの配列を取得\n",
        "    seq_len = attention.size()[2]#文章の長さ\n",
        "    all_attens = torch.zeros(seq_len).to(device)\n",
        "    \n",
        "    # Attention Weight を取得して、作成した　０ の配列に足す\n",
        "    for i in range(12):#attention層は12層あり、全てを合計\n",
        "        all_attens += attention[index, i, 0, :]\n",
        "    # Attention　Weight の最大値で割、規格化\n",
        "    all_attens /= all_attens.max()\n",
        "\n",
        "    # 作成した all_attens と単語を渡す\n",
        "    for word, attn in zip(sentence, all_attens):\n",
        "        # 一文の終わり（`[SEP]`） が来たら break\n",
        "        if tokenizer.convert_ids_to_tokens([word.tolist()])[0] == \"[SEP]\":\n",
        "            break\n",
        "        html += highlight(tokenizer.convert_ids_to_tokens([word.tolist()])[0], attn)\n",
        "    return html"
      ],
      "metadata": {
        "id": "bDPj2K275i1q"
      },
      "execution_count": 40,
      "outputs": []
    },
    {
      "cell_type": "code",
      "source": [
        "device = torch.device(\"cuda:0\" if torch.cuda.is_available() else \"cpu\")\n",
        "\n",
        "# Attention Weight と予測ラベルの取得\n",
        "batch = next(iter(test_loader))  \n",
        "\n",
        "net.eval().to(device)\n",
        "score, attentions = net(batch.x.to(device))\n",
        "_, pred = torch.max(score, 1)"
      ],
      "metadata": {
        "id": "4GuHTj9F4pBZ"
      },
      "execution_count": 41,
      "outputs": []
    },
    {
      "cell_type": "code",
      "source": [
        "type(attentions)"
      ],
      "metadata": {
        "colab": {
          "base_uri": "https://localhost:8080/"
        },
        "id": "8itqTykRHfyq",
        "outputId": "e4a754de-221d-491d-9246-f831aca2ce3a"
      },
      "execution_count": 42,
      "outputs": [
        {
          "output_type": "execute_result",
          "data": {
            "text/plain": [
              "tuple"
            ]
          },
          "metadata": {},
          "execution_count": 42
        }
      ]
    },
    {
      "cell_type": "code",
      "source": [
        "pred"
      ],
      "metadata": {
        "colab": {
          "base_uri": "https://localhost:8080/"
        },
        "id": "xNTa_MjOa2my",
        "outputId": "5c32db06-f0b3-46dd-9f76-c41e67660b03"
      },
      "execution_count": 43,
      "outputs": [
        {
          "output_type": "execute_result",
          "data": {
            "text/plain": [
              "tensor([0, 0, 0, 1, 1, 0, 0, 0, 1, 0, 1, 0, 0, 1, 1, 0], device='cuda:0')"
            ]
          },
          "metadata": {},
          "execution_count": 43
        }
      ]
    },
    {
      "cell_type": "code",
      "source": [
        "type(attentions[-1])"
      ],
      "metadata": {
        "colab": {
          "base_uri": "https://localhost:8080/"
        },
        "id": "enyaGDfA8XH_",
        "outputId": "077f313c-8bb0-4f9d-fbc8-66b3527c36b5"
      },
      "execution_count": 44,
      "outputs": [
        {
          "output_type": "execute_result",
          "data": {
            "text/plain": [
              "torch.Tensor"
            ]
          },
          "metadata": {},
          "execution_count": 44
        }
      ]
    },
    {
      "cell_type": "code",
      "source": [
        "# Attention Weight の注目を可視化\n",
        "from IPython.display import display, HTML\n",
        "for i in range(5):\n",
        "    html_output = mk_html(i, batch, pred, attentions[-1])\n",
        "    display(HTML(html_output))\n",
        "    print('---------------------------')"
      ],
      "metadata": {
        "colab": {
          "base_uri": "https://localhost:8080/",
          "height": 472
        },
        "id": "b63hUH0e5m3T",
        "outputId": "9a252869-2ab8-46f0-85b9-cbe21151e196"
      },
      "execution_count": 45,
      "outputs": [
        {
          "output_type": "display_data",
          "data": {
            "text/plain": [
              "<IPython.core.display.HTML object>"
            ],
            "text/html": [
              "正解: negative<br>予測: negative<br><br><span style=\"background-color: #FFFEFE\">[CLS]</span><span style=\"background-color: #FFFDFD\">新規</span><span style=\"background-color: #FFFEFE\">店舗</span><span style=\"background-color: #FFFEFE\">の</span><span style=\"background-color: #FFFAFA\">寄与</span><span style=\"background-color: #FFFEFE\">等</span><span style=\"background-color: #FFFEFE\">により</span><span style=\"background-color: #FFACAC\">増</span><span style=\"background-color: #FFFCFC\">##収</span><span style=\"background-color: #FFFEFE\">と</span><span style=\"background-color: #FFFEFE\">なり</span><span style=\"background-color: #FFFEFE\">まし</span><span style=\"background-color: #FFFEFE\">た</span><span style=\"background-color: #FFFEFE\">が</span><span style=\"background-color: #FFFEFE\">、</span><span style=\"background-color: #FFFEFE\">既存</span><span style=\"background-color: #FFFEFE\">店</span><span style=\"background-color: #FFFEFE\">の</span><span style=\"background-color: #FFD8D8\">減</span><span style=\"background-color: #FFFEFE\">##収</span><span style=\"background-color: #FFFEFE\">(</span><span style=\"background-color: #FFFEFE\">同</span><span style=\"background-color: #FFFEFE\">△</span><span style=\"background-color: #FFFEFE\">4</span><span style=\"background-color: #FFFEFE\">.</span><span style=\"background-color: #FFFEFE\">5</span><span style=\"background-color: #FFFEFE\">%)</span><span style=\"background-color: #FFFEFE\">や</span><span style=\"background-color: #FFFEFE\">記念</span><span style=\"background-color: #FFFEFE\">キャンペーン</span><span style=\"background-color: #FFFEFE\">に</span><span style=\"background-color: #FFFEFE\">伴う</span><span style=\"background-color: #FFFEFE\">販</span><span style=\"background-color: #FFFEFE\">##促</span><span style=\"background-color: #FFFEFE\">費</span><span style=\"background-color: #FFFEFE\">の</span><span style=\"background-color: #FF8D8D\">増加</span><span style=\"background-color: #FFFEFE\">等</span><span style=\"background-color: #FFFEFE\">により</span><span style=\"background-color: #FF8E8E\">減</span><span style=\"background-color: #FFFDFD\">##益</span><span style=\"background-color: #FFFEFE\">と</span><span style=\"background-color: #FFFEFE\">なり</span><span style=\"background-color: #FFFEFE\">まし</span><span style=\"background-color: #FFFEFE\">た</span>"
            ]
          },
          "metadata": {}
        },
        {
          "output_type": "stream",
          "name": "stdout",
          "text": [
            "---------------------------\n"
          ]
        },
        {
          "output_type": "display_data",
          "data": {
            "text/plain": [
              "<IPython.core.display.HTML object>"
            ],
            "text/html": [
              "正解: negative<br>予測: negative<br><br><span style=\"background-color: #FFFEFE\">[CLS]</span><span style=\"background-color: #FFFEFE\">物流</span><span style=\"background-color: #FFFDFD\">業界</span><span style=\"background-color: #FFFEFE\">にお</span><span style=\"background-color: #FFFEFE\">##き</span><span style=\"background-color: #FFFEFE\">##まし</span><span style=\"background-color: #FFFEFE\">##て</span><span style=\"background-color: #FFFEFE\">は</span><span style=\"background-color: #FFFEFE\">、</span><span style=\"background-color: #FFFEFE\">設備</span><span style=\"background-color: #FFFDFD\">投資</span><span style=\"background-color: #FFFEFE\">の</span><span style=\"background-color: #FFA5A5\">伸び悩</span><span style=\"background-color: #FFFCFC\">##み</span><span style=\"background-color: #FFFEFE\">等</span><span style=\"background-color: #FFFEFE\">から</span><span style=\"background-color: #FFFEFE\">生産</span><span style=\"background-color: #FFFEFE\">関連</span><span style=\"background-color: #FFFEFE\">貨物</span><span style=\"background-color: #FFFEFE\">が</span><span style=\"background-color: #FF9A9A\">減少</span><span style=\"background-color: #FFFBFB\">し</span><span style=\"background-color: #FFFEFE\">た</span><span style=\"background-color: #FFFEFE\">一方</span><span style=\"background-color: #FFFEFE\">、</span><span style=\"background-color: #FFFEFE\">消費</span><span style=\"background-color: #FFFEFE\">関連</span><span style=\"background-color: #FFFEFE\">貨物</span><span style=\"background-color: #FFFEFE\">は</span><span style=\"background-color: #FFFEFE\">個人</span><span style=\"background-color: #FFFDFD\">消費</span><span style=\"background-color: #FFFEFE\">に</span><span style=\"background-color: #FFF3F3\">停滞</span><span style=\"background-color: #FFFEFE\">感</span><span style=\"background-color: #FFFEFE\">が</span><span style=\"background-color: #FFFDFD\">残る</span><span style=\"background-color: #FFFCFC\">もの</span><span style=\"background-color: #FFFEFE\">の</span><span style=\"background-color: #FFFAFA\">小</span><span style=\"background-color: #FFF4F4\">##幅</span><span style=\"background-color: #FFF6F6\">な</span><span style=\"background-color: #FFBDBD\">伸び</span><span style=\"background-color: #FFFEFE\">と</span><span style=\"background-color: #FFFDFD\">なり</span><span style=\"background-color: #FFFEFE\">、</span><span style=\"background-color: #FFFEFE\">建設</span><span style=\"background-color: #FFFEFE\">関連</span><span style=\"background-color: #FFFEFE\">貨物</span><span style=\"background-color: #FFFEFE\">は</span><span style=\"background-color: #FFFEFE\">住宅</span><span style=\"background-color: #FFFEFE\">投資</span><span style=\"background-color: #FFFEFE\">が</span><span style=\"background-color: #FFE6E6\">増加</span><span style=\"background-color: #FFFEFE\">し</span><span style=\"background-color: #FFFEFE\">た</span><span style=\"background-color: #FFFEFE\">ものの</span><span style=\"background-color: #FFFEFE\">公共</span><span style=\"background-color: #FFFEFE\">投資</span><span style=\"background-color: #FFFEFE\">が</span><span style=\"background-color: #FFE6E6\">低迷</span><span style=\"background-color: #FFFEFE\">し</span><span style=\"background-color: #FFFEFE\">た</span><span style=\"background-color: #FFFEFE\">こと</span><span style=\"background-color: #FFFEFE\">から</span><span style=\"background-color: #FFEEEE\">横</span><span style=\"background-color: #FFA0A0\">##ばい</span><span style=\"background-color: #FFFCFC\">で</span><span style=\"background-color: #FFE8E8\">推移</span><span style=\"background-color: #FFFEFE\">し</span><span style=\"background-color: #FFFDFD\">まし</span><span style=\"background-color: #FFFEFE\">た</span>"
            ]
          },
          "metadata": {}
        },
        {
          "output_type": "stream",
          "name": "stdout",
          "text": [
            "---------------------------\n"
          ]
        },
        {
          "output_type": "display_data",
          "data": {
            "text/plain": [
              "<IPython.core.display.HTML object>"
            ],
            "text/html": [
              "正解: negative<br>予測: negative<br><br><span style=\"background-color: #FFFEFE\">[CLS]</span><span style=\"background-color: #FFFEFE\">航空</span><span style=\"background-color: #FFFEFE\">事業</span><span style=\"background-color: #FFFEFE\">は</span><span style=\"background-color: #FFFEFE\">、</span><span style=\"background-color: #FFFBFB\">輸出</span><span style=\"background-color: #FFFEFE\">で</span><span style=\"background-color: #FFFEFE\">医療</span><span style=\"background-color: #FFFEFE\">機器</span><span style=\"background-color: #FFFEFE\">関連</span><span style=\"background-color: #FFFEFE\">品</span><span style=\"background-color: #FFFEFE\">##等</span><span style=\"background-color: #FFFDFD\">の</span><span style=\"background-color: #FFFCFC\">出荷</span><span style=\"background-color: #FFFBFB\">を</span><span style=\"background-color: #FFF6F6\">取扱</span><span style=\"background-color: #FFFDFD\">##っ</span><span style=\"background-color: #FFFCFC\">た</span><span style=\"background-color: #FFFEFE\">ものの</span><span style=\"background-color: #FFFEFE\">、</span><span style=\"background-color: #FFFCFC\">前期</span><span style=\"background-color: #FFFEFE\">の</span><span style=\"background-color: #FFFEFE\">スポット</span><span style=\"background-color: #FFFEFE\">出荷</span><span style=\"background-color: #FFFEFE\">が</span><span style=\"background-color: #FFFDFD\">剥</span><span style=\"background-color: #FFDFDF\">##落</span><span style=\"background-color: #FFF7F7\">し</span><span style=\"background-color: #FFFBFB\">た</span><span style=\"background-color: #FFCECE\">影響</span><span style=\"background-color: #FFFAFA\">も</span><span style=\"background-color: #FFF8F8\">あり</span><span style=\"background-color: #FFFDFD\">、</span><span style=\"background-color: #FFFAFA\">取扱</span><span style=\"background-color: #FFFEFE\">重量</span><span style=\"background-color: #FFFEFE\">は</span><span style=\"background-color: #FFF9F9\">前期</span><span style=\"background-color: #FFFDFD\">比</span><span style=\"background-color: #FFFDFD\">8</span><span style=\"background-color: #FFFEFE\">.</span><span style=\"background-color: #FFFDFD\">2</span><span style=\"background-color: #FFFBFB\">%</span><span style=\"background-color: #FF4747\">減</span><span style=\"background-color: #FFFAFA\">と</span><span style=\"background-color: #FFFDFD\">なり</span><span style=\"background-color: #FFFEFE\">まし</span><span style=\"background-color: #FFFEFE\">た</span>"
            ]
          },
          "metadata": {}
        },
        {
          "output_type": "stream",
          "name": "stdout",
          "text": [
            "---------------------------\n"
          ]
        },
        {
          "output_type": "display_data",
          "data": {
            "text/plain": [
              "<IPython.core.display.HTML object>"
            ],
            "text/html": [
              "正解: positive<br>予測: positive<br><br><span style=\"background-color: #FFFEFE\">[CLS]</span><span style=\"background-color: #FFFEFE\">その他</span><span style=\"background-color: #FFFEFE\">の</span><span style=\"background-color: #FFFEFE\">セグメント</span><span style=\"background-color: #FFFEFE\">で</span><span style=\"background-color: #FFFDFD\">は</span><span style=\"background-color: #FFFEFE\">駐</span><span style=\"background-color: #FFFEFE\">輪</span><span style=\"background-color: #FFFEFE\">システム</span><span style=\"background-color: #FFFEFE\">が</span><span style=\"background-color: #FFDADA\">堅</span><span style=\"background-color: #FFF7F7\">##調</span><span style=\"background-color: #FFFCFC\">に</span><span style=\"background-color: #FFA4A4\">推移</span><span style=\"background-color: #FFFCFC\">し</span><span style=\"background-color: #FFFDFD\">、</span><span style=\"background-color: #FFFDFD\">売上</span><span style=\"background-color: #FFFEFE\">高</span><span style=\"background-color: #FFFEFE\">は</span><span style=\"background-color: #FFFEFE\">72</span><span style=\"background-color: #FFFEFE\">##1</span><span style=\"background-color: #FFFEFE\">百</span><span style=\"background-color: #FFFEFE\">万</span><span style=\"background-color: #FFFEFE\">円</span><span style=\"background-color: #FFFEFE\">(</span><span style=\"background-color: #FFFEFE\">前年</span><span style=\"background-color: #FFFEFE\">同期</span><span style=\"background-color: #FFFEFE\">比</span><span style=\"background-color: #FFFDFD\">0</span><span style=\"background-color: #FFFEFE\">.</span><span style=\"background-color: #FFFEFE\">8</span><span style=\"background-color: #FFFEFE\">%</span><span style=\"background-color: #FF5555\">増</span><span style=\"background-color: #FFFCFC\">)</span><span style=\"background-color: #FFFCFC\">と</span><span style=\"background-color: #FFFCFC\">なり</span><span style=\"background-color: #FFFEFE\">まし</span><span style=\"background-color: #FFFEFE\">た</span>"
            ]
          },
          "metadata": {}
        },
        {
          "output_type": "stream",
          "name": "stdout",
          "text": [
            "---------------------------\n"
          ]
        },
        {
          "output_type": "display_data",
          "data": {
            "text/plain": [
              "<IPython.core.display.HTML object>"
            ],
            "text/html": [
              "正解: positive<br>予測: positive<br><br><span style=\"background-color: #FFFEFE\">[CLS]</span><span style=\"background-color: #FF7E7E\">輸入</span><span style=\"background-color: #FFFEFE\">は</span><span style=\"background-color: #FFFEFE\">、</span><span style=\"background-color: #FFFEFE\">電子</span><span style=\"background-color: #FFFEFE\">・</span><span style=\"background-color: #FFFEFE\">電気</span><span style=\"background-color: #FFFEFE\">機器</span><span style=\"background-color: #FFFCFC\">関連</span><span style=\"background-color: #FFFDFD\">品</span><span style=\"background-color: #FFFEFE\">や</span><span style=\"background-color: #FFFEFE\">自動車</span><span style=\"background-color: #FFFEFE\">関連</span><span style=\"background-color: #FFFEFE\">部品</span><span style=\"background-color: #FFFEFE\">等</span><span style=\"background-color: #FFFEFE\">は</span><span style=\"background-color: #FFFBFB\">底</span><span style=\"background-color: #FFF8F8\">##堅</span><span style=\"background-color: #FFFEFE\">##い</span><span style=\"background-color: #FFFDFD\">荷</span><span style=\"background-color: #FFDCDC\">##動</span><span style=\"background-color: #FFFEFE\">##き</span><span style=\"background-color: #FFFCFC\">と</span><span style=\"background-color: #FFF8F8\">なり</span><span style=\"background-color: #FFFEFE\">まし</span><span style=\"background-color: #FFFDFD\">た</span><span style=\"background-color: #FFFEFE\">が</span><span style=\"background-color: #FFFEFE\">、</span><span style=\"background-color: #FFF9F9\">取扱</span><span style=\"background-color: #FFE3E3\">件数</span><span style=\"background-color: #FFFDFD\">は</span><span style=\"background-color: #FFF8F8\">前期</span><span style=\"background-color: #FFFDFD\">比</span><span style=\"background-color: #FFFDFD\">3</span><span style=\"background-color: #FFFEFE\">.</span><span style=\"background-color: #FFFEFE\">7</span><span style=\"background-color: #FFFDFD\">%</span><span style=\"background-color: #FF0000\">増</span><span style=\"background-color: #FFFAFA\">に</span><span style=\"background-color: #FFFAFA\">とどまり</span><span style=\"background-color: #FFFEFE\">まし</span><span style=\"background-color: #FFFEFE\">た</span>"
            ]
          },
          "metadata": {}
        },
        {
          "output_type": "stream",
          "name": "stdout",
          "text": [
            "---------------------------\n"
          ]
        }
      ]
    },
    {
      "cell_type": "markdown",
      "source": [
        "# 学習済みモデルの保存  \n",
        "学習が終わると学習済みモデルが得られる。PyTorch で準備されている torch.save の関数を使用すれば保存できる。保存の際には、モデルの名前と学習済みモデルを指定する。\n",
        "\n",
        "https://free.kikagaku.ai/tutorial/basic_of_deep_learning/learn/pytorch_classification"
      ],
      "metadata": {
        "id": "M6XexdAqjPdK"
      }
    },
    {
      "cell_type": "code",
      "source": [
        "# モデルの重み\n",
        "net.state_dict()"
      ],
      "metadata": {
        "id": "CPvbFOc9jNi9"
      },
      "execution_count": null,
      "outputs": []
    },
    {
      "cell_type": "code",
      "source": [
        "# 学習済みモデルを保存\n",
        "torch.save(net.state_dict(), '/content/drive/MyDrive/kikagakuNLP/prac_data2/negaposi.pt')"
      ],
      "metadata": {
        "id": "lSfD6drGjj_r"
      },
      "execution_count": 47,
      "outputs": []
    },
    {
      "cell_type": "markdown",
      "source": [
        "# 学習済みモデルを使用した推論"
      ],
      "metadata": {
        "id": "wgRbGYkUj3OZ"
      }
    },
    {
      "cell_type": "code",
      "source": [
        "# インスタンス化\n",
        "net = BertClassifier()\n",
        "#学習済みモデルの重みをロードする\n",
        "net.load_state_dict(torch.load('/content/drive/MyDrive/kikagakuNLP/prac_data2/negaposi.pt'))"
      ],
      "metadata": {
        "colab": {
          "base_uri": "https://localhost:8080/"
        },
        "id": "UDB0kiR-j6cF",
        "outputId": "433e460a-5dba-4cca-906d-3a32591977e5"
      },
      "execution_count": 48,
      "outputs": [
        {
          "output_type": "execute_result",
          "data": {
            "text/plain": [
              "<All keys matched successfully>"
            ]
          },
          "metadata": {},
          "execution_count": 48
        }
      ]
    },
    {
      "cell_type": "markdown",
      "source": [
        "testデータで実際に予測する\n",
        "\n",
        "https://qiita.com/ysiny/items/b01250228e0c5cc0e647"
      ],
      "metadata": {
        "id": "7cBst81ZkP_T"
      }
    },
    {
      "cell_type": "markdown",
      "source": [
        "https://note.nkmk.me/python-pandas-at-iat-loc-iloc/\n",
        "\n",
        "https://mochablog.org/pandas-rename-columns/"
      ],
      "metadata": {
        "id": "NtPTsDvwZlZ0"
      }
    },
    {
      "cell_type": "markdown",
      "source": [
        ""
      ],
      "metadata": {
        "id": "XHJAz2CZHOHV"
      }
    },
    {
      "cell_type": "code",
      "source": [
        "df=pd.read_csv('/content/drive/MyDrive/kikagakuNLP/prac_data2/pred_test.csv',encoding='utf-8',names=(\"INPUT\",\"LABEL\"))\n",
        "df"
      ],
      "metadata": {
        "id": "ILBQJAj1Y-ns",
        "colab": {
          "base_uri": "https://localhost:8080/",
          "height": 363
        },
        "outputId": "c8091f11-dc7a-4fee-d5ab-232a60668252"
      },
      "execution_count": 49,
      "outputs": [
        {
          "output_type": "execute_result",
          "data": {
            "text/plain": [
              "                                               INPUT  LABEL\n",
              "0  新規店舗の寄与等により増収となりましたが、既存店の減収（同△4.5％）や記念キャンペーンに伴...      0\n",
              "1  物流業界におきましては、設備投資の伸び悩み等から生産関連貨物が減少した一方、消費関連貨物は個...      0\n",
              "2  航空事業は、輸出で医療機器関連品等の出荷を取扱ったものの、前期のスポット出荷が剥落した影響も...      0\n",
              "3  その他のセグメントでは駐輪システムが堅調に推移し、売上高は721百万円（前年同期比0.8％増...      1\n",
              "4  輸入は、電子・電気機器関連品や自動車関連部品等は底堅い荷動きとなりましたが、取扱件数は前期比...      1\n",
              "5  以上の結果、当事業年度の売上高は7,292,771千円と、前事業年度に比べ931,658千円...      0\n",
              "6  利益面につきましては、営業利益１億80百万円（前期比48.1％減）、経常利益１億84百万円（...      0\n",
              "7  賃貸・割賦事業では、契約実行高はCSI Leasing, Inc.の連結子会社化などにより前...      1\n",
              "8  これらの結果、営業収益は95,973百万円（前期比18.4％減）、セグメント損失（営業損失）...      0\n",
              "9  その結果、当連結会計年度の業績は、売上収益が428,913百万円（前連結会計年度比4.2％減...      1"
            ],
            "text/html": [
              "\n",
              "  <div id=\"df-d8870e4e-77fe-48d2-ab25-3d8c7e8e8635\">\n",
              "    <div class=\"colab-df-container\">\n",
              "      <div>\n",
              "<style scoped>\n",
              "    .dataframe tbody tr th:only-of-type {\n",
              "        vertical-align: middle;\n",
              "    }\n",
              "\n",
              "    .dataframe tbody tr th {\n",
              "        vertical-align: top;\n",
              "    }\n",
              "\n",
              "    .dataframe thead th {\n",
              "        text-align: right;\n",
              "    }\n",
              "</style>\n",
              "<table border=\"1\" class=\"dataframe\">\n",
              "  <thead>\n",
              "    <tr style=\"text-align: right;\">\n",
              "      <th></th>\n",
              "      <th>INPUT</th>\n",
              "      <th>LABEL</th>\n",
              "    </tr>\n",
              "  </thead>\n",
              "  <tbody>\n",
              "    <tr>\n",
              "      <th>0</th>\n",
              "      <td>新規店舗の寄与等により増収となりましたが、既存店の減収（同△4.5％）や記念キャンペーンに伴...</td>\n",
              "      <td>0</td>\n",
              "    </tr>\n",
              "    <tr>\n",
              "      <th>1</th>\n",
              "      <td>物流業界におきましては、設備投資の伸び悩み等から生産関連貨物が減少した一方、消費関連貨物は個...</td>\n",
              "      <td>0</td>\n",
              "    </tr>\n",
              "    <tr>\n",
              "      <th>2</th>\n",
              "      <td>航空事業は、輸出で医療機器関連品等の出荷を取扱ったものの、前期のスポット出荷が剥落した影響も...</td>\n",
              "      <td>0</td>\n",
              "    </tr>\n",
              "    <tr>\n",
              "      <th>3</th>\n",
              "      <td>その他のセグメントでは駐輪システムが堅調に推移し、売上高は721百万円（前年同期比0.8％増...</td>\n",
              "      <td>1</td>\n",
              "    </tr>\n",
              "    <tr>\n",
              "      <th>4</th>\n",
              "      <td>輸入は、電子・電気機器関連品や自動車関連部品等は底堅い荷動きとなりましたが、取扱件数は前期比...</td>\n",
              "      <td>1</td>\n",
              "    </tr>\n",
              "    <tr>\n",
              "      <th>5</th>\n",
              "      <td>以上の結果、当事業年度の売上高は7,292,771千円と、前事業年度に比べ931,658千円...</td>\n",
              "      <td>0</td>\n",
              "    </tr>\n",
              "    <tr>\n",
              "      <th>6</th>\n",
              "      <td>利益面につきましては、営業利益１億80百万円（前期比48.1％減）、経常利益１億84百万円（...</td>\n",
              "      <td>0</td>\n",
              "    </tr>\n",
              "    <tr>\n",
              "      <th>7</th>\n",
              "      <td>賃貸・割賦事業では、契約実行高はCSI Leasing, Inc.の連結子会社化などにより前...</td>\n",
              "      <td>1</td>\n",
              "    </tr>\n",
              "    <tr>\n",
              "      <th>8</th>\n",
              "      <td>これらの結果、営業収益は95,973百万円（前期比18.4％減）、セグメント損失（営業損失）...</td>\n",
              "      <td>0</td>\n",
              "    </tr>\n",
              "    <tr>\n",
              "      <th>9</th>\n",
              "      <td>その結果、当連結会計年度の業績は、売上収益が428,913百万円（前連結会計年度比4.2％減...</td>\n",
              "      <td>1</td>\n",
              "    </tr>\n",
              "  </tbody>\n",
              "</table>\n",
              "</div>\n",
              "      <button class=\"colab-df-convert\" onclick=\"convertToInteractive('df-d8870e4e-77fe-48d2-ab25-3d8c7e8e8635')\"\n",
              "              title=\"Convert this dataframe to an interactive table.\"\n",
              "              style=\"display:none;\">\n",
              "        \n",
              "  <svg xmlns=\"http://www.w3.org/2000/svg\" height=\"24px\"viewBox=\"0 0 24 24\"\n",
              "       width=\"24px\">\n",
              "    <path d=\"M0 0h24v24H0V0z\" fill=\"none\"/>\n",
              "    <path d=\"M18.56 5.44l.94 2.06.94-2.06 2.06-.94-2.06-.94-.94-2.06-.94 2.06-2.06.94zm-11 1L8.5 8.5l.94-2.06 2.06-.94-2.06-.94L8.5 2.5l-.94 2.06-2.06.94zm10 10l.94 2.06.94-2.06 2.06-.94-2.06-.94-.94-2.06-.94 2.06-2.06.94z\"/><path d=\"M17.41 7.96l-1.37-1.37c-.4-.4-.92-.59-1.43-.59-.52 0-1.04.2-1.43.59L10.3 9.45l-7.72 7.72c-.78.78-.78 2.05 0 2.83L4 21.41c.39.39.9.59 1.41.59.51 0 1.02-.2 1.41-.59l7.78-7.78 2.81-2.81c.8-.78.8-2.07 0-2.86zM5.41 20L4 18.59l7.72-7.72 1.47 1.35L5.41 20z\"/>\n",
              "  </svg>\n",
              "      </button>\n",
              "      \n",
              "  <style>\n",
              "    .colab-df-container {\n",
              "      display:flex;\n",
              "      flex-wrap:wrap;\n",
              "      gap: 12px;\n",
              "    }\n",
              "\n",
              "    .colab-df-convert {\n",
              "      background-color: #E8F0FE;\n",
              "      border: none;\n",
              "      border-radius: 50%;\n",
              "      cursor: pointer;\n",
              "      display: none;\n",
              "      fill: #1967D2;\n",
              "      height: 32px;\n",
              "      padding: 0 0 0 0;\n",
              "      width: 32px;\n",
              "    }\n",
              "\n",
              "    .colab-df-convert:hover {\n",
              "      background-color: #E2EBFA;\n",
              "      box-shadow: 0px 1px 2px rgba(60, 64, 67, 0.3), 0px 1px 3px 1px rgba(60, 64, 67, 0.15);\n",
              "      fill: #174EA6;\n",
              "    }\n",
              "\n",
              "    [theme=dark] .colab-df-convert {\n",
              "      background-color: #3B4455;\n",
              "      fill: #D2E3FC;\n",
              "    }\n",
              "\n",
              "    [theme=dark] .colab-df-convert:hover {\n",
              "      background-color: #434B5C;\n",
              "      box-shadow: 0px 1px 3px 1px rgba(0, 0, 0, 0.15);\n",
              "      filter: drop-shadow(0px 1px 2px rgba(0, 0, 0, 0.3));\n",
              "      fill: #FFFFFF;\n",
              "    }\n",
              "  </style>\n",
              "\n",
              "      <script>\n",
              "        const buttonEl =\n",
              "          document.querySelector('#df-d8870e4e-77fe-48d2-ab25-3d8c7e8e8635 button.colab-df-convert');\n",
              "        buttonEl.style.display =\n",
              "          google.colab.kernel.accessAllowed ? 'block' : 'none';\n",
              "\n",
              "        async function convertToInteractive(key) {\n",
              "          const element = document.querySelector('#df-d8870e4e-77fe-48d2-ab25-3d8c7e8e8635');\n",
              "          const dataTable =\n",
              "            await google.colab.kernel.invokeFunction('convertToInteractive',\n",
              "                                                     [key], {});\n",
              "          if (!dataTable) return;\n",
              "\n",
              "          const docLinkHtml = 'Like what you see? Visit the ' +\n",
              "            '<a target=\"_blank\" href=https://colab.research.google.com/notebooks/data_table.ipynb>data table notebook</a>'\n",
              "            + ' to learn more about interactive tables.';\n",
              "          element.innerHTML = '';\n",
              "          dataTable['output_type'] = 'display_data';\n",
              "          await google.colab.output.renderOutput(dataTable, element);\n",
              "          const docLink = document.createElement('div');\n",
              "          docLink.innerHTML = docLinkHtml;\n",
              "          element.appendChild(docLink);\n",
              "        }\n",
              "      </script>\n",
              "    </div>\n",
              "  </div>\n",
              "  "
            ]
          },
          "metadata": {},
          "execution_count": 49
        }
      ]
    },
    {
      "cell_type": "code",
      "source": [
        "net.eval().to(device)\n",
        "oof=[]#予測結果を入れるための空のリスト\n",
        "#preds=[]\n",
        "x=[]#tokenizerでエンコード済みのtokenを格納していく空のリスト\n",
        "attentions_list=[]#attention_weightを格納してく空のリスト\n",
        "\n",
        "for index, row in df.iterrows():\n",
        "  token=tokenizer.encode(row['INPUT'],return_tensors='pt')#tokenizerで入力文章をtokenに変換\n",
        "  x.append(token)#tokenをリストに格納\n",
        "  score,attentions =net((token).to(device))\n",
        "  attentions_list.append(attentions[-1])#bert最終層のattention_weightをリストに追加\n",
        "\n",
        "  _,preds =torch.max(score,1)#ラベルを予測\n",
        "  oof.append(preds[0].tolist())\n",
        "  #print(\"score:\",score,\"大きい方の値:\",_,\"大きい方のindex:\",preds)"
      ],
      "metadata": {
        "id": "P83fXmEeHr6I"
      },
      "execution_count": 50,
      "outputs": []
    },
    {
      "cell_type": "code",
      "source": [
        "df['PREDIC']=oof\n",
        "df['x']=x\n",
        "df['index'] = df.index"
      ],
      "metadata": {
        "id": "AmbUqtHa2tHC"
      },
      "execution_count": 61,
      "outputs": []
    },
    {
      "cell_type": "code",
      "source": [
        "len(attentions_list)"
      ],
      "metadata": {
        "colab": {
          "base_uri": "https://localhost:8080/"
        },
        "id": "A_zgLkdAFh62",
        "outputId": "4eebff78-282d-4eaf-8a25-3d35943a0780"
      },
      "execution_count": 53,
      "outputs": [
        {
          "output_type": "execute_result",
          "data": {
            "text/plain": [
              "10"
            ]
          },
          "metadata": {},
          "execution_count": 53
        }
      ]
    },
    {
      "cell_type": "code",
      "source": [
        "df"
      ],
      "metadata": {
        "id": "OM6_moZcTvpH",
        "colab": {
          "base_uri": "https://localhost:8080/",
          "height": 654
        },
        "outputId": "f4c9f012-a6a0-4b07-9175-c585201e114d"
      },
      "execution_count": 62,
      "outputs": [
        {
          "output_type": "execute_result",
          "data": {
            "text/plain": [
              "                                               INPUT  LABEL  PREDIC  \\\n",
              "0  新規店舗の寄与等により増収となりましたが、既存店の減収（同△4.5％）や記念キャンペーンに伴...      0       0   \n",
              "1  物流業界におきましては、設備投資の伸び悩み等から生産関連貨物が減少した一方、消費関連貨物は個...      0       0   \n",
              "2  航空事業は、輸出で医療機器関連品等の出荷を取扱ったものの、前期のスポット出荷が剥落した影響も...      0       0   \n",
              "3  その他のセグメントでは駐輪システムが堅調に推移し、売上高は721百万円（前年同期比0.8％増...      1       1   \n",
              "4  輸入は、電子・電気機器関連品や自動車関連部品等は底堅い荷動きとなりましたが、取扱件数は前期比...      1       1   \n",
              "5  以上の結果、当事業年度の売上高は7,292,771千円と、前事業年度に比べ931,658千円...      0       0   \n",
              "6  利益面につきましては、営業利益１億80百万円（前期比48.1％減）、経常利益１億84百万円（...      0       0   \n",
              "7  賃貸・割賦事業では、契約実行高はCSI Leasing, Inc.の連結子会社化などにより前...      1       1   \n",
              "8  これらの結果、営業収益は95,973百万円（前期比18.4％減）、セグメント損失（営業損失）...      0       0   \n",
              "9  その結果、当連結会計年度の業績は、売上収益が428,913百万円（前連結会計年度比4.2％減...      1       1   \n",
              "\n",
              "                                                   x  index  id  \n",
              "0  [[tensor(2), tensor(5493), tensor(2413), tenso...      0   0  \n",
              "1  [[tensor(2), tensor(14040), tensor(4359), tens...      1   1  \n",
              "2  [[tensor(2), tensor(1086), tensor(774), tensor...      2   2  \n",
              "3  [[tensor(2), tensor(1684), tensor(5), tensor(2...      3   3  \n",
              "4  [[tensor(2), tensor(4239), tensor(9), tensor(6...      4   4  \n",
              "5  [[tensor(2), tensor(695), tensor(5), tensor(85...      5   5  \n",
              "6  [[tensor(2), tensor(5161), tensor(635), tensor...      6   6  \n",
              "7  [[tensor(2), tensor(14755), tensor(35), tensor...      7   7  \n",
              "8  [[tensor(2), tensor(875), tensor(5), tensor(85...      8   8  \n",
              "9  [[tensor(2), tensor(59), tensor(854), tensor(6...      9   9  "
            ],
            "text/html": [
              "\n",
              "  <div id=\"df-a00246c7-e7bf-416b-a295-e36c28064541\">\n",
              "    <div class=\"colab-df-container\">\n",
              "      <div>\n",
              "<style scoped>\n",
              "    .dataframe tbody tr th:only-of-type {\n",
              "        vertical-align: middle;\n",
              "    }\n",
              "\n",
              "    .dataframe tbody tr th {\n",
              "        vertical-align: top;\n",
              "    }\n",
              "\n",
              "    .dataframe thead th {\n",
              "        text-align: right;\n",
              "    }\n",
              "</style>\n",
              "<table border=\"1\" class=\"dataframe\">\n",
              "  <thead>\n",
              "    <tr style=\"text-align: right;\">\n",
              "      <th></th>\n",
              "      <th>INPUT</th>\n",
              "      <th>LABEL</th>\n",
              "      <th>PREDIC</th>\n",
              "      <th>x</th>\n",
              "      <th>index</th>\n",
              "      <th>id</th>\n",
              "    </tr>\n",
              "  </thead>\n",
              "  <tbody>\n",
              "    <tr>\n",
              "      <th>0</th>\n",
              "      <td>新規店舗の寄与等により増収となりましたが、既存店の減収（同△4.5％）や記念キャンペーンに伴...</td>\n",
              "      <td>0</td>\n",
              "      <td>0</td>\n",
              "      <td>[[tensor(2), tensor(5493), tensor(2413), tenso...</td>\n",
              "      <td>0</td>\n",
              "      <td>0</td>\n",
              "    </tr>\n",
              "    <tr>\n",
              "      <th>1</th>\n",
              "      <td>物流業界におきましては、設備投資の伸び悩み等から生産関連貨物が減少した一方、消費関連貨物は個...</td>\n",
              "      <td>0</td>\n",
              "      <td>0</td>\n",
              "      <td>[[tensor(2), tensor(14040), tensor(4359), tens...</td>\n",
              "      <td>1</td>\n",
              "      <td>1</td>\n",
              "    </tr>\n",
              "    <tr>\n",
              "      <th>2</th>\n",
              "      <td>航空事業は、輸出で医療機器関連品等の出荷を取扱ったものの、前期のスポット出荷が剥落した影響も...</td>\n",
              "      <td>0</td>\n",
              "      <td>0</td>\n",
              "      <td>[[tensor(2), tensor(1086), tensor(774), tensor...</td>\n",
              "      <td>2</td>\n",
              "      <td>2</td>\n",
              "    </tr>\n",
              "    <tr>\n",
              "      <th>3</th>\n",
              "      <td>その他のセグメントでは駐輪システムが堅調に推移し、売上高は721百万円（前年同期比0.8％増...</td>\n",
              "      <td>1</td>\n",
              "      <td>1</td>\n",
              "      <td>[[tensor(2), tensor(1684), tensor(5), tensor(2...</td>\n",
              "      <td>3</td>\n",
              "      <td>3</td>\n",
              "    </tr>\n",
              "    <tr>\n",
              "      <th>4</th>\n",
              "      <td>輸入は、電子・電気機器関連品や自動車関連部品等は底堅い荷動きとなりましたが、取扱件数は前期比...</td>\n",
              "      <td>1</td>\n",
              "      <td>1</td>\n",
              "      <td>[[tensor(2), tensor(4239), tensor(9), tensor(6...</td>\n",
              "      <td>4</td>\n",
              "      <td>4</td>\n",
              "    </tr>\n",
              "    <tr>\n",
              "      <th>5</th>\n",
              "      <td>以上の結果、当事業年度の売上高は7,292,771千円と、前事業年度に比べ931,658千円...</td>\n",
              "      <td>0</td>\n",
              "      <td>0</td>\n",
              "      <td>[[tensor(2), tensor(695), tensor(5), tensor(85...</td>\n",
              "      <td>5</td>\n",
              "      <td>5</td>\n",
              "    </tr>\n",
              "    <tr>\n",
              "      <th>6</th>\n",
              "      <td>利益面につきましては、営業利益１億80百万円（前期比48.1％減）、経常利益１億84百万円（...</td>\n",
              "      <td>0</td>\n",
              "      <td>0</td>\n",
              "      <td>[[tensor(2), tensor(5161), tensor(635), tensor...</td>\n",
              "      <td>6</td>\n",
              "      <td>6</td>\n",
              "    </tr>\n",
              "    <tr>\n",
              "      <th>7</th>\n",
              "      <td>賃貸・割賦事業では、契約実行高はCSI Leasing, Inc.の連結子会社化などにより前...</td>\n",
              "      <td>1</td>\n",
              "      <td>1</td>\n",
              "      <td>[[tensor(2), tensor(14755), tensor(35), tensor...</td>\n",
              "      <td>7</td>\n",
              "      <td>7</td>\n",
              "    </tr>\n",
              "    <tr>\n",
              "      <th>8</th>\n",
              "      <td>これらの結果、営業収益は95,973百万円（前期比18.4％減）、セグメント損失（営業損失）...</td>\n",
              "      <td>0</td>\n",
              "      <td>0</td>\n",
              "      <td>[[tensor(2), tensor(875), tensor(5), tensor(85...</td>\n",
              "      <td>8</td>\n",
              "      <td>8</td>\n",
              "    </tr>\n",
              "    <tr>\n",
              "      <th>9</th>\n",
              "      <td>その結果、当連結会計年度の業績は、売上収益が428,913百万円（前連結会計年度比4.2％減...</td>\n",
              "      <td>1</td>\n",
              "      <td>1</td>\n",
              "      <td>[[tensor(2), tensor(59), tensor(854), tensor(6...</td>\n",
              "      <td>9</td>\n",
              "      <td>9</td>\n",
              "    </tr>\n",
              "  </tbody>\n",
              "</table>\n",
              "</div>\n",
              "      <button class=\"colab-df-convert\" onclick=\"convertToInteractive('df-a00246c7-e7bf-416b-a295-e36c28064541')\"\n",
              "              title=\"Convert this dataframe to an interactive table.\"\n",
              "              style=\"display:none;\">\n",
              "        \n",
              "  <svg xmlns=\"http://www.w3.org/2000/svg\" height=\"24px\"viewBox=\"0 0 24 24\"\n",
              "       width=\"24px\">\n",
              "    <path d=\"M0 0h24v24H0V0z\" fill=\"none\"/>\n",
              "    <path d=\"M18.56 5.44l.94 2.06.94-2.06 2.06-.94-2.06-.94-.94-2.06-.94 2.06-2.06.94zm-11 1L8.5 8.5l.94-2.06 2.06-.94-2.06-.94L8.5 2.5l-.94 2.06-2.06.94zm10 10l.94 2.06.94-2.06 2.06-.94-2.06-.94-.94-2.06-.94 2.06-2.06.94z\"/><path d=\"M17.41 7.96l-1.37-1.37c-.4-.4-.92-.59-1.43-.59-.52 0-1.04.2-1.43.59L10.3 9.45l-7.72 7.72c-.78.78-.78 2.05 0 2.83L4 21.41c.39.39.9.59 1.41.59.51 0 1.02-.2 1.41-.59l7.78-7.78 2.81-2.81c.8-.78.8-2.07 0-2.86zM5.41 20L4 18.59l7.72-7.72 1.47 1.35L5.41 20z\"/>\n",
              "  </svg>\n",
              "      </button>\n",
              "      \n",
              "  <style>\n",
              "    .colab-df-container {\n",
              "      display:flex;\n",
              "      flex-wrap:wrap;\n",
              "      gap: 12px;\n",
              "    }\n",
              "\n",
              "    .colab-df-convert {\n",
              "      background-color: #E8F0FE;\n",
              "      border: none;\n",
              "      border-radius: 50%;\n",
              "      cursor: pointer;\n",
              "      display: none;\n",
              "      fill: #1967D2;\n",
              "      height: 32px;\n",
              "      padding: 0 0 0 0;\n",
              "      width: 32px;\n",
              "    }\n",
              "\n",
              "    .colab-df-convert:hover {\n",
              "      background-color: #E2EBFA;\n",
              "      box-shadow: 0px 1px 2px rgba(60, 64, 67, 0.3), 0px 1px 3px 1px rgba(60, 64, 67, 0.15);\n",
              "      fill: #174EA6;\n",
              "    }\n",
              "\n",
              "    [theme=dark] .colab-df-convert {\n",
              "      background-color: #3B4455;\n",
              "      fill: #D2E3FC;\n",
              "    }\n",
              "\n",
              "    [theme=dark] .colab-df-convert:hover {\n",
              "      background-color: #434B5C;\n",
              "      box-shadow: 0px 1px 3px 1px rgba(0, 0, 0, 0.15);\n",
              "      filter: drop-shadow(0px 1px 2px rgba(0, 0, 0, 0.3));\n",
              "      fill: #FFFFFF;\n",
              "    }\n",
              "  </style>\n",
              "\n",
              "      <script>\n",
              "        const buttonEl =\n",
              "          document.querySelector('#df-a00246c7-e7bf-416b-a295-e36c28064541 button.colab-df-convert');\n",
              "        buttonEl.style.display =\n",
              "          google.colab.kernel.accessAllowed ? 'block' : 'none';\n",
              "\n",
              "        async function convertToInteractive(key) {\n",
              "          const element = document.querySelector('#df-a00246c7-e7bf-416b-a295-e36c28064541');\n",
              "          const dataTable =\n",
              "            await google.colab.kernel.invokeFunction('convertToInteractive',\n",
              "                                                     [key], {});\n",
              "          if (!dataTable) return;\n",
              "\n",
              "          const docLinkHtml = 'Like what you see? Visit the ' +\n",
              "            '<a target=\"_blank\" href=https://colab.research.google.com/notebooks/data_table.ipynb>data table notebook</a>'\n",
              "            + ' to learn more about interactive tables.';\n",
              "          element.innerHTML = '';\n",
              "          dataTable['output_type'] = 'display_data';\n",
              "          await google.colab.output.renderOutput(dataTable, element);\n",
              "          const docLink = document.createElement('div');\n",
              "          docLink.innerHTML = docLinkHtml;\n",
              "          element.appendChild(docLink);\n",
              "        }\n",
              "      </script>\n",
              "    </div>\n",
              "  </div>\n",
              "  "
            ]
          },
          "metadata": {},
          "execution_count": 62
        }
      ]
    },
    {
      "cell_type": "markdown",
      "source": [
        "#dataframeから提出用データを作成\n"
      ],
      "metadata": {
        "id": "8UH_EJt1ZPYk"
      }
    },
    {
      "cell_type": "markdown",
      "source": [
        "列名変更  \n",
        "https://note.nkmk.me/python-pandas-dataframe-rename/  \n",
        "インデックスを列に  \n",
        "https://www.delftstack.com/ja/howto/python-pandas/how-to-convert-index-of-a-pandas-dataframe-into-a-column/　　\n"
      ],
      "metadata": {
        "id": "sp2SCbMUAFtQ"
      }
    },
    {
      "cell_type": "code",
      "source": [
        "df['id'] = df.index\n",
        "df_for_submission=df[[\"id\",\"PREDIC\"]]\n",
        "df_for_submission = df_for_submission.rename(columns={'index':'id','PREDIC': 'pred'})\n",
        "df_for_submission.to_csv('for_submission.csv',index=None,header=None)"
      ],
      "metadata": {
        "id": "N5DoZ_8G-ehr"
      },
      "execution_count": 55,
      "outputs": []
    },
    {
      "cell_type": "code",
      "source": [
        "df_for_submission"
      ],
      "metadata": {
        "id": "g-jL40q__DPW",
        "colab": {
          "base_uri": "https://localhost:8080/",
          "height": 322
        },
        "outputId": "0d05c292-9cb1-480d-cbbe-b169efd4ea79"
      },
      "execution_count": 56,
      "outputs": [
        {
          "output_type": "execute_result",
          "data": {
            "text/plain": [
              "   id  pred\n",
              "0   0     0\n",
              "1   1     0\n",
              "2   2     0\n",
              "3   3     1\n",
              "4   4     1\n",
              "5   5     0\n",
              "6   6     0\n",
              "7   7     1\n",
              "8   8     0\n",
              "9   9     1"
            ],
            "text/html": [
              "\n",
              "  <div id=\"df-bf88fb10-b3a6-421c-a4a9-86c1d81cddd6\">\n",
              "    <div class=\"colab-df-container\">\n",
              "      <div>\n",
              "<style scoped>\n",
              "    .dataframe tbody tr th:only-of-type {\n",
              "        vertical-align: middle;\n",
              "    }\n",
              "\n",
              "    .dataframe tbody tr th {\n",
              "        vertical-align: top;\n",
              "    }\n",
              "\n",
              "    .dataframe thead th {\n",
              "        text-align: right;\n",
              "    }\n",
              "</style>\n",
              "<table border=\"1\" class=\"dataframe\">\n",
              "  <thead>\n",
              "    <tr style=\"text-align: right;\">\n",
              "      <th></th>\n",
              "      <th>id</th>\n",
              "      <th>pred</th>\n",
              "    </tr>\n",
              "  </thead>\n",
              "  <tbody>\n",
              "    <tr>\n",
              "      <th>0</th>\n",
              "      <td>0</td>\n",
              "      <td>0</td>\n",
              "    </tr>\n",
              "    <tr>\n",
              "      <th>1</th>\n",
              "      <td>1</td>\n",
              "      <td>0</td>\n",
              "    </tr>\n",
              "    <tr>\n",
              "      <th>2</th>\n",
              "      <td>2</td>\n",
              "      <td>0</td>\n",
              "    </tr>\n",
              "    <tr>\n",
              "      <th>3</th>\n",
              "      <td>3</td>\n",
              "      <td>1</td>\n",
              "    </tr>\n",
              "    <tr>\n",
              "      <th>4</th>\n",
              "      <td>4</td>\n",
              "      <td>1</td>\n",
              "    </tr>\n",
              "    <tr>\n",
              "      <th>5</th>\n",
              "      <td>5</td>\n",
              "      <td>0</td>\n",
              "    </tr>\n",
              "    <tr>\n",
              "      <th>6</th>\n",
              "      <td>6</td>\n",
              "      <td>0</td>\n",
              "    </tr>\n",
              "    <tr>\n",
              "      <th>7</th>\n",
              "      <td>7</td>\n",
              "      <td>1</td>\n",
              "    </tr>\n",
              "    <tr>\n",
              "      <th>8</th>\n",
              "      <td>8</td>\n",
              "      <td>0</td>\n",
              "    </tr>\n",
              "    <tr>\n",
              "      <th>9</th>\n",
              "      <td>9</td>\n",
              "      <td>1</td>\n",
              "    </tr>\n",
              "  </tbody>\n",
              "</table>\n",
              "</div>\n",
              "      <button class=\"colab-df-convert\" onclick=\"convertToInteractive('df-bf88fb10-b3a6-421c-a4a9-86c1d81cddd6')\"\n",
              "              title=\"Convert this dataframe to an interactive table.\"\n",
              "              style=\"display:none;\">\n",
              "        \n",
              "  <svg xmlns=\"http://www.w3.org/2000/svg\" height=\"24px\"viewBox=\"0 0 24 24\"\n",
              "       width=\"24px\">\n",
              "    <path d=\"M0 0h24v24H0V0z\" fill=\"none\"/>\n",
              "    <path d=\"M18.56 5.44l.94 2.06.94-2.06 2.06-.94-2.06-.94-.94-2.06-.94 2.06-2.06.94zm-11 1L8.5 8.5l.94-2.06 2.06-.94-2.06-.94L8.5 2.5l-.94 2.06-2.06.94zm10 10l.94 2.06.94-2.06 2.06-.94-2.06-.94-.94-2.06-.94 2.06-2.06.94z\"/><path d=\"M17.41 7.96l-1.37-1.37c-.4-.4-.92-.59-1.43-.59-.52 0-1.04.2-1.43.59L10.3 9.45l-7.72 7.72c-.78.78-.78 2.05 0 2.83L4 21.41c.39.39.9.59 1.41.59.51 0 1.02-.2 1.41-.59l7.78-7.78 2.81-2.81c.8-.78.8-2.07 0-2.86zM5.41 20L4 18.59l7.72-7.72 1.47 1.35L5.41 20z\"/>\n",
              "  </svg>\n",
              "      </button>\n",
              "      \n",
              "  <style>\n",
              "    .colab-df-container {\n",
              "      display:flex;\n",
              "      flex-wrap:wrap;\n",
              "      gap: 12px;\n",
              "    }\n",
              "\n",
              "    .colab-df-convert {\n",
              "      background-color: #E8F0FE;\n",
              "      border: none;\n",
              "      border-radius: 50%;\n",
              "      cursor: pointer;\n",
              "      display: none;\n",
              "      fill: #1967D2;\n",
              "      height: 32px;\n",
              "      padding: 0 0 0 0;\n",
              "      width: 32px;\n",
              "    }\n",
              "\n",
              "    .colab-df-convert:hover {\n",
              "      background-color: #E2EBFA;\n",
              "      box-shadow: 0px 1px 2px rgba(60, 64, 67, 0.3), 0px 1px 3px 1px rgba(60, 64, 67, 0.15);\n",
              "      fill: #174EA6;\n",
              "    }\n",
              "\n",
              "    [theme=dark] .colab-df-convert {\n",
              "      background-color: #3B4455;\n",
              "      fill: #D2E3FC;\n",
              "    }\n",
              "\n",
              "    [theme=dark] .colab-df-convert:hover {\n",
              "      background-color: #434B5C;\n",
              "      box-shadow: 0px 1px 3px 1px rgba(0, 0, 0, 0.15);\n",
              "      filter: drop-shadow(0px 1px 2px rgba(0, 0, 0, 0.3));\n",
              "      fill: #FFFFFF;\n",
              "    }\n",
              "  </style>\n",
              "\n",
              "      <script>\n",
              "        const buttonEl =\n",
              "          document.querySelector('#df-bf88fb10-b3a6-421c-a4a9-86c1d81cddd6 button.colab-df-convert');\n",
              "        buttonEl.style.display =\n",
              "          google.colab.kernel.accessAllowed ? 'block' : 'none';\n",
              "\n",
              "        async function convertToInteractive(key) {\n",
              "          const element = document.querySelector('#df-bf88fb10-b3a6-421c-a4a9-86c1d81cddd6');\n",
              "          const dataTable =\n",
              "            await google.colab.kernel.invokeFunction('convertToInteractive',\n",
              "                                                     [key], {});\n",
              "          if (!dataTable) return;\n",
              "\n",
              "          const docLinkHtml = 'Like what you see? Visit the ' +\n",
              "            '<a target=\"_blank\" href=https://colab.research.google.com/notebooks/data_table.ipynb>data table notebook</a>'\n",
              "            + ' to learn more about interactive tables.';\n",
              "          element.innerHTML = '';\n",
              "          dataTable['output_type'] = 'display_data';\n",
              "          await google.colab.output.renderOutput(dataTable, element);\n",
              "          const docLink = document.createElement('div');\n",
              "          docLink.innerHTML = docLinkHtml;\n",
              "          element.appendChild(docLink);\n",
              "        }\n",
              "      </script>\n",
              "    </div>\n",
              "  </div>\n",
              "  "
            ]
          },
          "metadata": {},
          "execution_count": 56
        }
      ]
    },
    {
      "cell_type": "code",
      "source": [
        "attentions_list"
      ],
      "metadata": {
        "id": "ohVT6nN-fLxH"
      },
      "execution_count": null,
      "outputs": []
    },
    {
      "cell_type": "code",
      "source": [
        "attentions_list[2][0][0][0].shape"
      ],
      "metadata": {
        "id": "ssw8aH4WWG1P",
        "colab": {
          "base_uri": "https://localhost:8080/"
        },
        "outputId": "005a51a1-742d-4dfd-937f-b658f4324297"
      },
      "execution_count": 58,
      "outputs": [
        {
          "output_type": "execute_result",
          "data": {
            "text/plain": [
              "torch.Size([48])"
            ]
          },
          "metadata": {},
          "execution_count": 58
        }
      ]
    },
    {
      "cell_type": "markdown",
      "source": [
        "#attentionの可視化"
      ],
      "metadata": {
        "id": "38_ol41dBon0"
      }
    },
    {
      "cell_type": "code",
      "source": [
        "# 文字にハイライトを付ける\n",
        "def highlight(word, attn):\n",
        "    html_color = '#%02X%02X%02X' % (255, int(255*(1 - attn)), int(255*(1 - attn)))\n",
        "    return '<span style=\"background-color: {}\">{}</span>'.format(html_color, word)\n",
        "\n",
        "\n",
        "#def mk_html2(index, df, preds, attention):\n",
        "def mk_html2(index, df,  attention):\n",
        "\n",
        "    # ミニバッチの入力データを取得\n",
        "    sentence = df[\"x\"][index][0]\n",
        "    # 教師データを取得\n",
        "    label =df[\"LABEL\"][index]\n",
        "    # 予測ラベルを取得\n",
        "    pred = df[\"PREDIC\"][index]\n",
        "    \n",
        "    # 教師データから、カテゴリの名前を取得　　　　　　\n",
        "    label_str = id2cat[label]\n",
        "    # 予測ラベルから予測したカテゴリの名前を取得\n",
        "    pred_str = id2cat[pred]\n",
        "\n",
        "    # 正解と予測の表示\n",
        "    html = \"正解: {}<br>予測: {}<br><br>\".format(label_str, pred_str)\n",
        "\n",
        "    # 文章の長さ分の 0 のみの配列を取得\n",
        "    seq_len = len(attention[index][0][0][0])\n",
        "    all_attens = torch.zeros(seq_len).to(device)\n",
        "    \n",
        "    # Attention Weight を取得して、作成した　０ の配列に足す\n",
        "    for i in range(12):\n",
        "        all_attens += attention[index][0][i][0][:]\n",
        "    # Attention　Weight の最大値で割、規格化\n",
        "    all_attens /= all_attens.max()\n",
        "\n",
        "    # 作成した all_attens と単語を渡す\n",
        "    for word, attn in zip(sentence, all_attens):\n",
        "        # 一文の終わり（`[SEP]`） が来たら break\n",
        "        if tokenizer.convert_ids_to_tokens([word.tolist()])[0] == \"[SEP]\":\n",
        "            break\n",
        "        html += highlight(tokenizer.convert_ids_to_tokens([word.tolist()])[0], attn)\n",
        "    return html"
      ],
      "metadata": {
        "id": "wajobprOVbNW"
      },
      "execution_count": 59,
      "outputs": []
    },
    {
      "cell_type": "code",
      "source": [
        "# Attention Weight の注目を可視化\n",
        "from IPython.display import display, HTML\n",
        "for i in range(10):\n",
        "    html_output = mk_html2(i, df, attentions_list)\n",
        "    display(HTML(html_output))\n",
        "    print('---------------------------')"
      ],
      "metadata": {
        "id": "UZ_hThHwVdMf",
        "colab": {
          "base_uri": "https://localhost:8080/",
          "height": 927
        },
        "outputId": "5a156ed5-a937-4ddb-f2b6-78d0d767035a"
      },
      "execution_count": 60,
      "outputs": [
        {
          "output_type": "display_data",
          "data": {
            "text/plain": [
              "<IPython.core.display.HTML object>"
            ],
            "text/html": [
              "正解: negative<br>予測: negative<br><br><span style=\"background-color: #FFF5F5\">[CLS]</span><span style=\"background-color: #FFFAFA\">新規</span><span style=\"background-color: #FFF9F9\">店舗</span><span style=\"background-color: #FFFAFA\">の</span><span style=\"background-color: #FFF6F6\">寄与</span><span style=\"background-color: #FFF8F8\">等</span><span style=\"background-color: #FFF0F0\">により</span><span style=\"background-color: #FFC2C2\">増</span><span style=\"background-color: #FFC5C5\">##収</span><span style=\"background-color: #FFF0F0\">と</span><span style=\"background-color: #FFDFDF\">なり</span><span style=\"background-color: #FFF4F4\">まし</span><span style=\"background-color: #FFCFCF\">た</span><span style=\"background-color: #FFB9B9\">が</span><span style=\"background-color: #FFF0F0\">、</span><span style=\"background-color: #FFF9F9\">既存</span><span style=\"background-color: #FFF8F8\">店</span><span style=\"background-color: #FFF9F9\">の</span><span style=\"background-color: #FFE6E6\">減</span><span style=\"background-color: #FFF2F2\">##収</span><span style=\"background-color: #FFF9F9\">(</span><span style=\"background-color: #FFF7F7\">同</span><span style=\"background-color: #FFEFEF\">△</span><span style=\"background-color: #FFFDFD\">4</span><span style=\"background-color: #FFFCFC\">.</span><span style=\"background-color: #FFFDFD\">5</span><span style=\"background-color: #FFF4F4\">%)</span><span style=\"background-color: #FFF6F6\">や</span><span style=\"background-color: #FFF7F7\">記念</span><span style=\"background-color: #FFFCFC\">キャンペーン</span><span style=\"background-color: #FFFEFE\">に</span><span style=\"background-color: #FFFDFD\">伴う</span><span style=\"background-color: #FFFDFD\">販</span><span style=\"background-color: #FFFEFE\">##促</span><span style=\"background-color: #FFFCFC\">費</span><span style=\"background-color: #FFFEFE\">の</span><span style=\"background-color: #FFDCDC\">増加</span><span style=\"background-color: #FFF9F9\">等</span><span style=\"background-color: #FFF6F6\">により</span><span style=\"background-color: #FF9D9D\">減</span><span style=\"background-color: #FFB7B7\">##益</span><span style=\"background-color: #FFF5F5\">と</span><span style=\"background-color: #FFE9E9\">なり</span><span style=\"background-color: #FFF1F1\">まし</span><span style=\"background-color: #FFE9E9\">た</span>"
            ]
          },
          "metadata": {}
        },
        {
          "output_type": "stream",
          "name": "stdout",
          "text": [
            "---------------------------\n"
          ]
        },
        {
          "output_type": "display_data",
          "data": {
            "text/plain": [
              "<IPython.core.display.HTML object>"
            ],
            "text/html": [
              "正解: negative<br>予測: negative<br><br><span style=\"background-color: #FFF3F3\">[CLS]</span><span style=\"background-color: #FFE7E7\">物流</span><span style=\"background-color: #FFE5E5\">業界</span><span style=\"background-color: #FFE5E5\">にお</span><span style=\"background-color: #FFF1F1\">##き</span><span style=\"background-color: #FFEDED\">##まし</span><span style=\"background-color: #FFE6E6\">##て</span><span style=\"background-color: #FFCBCB\">は</span><span style=\"background-color: #FFA4A4\">、</span><span style=\"background-color: #FFFDFD\">設備</span><span style=\"background-color: #FFFDFD\">投資</span><span style=\"background-color: #FFFEFE\">の</span><span style=\"background-color: #FFDFDF\">伸び悩</span><span style=\"background-color: #FFF6F6\">##み</span><span style=\"background-color: #FFF8F8\">等</span><span style=\"background-color: #FFEFEF\">から</span><span style=\"background-color: #FFFAFA\">生産</span><span style=\"background-color: #FFFDFD\">関連</span><span style=\"background-color: #FFF7F7\">貨物</span><span style=\"background-color: #FFFAFA\">が</span><span style=\"background-color: #FF7F7F\">減少</span><span style=\"background-color: #FFF0F0\">し</span><span style=\"background-color: #FFDFDF\">た</span><span style=\"background-color: #FFCACA\">一方</span><span style=\"background-color: #FFF1F1\">、</span><span style=\"background-color: #FFFBFB\">消費</span><span style=\"background-color: #FFFCFC\">関連</span><span style=\"background-color: #FFF1F1\">貨物</span><span style=\"background-color: #FFF1F1\">は</span><span style=\"background-color: #FFFAFA\">個人</span><span style=\"background-color: #FFF8F8\">消費</span><span style=\"background-color: #FFFDFD\">に</span><span style=\"background-color: #FFF5F5\">停滞</span><span style=\"background-color: #FFFAFA\">感</span><span style=\"background-color: #FFFBFB\">が</span><span style=\"background-color: #FFEAEA\">残る</span><span style=\"background-color: #FFE1E1\">もの</span><span style=\"background-color: #FFF0F0\">の</span><span style=\"background-color: #FFFBFB\">小</span><span style=\"background-color: #FFF6F6\">##幅</span><span style=\"background-color: #FFFCFC\">な</span><span style=\"background-color: #FFC1C1\">伸び</span><span style=\"background-color: #FFF6F6\">と</span><span style=\"background-color: #FFCBCB\">なり</span><span style=\"background-color: #FFEBEB\">、</span><span style=\"background-color: #FFFDFD\">建設</span><span style=\"background-color: #FFFCFC\">関連</span><span style=\"background-color: #FFEEEE\">貨物</span><span style=\"background-color: #FFEBEB\">は</span><span style=\"background-color: #FFFCFC\">住宅</span><span style=\"background-color: #FFFAFA\">投資</span><span style=\"background-color: #FFFEFE\">が</span><span style=\"background-color: #FFC9C9\">増加</span><span style=\"background-color: #FFF8F8\">し</span><span style=\"background-color: #FFF1F1\">た</span><span style=\"background-color: #FFF4F4\">ものの</span><span style=\"background-color: #FFFCFC\">公共</span><span style=\"background-color: #FFFCFC\">投資</span><span style=\"background-color: #FFFEFE\">が</span><span style=\"background-color: #FFE7E7\">低迷</span><span style=\"background-color: #FFF8F8\">し</span><span style=\"background-color: #FFF2F2\">た</span><span style=\"background-color: #FFF4F4\">こと</span><span style=\"background-color: #FFF3F3\">から</span><span style=\"background-color: #FFF2F2\">横</span><span style=\"background-color: #FFA0A0\">##ばい</span><span style=\"background-color: #FFF3F3\">で</span><span style=\"background-color: #FF9595\">推移</span><span style=\"background-color: #FFCACA\">し</span><span style=\"background-color: #FFCDCD\">まし</span><span style=\"background-color: #FFB3B3\">た</span>"
            ]
          },
          "metadata": {}
        },
        {
          "output_type": "stream",
          "name": "stdout",
          "text": [
            "---------------------------\n"
          ]
        },
        {
          "output_type": "display_data",
          "data": {
            "text/plain": [
              "<IPython.core.display.HTML object>"
            ],
            "text/html": [
              "正解: negative<br>予測: negative<br><br><span style=\"background-color: #FFF7F7\">[CLS]</span><span style=\"background-color: #FFCECE\">航空</span><span style=\"background-color: #FFD4D4\">事業</span><span style=\"background-color: #FFC5C5\">は</span><span style=\"background-color: #FFCACA\">、</span><span style=\"background-color: #FFEDED\">輸出</span><span style=\"background-color: #FFF3F3\">で</span><span style=\"background-color: #FFFCFC\">医療</span><span style=\"background-color: #FFFDFD\">機器</span><span style=\"background-color: #FFFCFC\">関連</span><span style=\"background-color: #FFFCFC\">品</span><span style=\"background-color: #FFFBFB\">##等</span><span style=\"background-color: #FFFAFA\">の</span><span style=\"background-color: #FFE9E9\">出荷</span><span style=\"background-color: #FFFAFA\">を</span><span style=\"background-color: #FFF2F2\">取扱</span><span style=\"background-color: #FFEBEB\">##っ</span><span style=\"background-color: #FFD4D4\">た</span><span style=\"background-color: #FFE3E3\">ものの</span><span style=\"background-color: #FFF7F7\">、</span><span style=\"background-color: #FFEDED\">前期</span><span style=\"background-color: #FFF9F9\">の</span><span style=\"background-color: #FFF1F1\">スポット</span><span style=\"background-color: #FFF7F7\">出荷</span><span style=\"background-color: #FFFBFB\">が</span><span style=\"background-color: #FFFAFA\">剥</span><span style=\"background-color: #FFF4F4\">##落</span><span style=\"background-color: #FFF7F7\">し</span><span style=\"background-color: #FFF8F8\">た</span><span style=\"background-color: #FFF8F8\">影響</span><span style=\"background-color: #FFFCFC\">も</span><span style=\"background-color: #FFF8F8\">あり</span><span style=\"background-color: #FFF5F5\">、</span><span style=\"background-color: #FFE9E9\">取扱</span><span style=\"background-color: #FFF8F8\">重量</span><span style=\"background-color: #FFFAFA\">は</span><span style=\"background-color: #FFEFEF\">前期</span><span style=\"background-color: #FFFAFA\">比</span><span style=\"background-color: #FFFEFE\">8</span><span style=\"background-color: #FFFEFE\">.</span><span style=\"background-color: #FFFEFE\">2</span><span style=\"background-color: #FFF7F7\">%</span><span style=\"background-color: #FF0000\">減</span><span style=\"background-color: #FFECEC\">と</span><span style=\"background-color: #FFABAB\">なり</span><span style=\"background-color: #FFE5E5\">まし</span><span style=\"background-color: #FFD6D6\">た</span>"
            ]
          },
          "metadata": {}
        },
        {
          "output_type": "stream",
          "name": "stdout",
          "text": [
            "---------------------------\n"
          ]
        },
        {
          "output_type": "display_data",
          "data": {
            "text/plain": [
              "<IPython.core.display.HTML object>"
            ],
            "text/html": [
              "正解: positive<br>予測: positive<br><br><span style=\"background-color: #FFF3F3\">[CLS]</span><span style=\"background-color: #FFDFDF\">その他</span><span style=\"background-color: #FFF6F6\">の</span><span style=\"background-color: #FFC2C2\">セグメント</span><span style=\"background-color: #FFDEDE\">で</span><span style=\"background-color: #FFC7C7\">は</span><span style=\"background-color: #FFF4F4\">駐</span><span style=\"background-color: #FFF6F6\">輪</span><span style=\"background-color: #FFEBEB\">システム</span><span style=\"background-color: #FFC6C6\">が</span><span style=\"background-color: #FFE1E1\">堅</span><span style=\"background-color: #FF8888\">##調</span><span style=\"background-color: #FFF8F8\">に</span><span style=\"background-color: #FFA7A7\">推移</span><span style=\"background-color: #FFC3C3\">し</span><span style=\"background-color: #FFBBBB\">、</span><span style=\"background-color: #FFD4D4\">売上</span><span style=\"background-color: #FFF0F0\">高</span><span style=\"background-color: #FFEAEA\">は</span><span style=\"background-color: #FFFCFC\">72</span><span style=\"background-color: #FFFCFC\">##1</span><span style=\"background-color: #FFFBFB\">百</span><span style=\"background-color: #FFF0F0\">万</span><span style=\"background-color: #FFDBDB\">円</span><span style=\"background-color: #FFF1F1\">(</span><span style=\"background-color: #FFF7F7\">前年</span><span style=\"background-color: #FFF4F4\">同期</span><span style=\"background-color: #FFFBFB\">比</span><span style=\"background-color: #FFFDFD\">0</span><span style=\"background-color: #FFFEFE\">.</span><span style=\"background-color: #FFFEFE\">8</span><span style=\"background-color: #FFF8F8\">%</span><span style=\"background-color: #FF0000\">増</span><span style=\"background-color: #FFE8E8\">)</span><span style=\"background-color: #FFE0E0\">と</span><span style=\"background-color: #FF7272\">なり</span><span style=\"background-color: #FFC1C1\">まし</span><span style=\"background-color: #FF9292\">た</span>"
            ]
          },
          "metadata": {}
        },
        {
          "output_type": "stream",
          "name": "stdout",
          "text": [
            "---------------------------\n"
          ]
        },
        {
          "output_type": "display_data",
          "data": {
            "text/plain": [
              "<IPython.core.display.HTML object>"
            ],
            "text/html": [
              "正解: positive<br>予測: positive<br><br><span style=\"background-color: #FFF3F3\">[CLS]</span><span style=\"background-color: #FF9B9B\">輸入</span><span style=\"background-color: #FFCBCB\">は</span><span style=\"background-color: #FFD9D9\">、</span><span style=\"background-color: #FFFCFC\">電子</span><span style=\"background-color: #FFFDFD\">・</span><span style=\"background-color: #FFFDFD\">電気</span><span style=\"background-color: #FFFDFD\">機器</span><span style=\"background-color: #FFFAFA\">関連</span><span style=\"background-color: #FFF8F8\">品</span><span style=\"background-color: #FFF7F7\">や</span><span style=\"background-color: #FFFCFC\">自動車</span><span style=\"background-color: #FFFCFC\">関連</span><span style=\"background-color: #FFFBFB\">部品</span><span style=\"background-color: #FFF5F5\">等</span><span style=\"background-color: #FFE7E7\">は</span><span style=\"background-color: #FFF5F5\">底</span><span style=\"background-color: #FFF3F3\">##堅</span><span style=\"background-color: #FFF9F9\">##い</span><span style=\"background-color: #FFF6F6\">荷</span><span style=\"background-color: #FFFCFC\">##動</span><span style=\"background-color: #FFF9F9\">##き</span><span style=\"background-color: #FFF4F4\">と</span><span style=\"background-color: #FFCDCD\">なり</span><span style=\"background-color: #FFEEEE\">まし</span><span style=\"background-color: #FFBFBF\">た</span><span style=\"background-color: #FFDFDF\">が</span><span style=\"background-color: #FFECEC\">、</span><span style=\"background-color: #FFEAEA\">取扱</span><span style=\"background-color: #FFF2F2\">件数</span><span style=\"background-color: #FFEFEF\">は</span><span style=\"background-color: #FFE0E0\">前期</span><span style=\"background-color: #FFF9F9\">比</span><span style=\"background-color: #FFFDFD\">3</span><span style=\"background-color: #FFFEFE\">.</span><span style=\"background-color: #FFFDFD\">7</span><span style=\"background-color: #FFF2F2\">%</span><span style=\"background-color: #FF0000\">増</span><span style=\"background-color: #FFF0F0\">に</span><span style=\"background-color: #FFCACA\">とどまり</span><span style=\"background-color: #FFEBEB\">まし</span><span style=\"background-color: #FFD3D3\">た</span>"
            ]
          },
          "metadata": {}
        },
        {
          "output_type": "stream",
          "name": "stdout",
          "text": [
            "---------------------------\n"
          ]
        },
        {
          "output_type": "display_data",
          "data": {
            "text/plain": [
              "<IPython.core.display.HTML object>"
            ],
            "text/html": [
              "正解: negative<br>予測: negative<br><br><span style=\"background-color: #FFF6F6\">[CLS]</span><span style=\"background-color: #FFE8E8\">以上</span><span style=\"background-color: #FFF4F4\">の</span><span style=\"background-color: #FFEBEB\">結果</span><span style=\"background-color: #FFEAEA\">、</span><span style=\"background-color: #FFECEC\">当</span><span style=\"background-color: #FFF4F4\">事業</span><span style=\"background-color: #FFF8F8\">年度</span><span style=\"background-color: #FFF9F9\">の</span><span style=\"background-color: #FFF5F5\">売上</span><span style=\"background-color: #FFF8F8\">高</span><span style=\"background-color: #FFF8F8\">は</span><span style=\"background-color: #FFFDFD\">7</span><span style=\"background-color: #FFFEFE\">,</span><span style=\"background-color: #FFFEFE\">29</span><span style=\"background-color: #FFFEFE\">##2</span><span style=\"background-color: #FFFEFE\">,</span><span style=\"background-color: #FFFEFE\">77</span><span style=\"background-color: #FFFEFE\">##1</span><span style=\"background-color: #FFF9F9\">千</span><span style=\"background-color: #FFF5F5\">円</span><span style=\"background-color: #FFDBDB\">と</span><span style=\"background-color: #FFE3E3\">、</span><span style=\"background-color: #FFF7F7\">前</span><span style=\"background-color: #FFF9F9\">事業</span><span style=\"background-color: #FFF8F8\">年度</span><span style=\"background-color: #FFF7F7\">に</span><span style=\"background-color: #FFEFEF\">比べ</span><span style=\"background-color: #FFFEFE\">93</span><span style=\"background-color: #FFFEFE\">##1</span><span style=\"background-color: #FFFDFD\">,</span><span style=\"background-color: #FFFEFE\">65</span><span style=\"background-color: #FFFEFE\">##8</span><span style=\"background-color: #FFF8F8\">千</span><span style=\"background-color: #FFF6F6\">円</span><span style=\"background-color: #FFF5F5\">(</span><span style=\"background-color: #FFF4F4\">##△</span><span style=\"background-color: #FFFDFD\">11</span><span style=\"background-color: #FFFDFD\">.</span><span style=\"background-color: #FFFCFC\">3</span><span style=\"background-color: #FFF5F5\">%)</span><span style=\"background-color: #FFF1F1\">の</span><span style=\"background-color: #FF4747\">減</span><span style=\"background-color: #FFDEDE\">##収</span><span style=\"background-color: #FFDDDD\">と</span><span style=\"background-color: #FFA2A2\">なり</span><span style=\"background-color: #FFD0D0\">まし</span><span style=\"background-color: #FFC0C0\">た</span>"
            ]
          },
          "metadata": {}
        },
        {
          "output_type": "stream",
          "name": "stdout",
          "text": [
            "---------------------------\n"
          ]
        },
        {
          "output_type": "display_data",
          "data": {
            "text/plain": [
              "<IPython.core.display.HTML object>"
            ],
            "text/html": [
              "正解: negative<br>予測: negative<br><br><span style=\"background-color: #FFF2F2\">[CLS]</span><span style=\"background-color: #FFE6E6\">利益</span><span style=\"background-color: #FFD9D9\">面</span><span style=\"background-color: #FFF6F6\">に</span><span style=\"background-color: #FFE9E9\">つき</span><span style=\"background-color: #FFECEC\">まし</span><span style=\"background-color: #FFF2F2\">て</span><span style=\"background-color: #FFE9E9\">は</span><span style=\"background-color: #FFCECE\">、</span><span style=\"background-color: #FFEDED\">営業</span><span style=\"background-color: #FFF9F9\">利益</span><span style=\"background-color: #FFFEFE\">1</span><span style=\"background-color: #FFFDFD\">億</span><span style=\"background-color: #FFFDFD\">80</span><span style=\"background-color: #FFFDFD\">百</span><span style=\"background-color: #FFFBFB\">万</span><span style=\"background-color: #FFF4F4\">円</span><span style=\"background-color: #FFFDFD\">(</span><span style=\"background-color: #FFF9F9\">前期</span><span style=\"background-color: #FFFEFE\">比</span><span style=\"background-color: #FFFEFE\">48</span><span style=\"background-color: #FFFEFE\">.</span><span style=\"background-color: #FFFEFE\">1</span><span style=\"background-color: #FFFDFD\">%</span><span style=\"background-color: #FF8787\">減</span><span style=\"background-color: #FFF7F7\">)、</span><span style=\"background-color: #FFFBFB\">経</span><span style=\"background-color: #FFFAFA\">##常</span><span style=\"background-color: #FFFAFA\">利益</span><span style=\"background-color: #FFFEFE\">1</span><span style=\"background-color: #FFFEFE\">億</span><span style=\"background-color: #FFFEFE\">84</span><span style=\"background-color: #FFFDFD\">百</span><span style=\"background-color: #FFFAFA\">万</span><span style=\"background-color: #FFF7F7\">円</span><span style=\"background-color: #FFFDFD\">(</span><span style=\"background-color: #FFFBFB\">前期</span><span style=\"background-color: #FFFEFE\">比</span><span style=\"background-color: #FFFEFE\">47</span><span style=\"background-color: #FFFEFE\">.</span><span style=\"background-color: #FFFEFE\">7</span><span style=\"background-color: #FFFDFD\">%</span><span style=\"background-color: #FF6C6C\">減</span><span style=\"background-color: #FFE7E7\">)、</span><span style=\"background-color: #FFF8F8\">親会社</span><span style=\"background-color: #FFF9F9\">株主</span><span style=\"background-color: #FFFAFA\">に</span><span style=\"background-color: #FFDADA\">帰属</span><span style=\"background-color: #FFECEC\">する</span><span style=\"background-color: #FFFAFA\">当</span><span style=\"background-color: #FFFAFA\">##期</span><span style=\"background-color: #FFFAFA\">純</span><span style=\"background-color: #FFF8F8\">利益</span><span style=\"background-color: #FFFDFD\">62</span><span style=\"background-color: #FFFDFD\">百</span><span style=\"background-color: #FFF9F9\">万</span><span style=\"background-color: #FFF6F6\">円</span><span style=\"background-color: #FFFCFC\">(</span><span style=\"background-color: #FFFBFB\">前期</span><span style=\"background-color: #FFFEFE\">比</span><span style=\"background-color: #FFFEFE\">68</span><span style=\"background-color: #FFFEFE\">.</span><span style=\"background-color: #FFFEFE\">3</span><span style=\"background-color: #FFFDFD\">%</span><span style=\"background-color: #FF4A4A\">減</span><span style=\"background-color: #FFECEC\">)</span><span style=\"background-color: #FFC2C2\">と</span><span style=\"background-color: #FFB3B3\">なり</span><span style=\"background-color: #FFE4E4\">まし</span><span style=\"background-color: #FFDBDB\">た</span>"
            ]
          },
          "metadata": {}
        },
        {
          "output_type": "stream",
          "name": "stdout",
          "text": [
            "---------------------------\n"
          ]
        },
        {
          "output_type": "display_data",
          "data": {
            "text/plain": [
              "<IPython.core.display.HTML object>"
            ],
            "text/html": [
              "正解: positive<br>予測: positive<br><br><span style=\"background-color: #FFFBFB\">[CLS]</span><span style=\"background-color: #FFF9F9\">賃貸</span><span style=\"background-color: #FFFDFD\">・</span><span style=\"background-color: #FFFEFE\">割</span><span style=\"background-color: #FFFCFC\">##賦</span><span style=\"background-color: #FFEAEA\">事業</span><span style=\"background-color: #FFE7E7\">で</span><span style=\"background-color: #FFCECE\">は</span><span style=\"background-color: #FFC8C8\">、</span><span style=\"background-color: #FFF5F5\">契約</span><span style=\"background-color: #FFFAFA\">実行</span><span style=\"background-color: #FFE5E5\">高</span><span style=\"background-color: #FFEAEA\">は</span><span style=\"background-color: #FFFDFD\">CS</span><span style=\"background-color: #FFFEFE\">##I</span><span style=\"background-color: #FFFEFE\">Le</span><span style=\"background-color: #FFFDFD\">##as</span><span style=\"background-color: #FFFDFD\">##ing</span><span style=\"background-color: #FFFEFE\">,</span><span style=\"background-color: #FFFEFE\">Inc</span><span style=\"background-color: #FFFDFD\">.</span><span style=\"background-color: #FFF8F8\">の</span><span style=\"background-color: #FFFCFC\">連結</span><span style=\"background-color: #FFFCFC\">子会社</span><span style=\"background-color: #FFFAFA\">化</span><span style=\"background-color: #FFFBFB\">など</span><span style=\"background-color: #FFF2F2\">により</span><span style=\"background-color: #FFFCFC\">前</span><span style=\"background-color: #FFFDFD\">連結</span><span style=\"background-color: #FFFCFC\">会計</span><span style=\"background-color: #FFF7F7\">年度</span><span style=\"background-color: #FFF9F9\">に</span><span style=\"background-color: #FFFBFB\">比べ</span><span style=\"background-color: #FFFBFB\">て</span><span style=\"background-color: #FFFEFE\">2</span><span style=\"background-color: #FFFEFE\">.</span><span style=\"background-color: #FFFEFE\">7</span><span style=\"background-color: #FFFAFA\">%</span><span style=\"background-color: #FF0000\">増</span><span style=\"background-color: #FFF4F4\">の</span><span style=\"background-color: #FFFEFE\">8</span><span style=\"background-color: #FFFEFE\">,</span><span style=\"background-color: #FFFEFE\">89</span><span style=\"background-color: #FFFEFE\">##9</span><span style=\"background-color: #FFFCFC\">億</span><span style=\"background-color: #FFFDFD\">41</span><span style=\"background-color: #FFFDFD\">百</span><span style=\"background-color: #FFFAFA\">万</span><span style=\"background-color: #FFE8E8\">円</span><span style=\"background-color: #FFE8E8\">と</span><span style=\"background-color: #FF6E6E\">なり</span><span style=\"background-color: #FFDDDD\">まし</span><span style=\"background-color: #FFDEDE\">た</span>"
            ]
          },
          "metadata": {}
        },
        {
          "output_type": "stream",
          "name": "stdout",
          "text": [
            "---------------------------\n"
          ]
        },
        {
          "output_type": "display_data",
          "data": {
            "text/plain": [
              "<IPython.core.display.HTML object>"
            ],
            "text/html": [
              "正解: negative<br>予測: negative<br><br><span style=\"background-color: #FFF3F3\">[CLS]</span><span style=\"background-color: #FFE3E3\">これら</span><span style=\"background-color: #FFF2F2\">の</span><span style=\"background-color: #FFE9E9\">結果</span><span style=\"background-color: #FFE6E6\">、</span><span style=\"background-color: #FFF2F2\">営業</span><span style=\"background-color: #FFF7F7\">収益</span><span style=\"background-color: #FFFAFA\">は</span><span style=\"background-color: #FFFEFE\">95</span><span style=\"background-color: #FFFEFE\">,</span><span style=\"background-color: #FFFEFE\">97</span><span style=\"background-color: #FFFEFE\">##3</span><span style=\"background-color: #FFFDFD\">百</span><span style=\"background-color: #FFF9F9\">万</span><span style=\"background-color: #FFF0F0\">円</span><span style=\"background-color: #FFFBFB\">(</span><span style=\"background-color: #FFF6F6\">前期</span><span style=\"background-color: #FFFBFB\">比</span><span style=\"background-color: #FFFEFE\">18</span><span style=\"background-color: #FFFEFE\">.</span><span style=\"background-color: #FFFEFE\">4</span><span style=\"background-color: #FFF9F9\">%</span><span style=\"background-color: #FF0000\">減</span><span style=\"background-color: #FFEBEB\">)、</span><span style=\"background-color: #FFF1F1\">セグメント</span><span style=\"background-color: #FFF9F9\">損失</span><span style=\"background-color: #FFFBFB\">(</span><span style=\"background-color: #FFF9F9\">営業</span><span style=\"background-color: #FFFBFB\">損失</span><span style=\"background-color: #FFFCFC\">)</span><span style=\"background-color: #FFFAFA\">は</span><span style=\"background-color: #FFFEFE\">50</span><span style=\"background-color: #FFFEFE\">##5</span><span style=\"background-color: #FFFDFD\">百</span><span style=\"background-color: #FFF8F8\">万</span><span style=\"background-color: #FFF0F0\">円</span><span style=\"background-color: #FFFBFB\">(</span><span style=\"background-color: #FFF7F7\">前期</span><span style=\"background-color: #FFFCFC\">は</span><span style=\"background-color: #FFF8F8\">セグメント</span><span style=\"background-color: #FFF9F9\">利益</span><span style=\"background-color: #FFFDFD\">62</span><span style=\"background-color: #FFFDFD\">百</span><span style=\"background-color: #FFF7F7\">万</span><span style=\"background-color: #FFF4F4\">円</span><span style=\"background-color: #FFF3F3\">)</span><span style=\"background-color: #FFDEDE\">と</span><span style=\"background-color: #FF9B9B\">なり</span><span style=\"background-color: #FFBFBF\">まし</span><span style=\"background-color: #FFBEBE\">た</span>"
            ]
          },
          "metadata": {}
        },
        {
          "output_type": "stream",
          "name": "stdout",
          "text": [
            "---------------------------\n"
          ]
        },
        {
          "output_type": "display_data",
          "data": {
            "text/plain": [
              "<IPython.core.display.HTML object>"
            ],
            "text/html": [
              "正解: positive<br>予測: positive<br><br><span style=\"background-color: #FFF9F9\">[CLS]</span><span style=\"background-color: #FFF6F6\">その</span><span style=\"background-color: #FFF6F6\">結果</span><span style=\"background-color: #FFF5F5\">、</span><span style=\"background-color: #FFF2F2\">当</span><span style=\"background-color: #FFF3F3\">連結</span><span style=\"background-color: #FFFCFC\">会計</span><span style=\"background-color: #FFFAFA\">年度</span><span style=\"background-color: #FFFAFA\">の</span><span style=\"background-color: #FFF4F4\">業績</span><span style=\"background-color: #FFF5F5\">は</span><span style=\"background-color: #FFE3E3\">、</span><span style=\"background-color: #FFF1F1\">売上</span><span style=\"background-color: #FFF9F9\">収益</span><span style=\"background-color: #FFFBFB\">が</span><span style=\"background-color: #FFFEFE\">42</span><span style=\"background-color: #FFFEFE\">##8</span><span style=\"background-color: #FFFEFE\">,</span><span style=\"background-color: #FFFEFE\">91</span><span style=\"background-color: #FFFEFE\">##3</span><span style=\"background-color: #FFFDFD\">百</span><span style=\"background-color: #FFFCFC\">万</span><span style=\"background-color: #FFF7F7\">円</span><span style=\"background-color: #FFFBFB\">(</span><span style=\"background-color: #FFF4F4\">前</span><span style=\"background-color: #FFFCFC\">連結</span><span style=\"background-color: #FFFEFE\">会計</span><span style=\"background-color: #FFFCFC\">年度</span><span style=\"background-color: #FFFAFA\">比</span><span style=\"background-color: #FFFEFE\">4</span><span style=\"background-color: #FFFEFE\">.</span><span style=\"background-color: #FFFEFE\">2</span><span style=\"background-color: #FFFCFC\">%</span><span style=\"background-color: #FF8888\">減</span><span style=\"background-color: #FFF5F5\">)、</span><span style=\"background-color: #FFF5F5\">営業</span><span style=\"background-color: #FFFCFC\">利益</span><span style=\"background-color: #FFFBFB\">が</span><span style=\"background-color: #FFFEFE\">41</span><span style=\"background-color: #FFFEFE\">,</span><span style=\"background-color: #FFFEFE\">56</span><span style=\"background-color: #FFFEFE\">##1</span><span style=\"background-color: #FFFDFD\">百</span><span style=\"background-color: #FFFAFA\">万</span><span style=\"background-color: #FFFAFA\">円</span><span style=\"background-color: #FFFCFC\">(</span><span style=\"background-color: #FFFEFE\">同</span><span style=\"background-color: #FFFEFE\">10</span><span style=\"background-color: #FFFEFE\">.</span><span style=\"background-color: #FFFEFE\">4</span><span style=\"background-color: #FFFDFD\">%</span><span style=\"background-color: #FF9D9D\">増</span><span style=\"background-color: #FFF5F5\">)、</span><span style=\"background-color: #FFFAFA\">税</span><span style=\"background-color: #FFFBFB\">引</span><span style=\"background-color: #FFFCFC\">##前</span><span style=\"background-color: #FFFCFC\">利益</span><span style=\"background-color: #FFFAFA\">が</span><span style=\"background-color: #FFFEFE\">62</span><span style=\"background-color: #FFFEFE\">,</span><span style=\"background-color: #FFFEFE\">70</span><span style=\"background-color: #FFFEFE\">##3</span><span style=\"background-color: #FFFDFD\">百</span><span style=\"background-color: #FFFBFB\">万</span><span style=\"background-color: #FFF9F9\">円</span><span style=\"background-color: #FFFCFC\">(</span><span style=\"background-color: #FFFEFE\">同</span><span style=\"background-color: #FFFDFD\">30</span><span style=\"background-color: #FFFEFE\">.</span><span style=\"background-color: #FFFDFD\">7</span><span style=\"background-color: #FFFDFD\">%</span><span style=\"background-color: #FF8F8F\">増</span><span style=\"background-color: #FFE7E7\">)、</span><span style=\"background-color: #FFF7F7\">親会社</span><span style=\"background-color: #FFFDFD\">の</span><span style=\"background-color: #FFFBFB\">所有</span><span style=\"background-color: #FFFDFD\">者</span><span style=\"background-color: #FFFDFD\">に</span><span style=\"background-color: #FFF5F5\">帰属</span><span style=\"background-color: #FFF9F9\">する</span><span style=\"background-color: #FFFBFB\">当</span><span style=\"background-color: #FFFAFA\">##期</span><span style=\"background-color: #FFFBFB\">利益</span><span style=\"background-color: #FFF9F9\">が</span><span style=\"background-color: #FFFEFE\">39</span><span style=\"background-color: #FFFEFE\">,</span><span style=\"background-color: #FFFEFE\">03</span><span style=\"background-color: #FFFEFE\">##4</span><span style=\"background-color: #FFFDFD\">百</span><span style=\"background-color: #FFFBFB\">万</span><span style=\"background-color: #FFFAFA\">円</span><span style=\"background-color: #FFFCFC\">(</span><span style=\"background-color: #FFFEFE\">同</span><span style=\"background-color: #FFFEFE\">72</span><span style=\"background-color: #FFFEFE\">.</span><span style=\"background-color: #FFFEFE\">9</span><span style=\"background-color: #FFFDFD\">%</span><span style=\"background-color: #FFB7B7\">増</span><span style=\"background-color: #FFF3F3\">)</span><span style=\"background-color: #FFDBDB\">と</span><span style=\"background-color: #FF9090\">なり</span><span style=\"background-color: #FFD1D1\">まし</span><span style=\"background-color: #FFD3D3\">た</span>"
            ]
          },
          "metadata": {}
        },
        {
          "output_type": "stream",
          "name": "stdout",
          "text": [
            "---------------------------\n"
          ]
        }
      ]
    }
  ]
}